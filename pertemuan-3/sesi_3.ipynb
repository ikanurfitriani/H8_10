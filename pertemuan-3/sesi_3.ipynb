{
 "cells": [
  {
   "cell_type": "markdown",
   "id": "f6335926",
   "metadata": {},
   "source": [
    "# Live Session 3\n",
    "## Function, Basic Module and Package\n",
    "#### By Ika Nurfitriani (PYTN-KS10-008)\n",
    "Di pertemuan ini ada beberapa hal yang akan dibahas diantaranya function, basic module dan package. Terdapat beberapa tipe argumen untuk memanggil suatu fungsi yaitu Required arguments, Keyword arguments, Default arguments dan Variable-length arguments. Di Python juga terdapat 2 cakupan dasar variabel yaitu Global variables dan Local variables."
   ]
  },
  {
   "cell_type": "code",
   "execution_count": 1,
   "id": "8b3c7670",
   "metadata": {},
   "outputs": [],
   "source": [
    "# Membuat fungsi sederhana\n",
    "def sapa():\n",
    "    \"Fungsi untuk print string yang ditulis dibawah ini\"\n",
    "    print(\"Halo peserta kursus Python\")\n",
    "    print(\"dari program Kampus Merdeka\")"
   ]
  },
  {
   "cell_type": "code",
   "execution_count": 2,
   "id": "52be839c",
   "metadata": {},
   "outputs": [
    {
     "name": "stdout",
     "output_type": "stream",
     "text": [
      "Halo peserta kursus Python\n",
      "dari program Kampus Merdeka\n"
     ]
    }
   ],
   "source": [
    "# Eksekusi/Memanggil fungsi\n",
    "sapa()"
   ]
  },
  {
   "cell_type": "code",
   "execution_count": 3,
   "id": "1f588546",
   "metadata": {},
   "outputs": [],
   "source": [
    "# Membuat fungsi dengan 1 argumen\n",
    "def sapa_nama(nama):\n",
    "    \"Fungsi untuk print string yang ditulis dibawah ini\"\n",
    "    print(f\"Halo {nama}\")\n",
    "    print(\"dari program Kampus Merdeka\")"
   ]
  },
  {
   "cell_type": "code",
   "execution_count": 5,
   "id": "501dc29e",
   "metadata": {},
   "outputs": [
    {
     "name": "stdout",
     "output_type": "stream",
     "text": [
      "Halo Ika\n",
      "dari program Kampus Merdeka\n"
     ]
    }
   ],
   "source": [
    "# Memanggil dan menggunakan fungsi sapa_nama() yang tadi telah dibuat\n",
    "sapa_nama(\"Ika\")"
   ]
  },
  {
   "cell_type": "code",
   "execution_count": 6,
   "id": "6c6cd48b",
   "metadata": {},
   "outputs": [],
   "source": [
    "# Membuat fungsi lebih dari 1 parameter\n",
    "def penjumlahan(angka_1, angka_2):\n",
    "    \"Fungsi ini akan menjumlahkan 2 angka yang dimasukkan kedalam fungsi\"\n",
    "    print(f\"Hasil dari {angka_1} + {angka_2} adalah {angka_1 + angka_2}\")"
   ]
  },
  {
   "cell_type": "code",
   "execution_count": 8,
   "id": "675ec19d",
   "metadata": {},
   "outputs": [
    {
     "name": "stdout",
     "output_type": "stream",
     "text": [
      "Hasil dari 28 + 6 adalah 34\n"
     ]
    }
   ],
   "source": [
    "# Memanggil dan menggunakan fungsi penjumlahan yang lebih dari 1 parameter\n",
    "penjumlahan(28, 6)"
   ]
  },
  {
   "cell_type": "code",
   "execution_count": 9,
   "id": "9fc27272",
   "metadata": {},
   "outputs": [
    {
     "name": "stdout",
     "output_type": "stream",
     "text": [
      "Hasil dari 28 + 6 adalah 34\n"
     ]
    }
   ],
   "source": [
    "# Memanggil dan menggunakan fungsi penjumlahan yang lebih dari 1 parameter dan disimpan dalam variable hasil\n",
    "hasil = penjumlahan(28, 6)"
   ]
  },
  {
   "cell_type": "code",
   "execution_count": 10,
   "id": "59b1a0b8",
   "metadata": {},
   "outputs": [
    {
     "ename": "TypeError",
     "evalue": "unsupported operand type(s) for *: 'NoneType' and 'int'",
     "output_type": "error",
     "traceback": [
      "\u001b[1;31m---------------------------------------------------------------------------\u001b[0m",
      "\u001b[1;31mTypeError\u001b[0m                                 Traceback (most recent call last)",
      "Input \u001b[1;32mIn [10]\u001b[0m, in \u001b[0;36m<cell line: 1>\u001b[1;34m()\u001b[0m\n\u001b[1;32m----> 1\u001b[0m \u001b[43mhasil\u001b[49m\u001b[43m \u001b[49m\u001b[38;5;241;43m*\u001b[39;49m\u001b[43m \u001b[49m\u001b[38;5;241;43m2\u001b[39;49m\n",
      "\u001b[1;31mTypeError\u001b[0m: unsupported operand type(s) for *: 'NoneType' and 'int'"
     ]
    }
   ],
   "source": [
    "# Mengalikan variable hasil dengan angka, tapi tidak bisa karena tidak ada fungsi mengembalikan nilai\n",
    "hasil * 2"
   ]
  },
  {
   "cell_type": "code",
   "execution_count": 11,
   "id": "576edb9e",
   "metadata": {},
   "outputs": [],
   "source": [
    "# Membuat fungsi yang mengembalikan nilai dengan return\n",
    "def penjumlahan_2(angka_1, angka_2):\n",
    "    \"Fungsi ini akan menjumlahkan 2 angka yang dimasukkan kedalam fungsi\"\n",
    "    return angka_1 + angka_2"
   ]
  },
  {
   "cell_type": "code",
   "execution_count": 13,
   "id": "a6f42057",
   "metadata": {},
   "outputs": [
    {
     "data": {
      "text/plain": [
       "34"
      ]
     },
     "execution_count": 13,
     "metadata": {},
     "output_type": "execute_result"
    }
   ],
   "source": [
    "# Memanggil dan menggunakan fungsi penjumlahan_2 yang telah dibuat\n",
    "penjumlahan_2(28, 6)"
   ]
  },
  {
   "cell_type": "code",
   "execution_count": 14,
   "id": "b90de319",
   "metadata": {},
   "outputs": [
    {
     "data": {
      "text/plain": [
       "68"
      ]
     },
     "execution_count": 14,
     "metadata": {},
     "output_type": "execute_result"
    }
   ],
   "source": [
    "# Memanggil dan menggunakan fungsi penjumlahan_2 dan disimpan dalam variable hasil\n",
    "hasil = penjumlahan_2(28, 6)\n",
    "\n",
    "# Mengalikan variable hasil dengan angka, bisa dilakukan karena terdapat fungsi return\n",
    "hasil * 2"
   ]
  },
  {
   "cell_type": "markdown",
   "id": "61f7abdc",
   "metadata": {},
   "source": [
    "### Pass by reference vs Value"
   ]
  },
  {
   "cell_type": "code",
   "execution_count": 16,
   "id": "efd423f4",
   "metadata": {},
   "outputs": [
    {
     "name": "stdout",
     "output_type": "stream",
     "text": [
      "12\n",
      "12\n"
     ]
    }
   ],
   "source": [
    "# Membuat variable a dengan nilai 12\n",
    "a = 12\n",
    "# Membuat variable b yang sama dengan variable a\n",
    "b = a\n",
    "\n",
    "# Mencetak variable a dan b\n",
    "print(a)\n",
    "print(b)"
   ]
  },
  {
   "cell_type": "code",
   "execution_count": 17,
   "id": "7d4ec868",
   "metadata": {},
   "outputs": [
    {
     "data": {
      "text/plain": [
       "22"
      ]
     },
     "execution_count": 17,
     "metadata": {},
     "output_type": "execute_result"
    }
   ],
   "source": [
    "# Menambahkan variable a dengan 10 dan disimpan kembali di variable a\n",
    "a = a + 10\n",
    "# Mencetak variable a\n",
    "a"
   ]
  },
  {
   "cell_type": "code",
   "execution_count": 18,
   "id": "82b1f853",
   "metadata": {},
   "outputs": [],
   "source": [
    "# Membuat list a\n",
    "a = [5,7,9]\n",
    "# Membuat list b yang sama dengan list a\n",
    "b = a"
   ]
  },
  {
   "cell_type": "code",
   "execution_count": 19,
   "id": "bb90b947",
   "metadata": {},
   "outputs": [
    {
     "data": {
      "text/plain": [
       "[500, 7, 9]"
      ]
     },
     "execution_count": 19,
     "metadata": {},
     "output_type": "execute_result"
    }
   ],
   "source": [
    "# Mengubah index ke-0 atau list urutan ke-1\n",
    "a[0] = 500\n",
    "# Mencetak list a\n",
    "a"
   ]
  },
  {
   "cell_type": "code",
   "execution_count": 20,
   "id": "96abfbf4",
   "metadata": {},
   "outputs": [
    {
     "data": {
      "text/plain": [
       "[500, 7, 9]"
      ]
     },
     "execution_count": 20,
     "metadata": {},
     "output_type": "execute_result"
    }
   ],
   "source": [
    "# Mencetak list b\n",
    "b"
   ]
  },
  {
   "cell_type": "code",
   "execution_count": 21,
   "id": "43a1ce2e",
   "metadata": {},
   "outputs": [],
   "source": [
    "# Required argument & Positional argument\n",
    "def biodata(nama, usia):\n",
    "    \"menampilkan biodata dari input yang dimasukkan\"\n",
    "    print(f\"Halo, nama saya {nama} dan usia saya {usia} tahun\")"
   ]
  },
  {
   "cell_type": "code",
   "execution_count": 22,
   "id": "54b95f86",
   "metadata": {},
   "outputs": [
    {
     "name": "stdout",
     "output_type": "stream",
     "text": [
      "Halo, nama saya Ika dan usia saya 20 tahun\n"
     ]
    }
   ],
   "source": [
    "# Panggil fungsi dengan required argument\n",
    "# Posisi harus benar\n",
    "biodata(\"Ika\", 20)"
   ]
  },
  {
   "cell_type": "code",
   "execution_count": 23,
   "id": "5c10c0c9",
   "metadata": {},
   "outputs": [
    {
     "name": "stdout",
     "output_type": "stream",
     "text": [
      "Halo, nama saya Ika dan usia saya 20 tahun\n"
     ]
    }
   ],
   "source": [
    "# Keyword argument\n",
    "biodata(usia=20, nama=\"Ika\")"
   ]
  },
  {
   "cell_type": "code",
   "execution_count": 24,
   "id": "9672b66d",
   "metadata": {},
   "outputs": [],
   "source": [
    "# Default argument\n",
    "def biodata(nama, usia, pekerjaan=\"Data Scientist\"):\n",
    "    \"menampilkan biodata dari input yang dimasukkan\"\n",
    "    print(f\"Halo, nama saya {nama} dan usia saya {usia} tahun\")\n",
    "    print(f\"Pekerjaan saya adalah {pekerjaan}\")"
   ]
  },
  {
   "cell_type": "code",
   "execution_count": 25,
   "id": "45fe9779",
   "metadata": {},
   "outputs": [
    {
     "name": "stdout",
     "output_type": "stream",
     "text": [
      "Halo, nama saya Ika dan usia saya 20 tahun\n",
      "Pekerjaan saya adalah Data Scientist\n"
     ]
    }
   ],
   "source": [
    "# Memanggil dan menggunakan fungsi dengan default argument\n",
    "biodata(\"Ika\", 20)"
   ]
  },
  {
   "cell_type": "code",
   "execution_count": 26,
   "id": "9d958c0a",
   "metadata": {},
   "outputs": [
    {
     "name": "stdout",
     "output_type": "stream",
     "text": [
      "Halo, nama saya Ika dan usia saya 20 tahun\n",
      "Pekerjaan saya adalah Mahasiswa\n"
     ]
    }
   ],
   "source": [
    "# Memanggil dan menggunakan fungsi dengan default argument\n",
    "biodata(\"Ika\", 20, \"Mahasiswa\")"
   ]
  },
  {
   "cell_type": "code",
   "execution_count": 27,
   "id": "2ae096d5",
   "metadata": {},
   "outputs": [],
   "source": [
    "# Variable length argument\n",
    "def penjumlahan(a, b, c):\n",
    "    res = a + b + c\n",
    "    return res"
   ]
  },
  {
   "cell_type": "code",
   "execution_count": 28,
   "id": "4f06bfc1",
   "metadata": {},
   "outputs": [
    {
     "data": {
      "text/plain": [
       "46"
      ]
     },
     "execution_count": 28,
     "metadata": {},
     "output_type": "execute_result"
    }
   ],
   "source": [
    "# Memanggil dan menggunakan fungsi dengan variable length argument\n",
    "penjumlahan(28, 6, 12)"
   ]
  },
  {
   "cell_type": "code",
   "execution_count": 29,
   "id": "ce71ccb5",
   "metadata": {},
   "outputs": [],
   "source": [
    "# *args params in function\n",
    "def penjumlahan(*angka):\n",
    "    hasil = 0\n",
    "    for item in angka:\n",
    "        hasil += item\n",
    "    return hasil"
   ]
  },
  {
   "cell_type": "code",
   "execution_count": 30,
   "id": "94f50df3",
   "metadata": {},
   "outputs": [
    {
     "data": {
      "text/plain": [
       "301"
      ]
     },
     "execution_count": 30,
     "metadata": {},
     "output_type": "execute_result"
    }
   ],
   "source": [
    "# Memanggil dan menggunakan fungsi dengan *args params\n",
    "penjumlahan(10,9,8,7,6,5,4,3,2,38,12,2,28,10,6,56,95)"
   ]
  },
  {
   "cell_type": "code",
   "execution_count": 31,
   "id": "8c3b52fe",
   "metadata": {},
   "outputs": [],
   "source": [
    "# **kwargs params in function\n",
    "def biodata(**data):\n",
    "    print(\"Biodata Pegawai\")\n",
    "    for k, v in data.items():\n",
    "        print(f\"{k}\\t: {v}\")"
   ]
  },
  {
   "cell_type": "code",
   "execution_count": 33,
   "id": "268e7e4f",
   "metadata": {},
   "outputs": [
    {
     "name": "stdout",
     "output_type": "stream",
     "text": [
      "Biodata Pegawai\n",
      "Nama\t: Ika\n",
      "Usia\t: 20\n"
     ]
    }
   ],
   "source": [
    "# Memanggil dan menggunakan fungsi dengan **kwargs params argument\n",
    "biodata(Nama=\"Ika\", Usia=20)"
   ]
  },
  {
   "cell_type": "markdown",
   "id": "48444563",
   "metadata": {},
   "source": [
    "### Global & Local Variable"
   ]
  },
  {
   "cell_type": "code",
   "execution_count": 34,
   "id": "cdd269e4",
   "metadata": {},
   "outputs": [],
   "source": [
    "# Global Variable\n",
    "my_var = 'Hacktiv8'\n",
    "\n",
    "def fungsi_1():\n",
    "    print(f\"Jangan lupa subscribe channel {my_var}\")\n",
    "\n",
    "def fungsi_2():\n",
    "    print(f\"Memanggil var {my_var} dari fungsi 2\")"
   ]
  },
  {
   "cell_type": "code",
   "execution_count": 35,
   "id": "e42e044f",
   "metadata": {},
   "outputs": [
    {
     "name": "stdout",
     "output_type": "stream",
     "text": [
      "Memanggil var Hacktiv8 dari fungsi 2\n"
     ]
    }
   ],
   "source": [
    "# Memanggil fungsi_2()\n",
    "fungsi_2()"
   ]
  },
  {
   "cell_type": "code",
   "execution_count": 36,
   "id": "d7c8a276",
   "metadata": {},
   "outputs": [
    {
     "name": "stdout",
     "output_type": "stream",
     "text": [
      "Jangan lupa subscribe channel Hacktiv8\n"
     ]
    }
   ],
   "source": [
    "# Memanggil fungsi_1()\n",
    "fungsi_1()"
   ]
  },
  {
   "cell_type": "code",
   "execution_count": 38,
   "id": "08c6946f",
   "metadata": {},
   "outputs": [],
   "source": [
    "# Local Variable\n",
    "def fungsi_3():\n",
    "    nama = \"Ika\"\n",
    "    print(f\"nama saya {nama}\")\n",
    "    print(\"String diatas diprint didalam fungsi\")"
   ]
  },
  {
   "cell_type": "code",
   "execution_count": 39,
   "id": "20a946e2",
   "metadata": {},
   "outputs": [
    {
     "name": "stdout",
     "output_type": "stream",
     "text": [
      "nama saya Ika\n",
      "String diatas diprint didalam fungsi\n"
     ]
    }
   ],
   "source": [
    "# Memanggil fungsi_3()\n",
    "fungsi_3()"
   ]
  },
  {
   "cell_type": "code",
   "execution_count": 40,
   "id": "a2700961",
   "metadata": {},
   "outputs": [
    {
     "ename": "NameError",
     "evalue": "name 'nama' is not defined",
     "output_type": "error",
     "traceback": [
      "\u001b[1;31m---------------------------------------------------------------------------\u001b[0m",
      "\u001b[1;31mNameError\u001b[0m                                 Traceback (most recent call last)",
      "Input \u001b[1;32mIn [40]\u001b[0m, in \u001b[0;36m<cell line: 1>\u001b[1;34m()\u001b[0m\n\u001b[1;32m----> 1\u001b[0m \u001b[38;5;28mprint\u001b[39m(\u001b[43mnama\u001b[49m)\n",
      "\u001b[1;31mNameError\u001b[0m: name 'nama' is not defined"
     ]
    }
   ],
   "source": [
    "print(nama)"
   ]
  },
  {
   "cell_type": "code",
   "execution_count": 1,
   "id": "296b65a3",
   "metadata": {},
   "outputs": [],
   "source": [
    "# Cara import pertama\n",
    "import fungsi"
   ]
  },
  {
   "cell_type": "code",
   "execution_count": 2,
   "id": "8c044e89",
   "metadata": {},
   "outputs": [
    {
     "data": {
      "text/plain": [
       "72"
      ]
     },
     "execution_count": 2,
     "metadata": {},
     "output_type": "execute_result"
    }
   ],
   "source": [
    "# Menggunakan fungsi yang telah diimport di atas\n",
    "fungsi.perkalian(12,6)"
   ]
  },
  {
   "cell_type": "code",
   "execution_count": 3,
   "id": "51fe4785",
   "metadata": {},
   "outputs": [
    {
     "data": {
      "text/plain": [
       "100"
      ]
     },
     "execution_count": 3,
     "metadata": {},
     "output_type": "execute_result"
    }
   ],
   "source": [
    "# Cara import kedua\n",
    "import fungsi as fx\n",
    "fx.perkalian(50, 2)"
   ]
  },
  {
   "cell_type": "code",
   "execution_count": 4,
   "id": "2425a10e",
   "metadata": {},
   "outputs": [
    {
     "data": {
      "text/plain": [
       "500"
      ]
     },
     "execution_count": 4,
     "metadata": {},
     "output_type": "execute_result"
    }
   ],
   "source": [
    "# Cara import ketiga\n",
    "from fungsi import perkalian\n",
    "perkalian(100, 5)"
   ]
  },
  {
   "cell_type": "code",
   "execution_count": 46,
   "id": "04438217",
   "metadata": {},
   "outputs": [],
   "source": [
    "# Mengimport fungsi sqrt dari math\n",
    "from math import sqrt"
   ]
  },
  {
   "cell_type": "code",
   "execution_count": 48,
   "id": "677ed23b",
   "metadata": {},
   "outputs": [
    {
     "data": {
      "text/plain": [
       "8.0"
      ]
     },
     "execution_count": 48,
     "metadata": {},
     "output_type": "execute_result"
    }
   ],
   "source": [
    "# Memanggil dan menggunakan fungsi sqrt\n",
    "sqrt(64)"
   ]
  },
  {
   "cell_type": "code",
   "execution_count": 49,
   "id": "0d63f284",
   "metadata": {},
   "outputs": [
    {
     "name": "stdout",
     "output_type": "stream",
     "text": [
      "Halo\n"
     ]
    }
   ],
   "source": [
    "# Mencetak Halo\n",
    "print(\"Halo\")"
   ]
  },
  {
   "cell_type": "markdown",
   "id": "477e2def",
   "metadata": {},
   "source": [
    "### Catching Error"
   ]
  },
  {
   "cell_type": "code",
   "execution_count": 50,
   "id": "9d764af7",
   "metadata": {},
   "outputs": [
    {
     "ename": "NameError",
     "evalue": "name 'halo' is not defined",
     "output_type": "error",
     "traceback": [
      "\u001b[1;31m---------------------------------------------------------------------------\u001b[0m",
      "\u001b[1;31mNameError\u001b[0m                                 Traceback (most recent call last)",
      "Input \u001b[1;32mIn [50]\u001b[0m, in \u001b[0;36m<cell line: 1>\u001b[1;34m()\u001b[0m\n\u001b[1;32m----> 1\u001b[0m \u001b[38;5;28mprint\u001b[39m(\u001b[43mhalo\u001b[49m)\n\u001b[0;32m      2\u001b[0m \u001b[38;5;28mprint\u001b[39m(\u001b[38;5;241m1\u001b[39m\u001b[38;5;241m+\u001b[39m\u001b[38;5;241m1\u001b[39m)\n",
      "\u001b[1;31mNameError\u001b[0m: name 'halo' is not defined"
     ]
    }
   ],
   "source": [
    "print(halo)\n",
    "print(1+1)"
   ]
  },
  {
   "cell_type": "code",
   "execution_count": 51,
   "id": "fc68f5c4",
   "metadata": {},
   "outputs": [
    {
     "ename": "ModuleNotFoundError",
     "evalue": "No module named 'ika'",
     "output_type": "error",
     "traceback": [
      "\u001b[1;31m---------------------------------------------------------------------------\u001b[0m",
      "\u001b[1;31mModuleNotFoundError\u001b[0m                       Traceback (most recent call last)",
      "Input \u001b[1;32mIn [51]\u001b[0m, in \u001b[0;36m<cell line: 1>\u001b[1;34m()\u001b[0m\n\u001b[1;32m----> 1\u001b[0m \u001b[38;5;28;01mimport\u001b[39;00m \u001b[38;5;21;01mika\u001b[39;00m\n",
      "\u001b[1;31mModuleNotFoundError\u001b[0m: No module named 'ika'"
     ]
    }
   ],
   "source": [
    "import ika"
   ]
  },
  {
   "cell_type": "code",
   "execution_count": 52,
   "id": "bb50d6b3",
   "metadata": {},
   "outputs": [
    {
     "name": "stdout",
     "output_type": "stream",
     "text": [
      "Halo apa kabar\n",
      "name 'halo' is not defined\n",
      "2\n"
     ]
    }
   ],
   "source": [
    "# Catching error dengan Exception\n",
    "try:\n",
    "    print(\"Halo apa kabar\")\n",
    "    print(halo)\n",
    "except Exception as e:\n",
    "    print(str(e))\n",
    "print(1+1)"
   ]
  },
  {
   "cell_type": "code",
   "execution_count": 53,
   "id": "08050b22",
   "metadata": {},
   "outputs": [
    {
     "name": "stdout",
     "output_type": "stream",
     "text": [
      "No module named 'ika'\n"
     ]
    }
   ],
   "source": [
    "# Catching error dengan Exception\n",
    "try:\n",
    "    import ika\n",
    "except Exception as e:\n",
    "    print(str(e))"
   ]
  },
  {
   "cell_type": "code",
   "execution_count": 54,
   "id": "d7abd920",
   "metadata": {},
   "outputs": [],
   "source": [
    "# Membuat fungsi rekursif\n",
    "def faktorial(n):\n",
    "    if n < 0:\n",
    "        print(\"Error, tidak bisa melakukan faktorial untuk angka negatif\")\n",
    "    elif n == 0 or n == 1:\n",
    "        return 1\n",
    "    else:\n",
    "        return n * faktorial(n-1)"
   ]
  },
  {
   "cell_type": "code",
   "execution_count": 55,
   "id": "665ea111",
   "metadata": {},
   "outputs": [
    {
     "data": {
      "text/plain": [
       "3628800"
      ]
     },
     "execution_count": 55,
     "metadata": {},
     "output_type": "execute_result"
    }
   ],
   "source": [
    "# Memanggil dan menggunakan fungsi rekursif yang telah dibuat\n",
    "faktorial(10)"
   ]
  }
 ],
 "metadata": {
  "kernelspec": {
   "display_name": "Python 3.9.12 ('base')",
   "language": "python",
   "name": "python3"
  },
  "language_info": {
   "codemirror_mode": {
    "name": "ipython",
    "version": 3
   },
   "file_extension": ".py",
   "mimetype": "text/x-python",
   "name": "python",
   "nbconvert_exporter": "python",
   "pygments_lexer": "ipython3",
   "version": "3.9.12"
  },
  "vscode": {
   "interpreter": {
    "hash": "548ab95550280775e0e3d7de30ebd157c610a70d91e64db02d00f78c476de59e"
   }
  }
 },
 "nbformat": 4,
 "nbformat_minor": 5
}
