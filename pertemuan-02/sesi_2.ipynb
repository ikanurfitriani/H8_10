{
 "cells": [
  {
   "cell_type": "markdown",
   "id": "8b67fc1b",
   "metadata": {},
   "source": [
    "# Live Session 2 (22/08/2022)- Conditions, Control Flow and Looping\n",
    "#### By Ika Nurfitriani (PYTN-KS10-008)\n",
    "Di pertemuan ini ada beberapa hal yang akan dibahas diantaranya conditions, control flow dan looping. Terdapat beberapa conditions yaitu If Statement, If Else Statement dan If Elif Statement. Serta terdapat dua looping yaitu While Loop dan For Loop."
   ]
  },
  {
   "cell_type": "markdown",
   "id": "097ea948",
   "metadata": {},
   "source": [
    "### Contoh Notebook dengan VSCode"
   ]
  },
  {
   "cell_type": "markdown",
   "id": "48e1cc0e",
   "metadata": {},
   "source": [
    "**Mencetak halo dunia**"
   ]
  },
  {
   "cell_type": "code",
   "execution_count": 1,
   "id": "8e191dbc",
   "metadata": {},
   "outputs": [
    {
     "name": "stdout",
     "output_type": "stream",
     "text": [
      "halo dunia\n"
     ]
    }
   ],
   "source": [
    "print(\"halo dunia\")"
   ]
  },
  {
   "cell_type": "markdown",
   "id": "587ca462",
   "metadata": {},
   "source": [
    "### Conditional"
   ]
  },
  {
   "cell_type": "code",
   "execution_count": 2,
   "id": "ba83442e",
   "metadata": {},
   "outputs": [
    {
     "name": "stdout",
     "output_type": "stream",
     "text": [
      "19 lebih kecil dari 10\n"
     ]
    }
   ],
   "source": [
    "angka = 19\n",
    "print(f\"{angka} lebih kecil dari 10\")"
   ]
  },
  {
   "cell_type": "markdown",
   "id": "a2b056b8",
   "metadata": {},
   "source": [
    "**Dengan sintaks if**"
   ]
  },
  {
   "cell_type": "code",
   "execution_count": 3,
   "id": "821f7053",
   "metadata": {},
   "outputs": [
    {
     "name": "stdout",
     "output_type": "stream",
     "text": [
      "8 lebih kecil dari 10\n"
     ]
    }
   ],
   "source": [
    "angka = 8\n",
    "if angka < 10:\n",
    "    print(f\"{angka} lebih kecil dari 10\")\n",
    "else:\n",
    "    print(f\"{angka} lebih besar dari 10\")"
   ]
  },
  {
   "cell_type": "markdown",
   "id": "3f13a5c5",
   "metadata": {},
   "source": [
    "**Kondisi jika variabel angka bernilai 8**"
   ]
  },
  {
   "cell_type": "code",
   "execution_count": 4,
   "id": "5933e19e",
   "metadata": {},
   "outputs": [
    {
     "name": "stdout",
     "output_type": "stream",
     "text": [
      "8 lebih kecil dari 10\n",
      "Ini masih didalam if\n",
      "bagian ini tidak terpengaruh sintaks di atas\n"
     ]
    }
   ],
   "source": [
    "angka = 8\n",
    "if angka < 10:\n",
    "    print(f\"{angka} lebih kecil dari 10\")\n",
    "    print(\"Ini masih didalam if\")\n",
    "else:\n",
    "    print(f\"{angka} lebih besar dari 10\")\n",
    "    print (\"Ini masih didalam else\")\n",
    "print(\"bagian ini tidak terpengaruh sintaks di atas\")"
   ]
  },
  {
   "cell_type": "markdown",
   "id": "248f0c1d",
   "metadata": {},
   "source": [
    "**Kondisi jika variabel angka bernilai 8**"
   ]
  },
  {
   "cell_type": "code",
   "execution_count": 5,
   "id": "727ebefd",
   "metadata": {},
   "outputs": [
    {
     "name": "stdout",
     "output_type": "stream",
     "text": [
      "8 lebih kecil dari 10\n"
     ]
    }
   ],
   "source": [
    "angka = 8\n",
    "if angka < 10:\n",
    "    print(f\"{angka} lebih kecil dari 10\")\n",
    "elif angka == 10:\n",
    "    print(f\"{angka} sama dengan 10\")\n",
    "else:\n",
    "    print(f\"{angka} lebih besar dari 10\")"
   ]
  },
  {
   "cell_type": "markdown",
   "id": "bc38cd53",
   "metadata": {},
   "source": [
    "**Kondisi jika variabel angka bernilai 17**"
   ]
  },
  {
   "cell_type": "code",
   "execution_count": 6,
   "id": "e28b58b8",
   "metadata": {},
   "outputs": [
    {
     "name": "stdout",
     "output_type": "stream",
     "text": [
      "Angka lebih kecil dari 20\n"
     ]
    }
   ],
   "source": [
    "angka = 17\n",
    "if angka < 20:\n",
    "    print(\"Angka lebih kecil dari 20\")\n",
    "\n",
    "    if angka % 2 == 0:\n",
    "        print(\"Bilangan genap lebih kecil dari 20\")\n",
    "\n",
    "else:\n",
    "    print(\"Angka lebih besar dari 20\")\n",
    "    if angka % 2 != 0:\n",
    "        print(\"Bilangan ganjil lebih besar dari 20\")"
   ]
  },
  {
   "cell_type": "markdown",
   "id": "4a66b1ae",
   "metadata": {},
   "source": [
    "**Kondisi jika bernilai false**"
   ]
  },
  {
   "cell_type": "code",
   "execution_count": 7,
   "id": "448f7495",
   "metadata": {},
   "outputs": [
    {
     "name": "stdout",
     "output_type": "stream",
     "text": [
      "Ayo kita ke perpusatakaan\n"
     ]
    }
   ],
   "source": [
    "hujan = True\n",
    "print(\"Ayo kita ke\", 'pantai' if not hujan else 'perpusatakaan')"
   ]
  },
  {
   "cell_type": "markdown",
   "id": "3c0f17ef",
   "metadata": {},
   "source": [
    "**Mencetak bilangan ganjil**"
   ]
  },
  {
   "cell_type": "code",
   "execution_count": 8,
   "id": "8a34638b",
   "metadata": {},
   "outputs": [
    {
     "name": "stdout",
     "output_type": "stream",
     "text": [
      "ganjil\n"
     ]
    }
   ],
   "source": [
    "if angka % 2 == 0:\n",
    "    pass\n",
    "else:\n",
    "    print(\"ganjil\")"
   ]
  },
  {
   "cell_type": "markdown",
   "id": "8611be53",
   "metadata": {},
   "source": [
    "### Looping"
   ]
  },
  {
   "cell_type": "markdown",
   "id": "f9147ae5",
   "metadata": {},
   "source": [
    "**While Loop**"
   ]
  },
  {
   "cell_type": "code",
   "execution_count": 9,
   "id": "bed9c947",
   "metadata": {},
   "outputs": [
    {
     "name": "stdout",
     "output_type": "stream",
     "text": [
      "i ke 1 Halo dunia\n",
      "i ke 2 Halo dunia\n",
      "i ke 3 Halo dunia\n",
      "i ke 4 Halo dunia\n",
      "i ke 5 Halo dunia\n"
     ]
    }
   ],
   "source": [
    "i = 0\n",
    "while i < 5:\n",
    "    i += 1\n",
    "    print(f\"i ke {i}\", \"Halo dunia\")\n",
    "    # i = i + 1"
   ]
  },
  {
   "cell_type": "markdown",
   "id": "168d541c",
   "metadata": {},
   "source": [
    "**BREAK**"
   ]
  },
  {
   "cell_type": "code",
   "execution_count": 10,
   "id": "88bf581c",
   "metadata": {},
   "outputs": [
    {
     "name": "stdout",
     "output_type": "stream",
     "text": [
      "i ke 1 Halo dunia\n",
      "i ke 2 Halo dunia\n",
      "i ke 3 Halo dunia\n"
     ]
    }
   ],
   "source": [
    "i = 0\n",
    "while i < 10:\n",
    "    i += 1\n",
    "    if i == 4:\n",
    "        break\n",
    "    print(f\"i ke {i}\", \"Halo dunia\")"
   ]
  },
  {
   "cell_type": "markdown",
   "id": "cd9ed988",
   "metadata": {},
   "source": [
    "**CONTINUE**"
   ]
  },
  {
   "cell_type": "code",
   "execution_count": 11,
   "id": "4a0330ff",
   "metadata": {},
   "outputs": [
    {
     "name": "stdout",
     "output_type": "stream",
     "text": [
      "i ke 1 Halo dunia\n",
      "i ke 2 Halo dunia\n",
      "i ke 3 Halo dunia\n",
      "i ke 5 Halo dunia\n",
      "i ke 6 Halo dunia\n",
      "i ke 7 Halo dunia\n",
      "i ke 8 Halo dunia\n",
      "i ke 9 Halo dunia\n",
      "i ke 10 Halo dunia\n"
     ]
    }
   ],
   "source": [
    "i = 0\n",
    "while i < 10:\n",
    "    i += 1 #update variable\n",
    "    if i == 4:\n",
    "        continue #continue menskip yg di bwhnya\n",
    "    print(f\"i ke {i}\", \"Halo dunia\")"
   ]
  },
  {
   "cell_type": "markdown",
   "id": "4583afdb",
   "metadata": {},
   "source": [
    "**Membuat perkalian angka 7 dengan while loop**"
   ]
  },
  {
   "cell_type": "code",
   "execution_count": 12,
   "id": "35a0f589",
   "metadata": {},
   "outputs": [
    {
     "name": "stdout",
     "output_type": "stream",
     "text": [
      "7 x 1 = 7\n",
      "7 x 2 = 14\n",
      "7 x 3 = 21\n",
      "7 x 4 = 28\n",
      "7 x 5 = 35\n",
      "7 x 6 = 42\n",
      "7 x 7 = 49\n",
      "7 x 8 = 56\n",
      "7 x 9 = 63\n",
      "7 x 10 = 70\n"
     ]
    }
   ],
   "source": [
    "i = 1\n",
    "while i <= 10:\n",
    "    print(f\"7 x {i} = {7*i}\")\n",
    "    i= i + 1"
   ]
  },
  {
   "cell_type": "markdown",
   "id": "a6b23193",
   "metadata": {},
   "source": [
    "**Membuat perkalian 1 sampai 10 dengan While Loop**"
   ]
  },
  {
   "cell_type": "code",
   "execution_count": 13,
   "id": "06a9a690",
   "metadata": {},
   "outputs": [
    {
     "name": "stdout",
     "output_type": "stream",
     "text": [
      " 1 x 1 = 1\n",
      " 1 x 2 = 2\n",
      " 1 x 3 = 3\n",
      " 1 x 4 = 4\n",
      " 1 x 5 = 5\n",
      " 1 x 6 = 6\n",
      " 1 x 7 = 7\n",
      " 1 x 8 = 8\n",
      " 1 x 9 = 9\n",
      " 1 x 10 = 10\n",
      "==================================================\n",
      " 2 x 1 = 2\n",
      " 2 x 2 = 4\n",
      " 2 x 3 = 6\n",
      " 2 x 4 = 8\n",
      " 2 x 5 = 10\n",
      " 2 x 6 = 12\n",
      " 2 x 7 = 14\n",
      " 2 x 8 = 16\n",
      " 2 x 9 = 18\n",
      " 2 x 10 = 20\n",
      "==================================================\n",
      " 3 x 1 = 3\n",
      " 3 x 2 = 6\n",
      " 3 x 3 = 9\n",
      " 3 x 4 = 12\n",
      " 3 x 5 = 15\n",
      " 3 x 6 = 18\n",
      " 3 x 7 = 21\n",
      " 3 x 8 = 24\n",
      " 3 x 9 = 27\n",
      " 3 x 10 = 30\n",
      "==================================================\n",
      " 4 x 1 = 4\n",
      " 4 x 2 = 8\n",
      " 4 x 3 = 12\n",
      " 4 x 4 = 16\n",
      " 4 x 5 = 20\n",
      " 4 x 6 = 24\n",
      " 4 x 7 = 28\n",
      " 4 x 8 = 32\n",
      " 4 x 9 = 36\n",
      " 4 x 10 = 40\n",
      "==================================================\n",
      " 5 x 1 = 5\n",
      " 5 x 2 = 10\n",
      " 5 x 3 = 15\n",
      " 5 x 4 = 20\n",
      " 5 x 5 = 25\n",
      " 5 x 6 = 30\n",
      " 5 x 7 = 35\n",
      " 5 x 8 = 40\n",
      " 5 x 9 = 45\n",
      " 5 x 10 = 50\n",
      "==================================================\n",
      " 6 x 1 = 6\n",
      " 6 x 2 = 12\n",
      " 6 x 3 = 18\n",
      " 6 x 4 = 24\n",
      " 6 x 5 = 30\n",
      " 6 x 6 = 36\n",
      " 6 x 7 = 42\n",
      " 6 x 8 = 48\n",
      " 6 x 9 = 54\n",
      " 6 x 10 = 60\n",
      "==================================================\n",
      " 7 x 1 = 7\n",
      " 7 x 2 = 14\n",
      " 7 x 3 = 21\n",
      " 7 x 4 = 28\n",
      " 7 x 5 = 35\n",
      " 7 x 6 = 42\n",
      " 7 x 7 = 49\n",
      " 7 x 8 = 56\n",
      " 7 x 9 = 63\n",
      " 7 x 10 = 70\n",
      "==================================================\n",
      " 8 x 1 = 8\n",
      " 8 x 2 = 16\n",
      " 8 x 3 = 24\n",
      " 8 x 4 = 32\n",
      " 8 x 5 = 40\n",
      " 8 x 6 = 48\n",
      " 8 x 7 = 56\n",
      " 8 x 8 = 64\n",
      " 8 x 9 = 72\n",
      " 8 x 10 = 80\n",
      "==================================================\n",
      " 9 x 1 = 9\n",
      " 9 x 2 = 18\n",
      " 9 x 3 = 27\n",
      " 9 x 4 = 36\n",
      " 9 x 5 = 45\n",
      " 9 x 6 = 54\n",
      " 9 x 7 = 63\n",
      " 9 x 8 = 72\n",
      " 9 x 9 = 81\n",
      " 9 x 10 = 90\n",
      "==================================================\n",
      " 10 x 1 = 10\n",
      " 10 x 2 = 20\n",
      " 10 x 3 = 30\n",
      " 10 x 4 = 40\n",
      " 10 x 5 = 50\n",
      " 10 x 6 = 60\n",
      " 10 x 7 = 70\n",
      " 10 x 8 = 80\n",
      " 10 x 9 = 90\n",
      " 10 x 10 = 100\n",
      "==================================================\n"
     ]
    }
   ],
   "source": [
    "i = 1\n",
    "j = 1\n",
    "while j <= 10:\n",
    "    while i <= 10:\n",
    "        print(f\" {j} x {i} = {j*i}\")\n",
    "        i += 1\n",
    "    i = 1\n",
    "    j += 1\n",
    "    print(\"=\"*50)"
   ]
  },
  {
   "cell_type": "markdown",
   "id": "41f6ef3c",
   "metadata": {},
   "source": [
    "**Else dalam looping**"
   ]
  },
  {
   "cell_type": "code",
   "execution_count": 14,
   "id": "90b02b23",
   "metadata": {},
   "outputs": [
    {
     "name": "stdout",
     "output_type": "stream",
     "text": [
      "Masih looping\n",
      "Masih looping\n",
      "Masih looping\n",
      "Masih looping\n",
      "Masih looping\n",
      "Looping selesai\n"
     ]
    }
   ],
   "source": [
    "i = 0\n",
    "while i < 5:\n",
    "    print(\"Masih looping\")\n",
    "    i += 1\n",
    "print(\"Looping selesai\")"
   ]
  },
  {
   "cell_type": "markdown",
   "id": "47218d24",
   "metadata": {},
   "source": [
    "**Else dalam looping**"
   ]
  },
  {
   "cell_type": "code",
   "execution_count": 15,
   "id": "91e04efa",
   "metadata": {},
   "outputs": [
    {
     "name": "stdout",
     "output_type": "stream",
     "text": [
      "Masih looping\n",
      "Masih looping\n",
      "Masih looping\n",
      "Looping selesai\n"
     ]
    }
   ],
   "source": [
    "i = 0\n",
    "while i < 5:\n",
    "    print(\"Masih looping\")\n",
    "    i += 1\n",
    "    if i == 3:\n",
    "        break\n",
    "print(\"Looping selesai\")"
   ]
  },
  {
   "cell_type": "markdown",
   "id": "eaa8ea3b",
   "metadata": {},
   "source": [
    "**Else dalam looping**"
   ]
  },
  {
   "cell_type": "code",
   "execution_count": 16,
   "id": "e90da407",
   "metadata": {},
   "outputs": [
    {
     "name": "stdout",
     "output_type": "stream",
     "text": [
      "Masih looping\n",
      "Masih looping\n",
      "Masih looping\n"
     ]
    }
   ],
   "source": [
    "i = 0\n",
    "while i < 5:\n",
    "    print(\"Masih looping\")\n",
    "    i += 1\n",
    "    if i == 3:\n",
    "        break\n",
    "else:\n",
    "    print(\"Looping selesai\")"
   ]
  },
  {
   "cell_type": "markdown",
   "id": "ddd29b77",
   "metadata": {},
   "source": [
    "**Cek bilangan prima**"
   ]
  },
  {
   "cell_type": "code",
   "execution_count": 17,
   "id": "733bbe02",
   "metadata": {},
   "outputs": [
    {
     "name": "stdout",
     "output_type": "stream",
     "text": [
      "Bilangan prima\n"
     ]
    }
   ],
   "source": [
    "angka = 7\n",
    "i = 2\n",
    "while i < angka:\n",
    "    if angka % i == 0:\n",
    "        print(\"Bukan bilangan prima\")\n",
    "        break\n",
    "    i += 1\n",
    "else:\n",
    "    print(\"Bilangan prima\")"
   ]
  },
  {
   "cell_type": "markdown",
   "id": "cf9b67c7",
   "metadata": {},
   "source": [
    "#### Range\n",
    "**Mencetak bilangan di bawah range 10**"
   ]
  },
  {
   "cell_type": "code",
   "execution_count": 18,
   "id": "703b7194",
   "metadata": {},
   "outputs": [
    {
     "data": {
      "text/plain": [
       "[0, 1, 2, 3, 4, 5, 6, 7, 8, 9]"
      ]
     },
     "execution_count": 18,
     "metadata": {},
     "output_type": "execute_result"
    }
   ],
   "source": [
    "list(range(10))"
   ]
  },
  {
   "cell_type": "markdown",
   "id": "d046a911",
   "metadata": {},
   "source": [
    "**Mencetak bilangan antara range 1 - 10**"
   ]
  },
  {
   "cell_type": "code",
   "execution_count": 19,
   "id": "69b96341",
   "metadata": {},
   "outputs": [
    {
     "data": {
      "text/plain": [
       "[1, 2, 3, 4, 5, 6, 7, 8, 9]"
      ]
     },
     "execution_count": 19,
     "metadata": {},
     "output_type": "execute_result"
    }
   ],
   "source": [
    "list(range(1,10))"
   ]
  },
  {
   "cell_type": "markdown",
   "id": "b15c4425",
   "metadata": {},
   "source": [
    "**Mencetak bilangan antara range 1 - 10 dengan interval 2**"
   ]
  },
  {
   "cell_type": "code",
   "execution_count": 20,
   "id": "0d7ceb05",
   "metadata": {},
   "outputs": [
    {
     "data": {
      "text/plain": [
       "[1, 3, 5, 7, 9]"
      ]
     },
     "execution_count": 20,
     "metadata": {},
     "output_type": "execute_result"
    }
   ],
   "source": [
    "list(range(1,10,2))"
   ]
  },
  {
   "cell_type": "markdown",
   "id": "95dd5587",
   "metadata": {},
   "source": [
    "#### Fungsi range\n",
    "**Mencetak perkalian 7 dengan For Loop**"
   ]
  },
  {
   "cell_type": "code",
   "execution_count": 21,
   "id": "7d5cd33c",
   "metadata": {},
   "outputs": [
    {
     "name": "stdout",
     "output_type": "stream",
     "text": [
      "7 x 1 = 7\n",
      "7 x 2 = 14\n",
      "7 x 3 = 21\n",
      "7 x 4 = 28\n",
      "7 x 5 = 35\n",
      "7 x 6 = 42\n",
      "7 x 7 = 49\n",
      "7 x 8 = 56\n",
      "7 x 9 = 63\n",
      "7 x 10 = 70\n"
     ]
    }
   ],
   "source": [
    "for i in range(1, 11):\n",
    "    print(f\"7 x {i} = {7*i}\")"
   ]
  },
  {
   "cell_type": "markdown",
   "id": "92362e9a",
   "metadata": {},
   "source": [
    "**Membuat list fruits dan mencetaknya dengan For Loop**"
   ]
  },
  {
   "cell_type": "code",
   "execution_count": 22,
   "id": "a435c145",
   "metadata": {},
   "outputs": [
    {
     "name": "stdout",
     "output_type": "stream",
     "text": [
      "Apel\n",
      "Nanas\n",
      "Jeruk\n",
      "Salak\n"
     ]
    }
   ],
   "source": [
    "fruits = [\"Apel\", \"Nanas\", \"Jeruk\", \"Salak\"]\n",
    "for buah in fruits:\n",
    "    print(buah)"
   ]
  },
  {
   "cell_type": "markdown",
   "id": "7b059a6b",
   "metadata": {},
   "source": [
    "**Mencetak list fruits dengan While Loop**"
   ]
  },
  {
   "cell_type": "code",
   "execution_count": 23,
   "id": "d5053ea2",
   "metadata": {},
   "outputs": [
    {
     "name": "stdout",
     "output_type": "stream",
     "text": [
      " Saya akan membeli buah Apel\n",
      " Saya akan membeli buah Nanas\n",
      " Saya akan membeli buah Jeruk\n",
      " Saya akan membeli buah Salak\n"
     ]
    }
   ],
   "source": [
    "idx = 0\n",
    "while idx < len(fruits):\n",
    "    print(f\" Saya akan membeli buah {fruits[idx]}\")\n",
    "    idx += 1"
   ]
  },
  {
   "cell_type": "markdown",
   "id": "0ad97b4c",
   "metadata": {},
   "source": [
    "**Mencetak list fruits dengan For Loop**"
   ]
  },
  {
   "cell_type": "code",
   "execution_count": 24,
   "id": "62b4981a",
   "metadata": {},
   "outputs": [
    {
     "name": "stdout",
     "output_type": "stream",
     "text": [
      " Saya akan makan buah Apel\n",
      " Saya akan makan buah Nanas\n",
      " Saya akan makan buah Jeruk\n",
      " Saya akan makan buah Salak\n"
     ]
    }
   ],
   "source": [
    "for idx in range(len(fruits)):\n",
    "    print(f\" Saya akan makan buah {fruits[idx]}\")"
   ]
  },
  {
   "cell_type": "markdown",
   "id": "0d01cb81",
   "metadata": {},
   "source": [
    "**Mencetak angka di range 5 dengan For Loop**"
   ]
  },
  {
   "cell_type": "code",
   "execution_count": 25,
   "id": "f0f9ba12",
   "metadata": {},
   "outputs": [
    {
     "name": "stdout",
     "output_type": "stream",
     "text": [
      "0\n",
      "1\n",
      "3\n",
      "4\n"
     ]
    }
   ],
   "source": [
    "for i in range(5):\n",
    "    if i == 2:\n",
    "        continue\n",
    "    print(i)"
   ]
  },
  {
   "cell_type": "markdown",
   "id": "167b1c5c",
   "metadata": {},
   "source": [
    "**Membuat perkalian 1 sampai 10 dengan For Loop**"
   ]
  },
  {
   "cell_type": "code",
   "execution_count": 26,
   "id": "def6c8de",
   "metadata": {},
   "outputs": [
    {
     "name": "stdout",
     "output_type": "stream",
     "text": [
      " 1 x 1 = 1\n",
      " 1 x 2 = 2\n",
      " 1 x 3 = 3\n",
      " 1 x 4 = 4\n",
      " 1 x 5 = 5\n",
      " 1 x 6 = 6\n",
      " 1 x 7 = 7\n",
      " 1 x 8 = 8\n",
      " 1 x 9 = 9\n",
      " 1 x 10 = 10\n",
      "==================================================\n",
      " 2 x 1 = 2\n",
      " 2 x 2 = 4\n",
      " 2 x 3 = 6\n",
      " 2 x 4 = 8\n",
      " 2 x 5 = 10\n",
      " 2 x 6 = 12\n",
      " 2 x 7 = 14\n",
      " 2 x 8 = 16\n",
      " 2 x 9 = 18\n",
      " 2 x 10 = 20\n",
      "==================================================\n",
      " 3 x 1 = 3\n",
      " 3 x 2 = 6\n",
      " 3 x 3 = 9\n",
      " 3 x 4 = 12\n",
      " 3 x 5 = 15\n",
      " 3 x 6 = 18\n",
      " 3 x 7 = 21\n",
      " 3 x 8 = 24\n",
      " 3 x 9 = 27\n",
      " 3 x 10 = 30\n",
      "==================================================\n",
      " 4 x 1 = 4\n",
      " 4 x 2 = 8\n",
      " 4 x 3 = 12\n",
      " 4 x 4 = 16\n",
      " 4 x 5 = 20\n",
      " 4 x 6 = 24\n",
      " 4 x 7 = 28\n",
      " 4 x 8 = 32\n",
      " 4 x 9 = 36\n",
      " 4 x 10 = 40\n",
      "==================================================\n",
      " 5 x 1 = 5\n",
      " 5 x 2 = 10\n",
      " 5 x 3 = 15\n",
      " 5 x 4 = 20\n",
      " 5 x 5 = 25\n",
      " 5 x 6 = 30\n",
      " 5 x 7 = 35\n",
      " 5 x 8 = 40\n",
      " 5 x 9 = 45\n",
      " 5 x 10 = 50\n",
      "==================================================\n",
      " 6 x 1 = 6\n",
      " 6 x 2 = 12\n",
      " 6 x 3 = 18\n",
      " 6 x 4 = 24\n",
      " 6 x 5 = 30\n",
      " 6 x 6 = 36\n",
      " 6 x 7 = 42\n",
      " 6 x 8 = 48\n",
      " 6 x 9 = 54\n",
      " 6 x 10 = 60\n",
      "==================================================\n",
      " 7 x 1 = 7\n",
      " 7 x 2 = 14\n",
      " 7 x 3 = 21\n",
      " 7 x 4 = 28\n",
      " 7 x 5 = 35\n",
      " 7 x 6 = 42\n",
      " 7 x 7 = 49\n",
      " 7 x 8 = 56\n",
      " 7 x 9 = 63\n",
      " 7 x 10 = 70\n",
      "==================================================\n",
      " 8 x 1 = 8\n",
      " 8 x 2 = 16\n",
      " 8 x 3 = 24\n",
      " 8 x 4 = 32\n",
      " 8 x 5 = 40\n",
      " 8 x 6 = 48\n",
      " 8 x 7 = 56\n",
      " 8 x 8 = 64\n",
      " 8 x 9 = 72\n",
      " 8 x 10 = 80\n",
      "==================================================\n",
      " 9 x 1 = 9\n",
      " 9 x 2 = 18\n",
      " 9 x 3 = 27\n",
      " 9 x 4 = 36\n",
      " 9 x 5 = 45\n",
      " 9 x 6 = 54\n",
      " 9 x 7 = 63\n",
      " 9 x 8 = 72\n",
      " 9 x 9 = 81\n",
      " 9 x 10 = 90\n",
      "==================================================\n",
      " 10 x 1 = 10\n",
      " 10 x 2 = 20\n",
      " 10 x 3 = 30\n",
      " 10 x 4 = 40\n",
      " 10 x 5 = 50\n",
      " 10 x 6 = 60\n",
      " 10 x 7 = 70\n",
      " 10 x 8 = 80\n",
      " 10 x 9 = 90\n",
      " 10 x 10 = 100\n",
      "==================================================\n"
     ]
    }
   ],
   "source": [
    "for j in range(1, 11):\n",
    "    for i in range(1, 11):\n",
    "        print(f\" {j} x {i} = {j*i}\")\n",
    "    print(\"=\"*50)"
   ]
  }
 ],
 "metadata": {
  "kernelspec": {
   "display_name": "Python 3.9.12 ('base')",
   "language": "python",
   "name": "python3"
  },
  "language_info": {
   "codemirror_mode": {
    "name": "ipython",
    "version": 3
   },
   "file_extension": ".py",
   "mimetype": "text/x-python",
   "name": "python",
   "nbconvert_exporter": "python",
   "pygments_lexer": "ipython3",
   "version": "3.9.12"
  },
  "vscode": {
   "interpreter": {
    "hash": "548ab95550280775e0e3d7de30ebd157c610a70d91e64db02d00f78c476de59e"
   }
  }
 },
 "nbformat": 4,
 "nbformat_minor": 5
}
