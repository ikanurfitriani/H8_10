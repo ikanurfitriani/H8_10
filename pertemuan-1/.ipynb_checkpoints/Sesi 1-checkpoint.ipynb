{
 "cells": [
  {
   "cell_type": "markdown",
   "id": "b15a856a",
   "metadata": {},
   "source": [
    "# Sesi 1 / Pertemuan 1 (Live Session)"
   ]
  },
  {
   "cell_type": "markdown",
   "id": "ea98c4bc",
   "metadata": {},
   "source": [
    "Ini adalah notebook pertama saya"
   ]
  },
  {
   "cell_type": "code",
   "execution_count": 1,
   "id": "7ab4ada1",
   "metadata": {},
   "outputs": [
    {
     "name": "stdout",
     "output_type": "stream",
     "text": [
      "Hello World\n"
     ]
    }
   ],
   "source": [
    "print(\"Hello World\")"
   ]
  },
  {
   "cell_type": "markdown",
   "id": "28ad8176",
   "metadata": {},
   "source": [
    "Untuk menjalankan kode pada cell, dapat menggunakan shift+enter"
   ]
  },
  {
   "cell_type": "markdown",
   "id": "a30bebe3",
   "metadata": {},
   "source": [
    "## Tipe Data"
   ]
  },
  {
   "cell_type": "code",
   "execution_count": 2,
   "id": "fa1fb5af",
   "metadata": {},
   "outputs": [
    {
     "name": "stdout",
     "output_type": "stream",
     "text": [
      "3512\n"
     ]
    }
   ],
   "source": [
    "# Tipe data tunggal\n",
    "print(3512)"
   ]
  },
  {
   "cell_type": "code",
   "execution_count": 3,
   "id": "a1c2c28b",
   "metadata": {},
   "outputs": [
    {
     "data": {
      "text/plain": [
       "int"
      ]
     },
     "execution_count": 3,
     "metadata": {},
     "output_type": "execute_result"
    }
   ],
   "source": [
    "type(3512)"
   ]
  },
  {
   "cell_type": "code",
   "execution_count": 4,
   "id": "a4772e3e",
   "metadata": {},
   "outputs": [
    {
     "name": "stdout",
     "output_type": "stream",
     "text": [
      "3.1415\n"
     ]
    }
   ],
   "source": [
    "print(3.1415)"
   ]
  },
  {
   "cell_type": "code",
   "execution_count": 5,
   "id": "69a842fa",
   "metadata": {},
   "outputs": [
    {
     "name": "stdout",
     "output_type": "stream",
     "text": [
      "(3+2j)\n"
     ]
    }
   ],
   "source": [
    "print(3+2j)"
   ]
  },
  {
   "cell_type": "code",
   "execution_count": 6,
   "id": "567fc2ca",
   "metadata": {},
   "outputs": [
    {
     "data": {
      "text/plain": [
       "complex"
      ]
     },
     "execution_count": 6,
     "metadata": {},
     "output_type": "execute_result"
    }
   ],
   "source": [
    "type(3+2j)"
   ]
  },
  {
   "cell_type": "code",
   "execution_count": 7,
   "id": "ca48c1f2",
   "metadata": {},
   "outputs": [
    {
     "name": "stdout",
     "output_type": "stream",
     "text": [
      "4.0\n"
     ]
    },
    {
     "data": {
      "text/plain": [
       "float"
      ]
     },
     "execution_count": 7,
     "metadata": {},
     "output_type": "execute_result"
    }
   ],
   "source": [
    "print(4.0)\n",
    "type(4.0)"
   ]
  },
  {
   "cell_type": "code",
   "execution_count": 8,
   "id": "80bd7d77",
   "metadata": {},
   "outputs": [
    {
     "name": "stdout",
     "output_type": "stream",
     "text": [
      "True\n"
     ]
    },
    {
     "data": {
      "text/plain": [
       "bool"
      ]
     },
     "execution_count": 8,
     "metadata": {},
     "output_type": "execute_result"
    }
   ],
   "source": [
    "print(True)\n",
    "type(True)"
   ]
  },
  {
   "cell_type": "code",
   "execution_count": 9,
   "id": "811ea0a4",
   "metadata": {},
   "outputs": [
    {
     "name": "stdout",
     "output_type": "stream",
     "text": [
      "False\n"
     ]
    },
    {
     "data": {
      "text/plain": [
       "bool"
      ]
     },
     "execution_count": 9,
     "metadata": {},
     "output_type": "execute_result"
    }
   ],
   "source": [
    "print(False)\n",
    "type(False)"
   ]
  },
  {
   "cell_type": "code",
   "execution_count": 10,
   "id": "89c2b4cd",
   "metadata": {},
   "outputs": [
    {
     "name": "stdout",
     "output_type": "stream",
     "text": [
      "46\n"
     ]
    },
    {
     "data": {
      "text/plain": [
       "str"
      ]
     },
     "execution_count": 10,
     "metadata": {},
     "output_type": "execute_result"
    }
   ],
   "source": [
    "print(\"46\")\n",
    "type(\"46\")"
   ]
  },
  {
   "cell_type": "code",
   "execution_count": 11,
   "id": "a129e831",
   "metadata": {},
   "outputs": [
    {
     "name": "stdout",
     "output_type": "stream",
     "text": [
      "Nama Saya Ika\n"
     ]
    },
    {
     "data": {
      "text/plain": [
       "str"
      ]
     },
     "execution_count": 11,
     "metadata": {},
     "output_type": "execute_result"
    }
   ],
   "source": [
    "print('Nama Saya Ika')\n",
    "type('Nama Saya Ika')"
   ]
  },
  {
   "cell_type": "markdown",
   "id": "c3e03c7e",
   "metadata": {},
   "source": [
    "## Variabel"
   ]
  },
  {
   "cell_type": "code",
   "execution_count": 12,
   "id": "3be2a5fb",
   "metadata": {},
   "outputs": [],
   "source": [
    "a = 12"
   ]
  },
  {
   "cell_type": "code",
   "execution_count": 13,
   "id": "2f4359c8",
   "metadata": {},
   "outputs": [
    {
     "name": "stdout",
     "output_type": "stream",
     "text": [
      "12\n"
     ]
    },
    {
     "data": {
      "text/plain": [
       "int"
      ]
     },
     "execution_count": 13,
     "metadata": {},
     "output_type": "execute_result"
    }
   ],
   "source": [
    "print(a)\n",
    "type(a)"
   ]
  },
  {
   "cell_type": "code",
   "execution_count": 14,
   "id": "f5603c20",
   "metadata": {},
   "outputs": [
    {
     "name": "stdout",
     "output_type": "stream",
     "text": [
      "7.5\n"
     ]
    },
    {
     "data": {
      "text/plain": [
       "float"
      ]
     },
     "execution_count": 14,
     "metadata": {},
     "output_type": "execute_result"
    }
   ],
   "source": [
    "a = 7.5\n",
    "print(a)\n",
    "type(a)"
   ]
  },
  {
   "cell_type": "code",
   "execution_count": 16,
   "id": "ca58434c",
   "metadata": {},
   "outputs": [],
   "source": [
    "angka_1, angka_2 = 7, 15.2"
   ]
  },
  {
   "cell_type": "code",
   "execution_count": 17,
   "id": "01891931",
   "metadata": {},
   "outputs": [
    {
     "name": "stdout",
     "output_type": "stream",
     "text": [
      "7\n"
     ]
    }
   ],
   "source": [
    "print(angka_1)"
   ]
  },
  {
   "cell_type": "code",
   "execution_count": 18,
   "id": "a42dd8d6",
   "metadata": {},
   "outputs": [
    {
     "name": "stdout",
     "output_type": "stream",
     "text": [
      "15.2\n"
     ]
    }
   ],
   "source": [
    "print(angka_2)"
   ]
  },
  {
   "cell_type": "code",
   "execution_count": 19,
   "id": "1fc2e991",
   "metadata": {},
   "outputs": [
    {
     "name": "stdout",
     "output_type": "stream",
     "text": [
      "Ika Nurfitriani\n"
     ]
    },
    {
     "data": {
      "text/plain": [
       "str"
      ]
     },
     "execution_count": 19,
     "metadata": {},
     "output_type": "execute_result"
    }
   ],
   "source": [
    "nama = \"Ika Nurfitriani\"\n",
    "print(nama)\n",
    "type(nama)"
   ]
  },
  {
   "cell_type": "markdown",
   "id": "da99ad99",
   "metadata": {},
   "source": [
    "## Operasi"
   ]
  },
  {
   "cell_type": "code",
   "execution_count": 20,
   "id": "0c7ce798",
   "metadata": {},
   "outputs": [
    {
     "data": {
      "text/plain": [
       "8"
      ]
     },
     "execution_count": 20,
     "metadata": {},
     "output_type": "execute_result"
    }
   ],
   "source": [
    "5 + 3"
   ]
  },
  {
   "cell_type": "code",
   "execution_count": 21,
   "id": "15f6af3b",
   "metadata": {},
   "outputs": [
    {
     "data": {
      "text/plain": [
       "1"
      ]
     },
     "execution_count": 21,
     "metadata": {},
     "output_type": "execute_result"
    }
   ],
   "source": [
    "a = 5\n",
    "b = 4\n",
    "\n",
    "a // b"
   ]
  },
  {
   "cell_type": "code",
   "execution_count": 22,
   "id": "5149a7b5",
   "metadata": {},
   "outputs": [
    {
     "data": {
      "text/plain": [
       "1"
      ]
     },
     "execution_count": 22,
     "metadata": {},
     "output_type": "execute_result"
    }
   ],
   "source": [
    "a % b"
   ]
  },
  {
   "cell_type": "code",
   "execution_count": 23,
   "id": "86a0dad7",
   "metadata": {},
   "outputs": [
    {
     "name": "stdout",
     "output_type": "stream",
     "text": [
      "9\n",
      "20\n"
     ]
    }
   ],
   "source": [
    "# Aritmatika\n",
    "print(a + b)\n",
    "print(a * b)"
   ]
  },
  {
   "cell_type": "code",
   "execution_count": 24,
   "id": "6b031145",
   "metadata": {},
   "outputs": [
    {
     "name": "stdout",
     "output_type": "stream",
     "text": [
      "IkaNurfitriani\n"
     ]
    }
   ],
   "source": [
    "# String\n",
    "nama_depan = \"Ika\"\n",
    "nama_belakang = \"Nurfitriani\"\n",
    "\n",
    "print(nama_depan + nama_belakang)"
   ]
  },
  {
   "cell_type": "code",
   "execution_count": 25,
   "id": "28c929bf",
   "metadata": {},
   "outputs": [
    {
     "name": "stdout",
     "output_type": "stream",
     "text": [
      "IkaIkaIkaIkaIka\n"
     ]
    }
   ],
   "source": [
    "print(nama_depan * 5)"
   ]
  },
  {
   "cell_type": "code",
   "execution_count": 26,
   "id": "4ed74750",
   "metadata": {},
   "outputs": [
    {
     "name": "stdout",
     "output_type": "stream",
     "text": [
      "True\n"
     ]
    }
   ],
   "source": [
    "# Perbandingan\n",
    "a = 10\n",
    "b = 5\n",
    "\n",
    "print(a > b)"
   ]
  },
  {
   "cell_type": "code",
   "execution_count": 27,
   "id": "012805b3",
   "metadata": {},
   "outputs": [
    {
     "name": "stdout",
     "output_type": "stream",
     "text": [
      "True\n"
     ]
    }
   ],
   "source": [
    "# Logika\n",
    "print(False or True)"
   ]
  },
  {
   "cell_type": "code",
   "execution_count": 30,
   "id": "bd267338",
   "metadata": {},
   "outputs": [
    {
     "name": "stdout",
     "output_type": "stream",
     "text": [
      "Ngodingpython channel\n",
      "NGODINGPYTHON CHANNEL\n",
      "ngodingpython channel\n",
      "Ngodingpython Channel\n"
     ]
    }
   ],
   "source": [
    "nama = \"Ngodingpython channel\"\n",
    "print(nama.capitalize())\n",
    "print(nama.upper())\n",
    "print(nama.lower())\n",
    "print(nama.title())"
   ]
  },
  {
   "cell_type": "markdown",
   "id": "07225ede",
   "metadata": {},
   "source": [
    "## Tipe Data Majemuk"
   ]
  },
  {
   "cell_type": "code",
   "execution_count": 31,
   "id": "eb2454b5",
   "metadata": {},
   "outputs": [
    {
     "name": "stdout",
     "output_type": "stream",
     "text": [
      "(53, 45.2, True, 'Ika', (1, 2, 3))\n"
     ]
    },
    {
     "data": {
      "text/plain": [
       "tuple"
      ]
     },
     "execution_count": 31,
     "metadata": {},
     "output_type": "execute_result"
    }
   ],
   "source": [
    "# Tuple dan List\n",
    "my_tuple = (53, 45.2, True, \"Ika\", (1, 2, 3))\n",
    "print(my_tuple)\n",
    "type(my_tuple)"
   ]
  },
  {
   "cell_type": "code",
   "execution_count": 32,
   "id": "e3f1e2bb",
   "metadata": {},
   "outputs": [
    {
     "name": "stdout",
     "output_type": "stream",
     "text": [
      "[53, 45.2, True, 'Ika', (1, 2, 3)]\n"
     ]
    },
    {
     "data": {
      "text/plain": [
       "list"
      ]
     },
     "execution_count": 32,
     "metadata": {},
     "output_type": "execute_result"
    }
   ],
   "source": [
    "my_list = [53, 45.2, True, \"Ika\", (1, 2, 3)]\n",
    "print(my_list)\n",
    "type(my_list)"
   ]
  },
  {
   "cell_type": "code",
   "execution_count": 33,
   "id": "b27f8261",
   "metadata": {},
   "outputs": [
    {
     "name": "stdout",
     "output_type": "stream",
     "text": [
      "Ika\n"
     ]
    }
   ],
   "source": [
    "print(my_tuple[3])"
   ]
  },
  {
   "cell_type": "code",
   "execution_count": 35,
   "id": "e70b8f6c",
   "metadata": {},
   "outputs": [
    {
     "name": "stdout",
     "output_type": "stream",
     "text": [
      "True\n"
     ]
    }
   ],
   "source": [
    "print(my_list[2])"
   ]
  },
  {
   "cell_type": "code",
   "execution_count": 36,
   "id": "2806bc4c",
   "metadata": {},
   "outputs": [
    {
     "name": "stdout",
     "output_type": "stream",
     "text": [
      "Ika\n"
     ]
    }
   ],
   "source": [
    "print(my_list[-2])"
   ]
  },
  {
   "cell_type": "code",
   "execution_count": 37,
   "id": "935c113a",
   "metadata": {},
   "outputs": [
    {
     "name": "stdout",
     "output_type": "stream",
     "text": [
      "[True, 'Ika']\n"
     ]
    }
   ],
   "source": [
    "print(my_list[2:4])"
   ]
  },
  {
   "cell_type": "code",
   "execution_count": 38,
   "id": "744423ef",
   "metadata": {},
   "outputs": [
    {
     "name": "stdout",
     "output_type": "stream",
     "text": [
      "(True, 'Ika')\n"
     ]
    }
   ],
   "source": [
    "print(my_tuple[2:4])"
   ]
  },
  {
   "cell_type": "code",
   "execution_count": 39,
   "id": "cedee1ee",
   "metadata": {},
   "outputs": [
    {
     "data": {
      "text/plain": [
       "False"
      ]
     },
     "execution_count": 39,
     "metadata": {},
     "output_type": "execute_result"
    }
   ],
   "source": [
    "\"ika\" in my_tuple"
   ]
  },
  {
   "cell_type": "code",
   "execution_count": 40,
   "id": "abdb43b5",
   "metadata": {},
   "outputs": [
    {
     "data": {
      "text/plain": [
       "True"
      ]
     },
     "execution_count": 40,
     "metadata": {},
     "output_type": "execute_result"
    }
   ],
   "source": [
    "\"Ika\" in my_tuple"
   ]
  },
  {
   "cell_type": "code",
   "execution_count": 41,
   "id": "95104f60",
   "metadata": {},
   "outputs": [],
   "source": [
    "# Perbedaan\n",
    "\n",
    "# Pengubahan data\n",
    "my_list[3] = \"NgodingPython\""
   ]
  },
  {
   "cell_type": "code",
   "execution_count": 42,
   "id": "12eb19ce",
   "metadata": {},
   "outputs": [
    {
     "data": {
      "text/plain": [
       "[53, 45.2, True, 'NgodingPython', (1, 2, 3)]"
      ]
     },
     "execution_count": 42,
     "metadata": {},
     "output_type": "execute_result"
    }
   ],
   "source": [
    "my_list"
   ]
  },
  {
   "cell_type": "code",
   "execution_count": 43,
   "id": "08cef9cf",
   "metadata": {},
   "outputs": [
    {
     "ename": "TypeError",
     "evalue": "'tuple' object does not support item assignment",
     "output_type": "error",
     "traceback": [
      "\u001b[1;31m---------------------------------------------------------------------------\u001b[0m",
      "\u001b[1;31mTypeError\u001b[0m                                 Traceback (most recent call last)",
      "Input \u001b[1;32mIn [43]\u001b[0m, in \u001b[0;36m<cell line: 1>\u001b[1;34m()\u001b[0m\n\u001b[1;32m----> 1\u001b[0m my_tuple[\u001b[38;5;241m3\u001b[39m] \u001b[38;5;241m=\u001b[39m \u001b[38;5;124m\"\u001b[39m\u001b[38;5;124mNgodingPython\u001b[39m\u001b[38;5;124m\"\u001b[39m\n",
      "\u001b[1;31mTypeError\u001b[0m: 'tuple' object does not support item assignment"
     ]
    }
   ],
   "source": [
    "my_tuple[3] = \"NgodingPython\""
   ]
  },
  {
   "cell_type": "code",
   "execution_count": 44,
   "id": "ec7ea0ce",
   "metadata": {},
   "outputs": [
    {
     "data": {
      "text/plain": [
       "[53, 45.2, True, 'NgodingPython', (1, 2, 3)]"
      ]
     },
     "execution_count": 44,
     "metadata": {},
     "output_type": "execute_result"
    }
   ],
   "source": [
    "# Menambah data\n",
    "my_list"
   ]
  },
  {
   "cell_type": "code",
   "execution_count": 45,
   "id": "0278ef52",
   "metadata": {},
   "outputs": [],
   "source": [
    "# Append\n",
    "my_list.append(\"Hacktiv8\")"
   ]
  },
  {
   "cell_type": "code",
   "execution_count": 46,
   "id": "42e91630",
   "metadata": {},
   "outputs": [
    {
     "data": {
      "text/plain": [
       "[53, 45.2, True, 'NgodingPython', (1, 2, 3), 'Hacktiv8']"
      ]
     },
     "execution_count": 46,
     "metadata": {},
     "output_type": "execute_result"
    }
   ],
   "source": [
    "my_list"
   ]
  },
  {
   "cell_type": "code",
   "execution_count": 47,
   "id": "675ea5c7",
   "metadata": {},
   "outputs": [],
   "source": [
    "my_list.insert(0, \"Kampus Merdeka\")"
   ]
  },
  {
   "cell_type": "code",
   "execution_count": 48,
   "id": "db0174b0",
   "metadata": {},
   "outputs": [
    {
     "data": {
      "text/plain": [
       "['Kampus Merdeka', 53, 45.2, True, 'NgodingPython', (1, 2, 3), 'Hacktiv8']"
      ]
     },
     "execution_count": 48,
     "metadata": {},
     "output_type": "execute_result"
    }
   ],
   "source": [
    "my_list"
   ]
  },
  {
   "cell_type": "code",
   "execution_count": 49,
   "id": "24d96c92",
   "metadata": {},
   "outputs": [],
   "source": [
    "# Menghapus data\n",
    "my_list.remove('NgodingPython')"
   ]
  },
  {
   "cell_type": "code",
   "execution_count": 50,
   "id": "5b6918d3",
   "metadata": {},
   "outputs": [
    {
     "data": {
      "text/plain": [
       "['Kampus Merdeka', 53, 45.2, True, (1, 2, 3), 'Hacktiv8']"
      ]
     },
     "execution_count": 50,
     "metadata": {},
     "output_type": "execute_result"
    }
   ],
   "source": [
    "my_list"
   ]
  },
  {
   "cell_type": "code",
   "execution_count": 51,
   "id": "8ca1ca11",
   "metadata": {},
   "outputs": [],
   "source": [
    "del my_list[2]"
   ]
  },
  {
   "cell_type": "code",
   "execution_count": 52,
   "id": "826c3623",
   "metadata": {},
   "outputs": [
    {
     "data": {
      "text/plain": [
       "['Kampus Merdeka', 53, True, (1, 2, 3), 'Hacktiv8']"
      ]
     },
     "execution_count": 52,
     "metadata": {},
     "output_type": "execute_result"
    }
   ],
   "source": [
    "my_list"
   ]
  },
  {
   "cell_type": "code",
   "execution_count": 54,
   "id": "b48a58cf",
   "metadata": {},
   "outputs": [],
   "source": [
    "# Dictionary\n",
    "my_dict = {'Nama':'Ika Nurfitriani', 'Pekerjaan':'Mahasiswa'}"
   ]
  },
  {
   "cell_type": "code",
   "execution_count": 55,
   "id": "94a88e30",
   "metadata": {},
   "outputs": [
    {
     "data": {
      "text/plain": [
       "'Ika Nurfitriani'"
      ]
     },
     "execution_count": 55,
     "metadata": {},
     "output_type": "execute_result"
    }
   ],
   "source": [
    "my_dict['Nama']"
   ]
  },
  {
   "cell_type": "code",
   "execution_count": 56,
   "id": "4671d389",
   "metadata": {},
   "outputs": [],
   "source": [
    "my_dict['Nama'] = \"Park Chanyeol\""
   ]
  },
  {
   "cell_type": "code",
   "execution_count": 57,
   "id": "889286c1",
   "metadata": {},
   "outputs": [
    {
     "data": {
      "text/plain": [
       "{'Nama': 'Park Chanyeol', 'Pekerjaan': 'Mahasiswa'}"
      ]
     },
     "execution_count": 57,
     "metadata": {},
     "output_type": "execute_result"
    }
   ],
   "source": [
    "my_dict"
   ]
  },
  {
   "cell_type": "code",
   "execution_count": 58,
   "id": "5e31447f",
   "metadata": {},
   "outputs": [],
   "source": [
    "my_dict['Domisili'] = 'Bandung'"
   ]
  },
  {
   "cell_type": "code",
   "execution_count": 59,
   "id": "37c514b8",
   "metadata": {},
   "outputs": [
    {
     "data": {
      "text/plain": [
       "{'Nama': 'Park Chanyeol', 'Pekerjaan': 'Mahasiswa', 'Domisili': 'Bandung'}"
      ]
     },
     "execution_count": 59,
     "metadata": {},
     "output_type": "execute_result"
    }
   ],
   "source": [
    "my_dict"
   ]
  },
  {
   "cell_type": "code",
   "execution_count": 60,
   "id": "3d63177b",
   "metadata": {},
   "outputs": [],
   "source": [
    "del my_dict['Pekerjaan']"
   ]
  },
  {
   "cell_type": "code",
   "execution_count": 61,
   "id": "68b61ee0",
   "metadata": {},
   "outputs": [
    {
     "data": {
      "text/plain": [
       "{'Nama': 'Park Chanyeol', 'Domisili': 'Bandung'}"
      ]
     },
     "execution_count": 61,
     "metadata": {},
     "output_type": "execute_result"
    }
   ],
   "source": [
    "my_dict"
   ]
  },
  {
   "cell_type": "code",
   "execution_count": 62,
   "id": "3ee8bcf7",
   "metadata": {},
   "outputs": [],
   "source": [
    "# Set\n",
    "\n",
    "my_set1 = {1,1,1,1,1,2,2,3,3,3,3,3,4,4,4,4,5,5,5,5}\n",
    "my_set2 = {3,6,9,12}"
   ]
  },
  {
   "cell_type": "code",
   "execution_count": 63,
   "id": "a9b869f0",
   "metadata": {},
   "outputs": [
    {
     "data": {
      "text/plain": [
       "{1, 2, 3, 4, 5, 6, 9, 12}"
      ]
     },
     "execution_count": 63,
     "metadata": {},
     "output_type": "execute_result"
    }
   ],
   "source": [
    "my_set1.union(my_set2)"
   ]
  },
  {
   "cell_type": "code",
   "execution_count": 64,
   "id": "0b87b664",
   "metadata": {},
   "outputs": [
    {
     "data": {
      "text/plain": [
       "{3}"
      ]
     },
     "execution_count": 64,
     "metadata": {},
     "output_type": "execute_result"
    }
   ],
   "source": [
    "my_set1.intersection(my_set2)"
   ]
  },
  {
   "cell_type": "markdown",
   "id": "a1581ac0",
   "metadata": {},
   "source": [
    "## String Formatting"
   ]
  },
  {
   "cell_type": "code",
   "execution_count": 65,
   "id": "6dd1e6d9",
   "metadata": {},
   "outputs": [],
   "source": [
    "nama = 'NgodingPython'"
   ]
  },
  {
   "cell_type": "code",
   "execution_count": 66,
   "id": "8c8bc559",
   "metadata": {},
   "outputs": [
    {
     "data": {
      "text/plain": [
       "'d'"
      ]
     },
     "execution_count": 66,
     "metadata": {},
     "output_type": "execute_result"
    }
   ],
   "source": [
    "nama[3]"
   ]
  },
  {
   "cell_type": "code",
   "execution_count": 67,
   "id": "0c0256cb",
   "metadata": {},
   "outputs": [
    {
     "data": {
      "text/plain": [
       "'ingPy'"
      ]
     },
     "execution_count": 67,
     "metadata": {},
     "output_type": "execute_result"
    }
   ],
   "source": [
    "nama[4:9]"
   ]
  },
  {
   "cell_type": "code",
   "execution_count": 68,
   "id": "49dcf03a",
   "metadata": {},
   "outputs": [
    {
     "data": {
      "text/plain": [
       "True"
      ]
     },
     "execution_count": 68,
     "metadata": {},
     "output_type": "execute_result"
    }
   ],
   "source": [
    "'y' in nama"
   ]
  },
  {
   "cell_type": "code",
   "execution_count": 69,
   "id": "f9283f4a",
   "metadata": {},
   "outputs": [
    {
     "data": {
      "text/plain": [
       "False"
      ]
     },
     "execution_count": 69,
     "metadata": {},
     "output_type": "execute_result"
    }
   ],
   "source": [
    "'p' in nama"
   ]
  },
  {
   "cell_type": "code",
   "execution_count": 71,
   "id": "fcac106f",
   "metadata": {},
   "outputs": [
    {
     "name": "stdout",
     "output_type": "stream",
     "text": [
      "Nama saya Ika\n"
     ]
    }
   ],
   "source": [
    "# F String\n",
    "\n",
    "nama = \"Ika\"\n",
    "print(f\"Nama saya {nama}\")"
   ]
  },
  {
   "cell_type": "code",
   "execution_count": 72,
   "id": "3cc3346d",
   "metadata": {},
   "outputs": [
    {
     "name": "stdout",
     "output_type": "stream",
     "text": [
      "Siswa bernama Budi berada di kelas V B\n"
     ]
    }
   ],
   "source": [
    "nama = \"Budi\"\n",
    "kelas = \"V B\"\n",
    "print(f\"Siswa bernama {nama} berada di kelas {kelas}\")"
   ]
  }
 ],
 "metadata": {
  "kernelspec": {
   "display_name": "Python 3 (ipykernel)",
   "language": "python",
   "name": "python3"
  },
  "language_info": {
   "codemirror_mode": {
    "name": "ipython",
    "version": 3
   },
   "file_extension": ".py",
   "mimetype": "text/x-python",
   "name": "python",
   "nbconvert_exporter": "python",
   "pygments_lexer": "ipython3",
   "version": "3.9.12"
  }
 },
 "nbformat": 4,
 "nbformat_minor": 5
}
