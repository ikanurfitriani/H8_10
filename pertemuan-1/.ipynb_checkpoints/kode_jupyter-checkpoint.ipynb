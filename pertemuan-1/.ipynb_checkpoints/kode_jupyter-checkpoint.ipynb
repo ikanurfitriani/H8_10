{
 "cells": [
  {
   "cell_type": "markdown",
   "id": "ce42d314",
   "metadata": {},
   "source": [
    "# Kode Jupyter"
   ]
  },
  {
   "cell_type": "markdown",
   "id": "332c3800",
   "metadata": {},
   "source": [
    "## Simple Syntax"
   ]
  },
  {
   "cell_type": "code",
   "execution_count": 1,
   "id": "83969524",
   "metadata": {},
   "outputs": [
    {
     "name": "stdout",
     "output_type": "stream",
     "text": [
      "Hallo Kode!\n"
     ]
    }
   ],
   "source": [
    "print(\"Hallo Kode!\")"
   ]
  },
  {
   "cell_type": "code",
   "execution_count": 2,
   "id": "5017881c",
   "metadata": {},
   "outputs": [
    {
     "name": "stdout",
     "output_type": "stream",
     "text": [
      "1\n",
      "2\n",
      "3\n",
      "4\n",
      "5\n",
      "6\n",
      "7\n",
      "8\n",
      "9\n",
      "10\n"
     ]
    }
   ],
   "source": [
    "i = 1\n",
    "while(i <= 10):\n",
    "    print(i)\n",
    "    i = i + 1"
   ]
  },
  {
   "cell_type": "markdown",
   "id": "efb67e36",
   "metadata": {},
   "source": [
    "## Using Library"
   ]
  },
  {
   "cell_type": "code",
   "execution_count": 17,
   "id": "f342c58e",
   "metadata": {},
   "outputs": [],
   "source": [
    "import pandas as pd\n",
    "import numpy as np"
   ]
  },
  {
   "cell_type": "code",
   "execution_count": 4,
   "id": "145906e7",
   "metadata": {},
   "outputs": [
    {
     "data": {
      "text/html": [
       "<div>\n",
       "<style scoped>\n",
       "    .dataframe tbody tr th:only-of-type {\n",
       "        vertical-align: middle;\n",
       "    }\n",
       "\n",
       "    .dataframe tbody tr th {\n",
       "        vertical-align: top;\n",
       "    }\n",
       "\n",
       "    .dataframe thead th {\n",
       "        text-align: right;\n",
       "    }\n",
       "</style>\n",
       "<table border=\"1\" class=\"dataframe\">\n",
       "  <thead>\n",
       "    <tr style=\"text-align: right;\">\n",
       "      <th></th>\n",
       "      <th>A</th>\n",
       "      <th>B</th>\n",
       "      <th>C</th>\n",
       "    </tr>\n",
       "  </thead>\n",
       "  <tbody>\n",
       "    <tr>\n",
       "      <th>0</th>\n",
       "      <td>1</td>\n",
       "      <td>2</td>\n",
       "      <td>3</td>\n",
       "    </tr>\n",
       "    <tr>\n",
       "      <th>1</th>\n",
       "      <td>4</td>\n",
       "      <td>5</td>\n",
       "      <td>6</td>\n",
       "    </tr>\n",
       "  </tbody>\n",
       "</table>\n",
       "</div>"
      ],
      "text/plain": [
       "   A  B  C\n",
       "0  1  2  3\n",
       "1  4  5  6"
      ]
     },
     "execution_count": 4,
     "metadata": {},
     "output_type": "execute_result"
    }
   ],
   "source": [
    "data = pd.DataFrame(data=np.array(\n",
    "    [[1, 2, 3], [4, 5, 6]], dtype=int), columns=['A', 'B', 'C'])\n",
    "data"
   ]
  },
  {
   "cell_type": "markdown",
   "id": "866dcead",
   "metadata": {},
   "source": [
    "## Using Latex"
   ]
  },
  {
   "cell_type": "markdown",
   "id": "d32e848c",
   "metadata": {},
   "source": [
    "$$c = \\sqrt(a^2 + b^2)$$"
   ]
  },
  {
   "cell_type": "code",
   "execution_count": 6,
   "id": "a651cdb8",
   "metadata": {},
   "outputs": [
    {
     "data": {
      "text/latex": [
       "$\\displaystyle \\sqrt(a^2 + b^2)$"
      ],
      "text/plain": [
       "<IPython.core.display.Math object>"
      ]
     },
     "metadata": {},
     "output_type": "display_data"
    }
   ],
   "source": [
    "from IPython.display import display, Math, Latex\n",
    "display(Math(r'\\sqrt(a^2 + b^2)'))"
   ]
  },
  {
   "cell_type": "markdown",
   "id": "b2478e51",
   "metadata": {},
   "source": [
    "## Executing Shell Commands"
   ]
  },
  {
   "cell_type": "code",
   "execution_count": 15,
   "id": "7faa1e5f",
   "metadata": {},
   "outputs": [
    {
     "name": "stdout",
     "output_type": "stream",
     "text": [
      "Kode Jupyter.ipynb\n",
      "Pertemuan 1\n",
      "Pertemuan 2\n",
      "/c/Users/Ika N/Documents/PYKS10_008\n",
      "'Halo Ika'\n"
     ]
    }
   ],
   "source": [
    "!ls\n",
    "!pwd\n",
    "!echo 'Halo Ika'"
   ]
  },
  {
   "cell_type": "markdown",
   "id": "a7e38fa6",
   "metadata": {},
   "source": [
    "### Pass Value to and from shell"
   ]
  },
  {
   "cell_type": "code",
   "execution_count": 16,
   "id": "fa541099",
   "metadata": {},
   "outputs": [
    {
     "name": "stdout",
     "output_type": "stream",
     "text": [
      "['Kode Jupyter.ipynb', 'Pertemuan 1', 'Pertemuan 2']\n"
     ]
    }
   ],
   "source": [
    "files = !ls\n",
    "print(files)"
   ]
  },
  {
   "cell_type": "code",
   "execution_count": 1,
   "id": "9c7f02a0",
   "metadata": {},
   "outputs": [],
   "source": [
    "from __future__ import print_function, division\n",
    "import numpy as np\n",
    "import matplotlib as mpl\n",
    "import matplotlib.pyplot as plt\n",
    "%matplotlib inline"
   ]
  },
  {
   "cell_type": "code",
   "execution_count": 2,
   "id": "4feb5f3a",
   "metadata": {},
   "outputs": [
    {
     "data": {
      "text/plain": [
       "array([[0, 1],\n",
       "       [2, 3],\n",
       "       [4, 5]])"
      ]
     },
     "execution_count": 2,
     "metadata": {},
     "output_type": "execute_result"
    }
   ],
   "source": [
    "np.arange(6).reshape((3, 2))"
   ]
  },
  {
   "cell_type": "markdown",
   "id": "ab89b313",
   "metadata": {},
   "source": [
    "## Widgets"
   ]
  },
  {
   "cell_type": "code",
   "execution_count": 3,
   "id": "398cbd74",
   "metadata": {},
   "outputs": [],
   "source": [
    "from ipywidgets import interact\n",
    "import ipywidgets as widgets"
   ]
  },
  {
   "cell_type": "markdown",
   "id": "aa39ad2f",
   "metadata": {},
   "source": [
    "### Basic Slider"
   ]
  },
  {
   "cell_type": "code",
   "execution_count": 4,
   "id": "20cda202",
   "metadata": {},
   "outputs": [
    {
     "data": {
      "application/vnd.jupyter.widget-view+json": {
       "model_id": "cad23519d3644f88b86bccee329ad14e",
       "version_major": 2,
       "version_minor": 0
      },
      "text/plain": [
       "interactive(children=(IntSlider(value=10, description='x', max=30, min=-10), Output()), _dom_classes=('widget-…"
      ]
     },
     "metadata": {},
     "output_type": "display_data"
    },
    {
     "data": {
      "text/plain": [
       "<function __main__.f(x)>"
      ]
     },
     "execution_count": 4,
     "metadata": {},
     "output_type": "execute_result"
    }
   ],
   "source": [
    "def f(x):\n",
    "    return x\n",
    "\n",
    "interact(f, x=10,)"
   ]
  },
  {
   "cell_type": "markdown",
   "id": "d766888d",
   "metadata": {},
   "source": [
    "### Checkbox"
   ]
  },
  {
   "cell_type": "code",
   "execution_count": 5,
   "id": "285a863c",
   "metadata": {},
   "outputs": [
    {
     "data": {
      "application/vnd.jupyter.widget-view+json": {
       "model_id": "d4e0391616e343589594369d7cdf3107",
       "version_major": 2,
       "version_minor": 0
      },
      "text/plain": [
       "interactive(children=(Checkbox(value=True, description='x'), Output()), _dom_classes=('widget-interact',))"
      ]
     },
     "metadata": {},
     "output_type": "display_data"
    },
    {
     "data": {
      "text/plain": [
       "<function __main__.f(x)>"
      ]
     },
     "execution_count": 5,
     "metadata": {},
     "output_type": "execute_result"
    }
   ],
   "source": [
    "interact(f, x=True)"
   ]
  },
  {
   "cell_type": "markdown",
   "id": "9cee669b",
   "metadata": {},
   "source": [
    "### Textbox"
   ]
  },
  {
   "cell_type": "code",
   "execution_count": 7,
   "id": "3d323527",
   "metadata": {},
   "outputs": [
    {
     "data": {
      "application/vnd.jupyter.widget-view+json": {
       "model_id": "ad6ddba4350341439b72f085499ee858",
       "version_major": 2,
       "version_minor": 0
      },
      "text/plain": [
       "interactive(children=(Text(value='Hi Kode!', description='x'), Output()), _dom_classes=('widget-interact',))"
      ]
     },
     "metadata": {},
     "output_type": "display_data"
    },
    {
     "data": {
      "text/plain": [
       "<function __main__.f(x)>"
      ]
     },
     "execution_count": 7,
     "metadata": {},
     "output_type": "execute_result"
    }
   ],
   "source": [
    "interact(f, x='Hi Kode!')"
   ]
  },
  {
   "cell_type": "markdown",
   "id": "74d7cd1f",
   "metadata": {},
   "source": [
    "### Play Button"
   ]
  },
  {
   "cell_type": "code",
   "execution_count": 8,
   "id": "31fefcf0",
   "metadata": {},
   "outputs": [
    {
     "data": {
      "application/vnd.jupyter.widget-view+json": {
       "model_id": "4b6f801c216e401ebaf8699cc9d0a198",
       "version_major": 2,
       "version_minor": 0
      },
      "text/plain": [
       "HBox(children=(Play(value=13, description='Tekan Play'), IntSlider(value=0)))"
      ]
     },
     "metadata": {},
     "output_type": "display_data"
    }
   ],
   "source": [
    "play = widgets.Play(\n",
    "value=13,\n",
    "min=0,\n",
    "max=100,\n",
    "step=1,\n",
    "description=\"Tekan Play\",\n",
    "disabled=False)\n",
    "slider = widgets.IntSlider()\n",
    "widgets.jslink((play, 'value'), (slider, 'value'))\n",
    "widgets.HBox([play, slider])"
   ]
  },
  {
   "cell_type": "markdown",
   "id": "24a5510a",
   "metadata": {},
   "source": [
    "### Date Picker"
   ]
  },
  {
   "cell_type": "code",
   "execution_count": 9,
   "id": "91fb2ca4",
   "metadata": {},
   "outputs": [
    {
     "data": {
      "application/vnd.jupyter.widget-view+json": {
       "model_id": "1e87d2984f444fc984ca210bda5e2363",
       "version_major": 2,
       "version_minor": 0
      },
      "text/plain": [
       "DatePicker(value=None, description='Pilih Tanggal')"
      ]
     },
     "metadata": {},
     "output_type": "display_data"
    }
   ],
   "source": [
    "widgets.DatePicker(\n",
    "    description='Pilih Tanggal',\n",
    "    disabled=False\n",
    ")"
   ]
  },
  {
   "cell_type": "markdown",
   "id": "28625126",
   "metadata": {},
   "source": [
    "### Tab"
   ]
  },
  {
   "cell_type": "code",
   "execution_count": 11,
   "id": "b3b56da0",
   "metadata": {},
   "outputs": [
    {
     "data": {
      "application/vnd.jupyter.widget-view+json": {
       "model_id": "614465b007f5439d9daf4aa719de35af",
       "version_major": 2,
       "version_minor": 0
      },
      "text/plain": [
       "Tab(children=(Text(value='', description='K0'), Text(value='', description='K1'), Text(value='', description='…"
      ]
     },
     "metadata": {},
     "output_type": "display_data"
    }
   ],
   "source": [
    "tab_contents = ['K0', 'K1', 'K2', 'K3', 'K4']\n",
    "children = [widgets.Text(description=name) for name in tab_contents]\n",
    "tab = widgets.Tab()\n",
    "tab.children = children\n",
    "for i in range(len(children)):\n",
    "    tab.set_title(i, str(i))\n",
    "tab"
   ]
  }
 ],
 "metadata": {
  "kernelspec": {
   "display_name": "Python 3 (ipykernel)",
   "language": "python",
   "name": "python3"
  },
  "language_info": {
   "codemirror_mode": {
    "name": "ipython",
    "version": 3
   },
   "file_extension": ".py",
   "mimetype": "text/x-python",
   "name": "python",
   "nbconvert_exporter": "python",
   "pygments_lexer": "ipython3",
   "version": "3.9.12"
  },
  "toc": {
   "base_numbering": 1,
   "nav_menu": {},
   "number_sections": true,
   "sideBar": true,
   "skip_h1_title": false,
   "title_cell": "Table of Contents",
   "title_sidebar": "Contents",
   "toc_cell": false,
   "toc_position": {},
   "toc_section_display": true,
   "toc_window_display": true
  }
 },
 "nbformat": 4,
 "nbformat_minor": 5
}
