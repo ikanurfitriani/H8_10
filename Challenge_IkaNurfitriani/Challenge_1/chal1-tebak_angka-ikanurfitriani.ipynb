{
 "cells": [
  {
   "cell_type": "markdown",
   "id": "62f53d08",
   "metadata": {},
   "source": [
    "# Challenge 1 - Game sederhana dengan Python\n",
    "### Nama: Ika Nurfitriani\n",
    "### Kode Peserta: PYTN-KS10-008"
   ]
  },
  {
   "cell_type": "markdown",
   "id": "0dfd7470",
   "metadata": {},
   "source": [
    "#### Berikut script yang saya buat untuk menyelesaikan challenge 1 ini"
   ]
  },
  {
   "cell_type": "code",
   "execution_count": 5,
   "id": "c9fb8370",
   "metadata": {},
   "outputs": [
    {
     "name": "stdout",
     "output_type": "stream",
     "text": [
      "================================================\n",
      "\t\tGAME TEBAK ANGKA\n",
      "================================================\n",
      "\n",
      "Komputer telah memilih sebuah angka dari 0 - 9\n",
      "Tebaklah angka yang komputer pilih\n",
      "Input HARUS berupa ANGKA!!!\n",
      "Score Anda saat ini adalah 100\n",
      "\n",
      "Masukkan tebakkan angka: as\n",
      "[WARNING!] Tebakkan harus berupa ANGKA\n",
      "Penalty!, Score Anda dikurangi 20\n",
      "Score Anda saat ini adalah 80\n",
      "\n",
      "Masukkan tebakkan angka: 2\n",
      "Tebakkan Anda terlalu kecil, score dikurangi 10\n",
      "Score Anda saat ini adalah 70\n",
      "\n",
      "\n",
      "Masukkan tebakkan angka: tr\n",
      "[WARNING!] Tebakkan harus berupa ANGKA\n",
      "Penalty!, Score Anda dikurangi 20\n",
      "Score Anda saat ini adalah 50\n",
      "\n",
      "=== GAME OVER ===\n",
      "Score Anda adalah 50\n",
      "\n"
     ]
    }
   ],
   "source": [
    "import random\n",
    "print('='*48)\n",
    "print(\"\\t\\tGAME TEBAK ANGKA\")\n",
    "print('='*48)\n",
    "print()\n",
    "\n",
    "angka = random.randint(0,9)\n",
    "kesempatan = 3\n",
    "percobaan = 0\n",
    "skor = 100\n",
    "\n",
    "print(\"Komputer telah memilih sebuah angka dari 0 - 9\")\n",
    "print(\"Tebaklah angka yang komputer pilih\")\n",
    "print(\"Input HARUS berupa ANGKA!!!\")\n",
    "print(\"Score Anda saat ini adalah 100\")\n",
    "print()\n",
    "\n",
    "while percobaan < kesempatan:\n",
    "    jawab = input(\"Masukkan tebakkan angka: \")\n",
    "    if jawab.isnumeric():\n",
    "        jawab = eval(jawab)\n",
    "        if jawab > angka:\n",
    "            skor -= 10\n",
    "            print(\"Tebakkan Anda terlalu besar, score dikurangi 10\")\n",
    "            print(f'Score Anda saat ini adalah {skor}')\n",
    "        elif jawab < angka:\n",
    "            skor -= 10\n",
    "            print(\"Tebakkan Anda terlalu kecil, score dikurangi 10\")\n",
    "            print(f'Score Anda saat ini adalah {skor}')\n",
    "        else:\n",
    "            print(\"ANDA MENANG\")\n",
    "            print(f'Jumlah percobaan menebak {percobaan+1}x!')\n",
    "            print(f'Score Anda adalah {skor}')\n",
    "            break\n",
    "        print()\n",
    "    else:\n",
    "        skor -= 20\n",
    "        print(\"[WARNING!] Tebakkan harus berupa ANGKA\")\n",
    "        print(\"Penalty!, Score Anda dikurangi 20\")\n",
    "        print(f'Score Anda saat ini adalah {skor}')\n",
    "    print()\n",
    "    \n",
    "    if percobaan == 2:\n",
    "        print(\"=== GAME OVER ===\")\n",
    "        print(f'Score Anda adalah {skor}')\n",
    "        print()\n",
    "        break\n",
    "\n",
    "    percobaan += 1"
   ]
  }
 ],
 "metadata": {
  "kernelspec": {
   "display_name": "Python 3 (ipykernel)",
   "language": "python",
   "name": "python3"
  },
  "language_info": {
   "codemirror_mode": {
    "name": "ipython",
    "version": 3
   },
   "file_extension": ".py",
   "mimetype": "text/x-python",
   "name": "python",
   "nbconvert_exporter": "python",
   "pygments_lexer": "ipython3",
   "version": "3.9.12"
  }
 },
 "nbformat": 4,
 "nbformat_minor": 5
}
