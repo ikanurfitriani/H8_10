{
 "cells": [
  {
   "cell_type": "markdown",
   "metadata": {},
   "source": [
    "# Live Session 12\n",
    "## Classification 1\n",
    "#### By Ika Nurfitriani (PYTN-KS10-008)\n",
    "\n",
    "Di pertemuan ini akan membahas classification bagian 1. Terdapat beberapa hal yang akan dipelajari yaitu konsep classification, logistic regression & implementasinya, serta KNN & implementasinya."
   ]
  },
  {
   "cell_type": "markdown",
   "metadata": {},
   "source": [
    "# Classification\n",
    "***\n",
    "Classification adalah area yang sangat penting dalam supervised machine learning karena sejumlah besar masalah supervised machine learning yang penting termasuk dalam area ini. Classification atau Klasifikasi adalah area supervised machine learning yang mencoba memprediksi kelas atau kategori mana dari suatu entitas, berdasarkan fitur-fiturnya.\n",
    "\n",
    "Sifat dependent variables membedakan masalah regression dan classification. Masalah regression memiliki keluaran yang berkelanjutan dan biasanya tidak terbatas. Contohnya saat kita memperkirakan gaji sebagai fungsi dari pengalaman dan tingkat pendidikan. Di sisi lain, masalah classification memiliki keluaran diskrit dan terbatas yang disebut kelas atau kategori. Misalnya memprediksi apakah seorang karyawan akan dipromosikan atau tidak (benar atau salah). \n",
    "\n",
    "Ada 2 jenis masalah klasifikasi:\n",
    "- Binary or Binomial Classification: 2 kelas untuk dipilih (biasanya 0 dan 1, True dan False, atau Positive dan Negative)\n",
    "- Multiclass or Multinomial Classification: Tiga atau lebih kelas untuk dipilih. \n",
    "\n",
    "### Kapan kita membutuhkan Klasifikasi?\n",
    "Kita dapat menerapkan klasifikasi di banyak bidang sains dan teknologi. Misalnya, *text classification algorithms* digunakan untuk memisahkan email yang bukan spam dan spam serta komentar positif dan negatif. Atau contoh lain yaitu *Image recognition* misal apakah suatu gambar menggambarkan wajah manusia atau bukan. Contoh lainnya yaitu aplikasi medis, klasifikasi biologis, penilaian kredit dan banyak lagi."
   ]
  },
  {
   "cell_type": "markdown",
   "metadata": {},
   "source": [
    "## Logistic Regression Overview\n",
    "Linear Regression sangat berguna saat kita mencoba memprediksi nilai keluaran continuous dari linear relationship. Tetapi nilai keluaran Logistic Regression berada diantara 0 dan 1, karena itu output continuous value yang tidak berada dalam kisaran antara 0 dan 1 tidak berfungsi dengan Logistic Regression.\n",
    "\n",
    "Linear regression menggunakan pengukuran statistik seperti **R2** dan **p-value** untuk memahami kinerja model dan variable yang melatih model.\n",
    "- R2 digunakan untuk menunjukkan apakah ada korelasi antara var dependen dan var independen tertentu.\n",
    "- P-value digunakan untuk menentukan apakah R2 signifikan secara statistik.\n",
    "- Fungsi biaya dari regresi linear adalah Mean Squared Error\n",
    "\n",
    "Cara kerja Logistic Regression ialah memprediksi probabilitas sampel kita termasuk dalam satu klasifikasi versus klasifikasi lainnya. Nilai keluaran dalam logistic regression adalah klasifikasi bernomor, tetapi sebelum klasifikasi diberikan, keluaran yang AKTUAL adalah probabilitas numerik dalam rentang 0 sampai 1. Lalu diberikan klasifikasi 1 atau 0, kemudian algoritma akan membulatkan nilai untuk memberikan klasifikasi 0 adalah kelas negatif dan 1 adalah kelas positif.\n",
    "\n",
    "\n",
    "## Types of Logistic Regression\n",
    "1. Binary Logistic Regression: Variabel dependen hanya memiliki dua kemungkinan hasil / kelas. Contoh: Male or Female\n",
    "2. Multinomial Logistic Regression: Variabel dependen hanya memiliki 2 kemungkinan hasil / kelas 3 atau lebih tanpa urutan. Contoh: Predicting food quality (Good, Great, and Bad).\n",
    "3. Ordinal Logistic Regression: Variabel dependen hanya memiliki 2 atau 3 atau lebih kemungkinan hasil / kelas dengan pengurutan. Contoh: Star rating from 1 to 5\n",
    "\n",
    "## Math Prerequisites\n",
    "Sigmoid Function adalah fungsi matematika yang memliki karakteristik kurva berbentuk \"S\" dan memiliki nilai yang sangat dekat dengan 0 atau 1 di sebagian besar domainnya sehingga cocok untuk aplikasi dalam metode classification. Kita akan sering menemukan natural logarithm yang dilambangkan dgn **ln** bukan **log**. Dalam python *math.log(x)* dan *numpy.log(x)* mewakil natural logarithm dari x.\n",
    "\n",
    "## Methodology\n",
    "Logistic regression adalah linear classifier, jadi akan menggunakan fungsi linear *f(x) = b0 + b1x1 + ... + brxr*, juga disebut **logit**. Variabel b0, b1, ..., br adalah **estimators** dari regression coefficients yang disebut juga **predicted weights** atau **coefficients**.\n",
    "\n",
    "Logistic regression menentukan bobot prediksi terbaik *b0, b1, ..., br* sedemikian rupa sehingga fungsi p(x) sedekat mungkin dengan actual responses *yi, i=1, ..., n* dimana n adalah jumlah observasi. Proses perhitungan bobot terbaik menggunakan observasi yang tersedia disebut **model training** atau **fitting**.\n",
    "\n",
    "Untuk mendapatkan bobot terbaik, biasanya kita memaksimalkan **Log-Likelihood Function (LLF)** untuk semua observasi *i = 1, ..., n*. Metode ini disebut **maximum likelihood estimation**.\n",
    "\n",
    "## Classification Performance\n",
    "Binary classification memiliki 4 kemungkinan jenis hasil:\n",
    "1. True Negatives: correctly predicted negatives (zeros)\n",
    "2. True Positives: correctly predicted positives (ones)\n",
    "3. False Negatives: incorrectly predicted negatives (zeros)\n",
    "4. False Positives: incorrectly predicted positives (ones)\n",
    "\n",
    "Indikator **classification accuracy** paling jelas adalah rasio jumlah prediksi yang benar dengan jumlah total prediksi (atau observasi). Berikut adalah indikator lain dari binary classifiers:\n",
    "- **The positive predictive value**: The ratio of the number of true positives to the sum of the numbers of true and false positives.\n",
    "- **The negative predictive value**: The ratio of the number of true negatives to the sum of the numbers of true and false negatives.\n",
    "- **The sensitivity** (recall or true positive rate): The ratio of the number of true positives to the number of actual positives.\n",
    "- **The specificity** (or true negative rate): The ratio of the number of true negatives to the number of actual negatives."
   ]
  },
  {
   "cell_type": "markdown",
   "metadata": {},
   "source": [
    "## Single-Variate Logistic Regression\n",
    "**Single-Variate Logistic Regression** adalah kasus logistic regression yang paling jelas dimana hanya ada satu variabel independen (atau fitur), yaitu x = x.\n",
    "\n",
    "## Multi-Variate Logistic Regression\n",
    "Multi-Variate Logistic Regression memiliki lebih dari satu variabel masukan."
   ]
  },
  {
   "cell_type": "markdown",
   "metadata": {},
   "source": [
    "### 5 langkah implementasi Machine Learning\n",
    "- Import library yang dibutuhkan\n",
    "- Siapkan datanya (70% - 80%) effort\n",
    "  - Data Cleansing\n",
    "  - EDA\n",
    "  - Feature Engineering / Extraction\n",
    "- Siapkan algoritma machine learning\n",
    "- Training machine learning\n",
    "- Gunakan algoritma machine learning\n",
    "  - Evaluasi\n",
    "  - Prediksi"
   ]
  },
  {
   "cell_type": "code",
   "execution_count": 1,
   "metadata": {},
   "outputs": [],
   "source": [
    "# Step 1: Import library\n",
    "from sklearn.datasets import load_iris\n",
    "from sklearn.neighbors import KNeighborsClassifier\n",
    "from sklearn.model_selection import train_test_split\n",
    "from sklearn.metrics import accuracy_score"
   ]
  },
  {
   "cell_type": "code",
   "execution_count": 2,
   "metadata": {},
   "outputs": [
    {
     "name": "stdout",
     "output_type": "stream",
     "text": [
      "Ukuran matriks x : (150, 4)\n",
      "Ukuran label x : (150,)\n"
     ]
    }
   ],
   "source": [
    "# Step 2: Siapkan dataset -> menjadikan data sebagai matriks\n",
    "iris = load_iris()\n",
    "X = iris.data\n",
    "y = iris.target\n",
    "\n",
    "print(f\"Ukuran matriks x : {X.shape}\")\n",
    "print(f\"Ukuran label x : {y.shape}\")"
   ]
  },
  {
   "cell_type": "code",
   "execution_count": 3,
   "metadata": {},
   "outputs": [
    {
     "data": {
      "text/plain": [
       "array([[5.1, 3.5, 1.4, 0.2],\n",
       "       [4.9, 3. , 1.4, 0.2],\n",
       "       [4.7, 3.2, 1.3, 0.2],\n",
       "       [4.6, 3.1, 1.5, 0.2],\n",
       "       [5. , 3.6, 1.4, 0.2]])"
      ]
     },
     "execution_count": 3,
     "metadata": {},
     "output_type": "execute_result"
    }
   ],
   "source": [
    "X[:5]"
   ]
  },
  {
   "cell_type": "code",
   "execution_count": 4,
   "metadata": {},
   "outputs": [],
   "source": [
    "# SPLIT DATA\n",
    "X_train, X_test, y_train, y_test = train_test_split(X, y, test_size=0.2, random_state=46)"
   ]
  },
  {
   "cell_type": "code",
   "execution_count": 5,
   "metadata": {},
   "outputs": [
    {
     "data": {
      "text/plain": [
       "['sepal length (cm)',\n",
       " 'sepal width (cm)',\n",
       " 'petal length (cm)',\n",
       " 'petal width (cm)']"
      ]
     },
     "execution_count": 5,
     "metadata": {},
     "output_type": "execute_result"
    }
   ],
   "source": [
    "# Keterangan\n",
    "iris.feature_names"
   ]
  },
  {
   "cell_type": "code",
   "execution_count": 6,
   "metadata": {},
   "outputs": [],
   "source": [
    "# Step 3: Siapkan algoritma ML\n",
    "model = KNeighborsClassifier()"
   ]
  },
  {
   "cell_type": "code",
   "execution_count": 7,
   "metadata": {},
   "outputs": [
    {
     "data": {
      "text/plain": [
       "KNeighborsClassifier()"
      ]
     },
     "execution_count": 7,
     "metadata": {},
     "output_type": "execute_result"
    }
   ],
   "source": [
    "# Step 4: Training model\n",
    "model.fit(X_train, y_train)"
   ]
  },
  {
   "cell_type": "code",
   "execution_count": 8,
   "metadata": {},
   "outputs": [
    {
     "data": {
      "text/plain": [
       "array([0.4359949 , 0.02592623, 0.54966248, 0.43532239, 0.4203678 ,\n",
       "       0.33033482, 0.20464863, 0.61927097, 0.29965467, 0.26682728])"
      ]
     },
     "execution_count": 8,
     "metadata": {},
     "output_type": "execute_result"
    }
   ],
   "source": [
    "# Contoh penggunaan seed\n",
    "import numpy as np\n",
    "\n",
    "np.random.seed(2)\n",
    "np.random.random(10)"
   ]
  },
  {
   "cell_type": "code",
   "execution_count": 9,
   "metadata": {},
   "outputs": [
    {
     "data": {
      "text/plain": [
       "array([2])"
      ]
     },
     "execution_count": 9,
     "metadata": {},
     "output_type": "execute_result"
    }
   ],
   "source": [
    "# Step 5: Gunakan model\n",
    "data_baru = [[2.5, 1.1, 5.4, 3.3]]\n",
    "model.predict(data_baru)"
   ]
  },
  {
   "cell_type": "code",
   "execution_count": 10,
   "metadata": {},
   "outputs": [
    {
     "data": {
      "text/plain": [
       "0.9333333333333333"
      ]
     },
     "execution_count": 10,
     "metadata": {},
     "output_type": "execute_result"
    }
   ],
   "source": [
    "# Test / Uji\n",
    "y_pred = model.predict(X_test)\n",
    "\n",
    "# Evaluasi dengan akurasi\n",
    "accuracy_score(y_test, y_pred)"
   ]
  }
 ],
 "metadata": {
  "kernelspec": {
   "display_name": "Python 3.9.12 ('base')",
   "language": "python",
   "name": "python3"
  },
  "language_info": {
   "codemirror_mode": {
    "name": "ipython",
    "version": 3
   },
   "file_extension": ".py",
   "mimetype": "text/x-python",
   "name": "python",
   "nbconvert_exporter": "python",
   "pygments_lexer": "ipython3",
   "version": "3.9.12"
  },
  "orig_nbformat": 4,
  "vscode": {
   "interpreter": {
    "hash": "548ab95550280775e0e3d7de30ebd157c610a70d91e64db02d00f78c476de59e"
   }
  }
 },
 "nbformat": 4,
 "nbformat_minor": 2
}
