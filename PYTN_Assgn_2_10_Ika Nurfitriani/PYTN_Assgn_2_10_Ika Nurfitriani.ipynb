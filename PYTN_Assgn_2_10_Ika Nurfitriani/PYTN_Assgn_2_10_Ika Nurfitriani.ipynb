{
 "cells": [
  {
   "cell_type": "markdown",
   "metadata": {},
   "source": [
    "# Assignment 2 - Introduction to Python for Data Science Program\n",
    "#### **Nama: Ika Nurfitriani**\n",
    "#### **Kode Peserta: PYTN-KS10-008**\n",
    "\n",
    "# Short Description of The Assignment\n",
    "This assignment is a project intended as the **second** assignment in a self-study class at PT Hacktivate Teknologi Indonesia. In this project, we will analyze the NYC Property Sales data from September 2016 to September 2017. Students are asked to formulate questions, then answer and drawing conclusions from the overall analysis that has been made. This assignment is made by taking into account all the assessment rubrics that have been set and will be checked by the teacher of each class.\n",
    "\n",
    "# Project Overview\n",
    "Dataset NYC Property Sales From Kaggle. This dataset is a record of every building or building unit (apartment, etc) sold in New York City property market over a 12-month period from September 2016 to September 2017.\n",
    "\n",
    "This dataset contains the location, address, type, sale price, and sale date of building units sold. A reference on the trickier fields:\n",
    "1. BOROUGH: A digit code for the borough the property is located in; in order these are Manhattan (1), Bronx (2), Brooklyn (3), Queens (4), and Staten Island (5).\n",
    "2. BLOCK; LOT: The combination of borough, block, and lot forms a unique key for property in New York City. Commonly called a BBL.\n",
    "3. BUILDING CLASS AT PRESENT and BUILDING CLASS AT TIME OF SALE: The type of building at various points in time.\n",
    "\n",
    "Note that because this is a financial transaction dataset, there are some points that need to be kept in mind:\n",
    "- Many sales occur with a nonsensically small dollar amount: $0 most commonly. These sales are actually transfers of deeds between parties: for example, parents transferring ownership to their home to a child after moving out for retirement.\n",
    "- This dataset uses the financial definition of a building/building unit, for tax purposes. In case a single entity owns the building in question, a sale covers the value of the entire building. In case a building is owned piecemeal by its residents (a condominium), a sale refers to a single apartment (or group of apartments) owned by some individual."
   ]
  },
  {
   "cell_type": "markdown",
   "metadata": {},
   "source": [
    "# A. Install Required Libraries\n",
    "Di tahap ini, akan saya lewatkan karena library yang dibutuhkan sudah terinstall. Adanya bagian ini ditujukan untuk orang awam atau pemula yang belum mengenal data science menggunakan Python."
   ]
  },
  {
   "cell_type": "code",
   "execution_count": null,
   "metadata": {},
   "outputs": [],
   "source": [
    "!pip install pandas\n",
    "!pip install numpy\n",
    "!pip install matplotlib\n",
    "!pip install seaborn\n",
    "!pip install scipy\n",
    "!pip install statsmodels"
   ]
  },
  {
   "cell_type": "markdown",
   "metadata": {},
   "source": [
    "# B. Import Required Libraries\n",
    "Di tahap ini, saya mengimpor beberapa library yang dibutuhkan."
   ]
  },
  {
   "cell_type": "code",
   "execution_count": 1,
   "metadata": {},
   "outputs": [],
   "source": [
    "import pandas as pd\n",
    "import numpy as np\n",
    "import matplotlib as mpl\n",
    "import matplotlib.pyplot as plt\n",
    "import seaborn as sns\n",
    "import scipy.stats as scistats\n",
    "import statsmodels.api as sm\n",
    "%matplotlib inline"
   ]
  },
  {
   "cell_type": "markdown",
   "metadata": {},
   "source": [
    "# C. Preparation and Preprocessing Dataset\n",
    "Di tahap ini data dalam dataset akan melalui berbagai proses untuk memastikan bahwa data siap digunakan untuk dianalisis."
   ]
  },
  {
   "cell_type": "markdown",
   "metadata": {},
   "source": [
    "## 1. Membaca dan melihat beberapa informasi dataset"
   ]
  },
  {
   "cell_type": "code",
   "execution_count": 2,
   "metadata": {},
   "outputs": [
    {
     "data": {
      "text/html": [
       "<div>\n",
       "<style scoped>\n",
       "    .dataframe tbody tr th:only-of-type {\n",
       "        vertical-align: middle;\n",
       "    }\n",
       "\n",
       "    .dataframe tbody tr th {\n",
       "        vertical-align: top;\n",
       "    }\n",
       "\n",
       "    .dataframe thead th {\n",
       "        text-align: right;\n",
       "    }\n",
       "</style>\n",
       "<table border=\"1\" class=\"dataframe\">\n",
       "  <thead>\n",
       "    <tr style=\"text-align: right;\">\n",
       "      <th></th>\n",
       "      <th>Unnamed: 0</th>\n",
       "      <th>BOROUGH</th>\n",
       "      <th>NEIGHBORHOOD</th>\n",
       "      <th>BUILDING CLASS CATEGORY</th>\n",
       "      <th>TAX CLASS AT PRESENT</th>\n",
       "      <th>BLOCK</th>\n",
       "      <th>LOT</th>\n",
       "      <th>EASE-MENT</th>\n",
       "      <th>BUILDING CLASS AT PRESENT</th>\n",
       "      <th>ADDRESS</th>\n",
       "      <th>...</th>\n",
       "      <th>RESIDENTIAL UNITS</th>\n",
       "      <th>COMMERCIAL UNITS</th>\n",
       "      <th>TOTAL UNITS</th>\n",
       "      <th>LAND SQUARE FEET</th>\n",
       "      <th>GROSS SQUARE FEET</th>\n",
       "      <th>YEAR BUILT</th>\n",
       "      <th>TAX CLASS AT TIME OF SALE</th>\n",
       "      <th>BUILDING CLASS AT TIME OF SALE</th>\n",
       "      <th>SALE PRICE</th>\n",
       "      <th>SALE DATE</th>\n",
       "    </tr>\n",
       "  </thead>\n",
       "  <tbody>\n",
       "    <tr>\n",
       "      <th>0</th>\n",
       "      <td>4</td>\n",
       "      <td>1</td>\n",
       "      <td>ALPHABET CITY</td>\n",
       "      <td>07 RENTALS - WALKUP APARTMENTS</td>\n",
       "      <td>2A</td>\n",
       "      <td>392</td>\n",
       "      <td>6</td>\n",
       "      <td></td>\n",
       "      <td>C2</td>\n",
       "      <td>153 AVENUE B</td>\n",
       "      <td>...</td>\n",
       "      <td>5</td>\n",
       "      <td>0</td>\n",
       "      <td>5</td>\n",
       "      <td>1633</td>\n",
       "      <td>6440</td>\n",
       "      <td>1900</td>\n",
       "      <td>2</td>\n",
       "      <td>C2</td>\n",
       "      <td>6625000</td>\n",
       "      <td>2017-07-19 00:00:00</td>\n",
       "    </tr>\n",
       "    <tr>\n",
       "      <th>1</th>\n",
       "      <td>5</td>\n",
       "      <td>1</td>\n",
       "      <td>ALPHABET CITY</td>\n",
       "      <td>07 RENTALS - WALKUP APARTMENTS</td>\n",
       "      <td>2</td>\n",
       "      <td>399</td>\n",
       "      <td>26</td>\n",
       "      <td></td>\n",
       "      <td>C7</td>\n",
       "      <td>234 EAST 4TH   STREET</td>\n",
       "      <td>...</td>\n",
       "      <td>28</td>\n",
       "      <td>3</td>\n",
       "      <td>31</td>\n",
       "      <td>4616</td>\n",
       "      <td>18690</td>\n",
       "      <td>1900</td>\n",
       "      <td>2</td>\n",
       "      <td>C7</td>\n",
       "      <td>-</td>\n",
       "      <td>2016-12-14 00:00:00</td>\n",
       "    </tr>\n",
       "    <tr>\n",
       "      <th>2</th>\n",
       "      <td>6</td>\n",
       "      <td>1</td>\n",
       "      <td>ALPHABET CITY</td>\n",
       "      <td>07 RENTALS - WALKUP APARTMENTS</td>\n",
       "      <td>2</td>\n",
       "      <td>399</td>\n",
       "      <td>39</td>\n",
       "      <td></td>\n",
       "      <td>C7</td>\n",
       "      <td>197 EAST 3RD   STREET</td>\n",
       "      <td>...</td>\n",
       "      <td>16</td>\n",
       "      <td>1</td>\n",
       "      <td>17</td>\n",
       "      <td>2212</td>\n",
       "      <td>7803</td>\n",
       "      <td>1900</td>\n",
       "      <td>2</td>\n",
       "      <td>C7</td>\n",
       "      <td>-</td>\n",
       "      <td>2016-12-09 00:00:00</td>\n",
       "    </tr>\n",
       "    <tr>\n",
       "      <th>3</th>\n",
       "      <td>7</td>\n",
       "      <td>1</td>\n",
       "      <td>ALPHABET CITY</td>\n",
       "      <td>07 RENTALS - WALKUP APARTMENTS</td>\n",
       "      <td>2B</td>\n",
       "      <td>402</td>\n",
       "      <td>21</td>\n",
       "      <td></td>\n",
       "      <td>C4</td>\n",
       "      <td>154 EAST 7TH STREET</td>\n",
       "      <td>...</td>\n",
       "      <td>10</td>\n",
       "      <td>0</td>\n",
       "      <td>10</td>\n",
       "      <td>2272</td>\n",
       "      <td>6794</td>\n",
       "      <td>1913</td>\n",
       "      <td>2</td>\n",
       "      <td>C4</td>\n",
       "      <td>3936272</td>\n",
       "      <td>2016-09-23 00:00:00</td>\n",
       "    </tr>\n",
       "    <tr>\n",
       "      <th>4</th>\n",
       "      <td>8</td>\n",
       "      <td>1</td>\n",
       "      <td>ALPHABET CITY</td>\n",
       "      <td>07 RENTALS - WALKUP APARTMENTS</td>\n",
       "      <td>2A</td>\n",
       "      <td>404</td>\n",
       "      <td>55</td>\n",
       "      <td></td>\n",
       "      <td>C2</td>\n",
       "      <td>301 EAST 10TH   STREET</td>\n",
       "      <td>...</td>\n",
       "      <td>6</td>\n",
       "      <td>0</td>\n",
       "      <td>6</td>\n",
       "      <td>2369</td>\n",
       "      <td>4615</td>\n",
       "      <td>1900</td>\n",
       "      <td>2</td>\n",
       "      <td>C2</td>\n",
       "      <td>8000000</td>\n",
       "      <td>2016-11-17 00:00:00</td>\n",
       "    </tr>\n",
       "  </tbody>\n",
       "</table>\n",
       "<p>5 rows × 22 columns</p>\n",
       "</div>"
      ],
      "text/plain": [
       "   Unnamed: 0  BOROUGH   NEIGHBORHOOD  \\\n",
       "0           4        1  ALPHABET CITY   \n",
       "1           5        1  ALPHABET CITY   \n",
       "2           6        1  ALPHABET CITY   \n",
       "3           7        1  ALPHABET CITY   \n",
       "4           8        1  ALPHABET CITY   \n",
       "\n",
       "                       BUILDING CLASS CATEGORY TAX CLASS AT PRESENT  BLOCK  \\\n",
       "0  07 RENTALS - WALKUP APARTMENTS                                2A    392   \n",
       "1  07 RENTALS - WALKUP APARTMENTS                                 2    399   \n",
       "2  07 RENTALS - WALKUP APARTMENTS                                 2    399   \n",
       "3  07 RENTALS - WALKUP APARTMENTS                                2B    402   \n",
       "4  07 RENTALS - WALKUP APARTMENTS                                2A    404   \n",
       "\n",
       "   LOT EASE-MENT BUILDING CLASS AT PRESENT                 ADDRESS  ...  \\\n",
       "0    6                                  C2            153 AVENUE B  ...   \n",
       "1   26                                  C7   234 EAST 4TH   STREET  ...   \n",
       "2   39                                  C7   197 EAST 3RD   STREET  ...   \n",
       "3   21                                  C4     154 EAST 7TH STREET  ...   \n",
       "4   55                                  C2  301 EAST 10TH   STREET  ...   \n",
       "\n",
       "  RESIDENTIAL UNITS  COMMERCIAL UNITS  TOTAL UNITS  LAND SQUARE FEET  \\\n",
       "0                 5                 0            5              1633   \n",
       "1                28                 3           31              4616   \n",
       "2                16                 1           17              2212   \n",
       "3                10                 0           10              2272   \n",
       "4                 6                 0            6              2369   \n",
       "\n",
       "   GROSS SQUARE FEET YEAR BUILT TAX CLASS AT TIME OF SALE  \\\n",
       "0               6440       1900                         2   \n",
       "1              18690       1900                         2   \n",
       "2               7803       1900                         2   \n",
       "3               6794       1913                         2   \n",
       "4               4615       1900                         2   \n",
       "\n",
       "   BUILDING CLASS AT TIME OF SALE  SALE PRICE            SALE DATE  \n",
       "0                              C2     6625000  2017-07-19 00:00:00  \n",
       "1                              C7         -    2016-12-14 00:00:00  \n",
       "2                              C7         -    2016-12-09 00:00:00  \n",
       "3                              C4     3936272  2016-09-23 00:00:00  \n",
       "4                              C2     8000000  2016-11-17 00:00:00  \n",
       "\n",
       "[5 rows x 22 columns]"
      ]
     },
     "execution_count": 2,
     "metadata": {},
     "output_type": "execute_result"
    }
   ],
   "source": [
    "# Mendeteksi macam-macam format non standard missing values\n",
    "miss_values = ['NA', 'NaN', 'na', 'n/a', 'n-a' \"--\", \"?\"]\n",
    "\n",
    "# Membaca dataset\n",
    "df_nycsales = pd.read_csv('./dataset/nyc-rolling-sales.csv', na_values=miss_values)\n",
    "\n",
    "# Melihat 5 data teratas dari dataset\n",
    "df_nycsales.head()"
   ]
  },
  {
   "cell_type": "code",
   "execution_count": 3,
   "metadata": {},
   "outputs": [
    {
     "data": {
      "text/html": [
       "<div>\n",
       "<style scoped>\n",
       "    .dataframe tbody tr th:only-of-type {\n",
       "        vertical-align: middle;\n",
       "    }\n",
       "\n",
       "    .dataframe tbody tr th {\n",
       "        vertical-align: top;\n",
       "    }\n",
       "\n",
       "    .dataframe thead th {\n",
       "        text-align: right;\n",
       "    }\n",
       "</style>\n",
       "<table border=\"1\" class=\"dataframe\">\n",
       "  <thead>\n",
       "    <tr style=\"text-align: right;\">\n",
       "      <th></th>\n",
       "      <th>Unnamed: 0</th>\n",
       "      <th>BOROUGH</th>\n",
       "      <th>NEIGHBORHOOD</th>\n",
       "      <th>BUILDING CLASS CATEGORY</th>\n",
       "      <th>TAX CLASS AT PRESENT</th>\n",
       "      <th>BLOCK</th>\n",
       "      <th>LOT</th>\n",
       "      <th>EASE-MENT</th>\n",
       "      <th>BUILDING CLASS AT PRESENT</th>\n",
       "      <th>ADDRESS</th>\n",
       "      <th>...</th>\n",
       "      <th>RESIDENTIAL UNITS</th>\n",
       "      <th>COMMERCIAL UNITS</th>\n",
       "      <th>TOTAL UNITS</th>\n",
       "      <th>LAND SQUARE FEET</th>\n",
       "      <th>GROSS SQUARE FEET</th>\n",
       "      <th>YEAR BUILT</th>\n",
       "      <th>TAX CLASS AT TIME OF SALE</th>\n",
       "      <th>BUILDING CLASS AT TIME OF SALE</th>\n",
       "      <th>SALE PRICE</th>\n",
       "      <th>SALE DATE</th>\n",
       "    </tr>\n",
       "  </thead>\n",
       "  <tbody>\n",
       "    <tr>\n",
       "      <th>84543</th>\n",
       "      <td>8409</td>\n",
       "      <td>5</td>\n",
       "      <td>WOODROW</td>\n",
       "      <td>02 TWO FAMILY DWELLINGS</td>\n",
       "      <td>1</td>\n",
       "      <td>7349</td>\n",
       "      <td>34</td>\n",
       "      <td></td>\n",
       "      <td>B9</td>\n",
       "      <td>37 QUAIL LANE</td>\n",
       "      <td>...</td>\n",
       "      <td>2</td>\n",
       "      <td>0</td>\n",
       "      <td>2</td>\n",
       "      <td>2400</td>\n",
       "      <td>2575</td>\n",
       "      <td>1998</td>\n",
       "      <td>1</td>\n",
       "      <td>B9</td>\n",
       "      <td>450000</td>\n",
       "      <td>2016-11-28 00:00:00</td>\n",
       "    </tr>\n",
       "    <tr>\n",
       "      <th>84544</th>\n",
       "      <td>8410</td>\n",
       "      <td>5</td>\n",
       "      <td>WOODROW</td>\n",
       "      <td>02 TWO FAMILY DWELLINGS</td>\n",
       "      <td>1</td>\n",
       "      <td>7349</td>\n",
       "      <td>78</td>\n",
       "      <td></td>\n",
       "      <td>B9</td>\n",
       "      <td>32 PHEASANT LANE</td>\n",
       "      <td>...</td>\n",
       "      <td>2</td>\n",
       "      <td>0</td>\n",
       "      <td>2</td>\n",
       "      <td>2498</td>\n",
       "      <td>2377</td>\n",
       "      <td>1998</td>\n",
       "      <td>1</td>\n",
       "      <td>B9</td>\n",
       "      <td>550000</td>\n",
       "      <td>2017-04-21 00:00:00</td>\n",
       "    </tr>\n",
       "    <tr>\n",
       "      <th>84545</th>\n",
       "      <td>8411</td>\n",
       "      <td>5</td>\n",
       "      <td>WOODROW</td>\n",
       "      <td>02 TWO FAMILY DWELLINGS</td>\n",
       "      <td>1</td>\n",
       "      <td>7351</td>\n",
       "      <td>60</td>\n",
       "      <td></td>\n",
       "      <td>B2</td>\n",
       "      <td>49 PITNEY AVENUE</td>\n",
       "      <td>...</td>\n",
       "      <td>2</td>\n",
       "      <td>0</td>\n",
       "      <td>2</td>\n",
       "      <td>4000</td>\n",
       "      <td>1496</td>\n",
       "      <td>1925</td>\n",
       "      <td>1</td>\n",
       "      <td>B2</td>\n",
       "      <td>460000</td>\n",
       "      <td>2017-07-05 00:00:00</td>\n",
       "    </tr>\n",
       "    <tr>\n",
       "      <th>84546</th>\n",
       "      <td>8412</td>\n",
       "      <td>5</td>\n",
       "      <td>WOODROW</td>\n",
       "      <td>22 STORE BUILDINGS</td>\n",
       "      <td>4</td>\n",
       "      <td>7100</td>\n",
       "      <td>28</td>\n",
       "      <td></td>\n",
       "      <td>K6</td>\n",
       "      <td>2730 ARTHUR KILL ROAD</td>\n",
       "      <td>...</td>\n",
       "      <td>0</td>\n",
       "      <td>7</td>\n",
       "      <td>7</td>\n",
       "      <td>208033</td>\n",
       "      <td>64117</td>\n",
       "      <td>2001</td>\n",
       "      <td>4</td>\n",
       "      <td>K6</td>\n",
       "      <td>11693337</td>\n",
       "      <td>2016-12-21 00:00:00</td>\n",
       "    </tr>\n",
       "    <tr>\n",
       "      <th>84547</th>\n",
       "      <td>8413</td>\n",
       "      <td>5</td>\n",
       "      <td>WOODROW</td>\n",
       "      <td>35 INDOOR PUBLIC AND CULTURAL FACILITIES</td>\n",
       "      <td>4</td>\n",
       "      <td>7105</td>\n",
       "      <td>679</td>\n",
       "      <td></td>\n",
       "      <td>P9</td>\n",
       "      <td>155 CLAY PIT ROAD</td>\n",
       "      <td>...</td>\n",
       "      <td>0</td>\n",
       "      <td>1</td>\n",
       "      <td>1</td>\n",
       "      <td>10796</td>\n",
       "      <td>2400</td>\n",
       "      <td>2006</td>\n",
       "      <td>4</td>\n",
       "      <td>P9</td>\n",
       "      <td>69300</td>\n",
       "      <td>2016-10-27 00:00:00</td>\n",
       "    </tr>\n",
       "  </tbody>\n",
       "</table>\n",
       "<p>5 rows × 22 columns</p>\n",
       "</div>"
      ],
      "text/plain": [
       "       Unnamed: 0  BOROUGH NEIGHBORHOOD  \\\n",
       "84543        8409        5      WOODROW   \n",
       "84544        8410        5      WOODROW   \n",
       "84545        8411        5      WOODROW   \n",
       "84546        8412        5      WOODROW   \n",
       "84547        8413        5      WOODROW   \n",
       "\n",
       "                           BUILDING CLASS CATEGORY TAX CLASS AT PRESENT  \\\n",
       "84543  02 TWO FAMILY DWELLINGS                                        1   \n",
       "84544  02 TWO FAMILY DWELLINGS                                        1   \n",
       "84545  02 TWO FAMILY DWELLINGS                                        1   \n",
       "84546  22 STORE BUILDINGS                                             4   \n",
       "84547  35 INDOOR PUBLIC AND CULTURAL FACILITIES                       4   \n",
       "\n",
       "       BLOCK  LOT EASE-MENT BUILDING CLASS AT PRESENT                ADDRESS  \\\n",
       "84543   7349   34                                  B9          37 QUAIL LANE   \n",
       "84544   7349   78                                  B9       32 PHEASANT LANE   \n",
       "84545   7351   60                                  B2       49 PITNEY AVENUE   \n",
       "84546   7100   28                                  K6  2730 ARTHUR KILL ROAD   \n",
       "84547   7105  679                                  P9      155 CLAY PIT ROAD   \n",
       "\n",
       "       ... RESIDENTIAL UNITS  COMMERCIAL UNITS  TOTAL UNITS  LAND SQUARE FEET  \\\n",
       "84543  ...                 2                 0            2              2400   \n",
       "84544  ...                 2                 0            2              2498   \n",
       "84545  ...                 2                 0            2              4000   \n",
       "84546  ...                 0                 7            7            208033   \n",
       "84547  ...                 0                 1            1             10796   \n",
       "\n",
       "       GROSS SQUARE FEET YEAR BUILT TAX CLASS AT TIME OF SALE  \\\n",
       "84543               2575       1998                         1   \n",
       "84544               2377       1998                         1   \n",
       "84545               1496       1925                         1   \n",
       "84546              64117       2001                         4   \n",
       "84547               2400       2006                         4   \n",
       "\n",
       "       BUILDING CLASS AT TIME OF SALE  SALE PRICE            SALE DATE  \n",
       "84543                              B9      450000  2016-11-28 00:00:00  \n",
       "84544                              B9      550000  2017-04-21 00:00:00  \n",
       "84545                              B2      460000  2017-07-05 00:00:00  \n",
       "84546                              K6    11693337  2016-12-21 00:00:00  \n",
       "84547                              P9       69300  2016-10-27 00:00:00  \n",
       "\n",
       "[5 rows x 22 columns]"
      ]
     },
     "execution_count": 3,
     "metadata": {},
     "output_type": "execute_result"
    }
   ],
   "source": [
    "# Melihat 5 data terakhir dari dataset\n",
    "df_nycsales.tail()"
   ]
  },
  {
   "cell_type": "code",
   "execution_count": 4,
   "metadata": {},
   "outputs": [
    {
     "name": "stdout",
     "output_type": "stream",
     "text": [
      "<class 'pandas.core.frame.DataFrame'>\n",
      "RangeIndex: 84548 entries, 0 to 84547\n",
      "Data columns (total 22 columns):\n",
      " #   Column                          Non-Null Count  Dtype \n",
      "---  ------                          --------------  ----- \n",
      " 0   Unnamed: 0                      84548 non-null  int64 \n",
      " 1   BOROUGH                         84548 non-null  int64 \n",
      " 2   NEIGHBORHOOD                    84548 non-null  object\n",
      " 3   BUILDING CLASS CATEGORY         84548 non-null  object\n",
      " 4   TAX CLASS AT PRESENT            84548 non-null  object\n",
      " 5   BLOCK                           84548 non-null  int64 \n",
      " 6   LOT                             84548 non-null  int64 \n",
      " 7   EASE-MENT                       84548 non-null  object\n",
      " 8   BUILDING CLASS AT PRESENT       84548 non-null  object\n",
      " 9   ADDRESS                         84548 non-null  object\n",
      " 10  APARTMENT NUMBER                84548 non-null  object\n",
      " 11  ZIP CODE                        84548 non-null  int64 \n",
      " 12  RESIDENTIAL UNITS               84548 non-null  int64 \n",
      " 13  COMMERCIAL UNITS                84548 non-null  int64 \n",
      " 14  TOTAL UNITS                     84548 non-null  int64 \n",
      " 15  LAND SQUARE FEET                84548 non-null  object\n",
      " 16  GROSS SQUARE FEET               84548 non-null  object\n",
      " 17  YEAR BUILT                      84548 non-null  int64 \n",
      " 18  TAX CLASS AT TIME OF SALE       84548 non-null  int64 \n",
      " 19  BUILDING CLASS AT TIME OF SALE  84548 non-null  object\n",
      " 20  SALE PRICE                      84548 non-null  object\n",
      " 21  SALE DATE                       84548 non-null  object\n",
      "dtypes: int64(10), object(12)\n",
      "memory usage: 14.2+ MB\n"
     ]
    }
   ],
   "source": [
    "# Melihat informasi tentang dataset\n",
    "df_nycsales.info()"
   ]
  },
  {
   "cell_type": "code",
   "execution_count": 5,
   "metadata": {},
   "outputs": [
    {
     "name": "stdout",
     "output_type": "stream",
     "text": [
      "Dimensi data:\n",
      "84548 baris\n",
      "22 kolom\n"
     ]
    }
   ],
   "source": [
    "# Melihat informasi dimensi dari dataset\n",
    "rows, columns = df_nycsales.shape\n",
    "print(\"Dimensi data:\")\n",
    "print(rows, \"baris\")\n",
    "print(columns, \"kolom\")"
   ]
  },
  {
   "cell_type": "code",
   "execution_count": 6,
   "metadata": {},
   "outputs": [
    {
     "data": {
      "text/plain": [
       "RangeIndex(start=0, stop=84548, step=1)"
      ]
     },
     "execution_count": 6,
     "metadata": {},
     "output_type": "execute_result"
    }
   ],
   "source": [
    "# Melihat range index dataset\n",
    "df_nycsales.index"
   ]
  },
  {
   "cell_type": "code",
   "execution_count": 7,
   "metadata": {},
   "outputs": [
    {
     "data": {
      "text/plain": [
       "array([    0,     1,     2, ..., 84545, 84546, 84547], dtype=int64)"
      ]
     },
     "execution_count": 7,
     "metadata": {},
     "output_type": "execute_result"
    }
   ],
   "source": [
    "# Melihat daftar indeks dataset\n",
    "df_nycsales.index.values"
   ]
  },
  {
   "cell_type": "code",
   "execution_count": 8,
   "metadata": {},
   "outputs": [
    {
     "data": {
      "text/plain": [
       "Index(['Unnamed: 0', 'BOROUGH', 'NEIGHBORHOOD', 'BUILDING CLASS CATEGORY',\n",
       "       'TAX CLASS AT PRESENT', 'BLOCK', 'LOT', 'EASE-MENT',\n",
       "       'BUILDING CLASS AT PRESENT', 'ADDRESS', 'APARTMENT NUMBER', 'ZIP CODE',\n",
       "       'RESIDENTIAL UNITS', 'COMMERCIAL UNITS', 'TOTAL UNITS',\n",
       "       'LAND SQUARE FEET', 'GROSS SQUARE FEET', 'YEAR BUILT',\n",
       "       'TAX CLASS AT TIME OF SALE', 'BUILDING CLASS AT TIME OF SALE',\n",
       "       'SALE PRICE', 'SALE DATE'],\n",
       "      dtype='object')"
      ]
     },
     "execution_count": 8,
     "metadata": {},
     "output_type": "execute_result"
    }
   ],
   "source": [
    "# Mengetahui daftar kolom yang ada dalam dataset\n",
    "df_nycsales.columns"
   ]
  },
  {
   "cell_type": "markdown",
   "metadata": {},
   "source": [
    "## 2. Mengetahui semua nilai unik dari setiap kolom"
   ]
  },
  {
   "cell_type": "code",
   "execution_count": 9,
   "metadata": {},
   "outputs": [
    {
     "data": {
      "text/plain": [
       "Unnamed: 0                        26736\n",
       "BOROUGH                               5\n",
       "NEIGHBORHOOD                        254\n",
       "BUILDING CLASS CATEGORY              47\n",
       "TAX CLASS AT PRESENT                 11\n",
       "BLOCK                             11566\n",
       "LOT                                2627\n",
       "EASE-MENT                             1\n",
       "BUILDING CLASS AT PRESENT           167\n",
       "ADDRESS                           67563\n",
       "APARTMENT NUMBER                   3989\n",
       "ZIP CODE                            186\n",
       "RESIDENTIAL UNITS                   176\n",
       "COMMERCIAL UNITS                     55\n",
       "TOTAL UNITS                         192\n",
       "LAND SQUARE FEET                   6062\n",
       "GROSS SQUARE FEET                  5691\n",
       "YEAR BUILT                          158\n",
       "TAX CLASS AT TIME OF SALE             4\n",
       "BUILDING CLASS AT TIME OF SALE      166\n",
       "SALE PRICE                        10008\n",
       "SALE DATE                           364\n",
       "dtype: int64"
      ]
     },
     "execution_count": 9,
     "metadata": {},
     "output_type": "execute_result"
    }
   ],
   "source": [
    "# Melihat data yang unik\n",
    "df_nycsales.nunique()"
   ]
  },
  {
   "cell_type": "code",
   "execution_count": 10,
   "metadata": {},
   "outputs": [
    {
     "name": "stdout",
     "output_type": "stream",
     "text": [
      "UNIQUE VALUES FOR Unnamed: 0\n",
      "====================================================================================================\n",
      "[    4     5     6 ... 26737 26738 26739]\n",
      "====================================================================================================\n",
      "UNIQUE VALUES FOR BOROUGH\n",
      "====================================================================================================\n",
      "[1 2 3 4 5]\n",
      "====================================================================================================\n",
      "UNIQUE VALUES FOR NEIGHBORHOOD\n",
      "====================================================================================================\n",
      "['ALPHABET CITY' 'CHELSEA' 'CHINATOWN' 'CIVIC CENTER' 'CLINTON'\n",
      " 'EAST VILLAGE' 'FASHION' 'FINANCIAL' 'FLATIRON' 'GRAMERCY'\n",
      " 'GREENWICH VILLAGE-CENTRAL' 'GREENWICH VILLAGE-WEST' 'HARLEM-CENTRAL'\n",
      " 'HARLEM-EAST' 'HARLEM-UPPER' 'HARLEM-WEST' 'INWOOD' 'JAVITS CENTER'\n",
      " 'KIPS BAY' 'LITTLE ITALY' 'LOWER EAST SIDE' 'MANHATTAN VALLEY'\n",
      " 'MIDTOWN CBD' 'MIDTOWN EAST' 'MIDTOWN WEST' 'MORNINGSIDE HEIGHTS'\n",
      " 'MURRAY HILL' 'ROOSEVELT ISLAND' 'SOHO' 'SOUTHBRIDGE' 'TRIBECA'\n",
      " 'UPPER EAST SIDE (59-79)' 'UPPER EAST SIDE (79-96)'\n",
      " 'UPPER EAST SIDE (96-110)' 'UPPER WEST SIDE (59-79)'\n",
      " 'UPPER WEST SIDE (79-96)' 'UPPER WEST SIDE (96-116)'\n",
      " 'WASHINGTON HEIGHTS LOWER' 'WASHINGTON HEIGHTS UPPER' 'BATHGATE'\n",
      " 'BAYCHESTER' 'BEDFORD PARK/NORWOOD' 'BELMONT' 'BRONX PARK' 'BRONXDALE'\n",
      " 'CASTLE HILL/UNIONPORT' 'CITY ISLAND' 'CITY ISLAND-PELHAM STRIP'\n",
      " 'CO-OP CITY' 'COUNTRY CLUB' 'CROTONA PARK' 'EAST RIVER' 'EAST TREMONT'\n",
      " 'FIELDSTON' 'FORDHAM' 'HIGHBRIDGE/MORRIS HEIGHTS' 'HUNTS POINT'\n",
      " 'KINGSBRIDGE HTS/UNIV HTS' 'KINGSBRIDGE/JEROME PARK' 'MELROSE/CONCOURSE'\n",
      " 'MORRIS PARK/VAN NEST' 'MORRISANIA/LONGWOOD' 'MOTT HAVEN/PORT MORRIS'\n",
      " 'MOUNT HOPE/MOUNT EDEN' 'PARKCHESTER' 'PELHAM BAY' 'PELHAM GARDENS'\n",
      " 'PELHAM PARKWAY NORTH' 'PELHAM PARKWAY SOUTH' 'RIVERDALE'\n",
      " 'SCHUYLERVILLE/PELHAM BAY' 'SOUNDVIEW' 'THROGS NECK' 'VAN CORTLANDT PARK'\n",
      " 'WAKEFIELD' 'WESTCHESTER' 'WILLIAMSBRIDGE' 'WOODLAWN' 'BATH BEACH'\n",
      " 'BAY RIDGE' 'BEDFORD STUYVESANT' 'BENSONHURST' 'BERGEN BEACH'\n",
      " 'BOERUM HILL' 'BOROUGH PARK' 'BRIGHTON BEACH' 'BROOKLYN HEIGHTS'\n",
      " 'BROWNSVILLE' 'BUSH TERMINAL' 'BUSHWICK' 'CANARSIE' 'CARROLL GARDENS'\n",
      " 'CLINTON HILL' 'COBBLE HILL' 'COBBLE HILL-WEST' 'CONEY ISLAND'\n",
      " 'CROWN HEIGHTS' 'CYPRESS HILLS' 'DOWNTOWN-FULTON FERRY'\n",
      " 'DOWNTOWN-FULTON MALL' 'DOWNTOWN-METROTECH' 'DYKER HEIGHTS'\n",
      " 'EAST NEW YORK' 'FLATBUSH-CENTRAL' 'FLATBUSH-EAST'\n",
      " 'FLATBUSH-LEFFERTS GARDEN' 'FLATBUSH-NORTH' 'FLATLANDS' 'FORT GREENE'\n",
      " 'GERRITSEN BEACH' 'GOWANUS' 'GRAVESEND' 'GREENPOINT' 'JAMAICA BAY'\n",
      " 'KENSINGTON' 'MADISON' 'MANHATTAN BEACH' 'MARINE PARK' 'MIDWOOD'\n",
      " 'MILL BASIN' 'NAVY YARD' 'OCEAN HILL' 'OCEAN PARKWAY-NORTH'\n",
      " 'OCEAN PARKWAY-SOUTH' 'OLD MILL BASIN' 'PARK SLOPE' 'PARK SLOPE SOUTH'\n",
      " 'PROSPECT HEIGHTS' 'RED HOOK' 'SEAGATE' 'SHEEPSHEAD BAY' 'SPRING CREEK'\n",
      " 'SUNSET PARK' 'WILLIAMSBURG-CENTRAL' 'WILLIAMSBURG-EAST'\n",
      " 'WILLIAMSBURG-NORTH' 'WILLIAMSBURG-SOUTH' 'WINDSOR TERRACE'\n",
      " 'WYCKOFF HEIGHTS' 'AIRPORT LA GUARDIA' 'ARVERNE' 'ASTORIA' 'BAYSIDE'\n",
      " 'BEECHHURST' 'BELLE HARBOR' 'BELLEROSE' 'BRIARWOOD' 'BROAD CHANNEL'\n",
      " 'CAMBRIA HEIGHTS' 'COLLEGE POINT' 'CORONA' 'DOUGLASTON' 'EAST ELMHURST'\n",
      " 'ELMHURST' 'FAR ROCKAWAY' 'FLORAL PARK' 'FLUSHING MEADOW PARK'\n",
      " 'FLUSHING-NORTH' 'FLUSHING-SOUTH' 'FOREST HILLS' 'FRESH MEADOWS'\n",
      " 'GLEN OAKS' 'GLENDALE' 'HAMMELS' 'HILLCREST' 'HOLLIS' 'HOLLIS HILLS'\n",
      " 'HOLLISWOOD' 'HOWARD BEACH' 'JACKSON HEIGHTS' 'JAMAICA' 'JAMAICA ESTATES'\n",
      " 'JAMAICA HILLS' 'KEW GARDENS' 'LAURELTON' 'LITTLE NECK'\n",
      " 'LONG ISLAND CITY' 'MASPETH' 'MIDDLE VILLAGE' 'NEPONSIT'\n",
      " 'OAKLAND GARDENS' 'OZONE PARK' 'QUEENS VILLAGE' 'REGO PARK'\n",
      " 'RICHMOND HILL' 'RIDGEWOOD' 'ROCKAWAY PARK' 'ROSEDALE'\n",
      " 'SO. JAMAICA-BAISLEY PARK' 'SOUTH JAMAICA' 'SOUTH OZONE PARK'\n",
      " 'SPRINGFIELD GARDENS' 'ST. ALBANS' 'SUNNYSIDE' 'WHITESTONE' 'WOODHAVEN'\n",
      " 'WOODSIDE' 'ANNADALE' 'ARDEN HEIGHTS' 'ARROCHAR' 'ARROCHAR-SHORE ACRES'\n",
      " 'BLOOMFIELD' 'BULLS HEAD' 'CASTLETON CORNERS' 'CLOVE LAKES' 'CONCORD'\n",
      " 'CONCORD-FOX HILLS' 'DONGAN HILLS' 'DONGAN HILLS-COLONY'\n",
      " 'DONGAN HILLS-OLD TOWN' 'ELTINGVILLE' 'EMERSON HILL' 'FRESH KILLS'\n",
      " 'GRANT CITY' 'GRASMERE' 'GREAT KILLS' 'GREAT KILLS-BAY TERRACE'\n",
      " 'GRYMES HILL' 'HUGUENOT' 'LIVINGSTON' 'MANOR HEIGHTS' 'MARINERS HARBOR'\n",
      " 'MIDLAND BEACH' 'NEW BRIGHTON' 'NEW BRIGHTON-ST. GEORGE' 'NEW DORP'\n",
      " 'NEW DORP-BEACH' 'NEW DORP-HEIGHTS' 'NEW SPRINGVILLE' 'OAKWOOD'\n",
      " 'OAKWOOD-BEACH' 'PLEASANT PLAINS' 'PORT IVORY' 'PORT RICHMOND'\n",
      " 'PRINCES BAY' 'RICHMONDTOWN' 'RICHMONDTOWN-LIGHTHS HILL' 'ROSEBANK'\n",
      " 'ROSSVILLE' 'ROSSVILLE-CHARLESTON' 'ROSSVILLE-PORT MOBIL'\n",
      " 'ROSSVILLE-RICHMOND VALLEY' 'SILVER LAKE' 'SOUTH BEACH' 'STAPLETON'\n",
      " 'STAPLETON-CLIFTON' 'TODT HILL' 'TOMPKINSVILLE' 'TOTTENVILLE' 'TRAVIS'\n",
      " 'WEST NEW BRIGHTON' 'WESTERLEIGH' 'WILLOWBROOK' 'WOODROW']\n",
      "====================================================================================================\n",
      "UNIQUE VALUES FOR BUILDING CLASS CATEGORY\n",
      "====================================================================================================\n",
      "['07 RENTALS - WALKUP APARTMENTS             '\n",
      " '08 RENTALS - ELEVATOR APARTMENTS           '\n",
      " '09 COOPS - WALKUP APARTMENTS               '\n",
      " '10 COOPS - ELEVATOR APARTMENTS             '\n",
      " '11A CONDO-RENTALS                           '\n",
      " '12 CONDOS - WALKUP APARTMENTS              '\n",
      " '13 CONDOS - ELEVATOR APARTMENTS            '\n",
      " '14 RENTALS - 4-10 UNIT                     '\n",
      " '15 CONDOS - 2-10 UNIT RESIDENTIAL          '\n",
      " '16 CONDOS - 2-10 UNIT WITH COMMERCIAL UNIT '\n",
      " '17 CONDO COOPS                             '\n",
      " '22 STORE BUILDINGS                         '\n",
      " '37 RELIGIOUS FACILITIES                    '\n",
      " '42 CONDO CULTURAL/MEDICAL/EDUCATIONAL/ETC  '\n",
      " '46 CONDO STORE BUILDINGS                   '\n",
      " '47 CONDO NON-BUSINESS STORAGE              '\n",
      " '01 ONE FAMILY DWELLINGS                    '\n",
      " '02 TWO FAMILY DWELLINGS                    '\n",
      " '03 THREE FAMILY DWELLINGS                  '\n",
      " '04 TAX CLASS 1 CONDOS                      '\n",
      " '21 OFFICE BUILDINGS                        '\n",
      " '23 LOFT BUILDINGS                          '\n",
      " '25 LUXURY HOTELS                           '\n",
      " '26 OTHER HOTELS                            '\n",
      " '28 COMMERCIAL CONDOS                       '\n",
      " '29 COMMERCIAL GARAGES                      '\n",
      " '35 INDOOR PUBLIC AND CULTURAL FACILITIES   '\n",
      " '38 ASYLUMS AND HOMES                       '\n",
      " '43 CONDO OFFICE BUILDINGS                  '\n",
      " '44 CONDO PARKING                           '\n",
      " '48 CONDO TERRACES/GARDENS/CABANAS          '\n",
      " '31 COMMERCIAL VACANT LAND                  '\n",
      " '32 HOSPITAL AND HEALTH FACILITIES          '\n",
      " '41 TAX CLASS 4 - OTHER                     '\n",
      " '18 TAX CLASS 3 - UNTILITY PROPERTIES       '\n",
      " '30 WAREHOUSES                              '\n",
      " '36 OUTDOOR RECREATIONAL FACILITIES         '\n",
      " '49 CONDO WAREHOUSES/FACTORY/INDUS          '\n",
      " '34 THEATRES                                '\n",
      " '27 FACTORIES                               '\n",
      " '40 SELECTED GOVERNMENTAL FACILITIES        '\n",
      " '45 CONDO HOTELS                            '\n",
      " '33 EDUCATIONAL FACILITIES                  '\n",
      " '11 SPECIAL CONDO BILLING LOTS              '\n",
      " '05 TAX CLASS 1 VACANT LAND                 '\n",
      " '06 TAX CLASS 1 - OTHER                     '\n",
      " '39 TRANSPORTATION FACILITIES               ']\n",
      "====================================================================================================\n",
      "UNIQUE VALUES FOR TAX CLASS AT PRESENT\n",
      "====================================================================================================\n",
      "['2A' '2' '2B' '2C' ' ' '4' '1' '1C' '3' '1A' '1B']\n",
      "====================================================================================================\n",
      "UNIQUE VALUES FOR BLOCK\n",
      "====================================================================================================\n",
      "[ 392  399  402 ... 6918 7074 7092]\n",
      "====================================================================================================\n",
      "UNIQUE VALUES FOR LOT\n",
      "====================================================================================================\n",
      "[  6  26  39 ... 655 423 679]\n",
      "====================================================================================================\n",
      "UNIQUE VALUES FOR EASE-MENT\n",
      "====================================================================================================\n",
      "[' ']\n",
      "====================================================================================================\n",
      "UNIQUE VALUES FOR BUILDING CLASS AT PRESENT\n",
      "====================================================================================================\n",
      "['C2' 'C7' 'C4' 'D5' 'D9' 'D7' 'D1' 'C6' 'D0' 'D4' 'RR' ' ' 'R2' 'R4' 'S3'\n",
      " 'S4' 'S5' 'R1' 'R8' 'R9' 'K4' 'M9' 'M3' 'RK' 'RS' 'A9' 'A4' 'B3' 'B1'\n",
      " 'S2' 'C0' 'R6' 'C5' 'C3' 'C1' 'D6' 'S9' 'O2' 'O1' 'O3' 'O5' 'O6' 'K1'\n",
      " 'K2' 'L9' 'L8' 'L1' 'H1' 'H8' 'H3' 'R5' 'G6' 'P7' 'M1' 'N2' 'RB' 'RG'\n",
      " 'RT' 'K9' 'V1' 'GW' 'G2' 'I7' 'M4' 'Z9' 'B9' 'D3' 'G9' 'I9' 'U6' 'O4'\n",
      " 'L3' 'H2' 'E1' 'Z3' 'RW' 'C9' 'J5' 'N9' 'S1' 'A5' 'J8' 'B2' 'C8' 'F5'\n",
      " 'Q1' 'G7' 'G5' 'G4' 'P2' 'Q9' 'Y1' 'RA' 'RP' 'O8' 'HR' 'G1' 'E7' 'I5'\n",
      " 'R3' 'I4' 'H9' 'RH' 'D8' 'HB' 'J4' 'W2' 'P9' 'A7' 'D2' 'S0' 'O7' 'O9'\n",
      " 'W3' 'HS' 'H6' 'J9' 'R0' 'HH' 'W8' 'W6' 'A1' 'K5' 'F1' 'V9' 'A2' 'V0'\n",
      " 'G0' 'F4' 'E9' 'I3' 'W4' 'V3' 'I1' 'A6' 'Q8' 'A3' 'Z0' 'W1' 'U1' 'F2'\n",
      " 'F9' 'GU' 'I6' 'G8' 'P5' 'Y3' 'W9' 'M2' 'G3' 'V6' 'K7' 'K3' 'R7' 'P8'\n",
      " 'K6' 'V2' 'E2' 'Z2' 'T2' 'K8' 'P6' 'A0' 'H4' 'J1' 'CM' 'Z7']\n",
      "====================================================================================================\n",
      "UNIQUE VALUES FOR ADDRESS\n",
      "====================================================================================================\n",
      "['153 AVENUE B' '234 EAST 4TH   STREET' '197 EAST 3RD   STREET' ...\n",
      " '49 PITNEY AVENUE' '2730 ARTHUR KILL ROAD' '155 CLAY PIT ROAD']\n",
      "====================================================================================================\n",
      "UNIQUE VALUES FOR APARTMENT NUMBER\n",
      "====================================================================================================\n",
      "[' ' 'RES' 'UNIT1' ... '115' 'MS-B' '363']\n",
      "====================================================================================================\n",
      "UNIQUE VALUES FOR ZIP CODE\n",
      "====================================================================================================\n",
      "[10009     0 10002 10011 10001 10014 10010 10013 10038 10007 10036 10019\n",
      " 10018 10003 10005 10004 10006 10016 10012 10026 10030 10031 10027 10035\n",
      " 10037 10029 10039 10032 10128 10463 10034 10025 10022 10017 10167 10023\n",
      " 10105 10033 10044 10280 10282 10281 10065 10021 10075 10028 10024 10069\n",
      " 10040 10457 10458 10451 10456 10469 10466 10475 10468 10467 10460 10473\n",
      " 10472 10464 10462 10803 10465 10459 10471 10453 10452 10454 10474 10455\n",
      " 10461 10470 11228 11214 11220 11209 11219 11221 11233 11213 11206 11216\n",
      " 11205 11238 11226 11204 11234 11217 11201 11218 11232 11230 11235 11212\n",
      " 11237 11207 11236 11239 11231 11249 11224 11225 11208 11210 11203 11229\n",
      " 11215 11223 11222 11211 11370 11691 11692 11102 11106 11103 11377 11105\n",
      " 11101 11361 11360 11357 11358 11364 11693 11694 11426 11428 11004 11001\n",
      " 11435 11411 11356 11354 11420 11368 11373 11372 11363 11362 11369 11378\n",
      " 11040 11375 11355 11365 11367 11366 11374 11385 11005 11421 11379 11432\n",
      " 11423 11412 11427 11429 11433 11414 11422 11415 11418 11413 11109 11104\n",
      " 11416 11417 11419 11436 11434 11430 10312 10305 10314 10303 10310 10302\n",
      " 10301 10304 10306 10308 10309 10307]\n",
      "====================================================================================================\n",
      "UNIQUE VALUES FOR RESIDENTIAL UNITS\n",
      "====================================================================================================\n",
      "[   5   28   16   10    6   20    8   44   15   24   30    0   47  132\n",
      "    1    3    4    2   22    9  210   35   17   11    7   18   27   14\n",
      "   12   21   40   19   48   79   55  529  476  317   42   23   25  107\n",
      "  133   31   36   34   33   90   74   29   13  286  256  771  257   38\n",
      "  311   41   51   76   54   45   72   56   68   37   50   26   61   60\n",
      "  894   67  550  184   78  181   86  259  102  233  121   52 1641   96\n",
      "   87  100  113   99   92   70  369   77  232  315   91   32   66   64\n",
      "  109  387  153   59  193   62  103  146  287   94   46   84   75   65\n",
      "   95   49   63   43  716  680  179   71   39   53  283  114   89   73\n",
      "   83  498   81  162  127  222  130   58  159  462  142  948  129  889\n",
      "  271  150  120   57  117  106   85  118  164  139  165  122  134  278\n",
      "  135  324  180  405  136  168  144  152  138   88  244  291 1844  198\n",
      "  148  175  296  446  420  335  143  128]\n",
      "====================================================================================================\n",
      "UNIQUE VALUES FOR COMMERCIAL UNITS\n",
      "====================================================================================================\n",
      "[   0    3    1    2    4   13    5   24    6   19   10   15   14    8\n",
      "    7   35   42   55   17   38   12   27  422    9   23   52  318   20\n",
      "   67   11  254   26   49   30   91   59   62   31   73   56   34   32\n",
      "   18   22   28  147  184   25  172  436   16 2261   51   21  126]\n",
      "====================================================================================================\n",
      "UNIQUE VALUES FOR TOTAL UNITS\n",
      "====================================================================================================\n",
      "[   5   31   17   10    6   20    8   46   15   24   34    0   47  132\n",
      "    1    4    2    3    7    9   16  211   32   13   19   35   18   14\n",
      "   30   12   21   23   45   26   11   48   82   55   42   38   27  422\n",
      "  538  482  323   52  318   67   25   22   28  107  137   36   37   96\n",
      "  138   76   33  286  256  771  257   44  315   41   51   40   29   81\n",
      "   54   72   56   68   74   39   50   61  902   70  551  254  185   78\n",
      "  181   49   91   87  269  102  234  235  233   59   62   73   43  121\n",
      " 1653  192  100  113   99   92   75  374   77  238  317   93   69   60\n",
      "   64  111  395  155  193  103  146  287   94   84   65   95   63   71\n",
      "   57  736  680  179   53  291   66  114   79   83  520  163  127  222\n",
      "  130   90   58  159  462  142  955  129  889  109  147  271  150  120\n",
      "  117  106   86  118  164  139  165  122  279  135  324  180  184  104\n",
      "  405  136  168  172  436  145  152  140   89  148  244  295 1866  278\n",
      "  198 2261  176  296  446  420  336  143  126  128]\n",
      "====================================================================================================\n",
      "UNIQUE VALUES FOR LAND SQUARE FEET\n",
      "====================================================================================================\n",
      "['1633' '4616' '2212' ... '11088' '208033' '10796']\n",
      "====================================================================================================\n",
      "UNIQUE VALUES FOR GROSS SQUARE FEET\n",
      "====================================================================================================\n",
      "['6440' '18690' '7803' ... '977' '2683' '64117']\n",
      "====================================================================================================\n",
      "UNIQUE VALUES FOR YEAR BUILT\n",
      "====================================================================================================\n",
      "[1900 1913 1920 1910 2009 1925 1902 1928 1930 1935 1937 1915 1950 1929\n",
      " 1901 1940 2005    0 1989 2014 2008 1965 2013 2003 2006 2007 1951 1899\n",
      " 1850 1905 1864 1917 1911 1983 1926 1963 1960 1889 1898 1939 1938 1927\n",
      " 1909 1958 1904 1907 1987 1931 1984 1948 2004 1918 1875 2012 1973 2011\n",
      " 1922 2001 1932 1980 1908 1953 1906 2015 1946 1921 2010 1954 1111 1924\n",
      " 1990 1890 1991 1988 1895 2016 1957 1986 1966 1998 1870 1923 1969 2017\n",
      " 1968 1934 1956 1982 1914 1903 1967 1840 1912 1964 1955 1961 1851 2000\n",
      " 1959 1962 1945 1972 1976 1916 1880 1970 1846 1941 1952 1896 1985 1981\n",
      " 1888 1947 1975 1974 2002 1994 1892 1894 1891 1996 1997 1949 1999 1800\n",
      " 1979 1971 1977 1942 1978 1826 1881 1919 1883 1936 1993 1995 1933 1992\n",
      " 1943 1944 1847 1829 1844 1835 1852 1856 1854 1832 1845 1849 1855 1871\n",
      " 1893 1865 1882 1680]\n",
      "====================================================================================================\n",
      "UNIQUE VALUES FOR TAX CLASS AT TIME OF SALE\n",
      "====================================================================================================\n",
      "[2 4 1 3]\n",
      "====================================================================================================\n",
      "UNIQUE VALUES FOR BUILDING CLASS AT TIME OF SALE\n",
      "====================================================================================================\n",
      "['C2' 'C7' 'C4' 'D5' 'D9' 'D7' 'D1' 'C6' 'D0' 'D4' 'RR' 'R2' 'R4' 'S3'\n",
      " 'S4' 'S5' 'R1' 'R8' 'R9' 'K4' 'M9' 'M3' 'RA' 'RK' 'RS' 'A9' 'A4' 'B3'\n",
      " 'B1' 'S2' 'C0' 'R6' 'C5' 'C3' 'C1' 'D6' 'S9' 'O2' 'O1' 'O3' 'O5' 'O6'\n",
      " 'K1' 'K2' 'L9' 'L8' 'L1' 'H1' 'H8' 'H3' 'R5' 'G9' 'G6' 'P7' 'M1' 'N2'\n",
      " 'RB' 'RG' 'RT' 'K9' 'V1' 'GW' 'G2' 'I7' 'M4' 'Z9' 'B9' 'D3' 'I9' 'U6'\n",
      " 'O4' 'L3' 'H2' 'E1' 'Z3' 'Q1' 'RW' 'C9' 'J5' 'N9' 'S1' 'A5' 'J8' 'B2'\n",
      " 'C8' 'F5' 'G7' 'G5' 'G4' 'P2' 'Q9' 'Y1' 'RP' 'O8' 'HR' 'G1' 'E7' 'I5'\n",
      " 'R3' 'I4' 'H9' 'RH' 'D8' 'HB' 'J4' 'W2' 'P9' 'A7' 'D2' 'S0' 'O7' 'O9'\n",
      " 'W3' 'HS' 'H6' 'J9' 'R0' 'HH' 'W8' 'W6' 'A1' 'K5' 'F1' 'V9' 'A2' 'V0'\n",
      " 'G0' 'F4' 'E9' 'I3' 'W4' 'V3' 'I1' 'A6' 'Q8' 'A3' 'Z0' 'W1' 'U1' 'F2'\n",
      " 'F9' 'GU' 'I6' 'G8' 'P5' 'Y3' 'W9' 'M2' 'G3' 'V6' 'K7' 'K3' 'H4' 'R7'\n",
      " 'P8' 'K6' 'V2' 'E2' 'Z2' 'T2' 'K8' 'P6' 'A0' 'J1' 'CM' 'Z7']\n",
      "====================================================================================================\n",
      "UNIQUE VALUES FOR SALE PRICE\n",
      "====================================================================================================\n",
      "['6625000' ' -  ' '3936272' ... '408092' '11693337' '69300']\n",
      "====================================================================================================\n",
      "UNIQUE VALUES FOR SALE DATE\n",
      "====================================================================================================\n",
      "['2017-07-19 00:00:00' '2016-12-14 00:00:00' '2016-12-09 00:00:00'\n",
      " '2016-09-23 00:00:00' '2016-11-17 00:00:00' '2017-07-20 00:00:00'\n",
      " '2017-06-20 00:00:00' '2016-11-07 00:00:00' '2016-10-17 00:00:00'\n",
      " '2016-09-06 00:00:00' '2017-03-10 00:00:00' '2017-04-28 00:00:00'\n",
      " '2017-06-09 00:00:00' '2017-07-14 00:00:00' '2017-03-16 00:00:00'\n",
      " '2016-09-01 00:00:00' '2017-08-17 00:00:00' '2016-09-07 00:00:00'\n",
      " '2017-08-30 00:00:00' '2017-06-21 00:00:00' '2017-01-30 00:00:00'\n",
      " '2017-07-07 00:00:00' '2017-08-04 00:00:00' '2017-01-09 00:00:00'\n",
      " '2017-04-18 00:00:00' '2017-06-19 00:00:00' '2017-08-28 00:00:00'\n",
      " '2017-05-10 00:00:00' '2016-12-02 00:00:00' '2017-01-31 00:00:00'\n",
      " '2017-06-28 00:00:00' '2016-12-07 00:00:00' '2017-08-24 00:00:00'\n",
      " '2017-06-27 00:00:00' '2017-03-17 00:00:00' '2017-06-14 00:00:00'\n",
      " '2017-01-17 00:00:00' '2017-01-11 00:00:00' '2017-04-21 00:00:00'\n",
      " '2017-06-29 00:00:00' '2016-10-05 00:00:00' '2017-02-02 00:00:00'\n",
      " '2017-03-20 00:00:00' '2017-04-13 00:00:00' '2017-06-06 00:00:00'\n",
      " '2017-07-17 00:00:00' '2016-12-06 00:00:00' '2017-07-13 00:00:00'\n",
      " '2017-05-17 00:00:00' '2017-05-31 00:00:00' '2017-07-12 00:00:00'\n",
      " '2017-01-19 00:00:00' '2017-05-03 00:00:00' '2016-09-29 00:00:00'\n",
      " '2017-08-07 00:00:00' '2017-01-20 00:00:00' '2017-02-23 00:00:00'\n",
      " '2016-09-12 00:00:00' '2017-08-09 00:00:00' '2017-04-07 00:00:00'\n",
      " '2017-05-11 00:00:00' '2016-10-13 00:00:00' '2016-10-19 00:00:00'\n",
      " '2016-12-30 00:00:00' '2017-02-24 00:00:00' '2016-09-21 00:00:00'\n",
      " '2016-11-03 00:00:00' '2017-03-31 00:00:00' '2017-05-25 00:00:00'\n",
      " '2017-02-14 00:00:00' '2017-02-01 00:00:00' '2017-05-08 00:00:00'\n",
      " '2017-08-14 00:00:00' '2017-06-23 00:00:00' '2017-03-27 00:00:00'\n",
      " '2017-04-22 00:00:00' '2017-07-06 00:00:00' '2017-06-12 00:00:00'\n",
      " '2017-06-22 00:00:00' '2017-02-17 00:00:00' '2016-09-08 00:00:00'\n",
      " '2016-12-23 00:00:00' '2017-07-24 00:00:00' '2016-10-08 00:00:00'\n",
      " '2016-12-08 00:00:00' '2017-04-25 00:00:00' '2016-12-13 00:00:00'\n",
      " '2017-01-12 00:00:00' '2017-03-03 00:00:00' '2017-01-25 00:00:00'\n",
      " '2016-12-19 00:00:00' '2016-12-16 00:00:00' '2016-12-29 00:00:00'\n",
      " '2017-01-13 00:00:00' '2016-12-21 00:00:00' '2017-03-30 00:00:00'\n",
      " '2017-04-14 00:00:00' '2017-05-22 00:00:00' '2017-05-19 00:00:00'\n",
      " '2017-02-08 00:00:00' '2016-11-08 00:00:00' '2017-03-02 00:00:00'\n",
      " '2017-01-05 00:00:00' '2016-10-11 00:00:00' '2016-11-15 00:00:00'\n",
      " '2017-04-03 00:00:00' '2016-11-28 00:00:00' '2016-11-14 00:00:00'\n",
      " '2017-04-20 00:00:00' '2017-05-05 00:00:00' '2016-11-16 00:00:00'\n",
      " '2017-07-18 00:00:00' '2017-05-15 00:00:00' '2017-07-31 00:00:00'\n",
      " '2017-06-07 00:00:00' '2016-11-02 00:00:00' '2017-04-19 00:00:00'\n",
      " '2017-07-11 00:00:00' '2016-09-28 00:00:00' '2017-01-06 00:00:00'\n",
      " '2016-10-20 00:00:00' '2017-03-28 00:00:00' '2017-04-17 00:00:00'\n",
      " '2016-10-26 00:00:00' '2017-02-06 00:00:00' '2017-03-23 00:00:00'\n",
      " '2017-08-31 00:00:00' '2017-07-27 00:00:00' '2016-11-10 00:00:00'\n",
      " '2016-10-28 00:00:00' '2016-12-05 00:00:00' '2016-11-29 00:00:00'\n",
      " '2016-11-21 00:00:00' '2017-01-27 00:00:00' '2016-09-26 00:00:00'\n",
      " '2017-02-21 00:00:00' '2016-10-06 00:00:00' '2017-08-25 00:00:00'\n",
      " '2016-11-30 00:00:00' '2017-02-16 00:00:00' '2017-03-01 00:00:00'\n",
      " '2016-10-31 00:00:00' '2016-12-20 00:00:00' '2016-11-18 00:00:00'\n",
      " '2017-04-10 00:00:00' '2016-11-23 00:00:00' '2016-12-27 00:00:00'\n",
      " '2017-05-12 00:00:00' '2017-02-15 00:00:00' '2017-07-10 00:00:00'\n",
      " '2017-03-06 00:00:00' '2017-06-30 00:00:00' '2017-07-26 00:00:00'\n",
      " '2017-03-22 00:00:00' '2017-03-08 00:00:00' '2016-09-14 00:00:00'\n",
      " '2017-04-26 00:00:00' '2016-09-27 00:00:00' '2017-04-27 00:00:00'\n",
      " '2016-12-01 00:00:00' '2017-01-23 00:00:00' '2016-11-04 00:00:00'\n",
      " '2016-10-07 00:00:00' '2017-06-05 00:00:00' '2017-05-23 00:00:00'\n",
      " '2017-01-26 00:00:00' '2016-12-28 00:00:00' '2017-05-02 00:00:00'\n",
      " '2017-03-07 00:00:00' '2017-05-01 00:00:00' '2016-10-14 00:00:00'\n",
      " '2016-12-15 00:00:00' '2016-11-01 00:00:00' '2016-09-15 00:00:00'\n",
      " '2016-10-01 00:00:00' '2016-10-24 00:00:00' '2016-11-11 00:00:00'\n",
      " '2017-02-09 00:00:00' '2017-07-25 00:00:00' '2017-03-15 00:00:00'\n",
      " '2016-09-16 00:00:00' '2017-03-29 00:00:00' '2017-06-26 00:00:00'\n",
      " '2016-10-18 00:00:00' '2016-12-22 00:00:00' '2016-09-09 00:00:00'\n",
      " '2016-11-09 00:00:00' '2017-05-04 00:00:00' '2017-06-13 00:00:00'\n",
      " '2017-02-10 00:00:00' '2017-04-24 00:00:00' '2017-05-24 00:00:00'\n",
      " '2017-02-28 00:00:00' '2017-04-11 00:00:00' '2016-10-25 00:00:00'\n",
      " '2017-08-21 00:00:00' '2017-08-29 00:00:00' '2017-08-01 00:00:00'\n",
      " '2017-06-08 00:00:00' '2017-08-23 00:00:00' '2016-10-27 00:00:00'\n",
      " '2017-06-02 00:00:00' '2017-06-16 00:00:00' '2016-11-22 00:00:00'\n",
      " '2017-07-05 00:00:00' '2016-09-13 00:00:00' '2017-03-13 00:00:00'\n",
      " '2017-01-03 00:00:00' '2017-01-04 00:00:00' '2017-01-18 00:00:00'\n",
      " '2017-05-18 00:00:00' '2017-05-30 00:00:00' '2017-01-10 00:00:00'\n",
      " '2017-08-11 00:00:00' '2017-08-02 00:00:00' '2017-07-28 00:00:00'\n",
      " '2017-06-15 00:00:00' '2017-08-22 00:00:00' '2016-09-02 00:00:00'\n",
      " '2017-02-03 00:00:00' '2017-04-06 00:00:00' '2017-02-07 00:00:00'\n",
      " '2017-05-26 00:00:00' '2017-08-10 00:00:00' '2017-01-24 00:00:00'\n",
      " '2016-12-26 00:00:00' '2017-08-18 00:00:00' '2017-02-13 00:00:00'\n",
      " '2016-09-30 00:00:00' '2017-04-12 00:00:00' '2017-05-09 00:00:00'\n",
      " '2016-10-29 00:00:00' '2017-02-27 00:00:00' '2017-01-01 00:00:00'\n",
      " '2017-06-01 00:00:00' '2016-10-03 00:00:00' '2017-08-15 00:00:00'\n",
      " '2016-12-12 00:00:00' '2016-12-17 00:00:00' '2017-08-03 00:00:00'\n",
      " '2016-09-22 00:00:00' '2016-12-31 00:00:00' '2016-10-04 00:00:00'\n",
      " '2016-09-20 00:00:00' '2017-03-21 00:00:00' '2017-08-08 00:00:00'\n",
      " '2017-04-05 00:00:00' '2017-08-16 00:00:00' '2017-02-22 00:00:00'\n",
      " '2017-02-04 00:00:00' '2017-05-16 00:00:00' '2017-03-24 00:00:00'\n",
      " '2017-03-09 00:00:00' '2017-07-21 00:00:00' '2017-04-04 00:00:00'\n",
      " '2016-09-19 00:00:00' '2017-01-07 00:00:00' '2016-10-21 00:00:00'\n",
      " '2017-04-29 00:00:00' '2017-07-22 00:00:00' '2017-02-20 00:00:00'\n",
      " '2016-10-23 00:00:00' '2017-01-02 00:00:00' '2016-10-12 00:00:00'\n",
      " '2017-07-15 00:00:00' '2016-10-16 00:00:00' '2017-03-14 00:00:00'\n",
      " '2017-04-30 00:00:00' '2017-04-09 00:00:00' '2017-03-04 00:00:00'\n",
      " '2016-09-17 00:00:00' '2017-06-03 00:00:00' '2017-05-06 00:00:00'\n",
      " '2017-07-03 00:00:00' '2017-01-28 00:00:00' '2017-03-05 00:00:00'\n",
      " '2016-11-27 00:00:00' '2017-02-11 00:00:00' '2017-06-24 00:00:00'\n",
      " '2017-01-21 00:00:00' '2016-10-22 00:00:00' '2016-10-10 00:00:00'\n",
      " '2016-11-05 00:00:00' '2017-05-20 00:00:00' '2017-08-06 00:00:00'\n",
      " '2017-05-21 00:00:00' '2016-09-10 00:00:00' '2016-11-13 00:00:00'\n",
      " '2016-10-09 00:00:00' '2016-10-15 00:00:00' '2016-11-25 00:00:00'\n",
      " '2017-02-18 00:00:00' '2016-09-25 00:00:00' '2016-11-20 00:00:00'\n",
      " '2017-04-01 00:00:00' '2017-01-16 00:00:00' '2017-05-13 00:00:00'\n",
      " '2016-11-12 00:00:00' '2017-07-01 00:00:00' '2017-03-19 00:00:00'\n",
      " '2017-07-16 00:00:00' '2016-09-05 00:00:00' '2016-10-30 00:00:00'\n",
      " '2017-02-26 00:00:00' '2017-01-15 00:00:00' '2016-11-06 00:00:00'\n",
      " '2017-03-18 00:00:00' '2017-08-27 00:00:00' '2016-11-26 00:00:00'\n",
      " '2017-01-22 00:00:00' '2017-05-29 00:00:00' '2017-04-16 00:00:00'\n",
      " '2017-01-14 00:00:00' '2017-04-15 00:00:00' '2017-07-08 00:00:00'\n",
      " '2016-11-24 00:00:00' '2017-08-26 00:00:00' '2017-02-25 00:00:00'\n",
      " '2017-05-27 00:00:00' '2016-10-02 00:00:00' '2017-03-25 00:00:00'\n",
      " '2016-11-19 00:00:00' '2017-05-14 00:00:00' '2017-02-05 00:00:00'\n",
      " '2016-09-03 00:00:00' '2017-04-08 00:00:00' '2017-06-11 00:00:00'\n",
      " '2016-12-10 00:00:00' '2017-03-11 00:00:00' '2017-03-12 00:00:00'\n",
      " '2017-01-29 00:00:00' '2017-08-05 00:00:00' '2016-09-11 00:00:00'\n",
      " '2017-06-17 00:00:00' '2017-06-25 00:00:00' '2017-03-26 00:00:00'\n",
      " '2017-07-29 00:00:00' '2017-06-18 00:00:00' '2017-05-28 00:00:00'\n",
      " '2017-05-07 00:00:00' '2017-06-10 00:00:00' '2016-12-24 00:00:00'\n",
      " '2016-09-24 00:00:00' '2016-12-18 00:00:00' '2017-04-02 00:00:00'\n",
      " '2017-08-20 00:00:00' '2017-08-12 00:00:00' '2016-12-11 00:00:00'\n",
      " '2017-08-19 00:00:00' '2016-09-18 00:00:00' '2017-02-19 00:00:00'\n",
      " '2017-07-02 00:00:00' '2017-07-30 00:00:00' '2017-01-08 00:00:00'\n",
      " '2017-07-23 00:00:00' '2017-08-13 00:00:00' '2017-07-04 00:00:00'\n",
      " '2016-12-04 00:00:00' '2017-04-23 00:00:00' '2016-12-03 00:00:00'\n",
      " '2017-07-09 00:00:00' '2016-09-04 00:00:00' '2017-02-12 00:00:00'\n",
      " '2017-06-04 00:00:00']\n",
      "====================================================================================================\n"
     ]
    }
   ],
   "source": [
    "# Melihat semua nilai unik dari setiap kolom untuk melihat adanya anomali (unstandard missing values)\n",
    "for col in df_nycsales.columns:\n",
    "    print(\"UNIQUE VALUES FOR\",col)\n",
    "    print(\"=\"*100)\n",
    "    print(df_nycsales[col].unique())\n",
    "    print(\"=\"*100)"
   ]
  },
  {
   "cell_type": "markdown",
   "metadata": {},
   "source": [
    "### KESIMPULAN ANALISIS\n",
    "***\n",
    "Dari analisis di atas, beberapa kolom masih terdapat unstandard missing values yang tidak berhasil diidentifikasi oleh Pandas sebagai missing values. Berikut ini adalah rangkumannya:\n",
    "1. Kolom \"Unnamed: 0\" dan kolom 'EASE-MENT' tidak diperlukan untuk analisis berikutnya, sehingga akan dibuang.\n",
    "2. Kolom 'TAX CLASS AT PRESENT' mengandung nilai (' ') yang diidentifikasi sebagai missing values.\n",
    "3. Kolom 'BUILDING CLASS AT PRESENT', 'APARTMENT NUMBER' mengandung nilai (' ') yang diidentifikasi sebagai missing values.\n",
    "4. Kolom 'ZIP CODE', 'YEAR BUILT', 'TOTAL UNITS' mengandung nilai (0) yang diidentifikasi sebagai missing values.\n",
    "5. Kolom 'SALE PRICE' mengandung nilai (' - ') yang diidentifikasi sebagai missing values, selanjutnya nilai ini akan diganti dengan 0 dan dianggap tidak ada transaksi."
   ]
  },
  {
   "cell_type": "markdown",
   "metadata": {},
   "source": [
    "## 3. Data Cleaning\n",
    "### Baca ulang dataset dengan menambahkan unstandard missing values"
   ]
  },
  {
   "cell_type": "code",
   "execution_count": 11,
   "metadata": {},
   "outputs": [],
   "source": [
    "# Menambahkan beberapa format non standard missing values\n",
    "miss_values = ['NA', 'NaN', 'na', 'n/a', 'n-a' \"--\", \"?\", ' ',' -  ']\n",
    "\n",
    "# Membaca dataset\n",
    "df_nycsales = pd.read_csv('./dataset/nyc-rolling-sales.csv', na_values=miss_values)"
   ]
  },
  {
   "cell_type": "code",
   "execution_count": 12,
   "metadata": {},
   "outputs": [],
   "source": [
    "# Mengubah nilai 0 di kolom YEAR BUILT, ZIP CODE, TOTAL UNIT dengan np.nan\n",
    "df_nycsales['YEAR BUILT']=df_nycsales['YEAR BUILT'].replace({0:np.nan})\n",
    "df_nycsales['ZIP CODE']=df_nycsales['ZIP CODE'].replace({0:np.nan})\n",
    "df_nycsales['TOTAL UNITS']=df_nycsales['TOTAL UNITS'].replace({0:np.nan})"
   ]
  },
  {
   "cell_type": "markdown",
   "metadata": {},
   "source": [
    "### Mengecek ulang adanya missing values (unstandard missing values)"
   ]
  },
  {
   "cell_type": "code",
   "execution_count": 13,
   "metadata": {},
   "outputs": [
    {
     "data": {
      "text/plain": [
       "Unnamed: 0                            0\n",
       "BOROUGH                               0\n",
       "NEIGHBORHOOD                          0\n",
       "BUILDING CLASS CATEGORY               0\n",
       "TAX CLASS AT PRESENT                738\n",
       "BLOCK                                 0\n",
       "LOT                                   0\n",
       "EASE-MENT                         84548\n",
       "BUILDING CLASS AT PRESENT           738\n",
       "ADDRESS                               0\n",
       "APARTMENT NUMBER                  65496\n",
       "ZIP CODE                            982\n",
       "RESIDENTIAL UNITS                     0\n",
       "COMMERCIAL UNITS                      0\n",
       "TOTAL UNITS                       19762\n",
       "LAND SQUARE FEET                  26252\n",
       "GROSS SQUARE FEET                 27612\n",
       "YEAR BUILT                         6970\n",
       "TAX CLASS AT TIME OF SALE             0\n",
       "BUILDING CLASS AT TIME OF SALE        0\n",
       "SALE PRICE                        14561\n",
       "SALE DATE                             0\n",
       "dtype: int64"
      ]
     },
     "execution_count": 13,
     "metadata": {},
     "output_type": "execute_result"
    }
   ],
   "source": [
    "# Mengecek jumlah missing values pada setiap kolom\n",
    "df_nycsales.isnull().sum()"
   ]
  },
  {
   "cell_type": "code",
   "execution_count": 14,
   "metadata": {},
   "outputs": [
    {
     "name": "stdout",
     "output_type": "stream",
     "text": [
      "                 TAX CLASS AT PRESENT  EASE-MENT  BUILDING CLASS AT PRESENT  \\\n",
      "percent missing              0.872877      100.0                   0.872877   \n",
      "num of missing                    NaN    84548.0                        NaN   \n",
      "\n",
      "                 APARTMENT NUMBER  ZIP CODE   TOTAL UNITS  LAND SQUARE FEET  \\\n",
      "percent missing         77.466055   1.16147     23.373705         31.049818   \n",
      "num of missing       65496.000000       NaN  19762.000000      26252.000000   \n",
      "\n",
      "                 GROSS SQUARE FEET   YEAR BUILT   SALE PRICE  \n",
      "percent missing          32.658372     8.243838     17.22217  \n",
      "num of missing        27612.000000  6970.000000  14561.00000  \n"
     ]
    }
   ],
   "source": [
    "# Mengecek persentase dan jumlah missing value\n",
    "missing_value = df_nycsales.isnull().sum()/len(df_nycsales)*100\n",
    "print(pd.DataFrame([missing_value[missing_value>0], \n",
    "    pd.Series(df_nycsales.isnull().sum()[df_nycsales.isnull().sum()>1000])],\n",
    "    index=['percent missing', 'num of missing']))"
   ]
  },
  {
   "cell_type": "markdown",
   "metadata": {},
   "source": [
    "### Menghapus kolom-kolom yang tidak diperlukan"
   ]
  },
  {
   "cell_type": "code",
   "execution_count": 15,
   "metadata": {},
   "outputs": [
    {
     "data": {
      "text/html": [
       "<div>\n",
       "<style scoped>\n",
       "    .dataframe tbody tr th:only-of-type {\n",
       "        vertical-align: middle;\n",
       "    }\n",
       "\n",
       "    .dataframe tbody tr th {\n",
       "        vertical-align: top;\n",
       "    }\n",
       "\n",
       "    .dataframe thead th {\n",
       "        text-align: right;\n",
       "    }\n",
       "</style>\n",
       "<table border=\"1\" class=\"dataframe\">\n",
       "  <thead>\n",
       "    <tr style=\"text-align: right;\">\n",
       "      <th></th>\n",
       "      <th>BOROUGH</th>\n",
       "      <th>NEIGHBORHOOD</th>\n",
       "      <th>BUILDING CLASS CATEGORY</th>\n",
       "      <th>TAX CLASS AT PRESENT</th>\n",
       "      <th>BLOCK</th>\n",
       "      <th>LOT</th>\n",
       "      <th>BUILDING CLASS AT PRESENT</th>\n",
       "      <th>ADDRESS</th>\n",
       "      <th>ZIP CODE</th>\n",
       "      <th>RESIDENTIAL UNITS</th>\n",
       "      <th>COMMERCIAL UNITS</th>\n",
       "      <th>TOTAL UNITS</th>\n",
       "      <th>LAND SQUARE FEET</th>\n",
       "      <th>GROSS SQUARE FEET</th>\n",
       "      <th>YEAR BUILT</th>\n",
       "      <th>TAX CLASS AT TIME OF SALE</th>\n",
       "      <th>BUILDING CLASS AT TIME OF SALE</th>\n",
       "      <th>SALE PRICE</th>\n",
       "      <th>SALE DATE</th>\n",
       "    </tr>\n",
       "  </thead>\n",
       "  <tbody>\n",
       "    <tr>\n",
       "      <th>0</th>\n",
       "      <td>1</td>\n",
       "      <td>ALPHABET CITY</td>\n",
       "      <td>07 RENTALS - WALKUP APARTMENTS</td>\n",
       "      <td>2A</td>\n",
       "      <td>392</td>\n",
       "      <td>6</td>\n",
       "      <td>C2</td>\n",
       "      <td>153 AVENUE B</td>\n",
       "      <td>10009.0</td>\n",
       "      <td>5</td>\n",
       "      <td>0</td>\n",
       "      <td>5.0</td>\n",
       "      <td>1633.0</td>\n",
       "      <td>6440.0</td>\n",
       "      <td>1900.0</td>\n",
       "      <td>2</td>\n",
       "      <td>C2</td>\n",
       "      <td>6625000.0</td>\n",
       "      <td>2017-07-19 00:00:00</td>\n",
       "    </tr>\n",
       "    <tr>\n",
       "      <th>1</th>\n",
       "      <td>1</td>\n",
       "      <td>ALPHABET CITY</td>\n",
       "      <td>07 RENTALS - WALKUP APARTMENTS</td>\n",
       "      <td>2</td>\n",
       "      <td>399</td>\n",
       "      <td>26</td>\n",
       "      <td>C7</td>\n",
       "      <td>234 EAST 4TH   STREET</td>\n",
       "      <td>10009.0</td>\n",
       "      <td>28</td>\n",
       "      <td>3</td>\n",
       "      <td>31.0</td>\n",
       "      <td>4616.0</td>\n",
       "      <td>18690.0</td>\n",
       "      <td>1900.0</td>\n",
       "      <td>2</td>\n",
       "      <td>C7</td>\n",
       "      <td>NaN</td>\n",
       "      <td>2016-12-14 00:00:00</td>\n",
       "    </tr>\n",
       "    <tr>\n",
       "      <th>2</th>\n",
       "      <td>1</td>\n",
       "      <td>ALPHABET CITY</td>\n",
       "      <td>07 RENTALS - WALKUP APARTMENTS</td>\n",
       "      <td>2</td>\n",
       "      <td>399</td>\n",
       "      <td>39</td>\n",
       "      <td>C7</td>\n",
       "      <td>197 EAST 3RD   STREET</td>\n",
       "      <td>10009.0</td>\n",
       "      <td>16</td>\n",
       "      <td>1</td>\n",
       "      <td>17.0</td>\n",
       "      <td>2212.0</td>\n",
       "      <td>7803.0</td>\n",
       "      <td>1900.0</td>\n",
       "      <td>2</td>\n",
       "      <td>C7</td>\n",
       "      <td>NaN</td>\n",
       "      <td>2016-12-09 00:00:00</td>\n",
       "    </tr>\n",
       "    <tr>\n",
       "      <th>3</th>\n",
       "      <td>1</td>\n",
       "      <td>ALPHABET CITY</td>\n",
       "      <td>07 RENTALS - WALKUP APARTMENTS</td>\n",
       "      <td>2B</td>\n",
       "      <td>402</td>\n",
       "      <td>21</td>\n",
       "      <td>C4</td>\n",
       "      <td>154 EAST 7TH STREET</td>\n",
       "      <td>10009.0</td>\n",
       "      <td>10</td>\n",
       "      <td>0</td>\n",
       "      <td>10.0</td>\n",
       "      <td>2272.0</td>\n",
       "      <td>6794.0</td>\n",
       "      <td>1913.0</td>\n",
       "      <td>2</td>\n",
       "      <td>C4</td>\n",
       "      <td>3936272.0</td>\n",
       "      <td>2016-09-23 00:00:00</td>\n",
       "    </tr>\n",
       "    <tr>\n",
       "      <th>4</th>\n",
       "      <td>1</td>\n",
       "      <td>ALPHABET CITY</td>\n",
       "      <td>07 RENTALS - WALKUP APARTMENTS</td>\n",
       "      <td>2A</td>\n",
       "      <td>404</td>\n",
       "      <td>55</td>\n",
       "      <td>C2</td>\n",
       "      <td>301 EAST 10TH   STREET</td>\n",
       "      <td>10009.0</td>\n",
       "      <td>6</td>\n",
       "      <td>0</td>\n",
       "      <td>6.0</td>\n",
       "      <td>2369.0</td>\n",
       "      <td>4615.0</td>\n",
       "      <td>1900.0</td>\n",
       "      <td>2</td>\n",
       "      <td>C2</td>\n",
       "      <td>8000000.0</td>\n",
       "      <td>2016-11-17 00:00:00</td>\n",
       "    </tr>\n",
       "  </tbody>\n",
       "</table>\n",
       "</div>"
      ],
      "text/plain": [
       "   BOROUGH   NEIGHBORHOOD                      BUILDING CLASS CATEGORY  \\\n",
       "0        1  ALPHABET CITY  07 RENTALS - WALKUP APARTMENTS                \n",
       "1        1  ALPHABET CITY  07 RENTALS - WALKUP APARTMENTS                \n",
       "2        1  ALPHABET CITY  07 RENTALS - WALKUP APARTMENTS                \n",
       "3        1  ALPHABET CITY  07 RENTALS - WALKUP APARTMENTS                \n",
       "4        1  ALPHABET CITY  07 RENTALS - WALKUP APARTMENTS                \n",
       "\n",
       "  TAX CLASS AT PRESENT  BLOCK  LOT BUILDING CLASS AT PRESENT  \\\n",
       "0                   2A    392    6                        C2   \n",
       "1                    2    399   26                        C7   \n",
       "2                    2    399   39                        C7   \n",
       "3                   2B    402   21                        C4   \n",
       "4                   2A    404   55                        C2   \n",
       "\n",
       "                  ADDRESS  ZIP CODE  RESIDENTIAL UNITS  COMMERCIAL UNITS  \\\n",
       "0            153 AVENUE B   10009.0                  5                 0   \n",
       "1   234 EAST 4TH   STREET   10009.0                 28                 3   \n",
       "2   197 EAST 3RD   STREET   10009.0                 16                 1   \n",
       "3     154 EAST 7TH STREET   10009.0                 10                 0   \n",
       "4  301 EAST 10TH   STREET   10009.0                  6                 0   \n",
       "\n",
       "   TOTAL UNITS  LAND SQUARE FEET  GROSS SQUARE FEET  YEAR BUILT  \\\n",
       "0          5.0            1633.0             6440.0      1900.0   \n",
       "1         31.0            4616.0            18690.0      1900.0   \n",
       "2         17.0            2212.0             7803.0      1900.0   \n",
       "3         10.0            2272.0             6794.0      1913.0   \n",
       "4          6.0            2369.0             4615.0      1900.0   \n",
       "\n",
       "   TAX CLASS AT TIME OF SALE BUILDING CLASS AT TIME OF SALE  SALE PRICE  \\\n",
       "0                          2                             C2   6625000.0   \n",
       "1                          2                             C7         NaN   \n",
       "2                          2                             C7         NaN   \n",
       "3                          2                             C4   3936272.0   \n",
       "4                          2                             C2   8000000.0   \n",
       "\n",
       "             SALE DATE  \n",
       "0  2017-07-19 00:00:00  \n",
       "1  2016-12-14 00:00:00  \n",
       "2  2016-12-09 00:00:00  \n",
       "3  2016-09-23 00:00:00  \n",
       "4  2016-11-17 00:00:00  "
      ]
     },
     "execution_count": 15,
     "metadata": {},
     "output_type": "execute_result"
    }
   ],
   "source": [
    "# Menghapus kolom-kolom yang tidak dibutuhkan\n",
    "df_nycsales.drop(['Unnamed: 0', 'EASE-MENT', 'APARTMENT NUMBER'], axis=1, inplace=True)\n",
    "\n",
    "# Tampilkan 5 data teratas\n",
    "df_nycsales.head()"
   ]
  },
  {
   "cell_type": "markdown",
   "metadata": {},
   "source": [
    "### Mengganti Nilai pada Missing Values"
   ]
  },
  {
   "cell_type": "code",
   "execution_count": 16,
   "metadata": {},
   "outputs": [],
   "source": [
    "# Mengganti nilai missing values pada kolom kategorik dengan nilai modusnya\n",
    "categoric_columns = ['TAX CLASS AT PRESENT', 'BUILDING CLASS AT PRESENT', 'ZIP CODE', 'YEAR BUILT']\n",
    "for cat_col in categoric_columns:\n",
    "    df_nycsales[cat_col].fillna(df_nycsales[cat_col].mode()[0],inplace=True)"
   ]
  },
  {
   "cell_type": "code",
   "execution_count": 17,
   "metadata": {},
   "outputs": [],
   "source": [
    "# Mengganti nilai missing values untuk kolom numerik (kecuali SALE PRICE) dengan nilai mediannya\n",
    "float_columns = ['LAND SQUARE FEET', 'GROSS SQUARE FEET']\n",
    "for float_col in float_columns:\n",
    "    df_nycsales[float_col].fillna(df_nycsales[float_col].median(),inplace=True)"
   ]
  },
  {
   "cell_type": "markdown",
   "metadata": {},
   "source": [
    "### Menghapus sisa kolom yang masih memuat missing values"
   ]
  },
  {
   "cell_type": "code",
   "execution_count": 18,
   "metadata": {},
   "outputs": [],
   "source": [
    "df_nycsales.dropna(inplace=True)"
   ]
  },
  {
   "cell_type": "code",
   "execution_count": 19,
   "metadata": {},
   "outputs": [
    {
     "name": "stdout",
     "output_type": "stream",
     "text": [
      "<class 'pandas.core.frame.DataFrame'>\n",
      "Int64Index: 52363 entries, 0 to 84547\n",
      "Data columns (total 19 columns):\n",
      " #   Column                          Non-Null Count  Dtype  \n",
      "---  ------                          --------------  -----  \n",
      " 0   BOROUGH                         52363 non-null  int64  \n",
      " 1   NEIGHBORHOOD                    52363 non-null  object \n",
      " 2   BUILDING CLASS CATEGORY         52363 non-null  object \n",
      " 3   TAX CLASS AT PRESENT            52363 non-null  object \n",
      " 4   BLOCK                           52363 non-null  int64  \n",
      " 5   LOT                             52363 non-null  int64  \n",
      " 6   BUILDING CLASS AT PRESENT       52363 non-null  object \n",
      " 7   ADDRESS                         52363 non-null  object \n",
      " 8   ZIP CODE                        52363 non-null  float64\n",
      " 9   RESIDENTIAL UNITS               52363 non-null  int64  \n",
      " 10  COMMERCIAL UNITS                52363 non-null  int64  \n",
      " 11  TOTAL UNITS                     52363 non-null  float64\n",
      " 12  LAND SQUARE FEET                52363 non-null  float64\n",
      " 13  GROSS SQUARE FEET               52363 non-null  float64\n",
      " 14  YEAR BUILT                      52363 non-null  float64\n",
      " 15  TAX CLASS AT TIME OF SALE       52363 non-null  int64  \n",
      " 16  BUILDING CLASS AT TIME OF SALE  52363 non-null  object \n",
      " 17  SALE PRICE                      52363 non-null  float64\n",
      " 18  SALE DATE                       52363 non-null  object \n",
      "dtypes: float64(6), int64(6), object(7)\n",
      "memory usage: 8.0+ MB\n"
     ]
    }
   ],
   "source": [
    "# Mengecek dan melihat informasi dataset\n",
    "df_nycsales.info()"
   ]
  },
  {
   "cell_type": "markdown",
   "metadata": {},
   "source": [
    "### Mengecek dan menghapus baris duplikat"
   ]
  },
  {
   "cell_type": "code",
   "execution_count": 20,
   "metadata": {},
   "outputs": [
    {
     "data": {
      "text/html": [
       "<div>\n",
       "<style scoped>\n",
       "    .dataframe tbody tr th:only-of-type {\n",
       "        vertical-align: middle;\n",
       "    }\n",
       "\n",
       "    .dataframe tbody tr th {\n",
       "        vertical-align: top;\n",
       "    }\n",
       "\n",
       "    .dataframe thead th {\n",
       "        text-align: right;\n",
       "    }\n",
       "</style>\n",
       "<table border=\"1\" class=\"dataframe\">\n",
       "  <thead>\n",
       "    <tr style=\"text-align: right;\">\n",
       "      <th></th>\n",
       "      <th>BOROUGH</th>\n",
       "      <th>NEIGHBORHOOD</th>\n",
       "      <th>BUILDING CLASS CATEGORY</th>\n",
       "      <th>TAX CLASS AT PRESENT</th>\n",
       "      <th>BLOCK</th>\n",
       "      <th>LOT</th>\n",
       "      <th>BUILDING CLASS AT PRESENT</th>\n",
       "      <th>ADDRESS</th>\n",
       "      <th>ZIP CODE</th>\n",
       "      <th>RESIDENTIAL UNITS</th>\n",
       "      <th>COMMERCIAL UNITS</th>\n",
       "      <th>TOTAL UNITS</th>\n",
       "      <th>LAND SQUARE FEET</th>\n",
       "      <th>GROSS SQUARE FEET</th>\n",
       "      <th>YEAR BUILT</th>\n",
       "      <th>TAX CLASS AT TIME OF SALE</th>\n",
       "      <th>BUILDING CLASS AT TIME OF SALE</th>\n",
       "      <th>SALE PRICE</th>\n",
       "      <th>SALE DATE</th>\n",
       "    </tr>\n",
       "  </thead>\n",
       "  <tbody>\n",
       "    <tr>\n",
       "      <th>208</th>\n",
       "      <td>1</td>\n",
       "      <td>CHELSEA</td>\n",
       "      <td>01 ONE FAMILY DWELLINGS</td>\n",
       "      <td>1</td>\n",
       "      <td>772</td>\n",
       "      <td>29</td>\n",
       "      <td>A4</td>\n",
       "      <td>231 WEST 22ND   STREET</td>\n",
       "      <td>10011.0</td>\n",
       "      <td>1</td>\n",
       "      <td>0</td>\n",
       "      <td>1.0</td>\n",
       "      <td>1588.0</td>\n",
       "      <td>5653.0</td>\n",
       "      <td>1900.0</td>\n",
       "      <td>1</td>\n",
       "      <td>A4</td>\n",
       "      <td>10.0</td>\n",
       "      <td>2017-01-30 00:00:00</td>\n",
       "    </tr>\n",
       "    <tr>\n",
       "      <th>209</th>\n",
       "      <td>1</td>\n",
       "      <td>CHELSEA</td>\n",
       "      <td>01 ONE FAMILY DWELLINGS</td>\n",
       "      <td>1</td>\n",
       "      <td>772</td>\n",
       "      <td>29</td>\n",
       "      <td>A4</td>\n",
       "      <td>231 WEST 22ND   STREET</td>\n",
       "      <td>10011.0</td>\n",
       "      <td>1</td>\n",
       "      <td>0</td>\n",
       "      <td>1.0</td>\n",
       "      <td>1588.0</td>\n",
       "      <td>5653.0</td>\n",
       "      <td>1900.0</td>\n",
       "      <td>1</td>\n",
       "      <td>A4</td>\n",
       "      <td>10.0</td>\n",
       "      <td>2017-01-30 00:00:00</td>\n",
       "    </tr>\n",
       "    <tr>\n",
       "      <th>683</th>\n",
       "      <td>1</td>\n",
       "      <td>CHELSEA</td>\n",
       "      <td>13 CONDOS - ELEVATOR APARTMENTS</td>\n",
       "      <td>2</td>\n",
       "      <td>774</td>\n",
       "      <td>1042</td>\n",
       "      <td>R4</td>\n",
       "      <td>252 SEVENTH AVENUE</td>\n",
       "      <td>10001.0</td>\n",
       "      <td>1</td>\n",
       "      <td>0</td>\n",
       "      <td>1.0</td>\n",
       "      <td>2325.0</td>\n",
       "      <td>1680.0</td>\n",
       "      <td>1920.0</td>\n",
       "      <td>2</td>\n",
       "      <td>R4</td>\n",
       "      <td>1500000.0</td>\n",
       "      <td>2016-10-05 00:00:00</td>\n",
       "    </tr>\n",
       "    <tr>\n",
       "      <th>2296</th>\n",
       "      <td>1</td>\n",
       "      <td>FINANCIAL</td>\n",
       "      <td>13 CONDOS - ELEVATOR APARTMENTS</td>\n",
       "      <td>2</td>\n",
       "      <td>24</td>\n",
       "      <td>1123</td>\n",
       "      <td>R4</td>\n",
       "      <td>40 BROAD STREET</td>\n",
       "      <td>10004.0</td>\n",
       "      <td>1</td>\n",
       "      <td>0</td>\n",
       "      <td>1.0</td>\n",
       "      <td>2325.0</td>\n",
       "      <td>1680.0</td>\n",
       "      <td>1982.0</td>\n",
       "      <td>2</td>\n",
       "      <td>R4</td>\n",
       "      <td>1200000.0</td>\n",
       "      <td>2017-04-28 00:00:00</td>\n",
       "    </tr>\n",
       "    <tr>\n",
       "      <th>3427</th>\n",
       "      <td>1</td>\n",
       "      <td>GRAMERCY</td>\n",
       "      <td>13 CONDOS - ELEVATOR APARTMENTS</td>\n",
       "      <td>2</td>\n",
       "      <td>879</td>\n",
       "      <td>1207</td>\n",
       "      <td>R4</td>\n",
       "      <td>148 EAST 24TH   STREET</td>\n",
       "      <td>10010.0</td>\n",
       "      <td>1</td>\n",
       "      <td>0</td>\n",
       "      <td>1.0</td>\n",
       "      <td>2325.0</td>\n",
       "      <td>1680.0</td>\n",
       "      <td>2009.0</td>\n",
       "      <td>2</td>\n",
       "      <td>R4</td>\n",
       "      <td>716000.0</td>\n",
       "      <td>2017-04-07 00:00:00</td>\n",
       "    </tr>\n",
       "    <tr>\n",
       "      <th>...</th>\n",
       "      <td>...</td>\n",
       "      <td>...</td>\n",
       "      <td>...</td>\n",
       "      <td>...</td>\n",
       "      <td>...</td>\n",
       "      <td>...</td>\n",
       "      <td>...</td>\n",
       "      <td>...</td>\n",
       "      <td>...</td>\n",
       "      <td>...</td>\n",
       "      <td>...</td>\n",
       "      <td>...</td>\n",
       "      <td>...</td>\n",
       "      <td>...</td>\n",
       "      <td>...</td>\n",
       "      <td>...</td>\n",
       "      <td>...</td>\n",
       "      <td>...</td>\n",
       "      <td>...</td>\n",
       "    </tr>\n",
       "    <tr>\n",
       "      <th>83176</th>\n",
       "      <td>5</td>\n",
       "      <td>TODT HILL</td>\n",
       "      <td>01 ONE FAMILY DWELLINGS</td>\n",
       "      <td>1</td>\n",
       "      <td>908</td>\n",
       "      <td>150</td>\n",
       "      <td>A1</td>\n",
       "      <td>3 HELENA ROAD</td>\n",
       "      <td>10304.0</td>\n",
       "      <td>1</td>\n",
       "      <td>0</td>\n",
       "      <td>1.0</td>\n",
       "      <td>38862.0</td>\n",
       "      <td>3900.0</td>\n",
       "      <td>1920.0</td>\n",
       "      <td>1</td>\n",
       "      <td>A1</td>\n",
       "      <td>1125000.0</td>\n",
       "      <td>2017-08-02 00:00:00</td>\n",
       "    </tr>\n",
       "    <tr>\n",
       "      <th>83207</th>\n",
       "      <td>5</td>\n",
       "      <td>TOMPKINSVILLE</td>\n",
       "      <td>02 TWO FAMILY DWELLINGS</td>\n",
       "      <td>1</td>\n",
       "      <td>114</td>\n",
       "      <td>30</td>\n",
       "      <td>B2</td>\n",
       "      <td>160 CASTLETON AVENUE</td>\n",
       "      <td>10301.0</td>\n",
       "      <td>2</td>\n",
       "      <td>0</td>\n",
       "      <td>2.0</td>\n",
       "      <td>5781.0</td>\n",
       "      <td>844.0</td>\n",
       "      <td>1942.0</td>\n",
       "      <td>1</td>\n",
       "      <td>B2</td>\n",
       "      <td>250000.0</td>\n",
       "      <td>2017-06-22 00:00:00</td>\n",
       "    </tr>\n",
       "    <tr>\n",
       "      <th>83603</th>\n",
       "      <td>5</td>\n",
       "      <td>WEST NEW BRIGHTON</td>\n",
       "      <td>01 ONE FAMILY DWELLINGS</td>\n",
       "      <td>1</td>\n",
       "      <td>91</td>\n",
       "      <td>31</td>\n",
       "      <td>A1</td>\n",
       "      <td>3 CLINTON COURT</td>\n",
       "      <td>10301.0</td>\n",
       "      <td>1</td>\n",
       "      <td>0</td>\n",
       "      <td>1.0</td>\n",
       "      <td>4840.0</td>\n",
       "      <td>2400.0</td>\n",
       "      <td>2005.0</td>\n",
       "      <td>1</td>\n",
       "      <td>A1</td>\n",
       "      <td>585000.0</td>\n",
       "      <td>2016-09-21 00:00:00</td>\n",
       "    </tr>\n",
       "    <tr>\n",
       "      <th>83647</th>\n",
       "      <td>5</td>\n",
       "      <td>WEST NEW BRIGHTON</td>\n",
       "      <td>01 ONE FAMILY DWELLINGS</td>\n",
       "      <td>1</td>\n",
       "      <td>155</td>\n",
       "      <td>180</td>\n",
       "      <td>A1</td>\n",
       "      <td>441 OAKLAND AVENUE</td>\n",
       "      <td>10310.0</td>\n",
       "      <td>1</td>\n",
       "      <td>0</td>\n",
       "      <td>1.0</td>\n",
       "      <td>10671.0</td>\n",
       "      <td>2464.0</td>\n",
       "      <td>1899.0</td>\n",
       "      <td>1</td>\n",
       "      <td>A1</td>\n",
       "      <td>725000.0</td>\n",
       "      <td>2017-06-30 00:00:00</td>\n",
       "    </tr>\n",
       "    <tr>\n",
       "      <th>84445</th>\n",
       "      <td>5</td>\n",
       "      <td>WOODROW</td>\n",
       "      <td>01 ONE FAMILY DWELLINGS</td>\n",
       "      <td>1</td>\n",
       "      <td>6969</td>\n",
       "      <td>20</td>\n",
       "      <td>A5</td>\n",
       "      <td>1045 SHELDON AVENUE</td>\n",
       "      <td>10309.0</td>\n",
       "      <td>1</td>\n",
       "      <td>0</td>\n",
       "      <td>1.0</td>\n",
       "      <td>2773.0</td>\n",
       "      <td>1650.0</td>\n",
       "      <td>1999.0</td>\n",
       "      <td>1</td>\n",
       "      <td>A5</td>\n",
       "      <td>560000.0</td>\n",
       "      <td>2016-09-07 00:00:00</td>\n",
       "    </tr>\n",
       "  </tbody>\n",
       "</table>\n",
       "<p>339 rows × 19 columns</p>\n",
       "</div>"
      ],
      "text/plain": [
       "       BOROUGH       NEIGHBORHOOD  \\\n",
       "208          1            CHELSEA   \n",
       "209          1            CHELSEA   \n",
       "683          1            CHELSEA   \n",
       "2296         1          FINANCIAL   \n",
       "3427         1           GRAMERCY   \n",
       "...        ...                ...   \n",
       "83176        5          TODT HILL   \n",
       "83207        5      TOMPKINSVILLE   \n",
       "83603        5  WEST NEW BRIGHTON   \n",
       "83647        5  WEST NEW BRIGHTON   \n",
       "84445        5            WOODROW   \n",
       "\n",
       "                           BUILDING CLASS CATEGORY TAX CLASS AT PRESENT  \\\n",
       "208    01 ONE FAMILY DWELLINGS                                        1   \n",
       "209    01 ONE FAMILY DWELLINGS                                        1   \n",
       "683    13 CONDOS - ELEVATOR APARTMENTS                                2   \n",
       "2296   13 CONDOS - ELEVATOR APARTMENTS                                2   \n",
       "3427   13 CONDOS - ELEVATOR APARTMENTS                                2   \n",
       "...                                            ...                  ...   \n",
       "83176  01 ONE FAMILY DWELLINGS                                        1   \n",
       "83207  02 TWO FAMILY DWELLINGS                                        1   \n",
       "83603  01 ONE FAMILY DWELLINGS                                        1   \n",
       "83647  01 ONE FAMILY DWELLINGS                                        1   \n",
       "84445  01 ONE FAMILY DWELLINGS                                        1   \n",
       "\n",
       "       BLOCK   LOT BUILDING CLASS AT PRESENT                 ADDRESS  \\\n",
       "208      772    29                        A4  231 WEST 22ND   STREET   \n",
       "209      772    29                        A4  231 WEST 22ND   STREET   \n",
       "683      774  1042                        R4      252 SEVENTH AVENUE   \n",
       "2296      24  1123                        R4         40 BROAD STREET   \n",
       "3427     879  1207                        R4  148 EAST 24TH   STREET   \n",
       "...      ...   ...                       ...                     ...   \n",
       "83176    908   150                        A1           3 HELENA ROAD   \n",
       "83207    114    30                        B2    160 CASTLETON AVENUE   \n",
       "83603     91    31                        A1         3 CLINTON COURT   \n",
       "83647    155   180                        A1      441 OAKLAND AVENUE   \n",
       "84445   6969    20                        A5     1045 SHELDON AVENUE   \n",
       "\n",
       "       ZIP CODE  RESIDENTIAL UNITS  COMMERCIAL UNITS  TOTAL UNITS  \\\n",
       "208     10011.0                  1                 0          1.0   \n",
       "209     10011.0                  1                 0          1.0   \n",
       "683     10001.0                  1                 0          1.0   \n",
       "2296    10004.0                  1                 0          1.0   \n",
       "3427    10010.0                  1                 0          1.0   \n",
       "...         ...                ...               ...          ...   \n",
       "83176   10304.0                  1                 0          1.0   \n",
       "83207   10301.0                  2                 0          2.0   \n",
       "83603   10301.0                  1                 0          1.0   \n",
       "83647   10310.0                  1                 0          1.0   \n",
       "84445   10309.0                  1                 0          1.0   \n",
       "\n",
       "       LAND SQUARE FEET  GROSS SQUARE FEET  YEAR BUILT  \\\n",
       "208              1588.0             5653.0      1900.0   \n",
       "209              1588.0             5653.0      1900.0   \n",
       "683              2325.0             1680.0      1920.0   \n",
       "2296             2325.0             1680.0      1982.0   \n",
       "3427             2325.0             1680.0      2009.0   \n",
       "...                 ...                ...         ...   \n",
       "83176           38862.0             3900.0      1920.0   \n",
       "83207            5781.0              844.0      1942.0   \n",
       "83603            4840.0             2400.0      2005.0   \n",
       "83647           10671.0             2464.0      1899.0   \n",
       "84445            2773.0             1650.0      1999.0   \n",
       "\n",
       "       TAX CLASS AT TIME OF SALE BUILDING CLASS AT TIME OF SALE  SALE PRICE  \\\n",
       "208                            1                             A4        10.0   \n",
       "209                            1                             A4        10.0   \n",
       "683                            2                             R4   1500000.0   \n",
       "2296                           2                             R4   1200000.0   \n",
       "3427                           2                             R4    716000.0   \n",
       "...                          ...                            ...         ...   \n",
       "83176                          1                             A1   1125000.0   \n",
       "83207                          1                             B2    250000.0   \n",
       "83603                          1                             A1    585000.0   \n",
       "83647                          1                             A1    725000.0   \n",
       "84445                          1                             A5    560000.0   \n",
       "\n",
       "                 SALE DATE  \n",
       "208    2017-01-30 00:00:00  \n",
       "209    2017-01-30 00:00:00  \n",
       "683    2016-10-05 00:00:00  \n",
       "2296   2017-04-28 00:00:00  \n",
       "3427   2017-04-07 00:00:00  \n",
       "...                    ...  \n",
       "83176  2017-08-02 00:00:00  \n",
       "83207  2017-06-22 00:00:00  \n",
       "83603  2016-09-21 00:00:00  \n",
       "83647  2017-06-30 00:00:00  \n",
       "84445  2016-09-07 00:00:00  \n",
       "\n",
       "[339 rows x 19 columns]"
      ]
     },
     "execution_count": 20,
     "metadata": {},
     "output_type": "execute_result"
    }
   ],
   "source": [
    "# Mengecek semua baris duplikat\n",
    "df_nycsales[\n",
    "    df_nycsales.duplicated()\n",
    "]"
   ]
  },
  {
   "cell_type": "code",
   "execution_count": 21,
   "metadata": {},
   "outputs": [
    {
     "name": "stdout",
     "output_type": "stream",
     "text": [
      "339\n"
     ]
    }
   ],
   "source": [
    "# Menghitung total baris duplikat\n",
    "rows_duplicated = df_nycsales.duplicated()\n",
    "print(rows_duplicated.sum())"
   ]
  },
  {
   "cell_type": "code",
   "execution_count": 22,
   "metadata": {},
   "outputs": [
    {
     "data": {
      "text/plain": [
       "(52024, 19)"
      ]
     },
     "execution_count": 22,
     "metadata": {},
     "output_type": "execute_result"
    }
   ],
   "source": [
    "# Membuang baris duplikat\n",
    "df_nycsales.drop_duplicates(subset=df_nycsales.columns,keep='first', inplace=True)\n",
    "\n",
    "# Melihat dimensi data setelah menghapus baris duplikat\n",
    "df_nycsales.shape"
   ]
  },
  {
   "cell_type": "markdown",
   "metadata": {},
   "source": [
    "### Mengubah tipe data setiap kolom dengan tipe seharusnya\n",
    "- Kolom Kategorikal (String): <br>\n",
    "('BOROUGH', 'NEIGHBORHOOD', 'BUILDING CLASS CATEGORY', 'TAX CLASS AT PRESENT', 'ZIP CODE', 'YEAR BUILT', 'TAX CLASS AT TIME OF SALE', 'BUILDING CLASS AT TIME OF SALE', 'BUILDING CLASS AT PRESENT')\n",
    "- Kolom Float (Bilangan rasional): <br>\n",
    "('SALE PRICE', 'LAND SQUARE FEET', 'GROSS SQUARE FEET')\n",
    "- Kolom Integer (Bilangan bulat): <br>\n",
    "(BLOCK, LOT)"
   ]
  },
  {
   "cell_type": "code",
   "execution_count": 23,
   "metadata": {},
   "outputs": [],
   "source": [
    "categoric_columns = ['BOROUGH', 'NEIGHBORHOOD', 'BUILDING CLASS CATEGORY', 'TAX CLASS AT PRESENT', \n",
    "                'ZIP CODE', 'YEAR BUILT', 'TAX CLASS AT TIME OF SALE', 'BUILDING CLASS AT TIME OF SALE',\n",
    "                'BUILDING CLASS AT PRESENT']\n",
    "float_columns = ['SALE PRICE', 'LAND SQUARE FEET', 'GROSS SQUARE FEET']\n",
    "integer_columns = ['BLOCK', 'LOT']\n",
    "\n",
    "# Mengubah kolom yang seharusnya kategori menjadi tipe 'str'\n",
    "for col in categoric_columns:\n",
    "    df_nycsales[col] = df_nycsales[col].astype('str')\n",
    "\n",
    "# Mengubah kolom yang seharusnya float menjadi tipe 'float'\n",
    "for col in float_columns:\n",
    "    df_nycsales[col] = df_nycsales[col].astype('float64')\n",
    "\n",
    "# Mengubah kolom yang seharusnya int menjadi tipe 'int'\n",
    "for col in integer_columns:\n",
    "    df_nycsales[col] = df_nycsales[col].astype('int64')"
   ]
  },
  {
   "cell_type": "code",
   "execution_count": 24,
   "metadata": {},
   "outputs": [
    {
     "name": "stdout",
     "output_type": "stream",
     "text": [
      "<class 'pandas.core.frame.DataFrame'>\n",
      "Int64Index: 52024 entries, 0 to 84547\n",
      "Data columns (total 19 columns):\n",
      " #   Column                          Non-Null Count  Dtype  \n",
      "---  ------                          --------------  -----  \n",
      " 0   BOROUGH                         52024 non-null  object \n",
      " 1   NEIGHBORHOOD                    52024 non-null  object \n",
      " 2   BUILDING CLASS CATEGORY         52024 non-null  object \n",
      " 3   TAX CLASS AT PRESENT            52024 non-null  object \n",
      " 4   BLOCK                           52024 non-null  int64  \n",
      " 5   LOT                             52024 non-null  int64  \n",
      " 6   BUILDING CLASS AT PRESENT       52024 non-null  object \n",
      " 7   ADDRESS                         52024 non-null  object \n",
      " 8   ZIP CODE                        52024 non-null  object \n",
      " 9   RESIDENTIAL UNITS               52024 non-null  int64  \n",
      " 10  COMMERCIAL UNITS                52024 non-null  int64  \n",
      " 11  TOTAL UNITS                     52024 non-null  float64\n",
      " 12  LAND SQUARE FEET                52024 non-null  float64\n",
      " 13  GROSS SQUARE FEET               52024 non-null  float64\n",
      " 14  YEAR BUILT                      52024 non-null  object \n",
      " 15  TAX CLASS AT TIME OF SALE       52024 non-null  object \n",
      " 16  BUILDING CLASS AT TIME OF SALE  52024 non-null  object \n",
      " 17  SALE PRICE                      52024 non-null  float64\n",
      " 18  SALE DATE                       52024 non-null  object \n",
      "dtypes: float64(4), int64(4), object(11)\n",
      "memory usage: 7.9+ MB\n"
     ]
    }
   ],
   "source": [
    "# Mengecek tipe data semua kolom setelah diubah\n",
    "df_nycsales.info()"
   ]
  },
  {
   "cell_type": "markdown",
   "metadata": {},
   "source": [
    "### Mengganti nilai pada kolom 'BOROUGH' dengan nilai yang seharusnya dan menjadi tipe string"
   ]
  },
  {
   "cell_type": "code",
   "execution_count": 25,
   "metadata": {},
   "outputs": [],
   "source": [
    "df_nycsales['BOROUGH'].replace({'1':'Manhattan','2':'Bronx','3':'Brooklyn','4':'Queens','5':'Staten Island'},inplace=True)"
   ]
  },
  {
   "cell_type": "markdown",
   "metadata": {},
   "source": [
    "### Modifikasi kolom 'SALE DATE'\n",
    "Mengubah kolom 'SALE DATE' menjadi tipe datetime serta menambahkan kolom year, month, date, lalu menghapus kolom 'SALE DATE'"
   ]
  },
  {
   "cell_type": "code",
   "execution_count": 26,
   "metadata": {},
   "outputs": [],
   "source": [
    "df_nycsales['SALE DATE'] = pd.to_datetime(df_nycsales['SALE DATE'])\n",
    "df_nycsales['SALE YEAR'] = df_nycsales['SALE DATE'].dt.year\n",
    "df_nycsales['SALE MONTH'] = df_nycsales['SALE DATE'].dt.month_name()\n",
    "df_nycsales['SALE DATE dt'] = df_nycsales['SALE DATE'].dt.day\n",
    "df_nycsales['SALE DAY'] = df_nycsales['SALE DATE'].dt.day_name()\n",
    "df_nycsales.drop('SALE DATE',inplace=True, axis=1)\n",
    "\n",
    "# rename kolom SALE DATE dt menjadi SALE DATE\n",
    "df_nycsales.rename(columns={'SALE DATE dt':'SALE DATE'},inplace=True)"
   ]
  },
  {
   "cell_type": "code",
   "execution_count": 27,
   "metadata": {},
   "outputs": [
    {
     "name": "stdout",
     "output_type": "stream",
     "text": [
      "Dimensi data:\n",
      "52024 baris\n",
      "22 kolom\n"
     ]
    }
   ],
   "source": [
    "# Re-index dataframe setelah dilakukan preprocessing\n",
    "df_nycsales.index = range(0,len(df_nycsales))\n",
    "\n",
    "# Melihat kembali dimensi dataset\n",
    "row, column = df_nycsales.shape\n",
    "print(\"Dimensi data:\")\n",
    "print(row, \"baris\")\n",
    "print(column, \"kolom\")"
   ]
  },
  {
   "cell_type": "code",
   "execution_count": 28,
   "metadata": {},
   "outputs": [
    {
     "name": "stderr",
     "output_type": "stream",
     "text": [
      "C:\\Users\\Ika N\\AppData\\Local\\Temp\\ipykernel_9768\\917721031.py:14: FutureWarning: Automatic reindexing on DataFrame vs Series comparisons is deprecated and will raise ValueError in a future version. Do `left, right = left.align(right, axis=1, copy=False)` before e.g. `left == right`\n",
      "  ~((df_nycsales < (Q1 - steps* IQR)) |(df_nycsales > (Q3 + steps * IQR))).any(axis=1)\n"
     ]
    }
   ],
   "source": [
    "# Menghapus Outliers/Pencilan\n",
    "# Hitung kuartile 3 setiap atribut pada data\n",
    "Q3 = df_nycsales.quantile(0.75)\n",
    "\n",
    "# Hitung kuartile 1 setiap atribut pada data\n",
    "Q1 = df_nycsales.quantile(0.25)\n",
    "\n",
    "# Hitung nilai IQR (selisih Q3 dan Q1)\n",
    "IQR = Q3 - Q1\n",
    "steps = 1.5\n",
    "\n",
    "# Mencari data yang berada dalam rentang (bukan outlier)\n",
    "df_filtered = df_nycsales[\n",
    "    ~((df_nycsales < (Q1 - steps* IQR)) |(df_nycsales > (Q3 + steps * IQR))).any(axis=1)\n",
    "]\n",
    "\n",
    "# melakukan indexing ulang pada dataframe karena indexnya berantakan setelah dilakukan penghapusan data outliers\n",
    "df_filtered.index = [i for i in range(len(df_filtered))]\n",
    "df_nycsales = df_filtered"
   ]
  },
  {
   "cell_type": "markdown",
   "metadata": {},
   "source": [
    "### Menampilkan DataFrame setelah preprocessing"
   ]
  },
  {
   "cell_type": "code",
   "execution_count": 29,
   "metadata": {},
   "outputs": [
    {
     "data": {
      "text/html": [
       "<div>\n",
       "<style scoped>\n",
       "    .dataframe tbody tr th:only-of-type {\n",
       "        vertical-align: middle;\n",
       "    }\n",
       "\n",
       "    .dataframe tbody tr th {\n",
       "        vertical-align: top;\n",
       "    }\n",
       "\n",
       "    .dataframe thead th {\n",
       "        text-align: right;\n",
       "    }\n",
       "</style>\n",
       "<table border=\"1\" class=\"dataframe\">\n",
       "  <thead>\n",
       "    <tr style=\"text-align: right;\">\n",
       "      <th></th>\n",
       "      <th>BOROUGH</th>\n",
       "      <th>NEIGHBORHOOD</th>\n",
       "      <th>BUILDING CLASS CATEGORY</th>\n",
       "      <th>TAX CLASS AT PRESENT</th>\n",
       "      <th>BLOCK</th>\n",
       "      <th>LOT</th>\n",
       "      <th>BUILDING CLASS AT PRESENT</th>\n",
       "      <th>ADDRESS</th>\n",
       "      <th>ZIP CODE</th>\n",
       "      <th>RESIDENTIAL UNITS</th>\n",
       "      <th>...</th>\n",
       "      <th>LAND SQUARE FEET</th>\n",
       "      <th>GROSS SQUARE FEET</th>\n",
       "      <th>YEAR BUILT</th>\n",
       "      <th>TAX CLASS AT TIME OF SALE</th>\n",
       "      <th>BUILDING CLASS AT TIME OF SALE</th>\n",
       "      <th>SALE PRICE</th>\n",
       "      <th>SALE YEAR</th>\n",
       "      <th>SALE MONTH</th>\n",
       "      <th>SALE DATE</th>\n",
       "      <th>SALE DAY</th>\n",
       "    </tr>\n",
       "  </thead>\n",
       "  <tbody>\n",
       "    <tr>\n",
       "      <th>0</th>\n",
       "      <td>Manhattan</td>\n",
       "      <td>ALPHABET CITY</td>\n",
       "      <td>12 CONDOS - WALKUP APARTMENTS</td>\n",
       "      <td>2</td>\n",
       "      <td>386</td>\n",
       "      <td>1002</td>\n",
       "      <td>R2</td>\n",
       "      <td>211 EAST 3RD   STREET</td>\n",
       "      <td>10009.0</td>\n",
       "      <td>1</td>\n",
       "      <td>...</td>\n",
       "      <td>2325.0</td>\n",
       "      <td>1680.0</td>\n",
       "      <td>1920.0</td>\n",
       "      <td>2</td>\n",
       "      <td>R2</td>\n",
       "      <td>620000.0</td>\n",
       "      <td>2016</td>\n",
       "      <td>December</td>\n",
       "      <td>30</td>\n",
       "      <td>Friday</td>\n",
       "    </tr>\n",
       "    <tr>\n",
       "      <th>1</th>\n",
       "      <td>Manhattan</td>\n",
       "      <td>ALPHABET CITY</td>\n",
       "      <td>13 CONDOS - ELEVATOR APARTMENTS</td>\n",
       "      <td>2</td>\n",
       "      <td>373</td>\n",
       "      <td>1003</td>\n",
       "      <td>R4</td>\n",
       "      <td>324 EAST 4TH STREET</td>\n",
       "      <td>10009.0</td>\n",
       "      <td>1</td>\n",
       "      <td>...</td>\n",
       "      <td>2325.0</td>\n",
       "      <td>1680.0</td>\n",
       "      <td>1920.0</td>\n",
       "      <td>2</td>\n",
       "      <td>R4</td>\n",
       "      <td>762669.0</td>\n",
       "      <td>2016</td>\n",
       "      <td>September</td>\n",
       "      <td>21</td>\n",
       "      <td>Wednesday</td>\n",
       "    </tr>\n",
       "    <tr>\n",
       "      <th>2</th>\n",
       "      <td>Manhattan</td>\n",
       "      <td>ALPHABET CITY</td>\n",
       "      <td>13 CONDOS - ELEVATOR APARTMENTS</td>\n",
       "      <td>2</td>\n",
       "      <td>373</td>\n",
       "      <td>1004</td>\n",
       "      <td>R4</td>\n",
       "      <td>324 EAST 4TH STREET</td>\n",
       "      <td>10009.0</td>\n",
       "      <td>1</td>\n",
       "      <td>...</td>\n",
       "      <td>2325.0</td>\n",
       "      <td>1680.0</td>\n",
       "      <td>1920.0</td>\n",
       "      <td>2</td>\n",
       "      <td>R4</td>\n",
       "      <td>772851.0</td>\n",
       "      <td>2016</td>\n",
       "      <td>September</td>\n",
       "      <td>12</td>\n",
       "      <td>Monday</td>\n",
       "    </tr>\n",
       "    <tr>\n",
       "      <th>3</th>\n",
       "      <td>Manhattan</td>\n",
       "      <td>ALPHABET CITY</td>\n",
       "      <td>13 CONDOS - ELEVATOR APARTMENTS</td>\n",
       "      <td>2</td>\n",
       "      <td>373</td>\n",
       "      <td>1005</td>\n",
       "      <td>R4</td>\n",
       "      <td>324 EAST 4TH   STREET</td>\n",
       "      <td>10009.0</td>\n",
       "      <td>1</td>\n",
       "      <td>...</td>\n",
       "      <td>2325.0</td>\n",
       "      <td>1680.0</td>\n",
       "      <td>1920.0</td>\n",
       "      <td>2</td>\n",
       "      <td>R4</td>\n",
       "      <td>1034880.0</td>\n",
       "      <td>2016</td>\n",
       "      <td>November</td>\n",
       "      <td>3</td>\n",
       "      <td>Thursday</td>\n",
       "    </tr>\n",
       "    <tr>\n",
       "      <th>4</th>\n",
       "      <td>Manhattan</td>\n",
       "      <td>ALPHABET CITY</td>\n",
       "      <td>13 CONDOS - ELEVATOR APARTMENTS</td>\n",
       "      <td>2</td>\n",
       "      <td>373</td>\n",
       "      <td>1009</td>\n",
       "      <td>R4</td>\n",
       "      <td>324 EAST 4TH STREET</td>\n",
       "      <td>10009.0</td>\n",
       "      <td>1</td>\n",
       "      <td>...</td>\n",
       "      <td>2325.0</td>\n",
       "      <td>1680.0</td>\n",
       "      <td>1920.0</td>\n",
       "      <td>2</td>\n",
       "      <td>R4</td>\n",
       "      <td>800000.0</td>\n",
       "      <td>2016</td>\n",
       "      <td>September</td>\n",
       "      <td>7</td>\n",
       "      <td>Wednesday</td>\n",
       "    </tr>\n",
       "  </tbody>\n",
       "</table>\n",
       "<p>5 rows × 22 columns</p>\n",
       "</div>"
      ],
      "text/plain": [
       "     BOROUGH   NEIGHBORHOOD                      BUILDING CLASS CATEGORY  \\\n",
       "0  Manhattan  ALPHABET CITY  12 CONDOS - WALKUP APARTMENTS                 \n",
       "1  Manhattan  ALPHABET CITY  13 CONDOS - ELEVATOR APARTMENTS               \n",
       "2  Manhattan  ALPHABET CITY  13 CONDOS - ELEVATOR APARTMENTS               \n",
       "3  Manhattan  ALPHABET CITY  13 CONDOS - ELEVATOR APARTMENTS               \n",
       "4  Manhattan  ALPHABET CITY  13 CONDOS - ELEVATOR APARTMENTS               \n",
       "\n",
       "  TAX CLASS AT PRESENT  BLOCK   LOT BUILDING CLASS AT PRESENT  \\\n",
       "0                    2    386  1002                        R2   \n",
       "1                    2    373  1003                        R4   \n",
       "2                    2    373  1004                        R4   \n",
       "3                    2    373  1005                        R4   \n",
       "4                    2    373  1009                        R4   \n",
       "\n",
       "                 ADDRESS ZIP CODE  RESIDENTIAL UNITS  ...  LAND SQUARE FEET  \\\n",
       "0  211 EAST 3RD   STREET  10009.0                  1  ...            2325.0   \n",
       "1    324 EAST 4TH STREET  10009.0                  1  ...            2325.0   \n",
       "2    324 EAST 4TH STREET  10009.0                  1  ...            2325.0   \n",
       "3  324 EAST 4TH   STREET  10009.0                  1  ...            2325.0   \n",
       "4    324 EAST 4TH STREET  10009.0                  1  ...            2325.0   \n",
       "\n",
       "   GROSS SQUARE FEET  YEAR BUILT  TAX CLASS AT TIME OF SALE  \\\n",
       "0             1680.0      1920.0                          2   \n",
       "1             1680.0      1920.0                          2   \n",
       "2             1680.0      1920.0                          2   \n",
       "3             1680.0      1920.0                          2   \n",
       "4             1680.0      1920.0                          2   \n",
       "\n",
       "  BUILDING CLASS AT TIME OF SALE SALE PRICE SALE YEAR  SALE MONTH  SALE DATE  \\\n",
       "0                             R2   620000.0      2016    December         30   \n",
       "1                             R4   762669.0      2016   September         21   \n",
       "2                             R4   772851.0      2016   September         12   \n",
       "3                             R4  1034880.0      2016    November          3   \n",
       "4                             R4   800000.0      2016   September          7   \n",
       "\n",
       "    SALE DAY  \n",
       "0     Friday  \n",
       "1  Wednesday  \n",
       "2     Monday  \n",
       "3   Thursday  \n",
       "4  Wednesday  \n",
       "\n",
       "[5 rows x 22 columns]"
      ]
     },
     "execution_count": 29,
     "metadata": {},
     "output_type": "execute_result"
    }
   ],
   "source": [
    "# Menampilkan 5 data teratas\n",
    "df_nycsales.head()"
   ]
  },
  {
   "cell_type": "code",
   "execution_count": 30,
   "metadata": {},
   "outputs": [
    {
     "data": {
      "text/html": [
       "<div>\n",
       "<style scoped>\n",
       "    .dataframe tbody tr th:only-of-type {\n",
       "        vertical-align: middle;\n",
       "    }\n",
       "\n",
       "    .dataframe tbody tr th {\n",
       "        vertical-align: top;\n",
       "    }\n",
       "\n",
       "    .dataframe thead th {\n",
       "        text-align: right;\n",
       "    }\n",
       "</style>\n",
       "<table border=\"1\" class=\"dataframe\">\n",
       "  <thead>\n",
       "    <tr style=\"text-align: right;\">\n",
       "      <th></th>\n",
       "      <th>BOROUGH</th>\n",
       "      <th>NEIGHBORHOOD</th>\n",
       "      <th>BUILDING CLASS CATEGORY</th>\n",
       "      <th>TAX CLASS AT PRESENT</th>\n",
       "      <th>BLOCK</th>\n",
       "      <th>LOT</th>\n",
       "      <th>BUILDING CLASS AT PRESENT</th>\n",
       "      <th>ADDRESS</th>\n",
       "      <th>ZIP CODE</th>\n",
       "      <th>RESIDENTIAL UNITS</th>\n",
       "      <th>...</th>\n",
       "      <th>LAND SQUARE FEET</th>\n",
       "      <th>GROSS SQUARE FEET</th>\n",
       "      <th>YEAR BUILT</th>\n",
       "      <th>TAX CLASS AT TIME OF SALE</th>\n",
       "      <th>BUILDING CLASS AT TIME OF SALE</th>\n",
       "      <th>SALE PRICE</th>\n",
       "      <th>SALE YEAR</th>\n",
       "      <th>SALE MONTH</th>\n",
       "      <th>SALE DATE</th>\n",
       "      <th>SALE DAY</th>\n",
       "    </tr>\n",
       "  </thead>\n",
       "  <tbody>\n",
       "    <tr>\n",
       "      <th>31784</th>\n",
       "      <td>Staten Island</td>\n",
       "      <td>WOODROW</td>\n",
       "      <td>02 TWO FAMILY DWELLINGS</td>\n",
       "      <td>1</td>\n",
       "      <td>7267</td>\n",
       "      <td>249</td>\n",
       "      <td>B2</td>\n",
       "      <td>48 WHITE OAK LANE</td>\n",
       "      <td>10309.0</td>\n",
       "      <td>2</td>\n",
       "      <td>...</td>\n",
       "      <td>4350.0</td>\n",
       "      <td>2840.0</td>\n",
       "      <td>1996.0</td>\n",
       "      <td>1</td>\n",
       "      <td>B2</td>\n",
       "      <td>625000.0</td>\n",
       "      <td>2016</td>\n",
       "      <td>October</td>\n",
       "      <td>18</td>\n",
       "      <td>Tuesday</td>\n",
       "    </tr>\n",
       "    <tr>\n",
       "      <th>31785</th>\n",
       "      <td>Staten Island</td>\n",
       "      <td>WOODROW</td>\n",
       "      <td>02 TWO FAMILY DWELLINGS</td>\n",
       "      <td>1</td>\n",
       "      <td>7316</td>\n",
       "      <td>93</td>\n",
       "      <td>B2</td>\n",
       "      <td>125 DARNELL LANE</td>\n",
       "      <td>10309.0</td>\n",
       "      <td>2</td>\n",
       "      <td>...</td>\n",
       "      <td>3325.0</td>\n",
       "      <td>1300.0</td>\n",
       "      <td>1995.0</td>\n",
       "      <td>1</td>\n",
       "      <td>B2</td>\n",
       "      <td>509000.0</td>\n",
       "      <td>2016</td>\n",
       "      <td>October</td>\n",
       "      <td>31</td>\n",
       "      <td>Monday</td>\n",
       "    </tr>\n",
       "    <tr>\n",
       "      <th>31786</th>\n",
       "      <td>Staten Island</td>\n",
       "      <td>WOODROW</td>\n",
       "      <td>02 TWO FAMILY DWELLINGS</td>\n",
       "      <td>1</td>\n",
       "      <td>7349</td>\n",
       "      <td>34</td>\n",
       "      <td>B9</td>\n",
       "      <td>37 QUAIL LANE</td>\n",
       "      <td>10309.0</td>\n",
       "      <td>2</td>\n",
       "      <td>...</td>\n",
       "      <td>2400.0</td>\n",
       "      <td>2575.0</td>\n",
       "      <td>1998.0</td>\n",
       "      <td>1</td>\n",
       "      <td>B9</td>\n",
       "      <td>450000.0</td>\n",
       "      <td>2016</td>\n",
       "      <td>November</td>\n",
       "      <td>28</td>\n",
       "      <td>Monday</td>\n",
       "    </tr>\n",
       "    <tr>\n",
       "      <th>31787</th>\n",
       "      <td>Staten Island</td>\n",
       "      <td>WOODROW</td>\n",
       "      <td>02 TWO FAMILY DWELLINGS</td>\n",
       "      <td>1</td>\n",
       "      <td>7349</td>\n",
       "      <td>78</td>\n",
       "      <td>B9</td>\n",
       "      <td>32 PHEASANT LANE</td>\n",
       "      <td>10309.0</td>\n",
       "      <td>2</td>\n",
       "      <td>...</td>\n",
       "      <td>2498.0</td>\n",
       "      <td>2377.0</td>\n",
       "      <td>1998.0</td>\n",
       "      <td>1</td>\n",
       "      <td>B9</td>\n",
       "      <td>550000.0</td>\n",
       "      <td>2017</td>\n",
       "      <td>April</td>\n",
       "      <td>21</td>\n",
       "      <td>Friday</td>\n",
       "    </tr>\n",
       "    <tr>\n",
       "      <th>31788</th>\n",
       "      <td>Staten Island</td>\n",
       "      <td>WOODROW</td>\n",
       "      <td>02 TWO FAMILY DWELLINGS</td>\n",
       "      <td>1</td>\n",
       "      <td>7351</td>\n",
       "      <td>60</td>\n",
       "      <td>B2</td>\n",
       "      <td>49 PITNEY AVENUE</td>\n",
       "      <td>10309.0</td>\n",
       "      <td>2</td>\n",
       "      <td>...</td>\n",
       "      <td>4000.0</td>\n",
       "      <td>1496.0</td>\n",
       "      <td>1925.0</td>\n",
       "      <td>1</td>\n",
       "      <td>B2</td>\n",
       "      <td>460000.0</td>\n",
       "      <td>2017</td>\n",
       "      <td>July</td>\n",
       "      <td>5</td>\n",
       "      <td>Wednesday</td>\n",
       "    </tr>\n",
       "  </tbody>\n",
       "</table>\n",
       "<p>5 rows × 22 columns</p>\n",
       "</div>"
      ],
      "text/plain": [
       "             BOROUGH NEIGHBORHOOD  \\\n",
       "31784  Staten Island      WOODROW   \n",
       "31785  Staten Island      WOODROW   \n",
       "31786  Staten Island      WOODROW   \n",
       "31787  Staten Island      WOODROW   \n",
       "31788  Staten Island      WOODROW   \n",
       "\n",
       "                           BUILDING CLASS CATEGORY TAX CLASS AT PRESENT  \\\n",
       "31784  02 TWO FAMILY DWELLINGS                                        1   \n",
       "31785  02 TWO FAMILY DWELLINGS                                        1   \n",
       "31786  02 TWO FAMILY DWELLINGS                                        1   \n",
       "31787  02 TWO FAMILY DWELLINGS                                        1   \n",
       "31788  02 TWO FAMILY DWELLINGS                                        1   \n",
       "\n",
       "       BLOCK  LOT BUILDING CLASS AT PRESENT            ADDRESS ZIP CODE  \\\n",
       "31784   7267  249                        B2  48 WHITE OAK LANE  10309.0   \n",
       "31785   7316   93                        B2   125 DARNELL LANE  10309.0   \n",
       "31786   7349   34                        B9      37 QUAIL LANE  10309.0   \n",
       "31787   7349   78                        B9   32 PHEASANT LANE  10309.0   \n",
       "31788   7351   60                        B2   49 PITNEY AVENUE  10309.0   \n",
       "\n",
       "       RESIDENTIAL UNITS  ...  LAND SQUARE FEET  GROSS SQUARE FEET  \\\n",
       "31784                  2  ...            4350.0             2840.0   \n",
       "31785                  2  ...            3325.0             1300.0   \n",
       "31786                  2  ...            2400.0             2575.0   \n",
       "31787                  2  ...            2498.0             2377.0   \n",
       "31788                  2  ...            4000.0             1496.0   \n",
       "\n",
       "       YEAR BUILT  TAX CLASS AT TIME OF SALE BUILDING CLASS AT TIME OF SALE  \\\n",
       "31784      1996.0                          1                             B2   \n",
       "31785      1995.0                          1                             B2   \n",
       "31786      1998.0                          1                             B9   \n",
       "31787      1998.0                          1                             B9   \n",
       "31788      1925.0                          1                             B2   \n",
       "\n",
       "      SALE PRICE SALE YEAR  SALE MONTH  SALE DATE   SALE DAY  \n",
       "31784   625000.0      2016     October         18    Tuesday  \n",
       "31785   509000.0      2016     October         31     Monday  \n",
       "31786   450000.0      2016    November         28     Monday  \n",
       "31787   550000.0      2017       April         21     Friday  \n",
       "31788   460000.0      2017        July          5  Wednesday  \n",
       "\n",
       "[5 rows x 22 columns]"
      ]
     },
     "execution_count": 30,
     "metadata": {},
     "output_type": "execute_result"
    }
   ],
   "source": [
    "# Menampilkan 5 data terakhir\n",
    "df_nycsales.tail()"
   ]
  },
  {
   "cell_type": "code",
   "execution_count": 31,
   "metadata": {},
   "outputs": [
    {
     "data": {
      "text/plain": [
       "Queens           10523\n",
       "Brooklyn         10001\n",
       "Staten Island     4176\n",
       "Manhattan         3629\n",
       "Bronx             3460\n",
       "Name: BOROUGH, dtype: int64"
      ]
     },
     "execution_count": 31,
     "metadata": {},
     "output_type": "execute_result"
    }
   ],
   "source": [
    "# Menghitung value dari kolom BOROUGH\n",
    "df_nycsales['BOROUGH'].value_counts()"
   ]
  },
  {
   "cell_type": "code",
   "execution_count": 32,
   "metadata": {},
   "outputs": [
    {
     "data": {
      "image/png": "[encoded data removed]",
      "text/plain": [
       "<Figure size 432x288 with 1 Axes>"
      ]
     },
     "metadata": {
      "needs_background": "light"
     },
     "output_type": "display_data"
    }
   ],
   "source": [
    "# Membuat histogram dari kolom BOROUGH\n",
    "df_nycsales['BOROUGH'].value_counts().plot(kind='bar')\n",
    "plt.title('Histogram from Borough Columns', fontsize=14)\n",
    "plt.xlabel('Borough', fontsize=14)\n",
    "plt.ylabel('Value', fontsize=14)\n",
    "plt.show()"
   ]
  },
  {
   "cell_type": "code",
   "execution_count": 33,
   "metadata": {},
   "outputs": [
    {
     "data": {
      "text/plain": [
       "FLUSHING-NORTH              1513\n",
       "BEDFORD STUYVESANT           695\n",
       "EAST NEW YORK                685\n",
       "FLATBUSH-EAST                612\n",
       "CANARSIE                     585\n",
       "                            ... \n",
       "FLATLANDS                    182\n",
       "MASPETH                      179\n",
       "OCEAN PARKWAY-SOUTH          176\n",
       "KIPS BAY                     174\n",
       "SCHUYLERVILLE/PELHAM BAY     170\n",
       "Name: NEIGHBORHOOD, Length: 70, dtype: int64"
      ]
     },
     "execution_count": 33,
     "metadata": {},
     "output_type": "execute_result"
    }
   ],
   "source": [
    "# Menghitung value dari kolom NEIGHBORHOOD\n",
    "df_nycsales['NEIGHBORHOOD'].value_counts().head(70)"
   ]
  },
  {
   "cell_type": "markdown",
   "metadata": {},
   "source": [
    "### Menampilkan rangkuman pengecekan missing values"
   ]
  },
  {
   "cell_type": "code",
   "execution_count": 34,
   "metadata": {},
   "outputs": [
    {
     "data": {
      "text/plain": [
       "BOROUGH                           0\n",
       "NEIGHBORHOOD                      0\n",
       "BUILDING CLASS CATEGORY           0\n",
       "TAX CLASS AT PRESENT              0\n",
       "BLOCK                             0\n",
       "LOT                               0\n",
       "BUILDING CLASS AT PRESENT         0\n",
       "ADDRESS                           0\n",
       "ZIP CODE                          0\n",
       "RESIDENTIAL UNITS                 0\n",
       "COMMERCIAL UNITS                  0\n",
       "TOTAL UNITS                       0\n",
       "LAND SQUARE FEET                  0\n",
       "GROSS SQUARE FEET                 0\n",
       "YEAR BUILT                        0\n",
       "TAX CLASS AT TIME OF SALE         0\n",
       "BUILDING CLASS AT TIME OF SALE    0\n",
       "SALE PRICE                        0\n",
       "SALE YEAR                         0\n",
       "SALE MONTH                        0\n",
       "SALE DATE                         0\n",
       "SALE DAY                          0\n",
       "dtype: int64"
      ]
     },
     "execution_count": 34,
     "metadata": {},
     "output_type": "execute_result"
    }
   ],
   "source": [
    "df_nycsales.isnull().sum()"
   ]
  },
  {
   "cell_type": "code",
   "execution_count": 35,
   "metadata": {},
   "outputs": [
    {
     "name": "stdout",
     "output_type": "stream",
     "text": [
      "<class 'pandas.core.frame.DataFrame'>\n",
      "Int64Index: 31789 entries, 0 to 31788\n",
      "Data columns (total 22 columns):\n",
      " #   Column                          Non-Null Count  Dtype  \n",
      "---  ------                          --------------  -----  \n",
      " 0   BOROUGH                         31789 non-null  object \n",
      " 1   NEIGHBORHOOD                    31789 non-null  object \n",
      " 2   BUILDING CLASS CATEGORY         31789 non-null  object \n",
      " 3   TAX CLASS AT PRESENT            31789 non-null  object \n",
      " 4   BLOCK                           31789 non-null  int64  \n",
      " 5   LOT                             31789 non-null  int64  \n",
      " 6   BUILDING CLASS AT PRESENT       31789 non-null  object \n",
      " 7   ADDRESS                         31789 non-null  object \n",
      " 8   ZIP CODE                        31789 non-null  object \n",
      " 9   RESIDENTIAL UNITS               31789 non-null  int64  \n",
      " 10  COMMERCIAL UNITS                31789 non-null  int64  \n",
      " 11  TOTAL UNITS                     31789 non-null  float64\n",
      " 12  LAND SQUARE FEET                31789 non-null  float64\n",
      " 13  GROSS SQUARE FEET               31789 non-null  float64\n",
      " 14  YEAR BUILT                      31789 non-null  object \n",
      " 15  TAX CLASS AT TIME OF SALE       31789 non-null  object \n",
      " 16  BUILDING CLASS AT TIME OF SALE  31789 non-null  object \n",
      " 17  SALE PRICE                      31789 non-null  float64\n",
      " 18  SALE YEAR                       31789 non-null  int64  \n",
      " 19  SALE MONTH                      31789 non-null  object \n",
      " 20  SALE DATE                       31789 non-null  int64  \n",
      " 21  SALE DAY                        31789 non-null  object \n",
      "dtypes: float64(4), int64(6), object(12)\n",
      "memory usage: 5.6+ MB\n"
     ]
    }
   ],
   "source": [
    "# Menampilkan informasi tentang dataset\n",
    "df_nycsales.info()"
   ]
  },
  {
   "cell_type": "markdown",
   "metadata": {},
   "source": [
    "### KESIMPULAN ANALISIS\n",
    "***\n",
    "Di tahap preprocessing, berikut terdapat beberapa hal yang telah saya lakukan yaitu:\n",
    "1. Menghapus kolom-kolom yang tidak diperlukan\n",
    "2. Mengganti nilai missing values pada kolom kategorik dengan nilai modusnya dan untuk kolom numerik (kecuali SALE PRICE) dengan nilai median.\n",
    "3. Menghapus baris duplikat pada dataset\n",
    "4. Mengubah tipe data setiap kolom sesuai dengan tipe yang seharusnya\n",
    "5. Mengganti nilai pada kolom 'BOROUGH' dengan nilai yang seharusnya dan menjadi tipe String\n",
    "6. Modifikasi kolom 'SALE DATE' menjadi tipe datetime serta menambahkan kolom year, month, dan date.\n",
    "7. Menghapus outliers."
   ]
  },
  {
   "cell_type": "markdown",
   "metadata": {},
   "source": [
    "# D. Measure of Central Tedency\n",
    "## 1. Measure of Central Tedency: Mean\n",
    "***\n",
    "Di bagian ini, saya akan mencari mean sesuai dengan pertanyaan yang ada di bagian Question.<br>\n",
    "**Question**: <br>\n",
    "1. Berapa nilai rata-rata dari harga jual (SALE PRICE) di wilayah Brooklyn?\n",
    "2. Berapa nilai rata-rata dari luas total semua lantai bangunan (GROSS SQUARE FEET) dan luas tanah properti (LAND SQUARE FEET) di wilayah Brooklyn?"
   ]
  },
  {
   "cell_type": "markdown",
   "metadata": {},
   "source": [
    "**Answer Question 1**"
   ]
  },
  {
   "cell_type": "code",
   "execution_count": 36,
   "metadata": {},
   "outputs": [
    {
     "name": "stdout",
     "output_type": "stream",
     "text": [
      "Mean dari harga jual (SALE PRICE) di wilayah Brooklyn: 474105.62593740626\n"
     ]
    }
   ],
   "source": [
    "# Mean dari harga jual (SALE PRICE) di wilayah Brooklyn\n",
    "avg1 = df_nycsales[df_nycsales['BOROUGH']=='Brooklyn']['SALE PRICE'].mean()\n",
    "\n",
    "print('Mean dari harga jual (SALE PRICE) di wilayah Brooklyn:', avg1)"
   ]
  },
  {
   "cell_type": "markdown",
   "metadata": {},
   "source": [
    "**Answer Question 2**"
   ]
  },
  {
   "cell_type": "code",
   "execution_count": 37,
   "metadata": {},
   "outputs": [
    {
     "name": "stdout",
     "output_type": "stream",
     "text": [
      "Mean dari luas total semua lantai bangunan (GROSS SQUARE FEET) di wilayah Brooklyn: 2096.006299370063\n",
      "Mean dari luas tanah properti (LAND SQUARE FEET) di wilayah Brooklyn: 2222.5992400759924\n"
     ]
    }
   ],
   "source": [
    "# Mean dari luas total semua lantai bangunan (GROSS SQUARE FEET) di wilayah Brooklyn\n",
    "avg2 = df_nycsales[df_nycsales['BOROUGH']=='Brooklyn']['GROSS SQUARE FEET'].mean()\n",
    "\n",
    "# Mean dari luas tanah properti di wilayah Brooklyn\n",
    "avg3 = df_nycsales[df_nycsales['BOROUGH']=='Brooklyn']['LAND SQUARE FEET'].mean()\n",
    "\n",
    "print('Mean dari luas total semua lantai bangunan (GROSS SQUARE FEET) di wilayah Brooklyn:', avg2)\n",
    "print('Mean dari luas tanah properti (LAND SQUARE FEET) di wilayah Brooklyn:', avg3)"
   ]
  },
  {
   "cell_type": "markdown",
   "metadata": {},
   "source": [
    "### Kesimpulan/Analisis Jawaban:\n",
    "Dari hasil analisis di atas didapatkan rata-rata dari harga jual (SALE PRICE) di wilayah Brooklyn adalah 474105.62593740626. \n",
    "Lalu rata-rata dari luas total semua lantai bangunan (GROSS SQUARE FEET) di wilayah Brooklyn adalah 2096.006299370063. \n",
    "Dan rata-rata dari luas tanah properti (LAND SQUARE FEET) di wilayah Brooklyn adalah 2222.5992400759924."
   ]
  },
  {
   "cell_type": "markdown",
   "metadata": {},
   "source": [
    "## 2. Measure of Central Tedency: Median\n",
    "***\n",
    "Di bagian ini, saya akan mencari median sesuai dengan pertanyaan yang ada di bagian Question.<br>\n",
    "**Question:**\n",
    "1. Berapa nilai median dari harga jual (SALE PRICE) di wilayah Brooklyn?\n",
    "2. Berapa nilai median dari luas total semua lantai bangunan (GROSS SQUARE FEET) dan luas tanah properti (LAND SQUARE FEET) di wilayah Brooklyn?"
   ]
  },
  {
   "cell_type": "markdown",
   "metadata": {},
   "source": [
    "**Answer Question 1**"
   ]
  },
  {
   "cell_type": "code",
   "execution_count": 38,
   "metadata": {},
   "outputs": [
    {
     "name": "stdout",
     "output_type": "stream",
     "text": [
      "Median dari harga jual (SALE PRICE) di wilayah Brooklyn: 400000.0\n"
     ]
    }
   ],
   "source": [
    "# Median dari harga jual (SALE PRICE) di wilayah Brooklyn\n",
    "med1 = df_nycsales[df_nycsales['BOROUGH']=='Brooklyn']['SALE PRICE'].median()\n",
    "\n",
    "print('Median dari harga jual (SALE PRICE) di wilayah Brooklyn:', med1)"
   ]
  },
  {
   "cell_type": "markdown",
   "metadata": {},
   "source": [
    "**Answer Question 2**"
   ]
  },
  {
   "cell_type": "code",
   "execution_count": 39,
   "metadata": {},
   "outputs": [
    {
     "name": "stdout",
     "output_type": "stream",
     "text": [
      "Median dari luas total semua lantai bangunan (GROSS SQUARE FEET) di wilayah Brooklyn: 2040.0\n",
      "Median dari luas tanah properti (LAND SQUARE FEET) di wilayah Brooklyn: 2000.0\n"
     ]
    }
   ],
   "source": [
    "# Median dari luas total semua lantai bangunan (GROSS SQUARE FEET) di wilayah Brooklyn\n",
    "med2 = df_nycsales[df_nycsales['BOROUGH']=='Brooklyn']['GROSS SQUARE FEET'].median()\n",
    "\n",
    "# Median dari luas tanah properti (LAND SQUARE FEET) di wilayah Brooklyn\n",
    "med3 = df_nycsales[df_nycsales['BOROUGH']=='Brooklyn']['LAND SQUARE FEET'].median()\n",
    "\n",
    "print('Median dari luas total semua lantai bangunan (GROSS SQUARE FEET) di wilayah Brooklyn:', med2)\n",
    "print('Median dari luas tanah properti (LAND SQUARE FEET) di wilayah Brooklyn:', med3)"
   ]
  },
  {
   "cell_type": "markdown",
   "metadata": {},
   "source": [
    "### Kesimpulan/Analisis Jawaban:\n",
    "Dari hasil analisis di atas didapatkan median dari harga jual (SALE PRICE) di wilayah Brooklyn adalah 400000.0. \n",
    "Lalu median dari luas total semua lantai bangunan (GROSS SQUARE FEET) di wilayah Brooklyn adalah 2040.0. \n",
    "Dan median dari luas tanah properti (LAND SQUARE FEET) di wilayah Brooklyn adalah 2000.0."
   ]
  },
  {
   "cell_type": "markdown",
   "metadata": {},
   "source": [
    "## 3. Measure of Central Tedency: Modus\n",
    "***\n",
    "Di bagian ini, saya akan mencari modus sesuai dengan pertanyaan yang ada di bagian Question.<br>\n",
    "**Question:**\n",
    "1. Berapa nilai modus dari tahun properti dibangun (YEAR BUILT) di wilayah Brooklyn?\n",
    "2. Berapa nilai modus dari luas total semua lantai bangunan (GROSS SQUARE FEET) dan luas tanah properti (LAND SQUARE FEET) di wilayah Brooklyn?"
   ]
  },
  {
   "cell_type": "markdown",
   "metadata": {},
   "source": [
    "**Answer Question 1**"
   ]
  },
  {
   "cell_type": "code",
   "execution_count": 40,
   "metadata": {},
   "outputs": [
    {
     "name": "stdout",
     "output_type": "stream",
     "text": [
      "['1920.0']\n",
      "[1354]\n"
     ]
    }
   ],
   "source": [
    "# Membuat dataframe baru yang hanya terdapat kolom Brooklyn BOROUGH dan YEAR BUILT\n",
    "df_yb = df_nycsales[df_nycsales['BOROUGH']=='Brooklyn']['YEAR BUILT']\n",
    "modus_yb = scistats.mode(df_yb)\n",
    "\n",
    "# Mencetak informasi modus dan jumlah munculnya modus tersebut\n",
    "print(modus_yb.mode)\n",
    "print(modus_yb.count)"
   ]
  },
  {
   "cell_type": "markdown",
   "metadata": {},
   "source": [
    "**Answer Question 2**"
   ]
  },
  {
   "cell_type": "code",
   "execution_count": 41,
   "metadata": {},
   "outputs": [
    {
     "name": "stdout",
     "output_type": "stream",
     "text": [
      "[2400.]\n",
      "[145]\n"
     ]
    }
   ],
   "source": [
    "# Membuat dataframe baru yang hanya terdapat kolom Brooklyn BOROUGH dan GROSS SQUARE FEET\n",
    "df_gsf = df_nycsales[df_nycsales['BOROUGH']=='Brooklyn']['GROSS SQUARE FEET']\n",
    "modus_gsf = scistats.mode(df_gsf)\n",
    "\n",
    "# Mencetak informasi modus dan jumlah munculnya modus tersebut\n",
    "print(modus_gsf.mode)\n",
    "print(modus_gsf.count)"
   ]
  },
  {
   "cell_type": "code",
   "execution_count": 42,
   "metadata": {},
   "outputs": [
    {
     "name": "stdout",
     "output_type": "stream",
     "text": [
      "[2000.]\n",
      "[1846]\n"
     ]
    }
   ],
   "source": [
    "# Membuat dataframe baru yang hanya terdapat kolom Brooklyn BOROUGH dan LAND SQUARE FEET\n",
    "df_lsf = df_nycsales[df_nycsales['BOROUGH']=='Brooklyn']['LAND SQUARE FEET']\n",
    "modus_lsf = scistats.mode(df_lsf)\n",
    "\n",
    "# Mencetak informasi modus dan jumlah munculnya modus tersebut\n",
    "print(modus_lsf.mode)\n",
    "print(modus_lsf.count)"
   ]
  },
  {
   "cell_type": "markdown",
   "metadata": {},
   "source": [
    "### Kesimpulan/Analisis Jawaban:\n",
    "Dari hasil analisis di atas didapatkan modus dari tahun properti dibangun (YEAR BUILT) di wilayah Brooklyn adalah 1920 dengan kemunculan sebanyak 1354. \n",
    "Lalu modus dari luas total semua lantai bangunan (GROSS SQUARE FEET) di wilayah Brooklyn adalah 2400 dengan kemunculan sebanyak 145. \n",
    "Dan modus dari luas tanah properti (LAND SQUARE FEET) di wilayah Brooklyn adalah 2000 dengan kemunculan sebanyak 1846."
   ]
  },
  {
   "cell_type": "markdown",
   "metadata": {},
   "source": [
    "# E. Measured of Spread\n",
    "## 1. Measured of Spread: Range\n",
    "***\n",
    "Di bagian ini, saya akan mencari range sesuai dengan pertanyaan yang ada di bagian Question.<br>\n",
    "**Question:** <br>\n",
    "1. Berapakah range/rentang data dari harga jual (SALE PRICE) di wilayah Brooklyn?\n",
    "2. Berapa range/rentang data dari luas total semua lantai bangunan (GROSS SQUARE FEET) di wilayah Brooklyn?"
   ]
  },
  {
   "cell_type": "markdown",
   "metadata": {},
   "source": [
    "**Answer Question 1**"
   ]
  },
  {
   "cell_type": "code",
   "execution_count": 43,
   "metadata": {},
   "outputs": [
    {
     "name": "stdout",
     "output_type": "stream",
     "text": [
      "Nilai harga jual tertinggi di wilayah Brooklyn adalah 2100000.0\n",
      "Nilai harga jual terendah di wilayah Brooklyn adalah 0.0\n",
      "Range antara harga jual tertinggi dan terendah di wilayah Brooklyn adalah 2100000.0\n"
     ]
    }
   ],
   "source": [
    "# Mencari nilai maximum dan minimum lalu mencari range dari harga jual (SALE PRICE) di wilayah Brooklyn\n",
    "df_max = df_nycsales[df_nycsales['BOROUGH']=='Brooklyn']['SALE PRICE'].max()\n",
    "df_min = df_nycsales[df_nycsales['BOROUGH']=='Brooklyn']['SALE PRICE'].min()\n",
    "df_range = df_max - df_min\n",
    "\n",
    "print(f\"Nilai harga jual tertinggi di wilayah Brooklyn adalah\", df_max)\n",
    "print(f\"Nilai harga jual terendah di wilayah Brooklyn adalah\", df_min)\n",
    "print(f\"Range antara harga jual tertinggi dan terendah di wilayah Brooklyn adalah\", df_range)"
   ]
  },
  {
   "cell_type": "markdown",
   "metadata": {},
   "source": [
    "**Answer Question 2**"
   ]
  },
  {
   "cell_type": "code",
   "execution_count": 44,
   "metadata": {},
   "outputs": [
    {
     "name": "stdout",
     "output_type": "stream",
     "text": [
      "Luas total semua lantai bangunan tertinggi di wilayah Brooklyn adalah 4048.0\n",
      "Luas total semua lantai bangunan terendah di wilayah Brooklyn adalah 0.0\n",
      "Range antara Luas total semua lantai bangunan tertinggi dan terendah di wilayah Brooklyn adalah 4048.0\n"
     ]
    }
   ],
   "source": [
    "# Mencari nilai maximum dan minimum lalu mencari range dari luas total semua lantai bangunan (GROSS SQUARE FEET) di wilayah Brooklyn\n",
    "df_max_gsf = df_nycsales[df_nycsales['BOROUGH']=='Brooklyn']['GROSS SQUARE FEET'].max()\n",
    "df_min_gsf = df_nycsales[df_nycsales['BOROUGH']=='Brooklyn']['GROSS SQUARE FEET'].min()\n",
    "df_range_gsf = df_max_gsf - df_min_gsf\n",
    "\n",
    "print(f\"Luas total semua lantai bangunan tertinggi di wilayah Brooklyn adalah\", df_max_gsf)\n",
    "print(f\"Luas total semua lantai bangunan terendah di wilayah Brooklyn adalah\", df_min_gsf)\n",
    "print(f\"Range antara Luas total semua lantai bangunan tertinggi dan terendah di wilayah Brooklyn adalah\", df_range_gsf)"
   ]
  },
  {
   "cell_type": "markdown",
   "metadata": {},
   "source": [
    "### Kesimpulan/Analisis Jawaban:\n",
    "Dari hasil analisis di atas didapatkan range/perbedaan antara harga jual (SALE PRICE) tertinggi dan terendah di wilayah Brooklyn adalah 2100000.0.  \n",
    "Dan range/perbedaan antara luas total semua lantai bangunan (GROSS SQUARE FEET) tertinggi dan terendah di wilayah Brooklyn adalah 4048.0."
   ]
  },
  {
   "cell_type": "markdown",
   "metadata": {},
   "source": [
    "## 2. Measured of Spread: Variance\n",
    "***\n",
    "Di bagian ini, saya akan mencari variance sesuai dengan pertanyaan yang ada di bagian Question.<br>\n",
    "**Question:**\n",
    "1. Berapa nilai variance dari harga jual (SALE PRICE) di wilayah Brooklyn?\n",
    "2. Berapa nilai variance dari luas total semua lantai bangunan (GROSS SQUARE FEET) dan luas tanah properti (LAND SQUARE FEET) di wilayah Brooklyn?"
   ]
  },
  {
   "cell_type": "markdown",
   "metadata": {},
   "source": [
    "**Answer Question 1**"
   ]
  },
  {
   "cell_type": "code",
   "execution_count": 45,
   "metadata": {},
   "outputs": [
    {
     "name": "stdout",
     "output_type": "stream",
     "text": [
      "Variance dari harga jual (SALE PRICE) di wilayah Brooklyn: 265398564019.92996\n"
     ]
    }
   ],
   "source": [
    "# Variance dari harga jual (SALE PRICE) di wilayah Brooklyn\n",
    "var1 = df_nycsales[df_nycsales['BOROUGH']=='Brooklyn']['SALE PRICE'].var()\n",
    "\n",
    "print('Variance dari harga jual (SALE PRICE) di wilayah Brooklyn:', var1)"
   ]
  },
  {
   "cell_type": "markdown",
   "metadata": {},
   "source": [
    "**Answer Question 2**"
   ]
  },
  {
   "cell_type": "code",
   "execution_count": 46,
   "metadata": {},
   "outputs": [
    {
     "name": "stdout",
     "output_type": "stream",
     "text": [
      "Variance dari luas total semua lantai bangunan (GROSS SQUARE FEET) di wilayah Brooklyn: 536218.190660314\n",
      "Variance dari luas tanah properti (LAND SQUARE FEET) di wilayah Brooklyn: 413281.1535754159\n"
     ]
    }
   ],
   "source": [
    "# Variance dari luas total semua lantai bangunan (GROSS SQUARE FEET) di wilayah Brooklyn\n",
    "var2 = df_nycsales[df_nycsales['BOROUGH']=='Brooklyn']['GROSS SQUARE FEET'].var()\n",
    "\n",
    "# Variance dari luas tanah properti (LAND SQUARE FEET) di wilayah Brooklyn\n",
    "var3 = df_nycsales[df_nycsales['BOROUGH']=='Brooklyn']['LAND SQUARE FEET'].var()\n",
    "\n",
    "print('Variance dari luas total semua lantai bangunan (GROSS SQUARE FEET) di wilayah Brooklyn:', var2)\n",
    "print('Variance dari luas tanah properti (LAND SQUARE FEET) di wilayah Brooklyn:', var3)"
   ]
  },
  {
   "cell_type": "markdown",
   "metadata": {},
   "source": [
    "### Kesimpulan/Analisis Jawaban\n",
    "Dari hasil analisis di atas didapatkan variance dari harga jual (SALE PRICE) di wilayah Brooklyn adalah 265398564019.92996. \n",
    "Lalu variance dari luas total semua lantai bangunan (GROSS SQUARE FEET) di wilayah Brooklyn adalah 536218.190660314. \n",
    "Dan variance dari luas tanah properti (LAND SQUARE FEET) di wilayah Brooklyn adalah 413281.1535754159."
   ]
  },
  {
   "cell_type": "markdown",
   "metadata": {},
   "source": [
    "## 3. Measured of Spread: Standard Deviation\n",
    "***\n",
    "Di bagian ini, saya akan mencari standard deviation sesuai dengan pertanyaan yang ada di bagian Question.<br>\n",
    "**Question:** <br>\n",
    "1. Berapa nilai standard deviation dari harga jual (SALE PRICE) di wilayah Brooklyn?\n",
    "2. Berapa nilai standard deviation dari luas total semua lantai bangunan (GROSS SQUARE FEET) dan luas tanah properti (LAND SQUARE FEET) di wilayah Brooklyn?"
   ]
  },
  {
   "cell_type": "markdown",
   "metadata": {},
   "source": [
    "**Answer Quesntion 1**"
   ]
  },
  {
   "cell_type": "code",
   "execution_count": 47,
   "metadata": {},
   "outputs": [
    {
     "name": "stdout",
     "output_type": "stream",
     "text": [
      "Standard deviation dari harga jual (SALE PRICE) di wilayah Brooklyn: 515168.48119807366\n"
     ]
    }
   ],
   "source": [
    "# Standard deviation dari harga jual (SALE PRICE) di wilayah Brooklyn\n",
    "std1 = df_nycsales[df_nycsales['BOROUGH']=='Brooklyn']['SALE PRICE'].std()\n",
    "\n",
    "print('Standard deviation dari harga jual (SALE PRICE) di wilayah Brooklyn:', std1)"
   ]
  },
  {
   "cell_type": "markdown",
   "metadata": {},
   "source": [
    "**Answer Quesntion 2**"
   ]
  },
  {
   "cell_type": "code",
   "execution_count": 48,
   "metadata": {},
   "outputs": [
    {
     "name": "stdout",
     "output_type": "stream",
     "text": [
      "Standard deviation dari luas total semua lantai bangunan (GROSS SQUARE FEET) di wilayah Brooklyn: 732.2692064127195\n",
      "Standard deviation dari luas tanah properti (LAND SQUARE FEET) di wilayah Brooklyn: 642.8694685357331\n"
     ]
    }
   ],
   "source": [
    "# Standard deviation dari luas total semua lantai bangunan (GROSS SQUARE FEET) di wilayah Brooklyn\n",
    "std2 = df_nycsales[df_nycsales['BOROUGH']=='Brooklyn']['GROSS SQUARE FEET'].std()\n",
    "\n",
    "# Standard deviation dari luas tanah properti (LAND SQUARE FEET) di wilayah Brooklyn\n",
    "std3 = df_nycsales[df_nycsales['BOROUGH']=='Brooklyn']['LAND SQUARE FEET'].std()\n",
    "\n",
    "print('Standard deviation dari luas total semua lantai bangunan (GROSS SQUARE FEET) di wilayah Brooklyn:', std2)\n",
    "print('Standard deviation dari luas tanah properti (LAND SQUARE FEET) di wilayah Brooklyn:', std3)"
   ]
  },
  {
   "cell_type": "markdown",
   "metadata": {},
   "source": [
    "### Kesimpulan/Analisis Jawaban:\n",
    "Dari hasil analisis di atas didapatkan standard deviation dari harga jual (SALE PRICE) di wilayah Brooklyn adalah 515168.48119807366. \n",
    "Lalu standard deviation dari luas total semua lantai bangunan (GROSS SQUARE FEET) di wilayah Brooklyn adalah 732.2692064127195. \n",
    "Dan standard deviation dari luas tanah properti (LAND SQUARE FEET) di wilayah Brooklyn adalah 642.8694685357331."
   ]
  },
  {
   "cell_type": "markdown",
   "metadata": {},
   "source": [
    "## 4. Measured of Spread: Probability Distribution\n",
    "***\n",
    "Di bagian ini, saya akan mencari probability distribution dan membuat kesimpulannya sesuai dengan pertanyaan yang ada di bagian Question.<br>\n",
    "**Question:** <br>\n",
    "1. Bagaimana probability distribution dari harga jual (SALE PRICE) di wilayah Staten Island?\n",
    "2. Bagaimana probability distribution dari harga jual (SALE PRICE) di daerah MASPETH?"
   ]
  },
  {
   "cell_type": "markdown",
   "metadata": {},
   "source": [
    "**Answer Question 1**"
   ]
  },
  {
   "cell_type": "code",
   "execution_count": 49,
   "metadata": {},
   "outputs": [
    {
     "data": {
      "text/html": [
       "<div>\n",
       "<style scoped>\n",
       "    .dataframe tbody tr th:only-of-type {\n",
       "        vertical-align: middle;\n",
       "    }\n",
       "\n",
       "    .dataframe tbody tr th {\n",
       "        vertical-align: top;\n",
       "    }\n",
       "\n",
       "    .dataframe thead th {\n",
       "        text-align: right;\n",
       "    }\n",
       "</style>\n",
       "<table border=\"1\" class=\"dataframe\">\n",
       "  <thead>\n",
       "    <tr style=\"text-align: right;\">\n",
       "      <th></th>\n",
       "      <th>SALE PRICE</th>\n",
       "    </tr>\n",
       "    <tr>\n",
       "      <th>BOROUGH</th>\n",
       "      <th></th>\n",
       "    </tr>\n",
       "  </thead>\n",
       "  <tbody>\n",
       "    <tr>\n",
       "      <th>Staten Island</th>\n",
       "      <td>437500.0</td>\n",
       "    </tr>\n",
       "    <tr>\n",
       "      <th>Staten Island</th>\n",
       "      <td>579000.0</td>\n",
       "    </tr>\n",
       "    <tr>\n",
       "      <th>Staten Island</th>\n",
       "      <td>370000.0</td>\n",
       "    </tr>\n",
       "    <tr>\n",
       "      <th>Staten Island</th>\n",
       "      <td>439000.0</td>\n",
       "    </tr>\n",
       "    <tr>\n",
       "      <th>Staten Island</th>\n",
       "      <td>300000.0</td>\n",
       "    </tr>\n",
       "  </tbody>\n",
       "</table>\n",
       "</div>"
      ],
      "text/plain": [
       "               SALE PRICE\n",
       "BOROUGH                  \n",
       "Staten Island    437500.0\n",
       "Staten Island    579000.0\n",
       "Staten Island    370000.0\n",
       "Staten Island    439000.0\n",
       "Staten Island    300000.0"
      ]
     },
     "execution_count": 49,
     "metadata": {},
     "output_type": "execute_result"
    }
   ],
   "source": [
    "# Membuat dataframe baru berdasarkan wilayah Staten Island\n",
    "df_pd_state  = df_nycsales[df_nycsales['BOROUGH'] == 'Staten Island']\n",
    "\n",
    "# Menghapus beberapa kolom karena hanya membutuhkan kolom BOROUGH dan SALE PRICE\n",
    "df_state = df_pd_state.drop(['YEAR BUILT', 'TOTAL UNITS', 'NEIGHBORHOOD', 'LOT', 'BLOCK','ZIP CODE',\n",
    "                            'RESIDENTIAL UNITS','COMMERCIAL UNITS',\n",
    "                            'LAND SQUARE FEET','GROSS SQUARE FEET','BUILDING CLASS CATEGORY',\n",
    "                           'TAX CLASS AT PRESENT','BUILDING CLASS AT PRESENT',\n",
    "                            'ADDRESS','TAX CLASS AT TIME OF SALE',\n",
    "                            'BUILDING CLASS AT TIME OF SALE', 'SALE DATE',\n",
    "                            'SALE YEAR', 'SALE MONTH', 'SALE DAY'],\n",
    "                           axis=1, inplace = False)\n",
    "\n",
    "# Mengubah kolom BOROUGH menjadi index\n",
    "df_pd_stateis = df_state.set_index(['BOROUGH'])\n",
    "df_pd_stateis.head()"
   ]
  },
  {
   "cell_type": "code",
   "execution_count": 51,
   "metadata": {},
   "outputs": [
    {
     "data": {
      "text/plain": [
       "Text(0.5, 1.0, 'Probability Distribution of SALE PRICE in Staten Island Borough')"
      ]
     },
     "execution_count": 51,
     "metadata": {},
     "output_type": "execute_result"
    },
    {
     "data": {
      "image/png": "[encoded data removed]",
      "text/plain": [
       "<Figure size 648x360 with 1 Axes>"
      ]
     },
     "metadata": {},
     "output_type": "display_data"
    }
   ],
   "source": [
    "# Membuat histogram probability distribution\n",
    "sns.set(rc={'figure.figsize':(9,5)})\n",
    "sns.histplot(df_pd_stateis, kde=True)\n",
    "plt.xlabel('Sale Price', labelpad=14)\n",
    "plt.ylabel('Frequency', labelpad=14)\n",
    "plt.title('Probability Distribution of SALE PRICE in Staten Island Borough', fontsize=13)"
   ]
  },
  {
   "cell_type": "code",
   "execution_count": 52,
   "metadata": {},
   "outputs": [
    {
     "data": {
      "text/plain": [
       "SALE PRICE    0.07891\n",
       "dtype: float64"
      ]
     },
     "execution_count": 52,
     "metadata": {},
     "output_type": "execute_result"
    }
   ],
   "source": [
    "# Melihat skewness dari SALE PRICE di wilayah Staten Island\n",
    "df_pd_stateis.skew()"
   ]
  },
  {
   "cell_type": "markdown",
   "metadata": {},
   "source": [
    "**Answer Question 2**"
   ]
  },
  {
   "cell_type": "code",
   "execution_count": 53,
   "metadata": {},
   "outputs": [
    {
     "data": {
      "text/html": [
       "<div>\n",
       "<style scoped>\n",
       "    .dataframe tbody tr th:only-of-type {\n",
       "        vertical-align: middle;\n",
       "    }\n",
       "\n",
       "    .dataframe tbody tr th {\n",
       "        vertical-align: top;\n",
       "    }\n",
       "\n",
       "    .dataframe thead th {\n",
       "        text-align: right;\n",
       "    }\n",
       "</style>\n",
       "<table border=\"1\" class=\"dataframe\">\n",
       "  <thead>\n",
       "    <tr style=\"text-align: right;\">\n",
       "      <th></th>\n",
       "      <th>SALE PRICE</th>\n",
       "    </tr>\n",
       "    <tr>\n",
       "      <th>NEIGHBORHOOD</th>\n",
       "      <th></th>\n",
       "    </tr>\n",
       "  </thead>\n",
       "  <tbody>\n",
       "    <tr>\n",
       "      <th>MASPETH</th>\n",
       "      <td>745000.0</td>\n",
       "    </tr>\n",
       "    <tr>\n",
       "      <th>MASPETH</th>\n",
       "      <td>898000.0</td>\n",
       "    </tr>\n",
       "    <tr>\n",
       "      <th>MASPETH</th>\n",
       "      <td>650000.0</td>\n",
       "    </tr>\n",
       "    <tr>\n",
       "      <th>MASPETH</th>\n",
       "      <td>665000.0</td>\n",
       "    </tr>\n",
       "    <tr>\n",
       "      <th>MASPETH</th>\n",
       "      <td>700000.0</td>\n",
       "    </tr>\n",
       "  </tbody>\n",
       "</table>\n",
       "</div>"
      ],
      "text/plain": [
       "              SALE PRICE\n",
       "NEIGHBORHOOD            \n",
       "MASPETH         745000.0\n",
       "MASPETH         898000.0\n",
       "MASPETH         650000.0\n",
       "MASPETH         665000.0\n",
       "MASPETH         700000.0"
      ]
     },
     "execution_count": 53,
     "metadata": {},
     "output_type": "execute_result"
    }
   ],
   "source": [
    "# Membuat dataframe baru berdasarkan daerah MASPETH\n",
    "df_pd_mp  = df_nycsales[df_nycsales['NEIGHBORHOOD'] == 'MASPETH']\n",
    "\n",
    "# menghapus beberapa kolom karena hanya membutuhkan kolom NEIGHBORHOOD dan SALE PRICE\n",
    "df_mp = df_pd_mp.drop(['YEAR BUILT', 'TOTAL UNITS', 'BOROUGH', 'LOT', 'BLOCK','ZIP CODE',\n",
    "                            'RESIDENTIAL UNITS','COMMERCIAL UNITS',\n",
    "                            'LAND SQUARE FEET','GROSS SQUARE FEET','BUILDING CLASS CATEGORY',\n",
    "                           'TAX CLASS AT PRESENT','BUILDING CLASS AT PRESENT',\n",
    "                            'ADDRESS','TAX CLASS AT TIME OF SALE',\n",
    "                            'BUILDING CLASS AT TIME OF SALE', 'SALE DATE',\n",
    "                            'SALE YEAR', 'SALE MONTH', 'SALE DAY'],\n",
    "                           axis=1, inplace = False)\n",
    "\n",
    "# Mengubah kolom NEIGHBORHOOD menjadi index\n",
    "df_pd_maspeth = df_mp.set_index(['NEIGHBORHOOD'])\n",
    "df_pd_maspeth.head()"
   ]
  },
  {
   "cell_type": "code",
   "execution_count": 54,
   "metadata": {},
   "outputs": [
    {
     "data": {
      "text/plain": [
       "Text(0.5, 1, 'Probability Distribution of SALE PRICE in Maspeth Neighborhood')"
      ]
     },
     "execution_count": 54,
     "metadata": {},
     "output_type": "execute_result"
    },
    {
     "data": {
      "image/png": "[encoded data removed]",
      "text/plain": [
       "<Figure size 648x360 with 1 Axes>"
      ]
     },
     "metadata": {},
     "output_type": "display_data"
    }
   ],
   "source": [
    "# Membuat histogram probability distribution\n",
    "sns.set(rc={'figure.figsize':(9,5)})\n",
    "sns.histplot(df_pd_maspeth, kde=True)\n",
    "plt.xlabel('Sale Price', labelpad=14)\n",
    "plt.ylabel('Frequency', labelpad=14)\n",
    "plt.title('Probability Distribution of SALE PRICE in Maspeth Neighborhood', y=1, fontsize=13)"
   ]
  },
  {
   "cell_type": "code",
   "execution_count": 55,
   "metadata": {},
   "outputs": [
    {
     "data": {
      "text/plain": [
       "SALE PRICE    0.072095\n",
       "dtype: float64"
      ]
     },
     "execution_count": 55,
     "metadata": {},
     "output_type": "execute_result"
    }
   ],
   "source": [
    "# Melihat skewness dari SALE PRICE di daerah MASPETH\n",
    "df_pd_maspeth.skew()"
   ]
  },
  {
   "cell_type": "markdown",
   "metadata": {},
   "source": [
    "### Kesimpulan/Analisis Jawaban:\n",
    "Dari grafik pertama yang ditampilkan dan tidak adanya skewness maka dapat disimpulkan bahwa probability distribution harga penjualan (SALE PRICE) di wilayah Staten Island sudah berdistribusi normal. Dan dari grafik kedua yang ditampilkan dan tidak adanya skewness maka dapat disimpulkan bahwa probability distribution harga penjualan (SALE PRICE) di daerah Maspeth sudah berdistribusi normal."
   ]
  },
  {
   "cell_type": "markdown",
   "metadata": {},
   "source": [
    "## 5. Measured of Spread: Confidence Intervals\n",
    "***\n",
    "Di bagian ini, saya akan mencari confidence intervals sesuai dengan pertanyaan yang ada di bagian Question. Confidence Intervals adalah rentang antara dua nilai dimana nilai suatu Sample Mean tepat berada di tengah-tengahnya. <br>\n",
    "**Question:**\n",
    "1. Berapa Confidence Interval untuk luas tanah properti (LAND SQUARE FEET) di daerah BAYSIDE?\n",
    "2. Berapa Confidence Interval untuk luas total semua lantai bangunan (GROSS SQUARE FEET) di daerah BAYSIDE?"
   ]
  },
  {
   "cell_type": "markdown",
   "metadata": {},
   "source": [
    "**Answer Question 1**"
   ]
  },
  {
   "cell_type": "code",
   "execution_count": 56,
   "metadata": {},
   "outputs": [
    {
     "name": "stdout",
     "output_type": "stream",
     "text": [
      "Confidence Interval luas tanah properti (LAND SQUARE FEET) di daerah BAYSIDE: [ 2898.8429408871393 , 3061.245226166225 ]\n"
     ]
    }
   ],
   "source": [
    "# Membuat dataframe baru yang hanya terdapat kolom BAYSIDE NEIGHBORHOOD dan LAND SQUARE FEET\n",
    "df_land = df_nycsales[df_nycsales['NEIGHBORHOOD']=='BAYSIDE']['LAND SQUARE FEET']\n",
    "\n",
    "# Mencari mean, std, dan jumlah item dari dataframe baru\n",
    "mean1 = df_land.mean()\n",
    "std1 = df_land.std()\n",
    "n1 = len(df_nycsales[df_nycsales['NEIGHBORHOOD']=='BAYSIDE'])\n",
    "\n",
    "# Membuat variabel z untuk z score\n",
    "z = 1.96 # z score untuk Confidence Level 95%\n",
    "\n",
    "# Mencari standard error\n",
    "se1 = std1 / np.sqrt(n1)\n",
    "\n",
    "# Menghitung batas atas dan batas bawah\n",
    "lower_bound1 = mean1 - z * se1\n",
    "upper_bound1 = mean1 + z * se1\n",
    "\n",
    "print('Confidence Interval luas tanah properti (LAND SQUARE FEET) di daerah BAYSIDE: [',lower_bound1,',',upper_bound1,']')"
   ]
  },
  {
   "cell_type": "markdown",
   "metadata": {},
   "source": [
    "**Answer Question 2**"
   ]
  },
  {
   "cell_type": "code",
   "execution_count": 57,
   "metadata": {},
   "outputs": [
    {
     "name": "stdout",
     "output_type": "stream",
     "text": [
      "Confidence Interval luas total semua lantai bangunan (GROSS SQUARE FEET) di daerah BAYSIDE: [ 1650.2795534194877 , 1763.613718042229 ]\n"
     ]
    }
   ],
   "source": [
    "# Membuat dataframe baru yang hanya terdapat kolom BAYSIDE NEIGHBORHOOD dan GROSS SQUARE FEET\n",
    "df_gros = df_nycsales[df_nycsales['NEIGHBORHOOD']=='BAYSIDE']['GROSS SQUARE FEET']\n",
    "\n",
    "# Mencari mean, std, dan jumlah item dari dataframe baru\n",
    "mean2 = df_gros.mean()\n",
    "std2 = df_gros.std()\n",
    "n2 = len(df_nycsales[df_nycsales['NEIGHBORHOOD']=='BAYSIDE'])\n",
    "\n",
    "# Membuat variabel z untuk z score\n",
    "z = 1.96 # z score untuk Confidence Level 95%\n",
    "\n",
    "# Mencari standard error\n",
    "se2 = std2 / np.sqrt(n2)\n",
    "\n",
    "# Menghitung batas atas dan batas bawah\n",
    "lower_bound2 = mean2 - z * se2\n",
    "upper_bound2 = mean2 + z * se2\n",
    "\n",
    "print('Confidence Interval luas total semua lantai bangunan (GROSS SQUARE FEET) di daerah BAYSIDE: [',lower_bound2,',',upper_bound2,']')"
   ]
  },
  {
   "cell_type": "markdown",
   "metadata": {},
   "source": [
    "### Kesimpulan/Analisis Jawaban:\n",
    "Dari hasil analisis di atas didapatkan confidence interval luas tanah properti (LAND SQUARE FEET) di daerah BAYSIDE adalah 2898.8429408871393 - 3061.245226166225, berarti nilai suatu sample mean berada antara rentang tersebut. \n",
    "Dan confidence interval luas total semua lantai bangunan (GROSS SQUARE FEET) di daerah BAYSIDE adalah 1650.2795534194877 - 1763.613718042229, berarti nilai suatu sample mean berada antara rentang tersebut."
   ]
  },
  {
   "cell_type": "markdown",
   "metadata": {},
   "source": [
    "## 6. Measured of Spread: Hypothesis Testing\n",
    "***\n",
    "Di bagian ini, saya akan menguji hipotesis dan menarik kesimpulan yang dihasilkan.<br>\n",
    "**H0** : The Sale Prices of Properties in Brooklyn and Queens are equal <br>\n",
    "**H1** : The Sale Prices of Properties in Brooklyn and Queens are not equal"
   ]
  },
  {
   "cell_type": "code",
   "execution_count": 58,
   "metadata": {},
   "outputs": [
    {
     "name": "stdout",
     "output_type": "stream",
     "text": [
      "Wilayah Brooklyn: 10001 , 474105.62593740626 , 515168.48119807366\n",
      "Wilayah Queens: 10523 , 625807.1177420887 , 320874.4655168475\n"
     ]
    }
   ],
   "source": [
    "# Membuat dataframe yang hanya terdapat kolom BOROUGH dan SALE PRICE\n",
    "df_price = df_nycsales[['BOROUGH','SALE PRICE']]\n",
    "\n",
    "# Membuat dataframe baru berdasarkan Brooklyn BOROUGH\n",
    "df_brook = df_price[df_price['BOROUGH']=='Brooklyn'].drop('BOROUGH', axis=1)\n",
    "\n",
    "# Membuat dataframe baru berdasarkan Queens BOROUGH\n",
    "df_queens = df_price[df_price['BOROUGH']=='Queens'].drop('BOROUGH', axis=1)\n",
    "\n",
    "# Mencari jumlah item, mean dan standard deviation dari wilayah Brooklyn\n",
    "n_brook = len(df_brook)\n",
    "mean_brook = df_brook['SALE PRICE'].mean()\n",
    "std_brook = df_brook['SALE PRICE'].std()\n",
    "\n",
    "# Mencari jumlah item, mean dan standard deviation dari wilayah Queens\n",
    "n_queens = len(df_queens)\n",
    "mean_queens = df_queens['SALE PRICE'].mean()\n",
    "std_queens = df_queens['SALE PRICE'].std()\n",
    "\n",
    "print('Wilayah Brooklyn:', n_brook,\",\",mean_brook,\",\",std_brook)\n",
    "print('Wilayah Queens:', n_queens,\",\",mean_queens,\",\",std_queens)"
   ]
  },
  {
   "cell_type": "code",
   "execution_count": 59,
   "metadata": {},
   "outputs": [
    {
     "name": "stdout",
     "output_type": "stream",
     "text": [
      "The Sale Prices of Properties in Brooklyn and Queens are not equal\n"
     ]
    }
   ],
   "source": [
    "# Mencari p-value\n",
    "z_score, pvalue = sm.stats.ztest(df_brook['SALE PRICE'].dropna(),\n",
    "                                 df_queens['SALE PRICE'].dropna(),alternative='two-sided')\n",
    "\n",
    "# Penarikan kesimpulan\n",
    "if pvalue > 0.05:\n",
    "    print('The Sale Prices of Properties in Brooklyn and Queens are equal')\n",
    "else:\n",
    "    print('The Sale Prices of Properties in Brooklyn and Queens are not equal')"
   ]
  },
  {
   "cell_type": "markdown",
   "metadata": {},
   "source": [
    "### Menampilkan plot dari distribusi data"
   ]
  },
  {
   "cell_type": "code",
   "execution_count": 60,
   "metadata": {},
   "outputs": [
    {
     "data": {
      "text/plain": [
       "Text(0, 0.5, 'FREQUENCY')"
      ]
     },
     "execution_count": 60,
     "metadata": {},
     "output_type": "execute_result"
    },
    {
     "data": {
      "image/png": "[encoded data removed]",
      "text/plain": [
       "<Figure size 1224x504 with 2 Axes>"
      ]
     },
     "metadata": {},
     "output_type": "display_data"
    }
   ],
   "source": [
    "# Menampilkan distribusi dari data penjualan di wilayah Brooklyn dan Queens\n",
    "fig = plt.figure(figsize=(17,7))\n",
    "ax = fig.add_subplot(1,2,1)\n",
    "ax0 = fig.add_subplot(1,2,2)\n",
    "\n",
    "# Membuat dan mengatur plot untuk harga jual (SALE PRICE) di wilayah Brooklyn\n",
    "sns.histplot(df_brook, kde=True, ax=ax0)\n",
    "ax0.set_title('HISTOGRAM SALE PRICES OF PROPERTIES IN BROOKLYN BOROUGH')\n",
    "ax0.set_xlabel('SALE PRICES OF PROPERTIES')\n",
    "ax0.tick_params(axis='x', labelrotation=90)\n",
    "ax0.set_ylabel('FREQUENCY')\n",
    "\n",
    "# Membuat dan mengatur plot untuk harga jual (SALE PRICE) di wilayah Queens\n",
    "sns.histplot(df_queens, kde=True, ax=ax)\n",
    "ax.set_title('HISTOGRAM SALE PRICES OF PROPERTIES IN QUEENS BOROUGH')\n",
    "ax.set_xlabel('SALE PRICES OF PROPERTIES')\n",
    "ax.tick_params(axis='x', labelrotation=90)\n",
    "ax.set_ylabel('FREQUENCY')"
   ]
  },
  {
   "cell_type": "markdown",
   "metadata": {},
   "source": [
    "### Kesimpulan/Analisis Jawaban:\n",
    "Berdasarkan hasil uji hipotesis menggunakan z-test dengan alternative two-sided, didapatkan bahwa H0 ditolak karena p-value < 0.05. Jadi dapat disimpulkan bahwa harga jual properti (SALE PRICES OF PROPERTIES) di wilayah Brooklyn dan Queens tidak sama."
   ]
  },
  {
   "cell_type": "markdown",
   "metadata": {},
   "source": [
    "# F. Overall Analysis\n",
    "***\n",
    "Pada bagian ini, saya akan merangkum hasil keseluruhan analisis yang telah saya lakukan. Berikut hasil keseluruhan analisis di atas:\n",
    "1. Rata-rata dari harga jual (SALE PRICE) di wilayah Brooklyn adalah 474105.62593740626. Lalu rata-rata dari luas total semua lantai bangunan (GROSS SQUARE FEET) di wilayah Brooklyn adalah 2096.006299370063. Dan rata-rata dari luas tanah properti (LAND SQUARE FEET) di wilayah Brooklyn adalah 2222.5992400759924.\n",
    "2. Median dari harga jual (SALE PRICE) di wilayah Brooklyn adalah 400000.0. Lalu median dari luas total semua lantai bangunan (GROSS SQUARE FEET) di wilayah Brooklyn adalah 2040.0. Dan median dari luas tanah properti (LAND SQUARE FEET) di wilayah Brooklyn adalah 2000.0.\n",
    "3. Modus dari tahun properti dibangun (YEAR BUILT) di wilayah Brooklyn adalah 1920 dengan kemunculan sebanyak 1354. Lalu modus dari luas total semua lantai bangunan (GROSS SQUARE FEET) di wilayah Brooklyn adalah 2400 dengan kemunculan sebanyak 145. Dan modus dari luas tanah properti (LAND SQUARE FEET) di wilayah Brooklyn adalah 2000 dengan kemunculan sebanyak 1846.\n",
    "4. Range/perbedaan antara harga jual (SALE PRICE) tertinggi dan terendah di wilayah Brooklyn adalah 2100000.0. Dan range/perbedaan antara luas total semua lantai bangunan (GROSS SQUARE FEET) tertinggi dan terendah di wilayah Brooklyn adalah 4048.0.\n",
    "5. Variance dari harga jual (SALE PRICE) di wilayah Brooklyn adalah 265398564019.92996. Lalu variance dari luas total semua lantai bangunan (GROSS SQUARE FEET) di wilayah Brooklyn adalah 536218.190660314. Dan variance dari luas tanah properti (LAND SQUARE FEET) di wilayah Brooklyn adalah 413281.1535754159.\n",
    "6. Standard deviation dari harga jual (SALE PRICE) di wilayah Brooklyn adalah 515168.48119807366. Lalu standard deviation dari luas total semua lantai bangunan (GROSS SQUARE FEET) di wilayah Brooklyn adalah 732.2692064127195. Dan standard deviation dari luas tanah properti (LAND SQUARE FEET) di wilayah Brooklyn adalah 642.8694685357331.\n",
    "7. Dari grafik pertama yang ditampilkan dan tidak adanya skewness maka dapat disimpulkan bahwa probability distribution harga penjualan (SALE PRICE) di wilayah Staten Island sudah berdistribusi normal. Dan dari grafik kedua yang ditampilkan dan tidak adanya skewness maka dapat disimpulkan bahwa probability distribution harga penjualan (SALE PRICE) di daerah Maspeth juga sudah berdistribusi normal.\n",
    "8. Confidence interval luas tanah properti (LAND SQUARE FEET) di daerah BAYSIDE adalah 2898.8429408871393 - 3061.245226166225, berarti nilai suatu sample mean berada antara rentang tersebut. Dan confidence interval luas total semua lantai bangunan (GROSS SQUARE FEET) di daerah BAYSIDE adalah 1650.2795534194877 - 1763.613718042229, berarti nilai suatu sample mean berada antara rentang tersebut.\n",
    "9. Berdasarkan hasil uji hipotesis menggunakan z-test dengan alternative two-sided, didapatkan bahwa H0 ditolak karena p-value < 0.05. Jadi dapat disimpulkan bahwa harga jual properti (SALE PRICES OF PROPERTIES) di wilayah Brooklyn dan Queens tidak sama."
   ]
  }
 ],
 "metadata": {
  "kernelspec": {
   "display_name": "Python 3.9.12 ('base')",
   "language": "python",
   "name": "python3"
  },
  "language_info": {
   "codemirror_mode": {
    "name": "ipython",
    "version": 3
   },
   "file_extension": ".py",
   "mimetype": "text/x-python",
   "name": "python",
   "nbconvert_exporter": "python",
   "pygments_lexer": "ipython3",
   "version": "3.9.12"
  },
  "orig_nbformat": 4,
  "vscode": {
   "interpreter": {
    "hash": "548ab95550280775e0e3d7de30ebd157c610a70d91e64db02d00f78c476de59e"
   }
  }
 },
 "nbformat": 4,
 "nbformat_minor": 2
}
