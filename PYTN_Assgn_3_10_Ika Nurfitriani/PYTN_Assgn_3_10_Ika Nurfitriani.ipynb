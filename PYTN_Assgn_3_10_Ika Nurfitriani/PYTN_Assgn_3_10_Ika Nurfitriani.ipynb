{
 "cells": [
  {
   "cell_type": "markdown",
   "metadata": {},
   "source": [
    "# Assignment 3 - Introduction to Python for Data Science Program\n",
    "#### **Nama: Ika Nurfitriani**\n",
    "#### **Kode Peserta: PYTN-KS10-008**\n",
    "\n",
    "# Short Description of The Assignment\n",
    "This assignment is a project intended as the **third** assignment in a self-study class at PT Hacktivate Teknologi Indonesia. In this project, we will analyze the Bank Marketing dataset. This assignment is made by taking into account all the assessment rubrics that have been set and will be checked by the teacher of each class.\n",
    "\n",
    "# Project Overview\n",
    "The data is related with direct marketing campaigns of a Portuguese banking institution. The marketing campaigns were based on phone calls. Often, more than one contact to the same client was required, in order to access if the product (bank term deposit) would be ('yes') or not ('no') subscribed. There are four datasets:\n",
    "- **bank-additional-full.csv** with all examples (41188) and 20 inputs, ordered by date (from May 2008 to November 2010), very close to the data analyzed in [Moro et al., 2014]\n",
    "- **bank-additional.csv** with 10% of the examples (4119), randomly selected from 1), and 20 inputs.\n",
    "- **bank-full.csv** with all examples and 17 inputs, ordered by date (older version of this dataset with less inputs).\n",
    "- **bank.csv** with 10% of the examples and 17 inputs, randomly selected from 3 (older version of this dataset with less inputs).\n",
    "\n",
    "The smallest datasets are provided to test more computationally demanding machine learning algorithms (e.g., SVM). The classification goal is to predict if the client will subscribe (yes/no) a term deposit (variable y)."
   ]
  },
  {
   "cell_type": "markdown",
   "metadata": {},
   "source": [
    "This dataset contains:\n",
    "\n",
    "Input variables:\n",
    "\n",
    "Bank Client Data:\n",
    "User Details:\n",
    "   1. `age` (numeric)\n",
    "\n",
    "   2. `job` : type of job (categorical: 'admin.','blue-collar','entrepreneur','housemaid','management','retired','self-employed','services','student','technician','unemployed','unknown')\n",
    "\n",
    "   3. `marital` : marital status (categorical: 'divorced','married','single','unknown'; note: 'divorced' means divorced or widowed)\n",
    "\n",
    "   4. `education` (categorical: 'basic.4y','basic.6y','basic.9y','high.school','illiterate','professional.course','university.degree','unknown')\n",
    "\n",
    "   5. `default`: has credit in default? (categorical: 'no','yes','unknown')\n",
    "\n",
    "   6.  `housing`: has housing loan? (categorical: 'no','yes','unknown')\n",
    "\n",
    "   7. `loan`: has personal loan? (categorical: 'no','yes','unknown')\n",
    "\n",
    "Related with the last contact of the current campaign:\n",
    "\n",
    "   8. `contact`: contact communication type (categorical: 'cellular','telephone')\n",
    "\n",
    "   9. `month`: last contact month of year (categorical: 'jan', 'feb', 'mar', ..., 'nov', 'dec')\n",
    "\n",
    "   10. `day_of_week`: last contact day of the week (categorical: 'mon','tue','wed','thu','fri')\n",
    "\n",
    "   11. `duration`: last contact duration, in seconds (numeric). Important note: this attribute highly affects the output target (e.g., if duration=0 then y='no'). Yet, the duration is not known before a call is performed. Also, after the end of the call y is obviously known. Thus, this input should only be included for benchmark purposes and should be discarded if the intention is to have a realistic predictive model.\n",
    "\n",
    "Other attributes:\n",
    "\n",
    "   12. `campaign`: number of contacts performed during this campaign and for this client (numeric, includes last contact)\n",
    "\n",
    "   13. `pdays`: number of days that passed by after the client was last contacted from a previous campaign (numeric; 999 means client was not previously contacted)\n",
    "\n",
    "   14. `previous`: number of contacts performed before this campaign and for this client (numeric)\n",
    "\n",
    "   15. `poutcome`: outcome of the previous marketing campaign (categorical: 'failure','nonexistent','success')\n",
    "\n",
    "Social and economic context attributes:\n",
    "\n",
    "   16. `emp.var.rate`: employment variation rate - quarterly indicator (numeric)\n",
    "\n",
    "   17. `cons.price.idx`: consumer price index - monthly indicator (numeric)\n",
    "\n",
    "   18. `cons.conf.idx`: consumer confidence index - monthly indicator (numeric)\n",
    "\n",
    "   19. `euribor3m`: euribor 3 month rate - daily indicator (numeric)\n",
    "\n",
    "   20. `nr.employed`: number of employees - quarterly indicator (numeric)\n",
    "\n",
    "Output variable (desired target):\n",
    "\n",
    "   21. `y` - has the client subscribed a term deposit? (binary: 'yes','no')"
   ]
  },
  {
   "cell_type": "markdown",
   "metadata": {},
   "source": [
    "# A. Import Required Libraries\n",
    "***\n",
    "Di tahap ini, saya mengimpor beberapa library yang dibutuhkan."
   ]
  },
  {
   "cell_type": "code",
   "execution_count": 2,
   "metadata": {},
   "outputs": [],
   "source": [
    "# Import library yang dibutuhkan untuk preprocessing dan visualisasi\n",
    "import numpy as np\n",
    "import pandas as pd\n",
    "import matplotlib.pyplot as plt\n",
    "%matplotlib inline\n",
    "import seaborn as sns\n",
    "from sklearn.preprocessing import LabelEncoder, StandardScaler\n",
    "from sklearn.model_selection import train_test_split\n",
    "\n",
    "# Import library yang dibutuhkan untuk modelling\n",
    "from sklearn.metrics import accuracy_score\n",
    "from sklearn.metrics import confusion_matrix\n",
    "from sklearn.metrics import classification_report\n",
    "from sklearn.linear_model import LogisticRegression\n",
    "from sklearn.neighbors import KNeighborsClassifier\n",
    "from sklearn.svm import SVC\n",
    "from sklearn.tree import DecisionTreeClassifier\n",
    "from sklearn.ensemble import RandomForestClassifier\n",
    "from sklearn.naive_bayes import GaussianNB\n",
    "\n",
    "import warnings\n",
    "warnings.filterwarnings(\"ignore\")"
   ]
  },
  {
   "cell_type": "markdown",
   "metadata": {},
   "source": [
    "# B. Preparation and Exploring Dataset\n",
    "***\n",
    "Di tahap ini, data dalam dataset akan melalui berbagai proses pengecekan untuk memastikan bahwa data dapat dilakukan analisa sederhana menggunakan visualisasi dan siap untuk dilakukan preprocessing sebelum modeling."
   ]
  },
  {
   "cell_type": "markdown",
   "metadata": {},
   "source": [
    "## 1. Data Loading"
   ]
  },
  {
   "cell_type": "code",
   "execution_count": 3,
   "metadata": {},
   "outputs": [
    {
     "data": {
      "text/html": [
       "<div>\n",
       "<style scoped>\n",
       "    .dataframe tbody tr th:only-of-type {\n",
       "        vertical-align: middle;\n",
       "    }\n",
       "\n",
       "    .dataframe tbody tr th {\n",
       "        vertical-align: top;\n",
       "    }\n",
       "\n",
       "    .dataframe thead th {\n",
       "        text-align: right;\n",
       "    }\n",
       "</style>\n",
       "<table border=\"1\" class=\"dataframe\">\n",
       "  <thead>\n",
       "    <tr style=\"text-align: right;\">\n",
       "      <th></th>\n",
       "      <th>age</th>\n",
       "      <th>job</th>\n",
       "      <th>marital</th>\n",
       "      <th>education</th>\n",
       "      <th>default</th>\n",
       "      <th>housing</th>\n",
       "      <th>loan</th>\n",
       "      <th>contact</th>\n",
       "      <th>month</th>\n",
       "      <th>day_of_week</th>\n",
       "      <th>...</th>\n",
       "      <th>campaign</th>\n",
       "      <th>pdays</th>\n",
       "      <th>previous</th>\n",
       "      <th>poutcome</th>\n",
       "      <th>emp.var.rate</th>\n",
       "      <th>cons.price.idx</th>\n",
       "      <th>cons.conf.idx</th>\n",
       "      <th>euribor3m</th>\n",
       "      <th>nr.employed</th>\n",
       "      <th>y</th>\n",
       "    </tr>\n",
       "  </thead>\n",
       "  <tbody>\n",
       "    <tr>\n",
       "      <th>0</th>\n",
       "      <td>56</td>\n",
       "      <td>housemaid</td>\n",
       "      <td>married</td>\n",
       "      <td>basic.4y</td>\n",
       "      <td>no</td>\n",
       "      <td>no</td>\n",
       "      <td>no</td>\n",
       "      <td>telephone</td>\n",
       "      <td>may</td>\n",
       "      <td>mon</td>\n",
       "      <td>...</td>\n",
       "      <td>1</td>\n",
       "      <td>999</td>\n",
       "      <td>0</td>\n",
       "      <td>nonexistent</td>\n",
       "      <td>1.1</td>\n",
       "      <td>93.994</td>\n",
       "      <td>-36.4</td>\n",
       "      <td>4.857</td>\n",
       "      <td>5191.0</td>\n",
       "      <td>no</td>\n",
       "    </tr>\n",
       "    <tr>\n",
       "      <th>1</th>\n",
       "      <td>57</td>\n",
       "      <td>services</td>\n",
       "      <td>married</td>\n",
       "      <td>high.school</td>\n",
       "      <td>unknown</td>\n",
       "      <td>no</td>\n",
       "      <td>no</td>\n",
       "      <td>telephone</td>\n",
       "      <td>may</td>\n",
       "      <td>mon</td>\n",
       "      <td>...</td>\n",
       "      <td>1</td>\n",
       "      <td>999</td>\n",
       "      <td>0</td>\n",
       "      <td>nonexistent</td>\n",
       "      <td>1.1</td>\n",
       "      <td>93.994</td>\n",
       "      <td>-36.4</td>\n",
       "      <td>4.857</td>\n",
       "      <td>5191.0</td>\n",
       "      <td>no</td>\n",
       "    </tr>\n",
       "    <tr>\n",
       "      <th>2</th>\n",
       "      <td>37</td>\n",
       "      <td>services</td>\n",
       "      <td>married</td>\n",
       "      <td>high.school</td>\n",
       "      <td>no</td>\n",
       "      <td>yes</td>\n",
       "      <td>no</td>\n",
       "      <td>telephone</td>\n",
       "      <td>may</td>\n",
       "      <td>mon</td>\n",
       "      <td>...</td>\n",
       "      <td>1</td>\n",
       "      <td>999</td>\n",
       "      <td>0</td>\n",
       "      <td>nonexistent</td>\n",
       "      <td>1.1</td>\n",
       "      <td>93.994</td>\n",
       "      <td>-36.4</td>\n",
       "      <td>4.857</td>\n",
       "      <td>5191.0</td>\n",
       "      <td>no</td>\n",
       "    </tr>\n",
       "    <tr>\n",
       "      <th>3</th>\n",
       "      <td>40</td>\n",
       "      <td>admin.</td>\n",
       "      <td>married</td>\n",
       "      <td>basic.6y</td>\n",
       "      <td>no</td>\n",
       "      <td>no</td>\n",
       "      <td>no</td>\n",
       "      <td>telephone</td>\n",
       "      <td>may</td>\n",
       "      <td>mon</td>\n",
       "      <td>...</td>\n",
       "      <td>1</td>\n",
       "      <td>999</td>\n",
       "      <td>0</td>\n",
       "      <td>nonexistent</td>\n",
       "      <td>1.1</td>\n",
       "      <td>93.994</td>\n",
       "      <td>-36.4</td>\n",
       "      <td>4.857</td>\n",
       "      <td>5191.0</td>\n",
       "      <td>no</td>\n",
       "    </tr>\n",
       "    <tr>\n",
       "      <th>4</th>\n",
       "      <td>56</td>\n",
       "      <td>services</td>\n",
       "      <td>married</td>\n",
       "      <td>high.school</td>\n",
       "      <td>no</td>\n",
       "      <td>no</td>\n",
       "      <td>yes</td>\n",
       "      <td>telephone</td>\n",
       "      <td>may</td>\n",
       "      <td>mon</td>\n",
       "      <td>...</td>\n",
       "      <td>1</td>\n",
       "      <td>999</td>\n",
       "      <td>0</td>\n",
       "      <td>nonexistent</td>\n",
       "      <td>1.1</td>\n",
       "      <td>93.994</td>\n",
       "      <td>-36.4</td>\n",
       "      <td>4.857</td>\n",
       "      <td>5191.0</td>\n",
       "      <td>no</td>\n",
       "    </tr>\n",
       "    <tr>\n",
       "      <th>...</th>\n",
       "      <td>...</td>\n",
       "      <td>...</td>\n",
       "      <td>...</td>\n",
       "      <td>...</td>\n",
       "      <td>...</td>\n",
       "      <td>...</td>\n",
       "      <td>...</td>\n",
       "      <td>...</td>\n",
       "      <td>...</td>\n",
       "      <td>...</td>\n",
       "      <td>...</td>\n",
       "      <td>...</td>\n",
       "      <td>...</td>\n",
       "      <td>...</td>\n",
       "      <td>...</td>\n",
       "      <td>...</td>\n",
       "      <td>...</td>\n",
       "      <td>...</td>\n",
       "      <td>...</td>\n",
       "      <td>...</td>\n",
       "      <td>...</td>\n",
       "    </tr>\n",
       "    <tr>\n",
       "      <th>41183</th>\n",
       "      <td>73</td>\n",
       "      <td>retired</td>\n",
       "      <td>married</td>\n",
       "      <td>professional.course</td>\n",
       "      <td>no</td>\n",
       "      <td>yes</td>\n",
       "      <td>no</td>\n",
       "      <td>cellular</td>\n",
       "      <td>nov</td>\n",
       "      <td>fri</td>\n",
       "      <td>...</td>\n",
       "      <td>1</td>\n",
       "      <td>999</td>\n",
       "      <td>0</td>\n",
       "      <td>nonexistent</td>\n",
       "      <td>-1.1</td>\n",
       "      <td>94.767</td>\n",
       "      <td>-50.8</td>\n",
       "      <td>1.028</td>\n",
       "      <td>4963.6</td>\n",
       "      <td>yes</td>\n",
       "    </tr>\n",
       "    <tr>\n",
       "      <th>41184</th>\n",
       "      <td>46</td>\n",
       "      <td>blue-collar</td>\n",
       "      <td>married</td>\n",
       "      <td>professional.course</td>\n",
       "      <td>no</td>\n",
       "      <td>no</td>\n",
       "      <td>no</td>\n",
       "      <td>cellular</td>\n",
       "      <td>nov</td>\n",
       "      <td>fri</td>\n",
       "      <td>...</td>\n",
       "      <td>1</td>\n",
       "      <td>999</td>\n",
       "      <td>0</td>\n",
       "      <td>nonexistent</td>\n",
       "      <td>-1.1</td>\n",
       "      <td>94.767</td>\n",
       "      <td>-50.8</td>\n",
       "      <td>1.028</td>\n",
       "      <td>4963.6</td>\n",
       "      <td>no</td>\n",
       "    </tr>\n",
       "    <tr>\n",
       "      <th>41185</th>\n",
       "      <td>56</td>\n",
       "      <td>retired</td>\n",
       "      <td>married</td>\n",
       "      <td>university.degree</td>\n",
       "      <td>no</td>\n",
       "      <td>yes</td>\n",
       "      <td>no</td>\n",
       "      <td>cellular</td>\n",
       "      <td>nov</td>\n",
       "      <td>fri</td>\n",
       "      <td>...</td>\n",
       "      <td>2</td>\n",
       "      <td>999</td>\n",
       "      <td>0</td>\n",
       "      <td>nonexistent</td>\n",
       "      <td>-1.1</td>\n",
       "      <td>94.767</td>\n",
       "      <td>-50.8</td>\n",
       "      <td>1.028</td>\n",
       "      <td>4963.6</td>\n",
       "      <td>no</td>\n",
       "    </tr>\n",
       "    <tr>\n",
       "      <th>41186</th>\n",
       "      <td>44</td>\n",
       "      <td>technician</td>\n",
       "      <td>married</td>\n",
       "      <td>professional.course</td>\n",
       "      <td>no</td>\n",
       "      <td>no</td>\n",
       "      <td>no</td>\n",
       "      <td>cellular</td>\n",
       "      <td>nov</td>\n",
       "      <td>fri</td>\n",
       "      <td>...</td>\n",
       "      <td>1</td>\n",
       "      <td>999</td>\n",
       "      <td>0</td>\n",
       "      <td>nonexistent</td>\n",
       "      <td>-1.1</td>\n",
       "      <td>94.767</td>\n",
       "      <td>-50.8</td>\n",
       "      <td>1.028</td>\n",
       "      <td>4963.6</td>\n",
       "      <td>yes</td>\n",
       "    </tr>\n",
       "    <tr>\n",
       "      <th>41187</th>\n",
       "      <td>74</td>\n",
       "      <td>retired</td>\n",
       "      <td>married</td>\n",
       "      <td>professional.course</td>\n",
       "      <td>no</td>\n",
       "      <td>yes</td>\n",
       "      <td>no</td>\n",
       "      <td>cellular</td>\n",
       "      <td>nov</td>\n",
       "      <td>fri</td>\n",
       "      <td>...</td>\n",
       "      <td>3</td>\n",
       "      <td>999</td>\n",
       "      <td>1</td>\n",
       "      <td>failure</td>\n",
       "      <td>-1.1</td>\n",
       "      <td>94.767</td>\n",
       "      <td>-50.8</td>\n",
       "      <td>1.028</td>\n",
       "      <td>4963.6</td>\n",
       "      <td>no</td>\n",
       "    </tr>\n",
       "  </tbody>\n",
       "</table>\n",
       "<p>41188 rows × 21 columns</p>\n",
       "</div>"
      ],
      "text/plain": [
       "       age          job  marital            education  default housing loan  \\\n",
       "0       56    housemaid  married             basic.4y       no      no   no   \n",
       "1       57     services  married          high.school  unknown      no   no   \n",
       "2       37     services  married          high.school       no     yes   no   \n",
       "3       40       admin.  married             basic.6y       no      no   no   \n",
       "4       56     services  married          high.school       no      no  yes   \n",
       "...    ...          ...      ...                  ...      ...     ...  ...   \n",
       "41183   73      retired  married  professional.course       no     yes   no   \n",
       "41184   46  blue-collar  married  professional.course       no      no   no   \n",
       "41185   56      retired  married    university.degree       no     yes   no   \n",
       "41186   44   technician  married  professional.course       no      no   no   \n",
       "41187   74      retired  married  professional.course       no     yes   no   \n",
       "\n",
       "         contact month day_of_week  ...  campaign  pdays  previous  \\\n",
       "0      telephone   may         mon  ...         1    999         0   \n",
       "1      telephone   may         mon  ...         1    999         0   \n",
       "2      telephone   may         mon  ...         1    999         0   \n",
       "3      telephone   may         mon  ...         1    999         0   \n",
       "4      telephone   may         mon  ...         1    999         0   \n",
       "...          ...   ...         ...  ...       ...    ...       ...   \n",
       "41183   cellular   nov         fri  ...         1    999         0   \n",
       "41184   cellular   nov         fri  ...         1    999         0   \n",
       "41185   cellular   nov         fri  ...         2    999         0   \n",
       "41186   cellular   nov         fri  ...         1    999         0   \n",
       "41187   cellular   nov         fri  ...         3    999         1   \n",
       "\n",
       "          poutcome emp.var.rate  cons.price.idx  cons.conf.idx  euribor3m  \\\n",
       "0      nonexistent          1.1          93.994          -36.4      4.857   \n",
       "1      nonexistent          1.1          93.994          -36.4      4.857   \n",
       "2      nonexistent          1.1          93.994          -36.4      4.857   \n",
       "3      nonexistent          1.1          93.994          -36.4      4.857   \n",
       "4      nonexistent          1.1          93.994          -36.4      4.857   \n",
       "...            ...          ...             ...            ...        ...   \n",
       "41183  nonexistent         -1.1          94.767          -50.8      1.028   \n",
       "41184  nonexistent         -1.1          94.767          -50.8      1.028   \n",
       "41185  nonexistent         -1.1          94.767          -50.8      1.028   \n",
       "41186  nonexistent         -1.1          94.767          -50.8      1.028   \n",
       "41187      failure         -1.1          94.767          -50.8      1.028   \n",
       "\n",
       "       nr.employed    y  \n",
       "0           5191.0   no  \n",
       "1           5191.0   no  \n",
       "2           5191.0   no  \n",
       "3           5191.0   no  \n",
       "4           5191.0   no  \n",
       "...            ...  ...  \n",
       "41183       4963.6  yes  \n",
       "41184       4963.6   no  \n",
       "41185       4963.6   no  \n",
       "41186       4963.6  yes  \n",
       "41187       4963.6   no  \n",
       "\n",
       "[41188 rows x 21 columns]"
      ]
     },
     "execution_count": 3,
     "metadata": {},
     "output_type": "execute_result"
    }
   ],
   "source": [
    "# Open data\n",
    "df_bank = pd.read_csv(\"bank-additional-full.csv\", sep=';')\n",
    "\n",
    "# Menampilkan 5 data pertama dan 5 data terakhir\n",
    "df_bank"
   ]
  },
  {
   "cell_type": "code",
   "execution_count": 4,
   "metadata": {},
   "outputs": [
    {
     "name": "stdout",
     "output_type": "stream",
     "text": [
      "Dimensi data:\n",
      "41188 baris\n",
      "21 kolom\n"
     ]
    }
   ],
   "source": [
    "# Melihat informasi dimensi dari dataset\n",
    "rows, columns = df_bank.shape\n",
    "print(\"Dimensi data:\")\n",
    "print(rows, \"baris\")\n",
    "print(columns, \"kolom\")"
   ]
  },
  {
   "cell_type": "code",
   "execution_count": 5,
   "metadata": {},
   "outputs": [
    {
     "name": "stdout",
     "output_type": "stream",
     "text": [
      "<class 'pandas.core.frame.DataFrame'>\n",
      "RangeIndex: 41188 entries, 0 to 41187\n",
      "Data columns (total 21 columns):\n",
      " #   Column          Non-Null Count  Dtype  \n",
      "---  ------          --------------  -----  \n",
      " 0   age             41188 non-null  int64  \n",
      " 1   job             41188 non-null  object \n",
      " 2   marital         41188 non-null  object \n",
      " 3   education       41188 non-null  object \n",
      " 4   default         41188 non-null  object \n",
      " 5   housing         41188 non-null  object \n",
      " 6   loan            41188 non-null  object \n",
      " 7   contact         41188 non-null  object \n",
      " 8   month           41188 non-null  object \n",
      " 9   day_of_week     41188 non-null  object \n",
      " 10  duration        41188 non-null  int64  \n",
      " 11  campaign        41188 non-null  int64  \n",
      " 12  pdays           41188 non-null  int64  \n",
      " 13  previous        41188 non-null  int64  \n",
      " 14  poutcome        41188 non-null  object \n",
      " 15  emp.var.rate    41188 non-null  float64\n",
      " 16  cons.price.idx  41188 non-null  float64\n",
      " 17  cons.conf.idx   41188 non-null  float64\n",
      " 18  euribor3m       41188 non-null  float64\n",
      " 19  nr.employed     41188 non-null  float64\n",
      " 20  y               41188 non-null  object \n",
      "dtypes: float64(5), int64(5), object(11)\n",
      "memory usage: 6.6+ MB\n"
     ]
    }
   ],
   "source": [
    "# Melihat ringkasan tipe data setiap kolom\n",
    "df_bank.info()"
   ]
  },
  {
   "cell_type": "code",
   "execution_count": 6,
   "metadata": {},
   "outputs": [
    {
     "data": {
      "text/plain": [
       "RangeIndex(start=0, stop=41188, step=1)"
      ]
     },
     "execution_count": 6,
     "metadata": {},
     "output_type": "execute_result"
    }
   ],
   "source": [
    "# Melihat range index dataset\n",
    "df_bank.index"
   ]
  },
  {
   "cell_type": "code",
   "execution_count": 7,
   "metadata": {},
   "outputs": [
    {
     "data": {
      "text/plain": [
       "array([    0,     1,     2, ..., 41185, 41186, 41187], dtype=int64)"
      ]
     },
     "execution_count": 7,
     "metadata": {},
     "output_type": "execute_result"
    }
   ],
   "source": [
    "# Melihat daftar indeks dataset\n",
    "df_bank.index.values"
   ]
  },
  {
   "cell_type": "code",
   "execution_count": 8,
   "metadata": {},
   "outputs": [
    {
     "data": {
      "text/plain": [
       "Index(['age', 'job', 'marital', 'education', 'default', 'housing', 'loan',\n",
       "       'contact', 'month', 'day_of_week', 'duration', 'campaign', 'pdays',\n",
       "       'previous', 'poutcome', 'emp.var.rate', 'cons.price.idx',\n",
       "       'cons.conf.idx', 'euribor3m', 'nr.employed', 'y'],\n",
       "      dtype='object')"
      ]
     },
     "execution_count": 8,
     "metadata": {},
     "output_type": "execute_result"
    }
   ],
   "source": [
    "# Mengetahui daftar kolom yang ada dalam dataset\n",
    "df_bank.columns"
   ]
  },
  {
   "cell_type": "code",
   "execution_count": 9,
   "metadata": {},
   "outputs": [],
   "source": [
    "# Mengelompokkan atribut berdasarkan tipe datanya\n",
    "numerical_columns = list(df_bank.select_dtypes(include=['int64']).columns.values) + list(df_bank.select_dtypes(include=['float64']).columns.values)\n",
    "categorical_columns = list(df_bank.select_dtypes(include=['object']))"
   ]
  },
  {
   "cell_type": "code",
   "execution_count": 10,
   "metadata": {},
   "outputs": [
    {
     "name": "stdout",
     "output_type": "stream",
     "text": [
      "Kolom Numerik:  ['age', 'duration', 'campaign', 'pdays', 'previous', 'emp.var.rate', 'cons.price.idx', 'cons.conf.idx', 'euribor3m', 'nr.employed']\n",
      "\n",
      "Kolom Kategorik:  ['job', 'marital', 'education', 'default', 'housing', 'loan', 'contact', 'month', 'day_of_week', 'poutcome', 'y']\n"
     ]
    }
   ],
   "source": [
    "# Mencetak kolom numerik dan kategori\n",
    "print(\"Kolom Numerik: \", numerical_columns)\n",
    "print(\"\\nKolom Kategorik: \", categorical_columns)"
   ]
  },
  {
   "cell_type": "code",
   "execution_count": 11,
   "metadata": {},
   "outputs": [
    {
     "data": {
      "text/html": [
       "<div>\n",
       "<style scoped>\n",
       "    .dataframe tbody tr th:only-of-type {\n",
       "        vertical-align: middle;\n",
       "    }\n",
       "\n",
       "    .dataframe tbody tr th {\n",
       "        vertical-align: top;\n",
       "    }\n",
       "\n",
       "    .dataframe thead th {\n",
       "        text-align: right;\n",
       "    }\n",
       "</style>\n",
       "<table border=\"1\" class=\"dataframe\">\n",
       "  <thead>\n",
       "    <tr style=\"text-align: right;\">\n",
       "      <th></th>\n",
       "      <th>age</th>\n",
       "      <th>duration</th>\n",
       "      <th>campaign</th>\n",
       "      <th>pdays</th>\n",
       "      <th>previous</th>\n",
       "      <th>emp.var.rate</th>\n",
       "      <th>cons.price.idx</th>\n",
       "      <th>cons.conf.idx</th>\n",
       "      <th>euribor3m</th>\n",
       "      <th>nr.employed</th>\n",
       "    </tr>\n",
       "  </thead>\n",
       "  <tbody>\n",
       "    <tr>\n",
       "      <th>count</th>\n",
       "      <td>41188.00000</td>\n",
       "      <td>41188.000000</td>\n",
       "      <td>41188.000000</td>\n",
       "      <td>41188.000000</td>\n",
       "      <td>41188.000000</td>\n",
       "      <td>41188.000000</td>\n",
       "      <td>41188.000000</td>\n",
       "      <td>41188.000000</td>\n",
       "      <td>41188.000000</td>\n",
       "      <td>41188.000000</td>\n",
       "    </tr>\n",
       "    <tr>\n",
       "      <th>mean</th>\n",
       "      <td>40.02406</td>\n",
       "      <td>258.285010</td>\n",
       "      <td>2.567593</td>\n",
       "      <td>962.475454</td>\n",
       "      <td>0.172963</td>\n",
       "      <td>0.081886</td>\n",
       "      <td>93.575664</td>\n",
       "      <td>-40.502600</td>\n",
       "      <td>3.621291</td>\n",
       "      <td>5167.035911</td>\n",
       "    </tr>\n",
       "    <tr>\n",
       "      <th>std</th>\n",
       "      <td>10.42125</td>\n",
       "      <td>259.279249</td>\n",
       "      <td>2.770014</td>\n",
       "      <td>186.910907</td>\n",
       "      <td>0.494901</td>\n",
       "      <td>1.570960</td>\n",
       "      <td>0.578840</td>\n",
       "      <td>4.628198</td>\n",
       "      <td>1.734447</td>\n",
       "      <td>72.251528</td>\n",
       "    </tr>\n",
       "    <tr>\n",
       "      <th>min</th>\n",
       "      <td>17.00000</td>\n",
       "      <td>0.000000</td>\n",
       "      <td>1.000000</td>\n",
       "      <td>0.000000</td>\n",
       "      <td>0.000000</td>\n",
       "      <td>-3.400000</td>\n",
       "      <td>92.201000</td>\n",
       "      <td>-50.800000</td>\n",
       "      <td>0.634000</td>\n",
       "      <td>4963.600000</td>\n",
       "    </tr>\n",
       "    <tr>\n",
       "      <th>25%</th>\n",
       "      <td>32.00000</td>\n",
       "      <td>102.000000</td>\n",
       "      <td>1.000000</td>\n",
       "      <td>999.000000</td>\n",
       "      <td>0.000000</td>\n",
       "      <td>-1.800000</td>\n",
       "      <td>93.075000</td>\n",
       "      <td>-42.700000</td>\n",
       "      <td>1.344000</td>\n",
       "      <td>5099.100000</td>\n",
       "    </tr>\n",
       "    <tr>\n",
       "      <th>50%</th>\n",
       "      <td>38.00000</td>\n",
       "      <td>180.000000</td>\n",
       "      <td>2.000000</td>\n",
       "      <td>999.000000</td>\n",
       "      <td>0.000000</td>\n",
       "      <td>1.100000</td>\n",
       "      <td>93.749000</td>\n",
       "      <td>-41.800000</td>\n",
       "      <td>4.857000</td>\n",
       "      <td>5191.000000</td>\n",
       "    </tr>\n",
       "    <tr>\n",
       "      <th>75%</th>\n",
       "      <td>47.00000</td>\n",
       "      <td>319.000000</td>\n",
       "      <td>3.000000</td>\n",
       "      <td>999.000000</td>\n",
       "      <td>0.000000</td>\n",
       "      <td>1.400000</td>\n",
       "      <td>93.994000</td>\n",
       "      <td>-36.400000</td>\n",
       "      <td>4.961000</td>\n",
       "      <td>5228.100000</td>\n",
       "    </tr>\n",
       "    <tr>\n",
       "      <th>max</th>\n",
       "      <td>98.00000</td>\n",
       "      <td>4918.000000</td>\n",
       "      <td>56.000000</td>\n",
       "      <td>999.000000</td>\n",
       "      <td>7.000000</td>\n",
       "      <td>1.400000</td>\n",
       "      <td>94.767000</td>\n",
       "      <td>-26.900000</td>\n",
       "      <td>5.045000</td>\n",
       "      <td>5228.100000</td>\n",
       "    </tr>\n",
       "  </tbody>\n",
       "</table>\n",
       "</div>"
      ],
      "text/plain": [
       "               age      duration      campaign         pdays      previous  \\\n",
       "count  41188.00000  41188.000000  41188.000000  41188.000000  41188.000000   \n",
       "mean      40.02406    258.285010      2.567593    962.475454      0.172963   \n",
       "std       10.42125    259.279249      2.770014    186.910907      0.494901   \n",
       "min       17.00000      0.000000      1.000000      0.000000      0.000000   \n",
       "25%       32.00000    102.000000      1.000000    999.000000      0.000000   \n",
       "50%       38.00000    180.000000      2.000000    999.000000      0.000000   \n",
       "75%       47.00000    319.000000      3.000000    999.000000      0.000000   \n",
       "max       98.00000   4918.000000     56.000000    999.000000      7.000000   \n",
       "\n",
       "       emp.var.rate  cons.price.idx  cons.conf.idx     euribor3m   nr.employed  \n",
       "count  41188.000000    41188.000000   41188.000000  41188.000000  41188.000000  \n",
       "mean       0.081886       93.575664     -40.502600      3.621291   5167.035911  \n",
       "std        1.570960        0.578840       4.628198      1.734447     72.251528  \n",
       "min       -3.400000       92.201000     -50.800000      0.634000   4963.600000  \n",
       "25%       -1.800000       93.075000     -42.700000      1.344000   5099.100000  \n",
       "50%        1.100000       93.749000     -41.800000      4.857000   5191.000000  \n",
       "75%        1.400000       93.994000     -36.400000      4.961000   5228.100000  \n",
       "max        1.400000       94.767000     -26.900000      5.045000   5228.100000  "
      ]
     },
     "execution_count": 11,
     "metadata": {},
     "output_type": "execute_result"
    }
   ],
   "source": [
    "# Melihat deskriptif statistik untuk kolom numerik\n",
    "df_bank[numerical_columns].describe()"
   ]
  },
  {
   "cell_type": "markdown",
   "metadata": {},
   "source": [
    "## 2. Data Cleaning"
   ]
  },
  {
   "cell_type": "code",
   "execution_count": 12,
   "metadata": {},
   "outputs": [
    {
     "name": "stdout",
     "output_type": "stream",
     "text": [
      "Job:\n",
      "admin.           10422\n",
      "blue-collar       9254\n",
      "technician        6743\n",
      "services          3969\n",
      "management        2924\n",
      "retired           1720\n",
      "entrepreneur      1456\n",
      "self-employed     1421\n",
      "housemaid         1060\n",
      "unemployed        1014\n",
      "student            875\n",
      "unknown            330\n",
      "Name: job, dtype: int64\n",
      "----------------------------------------\n",
      "Marital:\n",
      "married     24928\n",
      "single      11568\n",
      "divorced     4612\n",
      "unknown        80\n",
      "Name: marital, dtype: int64\n",
      "----------------------------------------\n",
      "Education:\n",
      "university.degree      12168\n",
      "high.school             9515\n",
      "basic.9y                6045\n",
      "professional.course     5243\n",
      "basic.4y                4176\n",
      "basic.6y                2292\n",
      "unknown                 1731\n",
      "illiterate                18\n",
      "Name: education, dtype: int64\n",
      "----------------------------------------\n",
      "Default:\n",
      "no         32588\n",
      "unknown     8597\n",
      "yes            3\n",
      "Name: default, dtype: int64\n",
      "----------------------------------------\n",
      "Housing loan:\n",
      "yes        21576\n",
      "no         18622\n",
      "unknown      990\n",
      "Name: housing, dtype: int64\n",
      "----------------------------------------\n",
      "Personal loan:\n",
      "no         33950\n",
      "yes         6248\n",
      "unknown      990\n",
      "Name: loan, dtype: int64\n",
      "----------------------------------------\n",
      "Contact:\n",
      "cellular     26144\n",
      "telephone    15044\n",
      "Name: contact, dtype: int64\n",
      "----------------------------------------\n",
      "Month:\n",
      "may    13769\n",
      "jul     7174\n",
      "aug     6178\n",
      "jun     5318\n",
      "nov     4101\n",
      "apr     2632\n",
      "oct      718\n",
      "sep      570\n",
      "mar      546\n",
      "dec      182\n",
      "Name: month, dtype: int64\n",
      "----------------------------------------\n",
      "Day:\n",
      "thu    8623\n",
      "mon    8514\n",
      "wed    8134\n",
      "tue    8090\n",
      "fri    7827\n",
      "Name: day_of_week, dtype: int64\n",
      "----------------------------------------\n",
      "Previous outcome:\n",
      "nonexistent    35563\n",
      "failure         4252\n",
      "success         1373\n",
      "Name: poutcome, dtype: int64\n",
      "----------------------------------------\n",
      "Outcome of this campaign:\n",
      "no     36548\n",
      "yes     4640\n",
      "Name: y, dtype: int64\n",
      "----------------------------------------\n"
     ]
    }
   ],
   "source": [
    "# Memeriksa kolom kategori dan jumlah masing-masing di setiap fitur\n",
    "print(\"Job:\",df_bank.job.value_counts(),sep = '\\n')\n",
    "print(\"-\"*40)\n",
    "print(\"Marital:\",df_bank.marital.value_counts(),sep = '\\n')\n",
    "print(\"-\"*40)\n",
    "print(\"Education:\",df_bank.education.value_counts(),sep = '\\n')\n",
    "print(\"-\"*40)\n",
    "print(\"Default:\",df_bank.default.value_counts(),sep = '\\n')\n",
    "print(\"-\"*40)\n",
    "print(\"Housing loan:\",df_bank.housing.value_counts(),sep = '\\n')\n",
    "print(\"-\"*40)\n",
    "print(\"Personal loan:\",df_bank.loan.value_counts(),sep = '\\n')\n",
    "print(\"-\"*40)\n",
    "print(\"Contact:\",df_bank.contact.value_counts(),sep = '\\n')\n",
    "print(\"-\"*40)\n",
    "print(\"Month:\",df_bank.month.value_counts(),sep = '\\n')\n",
    "print(\"-\"*40)\n",
    "print(\"Day:\",df_bank.day_of_week.value_counts(),sep = '\\n')\n",
    "print(\"-\"*40)\n",
    "print(\"Previous outcome:\",df_bank.poutcome.value_counts(),sep = '\\n')\n",
    "print(\"-\"*40)\n",
    "print(\"Outcome of this campaign:\",df_bank.y.value_counts(),sep = '\\n')\n",
    "print(\"-\"*40)"
   ]
  },
  {
   "cell_type": "code",
   "execution_count": 13,
   "metadata": {},
   "outputs": [
    {
     "data": {
      "text/plain": [
       "age                 78\n",
       "job                 12\n",
       "marital              4\n",
       "education            8\n",
       "default              3\n",
       "housing              3\n",
       "loan                 3\n",
       "contact              2\n",
       "month               10\n",
       "day_of_week          5\n",
       "duration          1544\n",
       "campaign            42\n",
       "pdays               27\n",
       "previous             8\n",
       "poutcome             3\n",
       "emp.var.rate        10\n",
       "cons.price.idx      26\n",
       "cons.conf.idx       26\n",
       "euribor3m          316\n",
       "nr.employed         11\n",
       "y                    2\n",
       "dtype: int64"
      ]
     },
     "execution_count": 13,
     "metadata": {},
     "output_type": "execute_result"
    }
   ],
   "source": [
    "# Melihat jumlah data yang unik\n",
    "df_bank.nunique()"
   ]
  },
  {
   "cell_type": "code",
   "execution_count": 14,
   "metadata": {},
   "outputs": [
    {
     "data": {
      "text/html": [
       "<div>\n",
       "<style scoped>\n",
       "    .dataframe tbody tr th:only-of-type {\n",
       "        vertical-align: middle;\n",
       "    }\n",
       "\n",
       "    .dataframe tbody tr th {\n",
       "        vertical-align: top;\n",
       "    }\n",
       "\n",
       "    .dataframe thead th {\n",
       "        text-align: right;\n",
       "    }\n",
       "</style>\n",
       "<table border=\"1\" class=\"dataframe\">\n",
       "  <thead>\n",
       "    <tr style=\"text-align: right;\">\n",
       "      <th></th>\n",
       "      <th>job</th>\n",
       "      <th>marital</th>\n",
       "      <th>education</th>\n",
       "      <th>default</th>\n",
       "      <th>housing</th>\n",
       "      <th>loan</th>\n",
       "      <th>contact</th>\n",
       "      <th>month</th>\n",
       "      <th>day_of_week</th>\n",
       "      <th>poutcome</th>\n",
       "      <th>y</th>\n",
       "    </tr>\n",
       "  </thead>\n",
       "  <tbody>\n",
       "    <tr>\n",
       "      <th>0</th>\n",
       "      <td>housemaid</td>\n",
       "      <td>married</td>\n",
       "      <td>basic.4y</td>\n",
       "      <td>no</td>\n",
       "      <td>no</td>\n",
       "      <td>no</td>\n",
       "      <td>telephone</td>\n",
       "      <td>may</td>\n",
       "      <td>mon</td>\n",
       "      <td>nonexistent</td>\n",
       "      <td>no</td>\n",
       "    </tr>\n",
       "    <tr>\n",
       "      <th>1</th>\n",
       "      <td>services</td>\n",
       "      <td>married</td>\n",
       "      <td>high.school</td>\n",
       "      <td>unknown</td>\n",
       "      <td>no</td>\n",
       "      <td>no</td>\n",
       "      <td>telephone</td>\n",
       "      <td>may</td>\n",
       "      <td>mon</td>\n",
       "      <td>nonexistent</td>\n",
       "      <td>no</td>\n",
       "    </tr>\n",
       "    <tr>\n",
       "      <th>2</th>\n",
       "      <td>services</td>\n",
       "      <td>married</td>\n",
       "      <td>high.school</td>\n",
       "      <td>no</td>\n",
       "      <td>yes</td>\n",
       "      <td>no</td>\n",
       "      <td>telephone</td>\n",
       "      <td>may</td>\n",
       "      <td>mon</td>\n",
       "      <td>nonexistent</td>\n",
       "      <td>no</td>\n",
       "    </tr>\n",
       "    <tr>\n",
       "      <th>3</th>\n",
       "      <td>admin.</td>\n",
       "      <td>married</td>\n",
       "      <td>basic.6y</td>\n",
       "      <td>no</td>\n",
       "      <td>no</td>\n",
       "      <td>no</td>\n",
       "      <td>telephone</td>\n",
       "      <td>may</td>\n",
       "      <td>mon</td>\n",
       "      <td>nonexistent</td>\n",
       "      <td>no</td>\n",
       "    </tr>\n",
       "    <tr>\n",
       "      <th>4</th>\n",
       "      <td>services</td>\n",
       "      <td>married</td>\n",
       "      <td>high.school</td>\n",
       "      <td>no</td>\n",
       "      <td>no</td>\n",
       "      <td>yes</td>\n",
       "      <td>telephone</td>\n",
       "      <td>may</td>\n",
       "      <td>mon</td>\n",
       "      <td>nonexistent</td>\n",
       "      <td>no</td>\n",
       "    </tr>\n",
       "  </tbody>\n",
       "</table>\n",
       "</div>"
      ],
      "text/plain": [
       "         job  marital    education  default housing loan    contact month  \\\n",
       "0  housemaid  married     basic.4y       no      no   no  telephone   may   \n",
       "1   services  married  high.school  unknown      no   no  telephone   may   \n",
       "2   services  married  high.school       no     yes   no  telephone   may   \n",
       "3     admin.  married     basic.6y       no      no   no  telephone   may   \n",
       "4   services  married  high.school       no      no  yes  telephone   may   \n",
       "\n",
       "  day_of_week     poutcome   y  \n",
       "0         mon  nonexistent  no  \n",
       "1         mon  nonexistent  no  \n",
       "2         mon  nonexistent  no  \n",
       "3         mon  nonexistent  no  \n",
       "4         mon  nonexistent  no  "
      ]
     },
     "execution_count": 14,
     "metadata": {},
     "output_type": "execute_result"
    }
   ],
   "source": [
    "# Melihat unstandard missing values pada kolom kategori\n",
    "df_bank[categorical_columns].head()"
   ]
  },
  {
   "cell_type": "code",
   "execution_count": 15,
   "metadata": {},
   "outputs": [
    {
     "data": {
      "text/html": [
       "<div>\n",
       "<style scoped>\n",
       "    .dataframe tbody tr th:only-of-type {\n",
       "        vertical-align: middle;\n",
       "    }\n",
       "\n",
       "    .dataframe tbody tr th {\n",
       "        vertical-align: top;\n",
       "    }\n",
       "\n",
       "    .dataframe thead th {\n",
       "        text-align: right;\n",
       "    }\n",
       "</style>\n",
       "<table border=\"1\" class=\"dataframe\">\n",
       "  <thead>\n",
       "    <tr style=\"text-align: right;\">\n",
       "      <th></th>\n",
       "      <th>age</th>\n",
       "      <th>duration</th>\n",
       "      <th>campaign</th>\n",
       "      <th>pdays</th>\n",
       "      <th>previous</th>\n",
       "      <th>emp.var.rate</th>\n",
       "      <th>cons.price.idx</th>\n",
       "      <th>cons.conf.idx</th>\n",
       "      <th>euribor3m</th>\n",
       "      <th>nr.employed</th>\n",
       "    </tr>\n",
       "  </thead>\n",
       "  <tbody>\n",
       "    <tr>\n",
       "      <th>0</th>\n",
       "      <td>56</td>\n",
       "      <td>261</td>\n",
       "      <td>1</td>\n",
       "      <td>999</td>\n",
       "      <td>0</td>\n",
       "      <td>1.1</td>\n",
       "      <td>93.994</td>\n",
       "      <td>-36.4</td>\n",
       "      <td>4.857</td>\n",
       "      <td>5191.0</td>\n",
       "    </tr>\n",
       "    <tr>\n",
       "      <th>1</th>\n",
       "      <td>57</td>\n",
       "      <td>149</td>\n",
       "      <td>1</td>\n",
       "      <td>999</td>\n",
       "      <td>0</td>\n",
       "      <td>1.1</td>\n",
       "      <td>93.994</td>\n",
       "      <td>-36.4</td>\n",
       "      <td>4.857</td>\n",
       "      <td>5191.0</td>\n",
       "    </tr>\n",
       "    <tr>\n",
       "      <th>2</th>\n",
       "      <td>37</td>\n",
       "      <td>226</td>\n",
       "      <td>1</td>\n",
       "      <td>999</td>\n",
       "      <td>0</td>\n",
       "      <td>1.1</td>\n",
       "      <td>93.994</td>\n",
       "      <td>-36.4</td>\n",
       "      <td>4.857</td>\n",
       "      <td>5191.0</td>\n",
       "    </tr>\n",
       "    <tr>\n",
       "      <th>3</th>\n",
       "      <td>40</td>\n",
       "      <td>151</td>\n",
       "      <td>1</td>\n",
       "      <td>999</td>\n",
       "      <td>0</td>\n",
       "      <td>1.1</td>\n",
       "      <td>93.994</td>\n",
       "      <td>-36.4</td>\n",
       "      <td>4.857</td>\n",
       "      <td>5191.0</td>\n",
       "    </tr>\n",
       "    <tr>\n",
       "      <th>4</th>\n",
       "      <td>56</td>\n",
       "      <td>307</td>\n",
       "      <td>1</td>\n",
       "      <td>999</td>\n",
       "      <td>0</td>\n",
       "      <td>1.1</td>\n",
       "      <td>93.994</td>\n",
       "      <td>-36.4</td>\n",
       "      <td>4.857</td>\n",
       "      <td>5191.0</td>\n",
       "    </tr>\n",
       "  </tbody>\n",
       "</table>\n",
       "</div>"
      ],
      "text/plain": [
       "   age  duration  campaign  pdays  previous  emp.var.rate  cons.price.idx  \\\n",
       "0   56       261         1    999         0           1.1          93.994   \n",
       "1   57       149         1    999         0           1.1          93.994   \n",
       "2   37       226         1    999         0           1.1          93.994   \n",
       "3   40       151         1    999         0           1.1          93.994   \n",
       "4   56       307         1    999         0           1.1          93.994   \n",
       "\n",
       "   cons.conf.idx  euribor3m  nr.employed  \n",
       "0          -36.4      4.857       5191.0  \n",
       "1          -36.4      4.857       5191.0  \n",
       "2          -36.4      4.857       5191.0  \n",
       "3          -36.4      4.857       5191.0  \n",
       "4          -36.4      4.857       5191.0  "
      ]
     },
     "execution_count": 15,
     "metadata": {},
     "output_type": "execute_result"
    }
   ],
   "source": [
    "# Melihat unstandard missing values pada kolom numerik\n",
    "df_bank[numerical_columns].head()"
   ]
  },
  {
   "cell_type": "code",
   "execution_count": 16,
   "metadata": {},
   "outputs": [],
   "source": [
    "# Mengganti nilai 999 pada pdays \n",
    "df_bank['pdays'].replace(999, 0, inplace=True)"
   ]
  },
  {
   "cell_type": "code",
   "execution_count": 17,
   "metadata": {},
   "outputs": [
    {
     "name": "stdout",
     "output_type": "stream",
     "text": [
      "Jumlah missing values pada kolom kategori = 0\n",
      "Jumlah missing values pada kolom numerik = 0\n",
      "Total missing values semua kolom = 0\n"
     ]
    }
   ],
   "source": [
    "# Melihat apakah terdapat missing values\n",
    "print(\"Jumlah missing values pada kolom kategori =\", df_bank[categorical_columns].isnull().sum().sum())\n",
    "print(\"Jumlah missing values pada kolom numerik =\", df_bank[numerical_columns].isnull().sum().sum())\n",
    "print(\"Total missing values semua kolom =\", df_bank.isnull().sum().sum())"
   ]
  },
  {
   "cell_type": "code",
   "execution_count": 19,
   "metadata": {},
   "outputs": [
    {
     "name": "stdout",
     "output_type": "stream",
     "text": [
      "Jumlah duplicated data = 12\n"
     ]
    }
   ],
   "source": [
    "# Melihat apakah terdapat duplicated data\n",
    "print(\"Jumlah duplicated data =\", df_bank.duplicated().sum())"
   ]
  },
  {
   "cell_type": "code",
   "execution_count": 20,
   "metadata": {},
   "outputs": [],
   "source": [
    "# Menghapus data duplikat\n",
    "df_bank.drop_duplicates(subset=df_bank.columns, keep='first', inplace=True)"
   ]
  },
  {
   "cell_type": "code",
   "execution_count": 21,
   "metadata": {},
   "outputs": [
    {
     "name": "stdout",
     "output_type": "stream",
     "text": [
      "Dimensi data:\n",
      "41176 baris\n",
      "21 kolom\n"
     ]
    }
   ],
   "source": [
    "# Melihat kembali informasi dimensi dari dataset setelah hapus duplicated data\n",
    "rows, columns = df_bank.shape\n",
    "print(\"Dimensi data:\")\n",
    "print(rows, \"baris\")\n",
    "print(columns, \"kolom\")"
   ]
  },
  {
   "cell_type": "code",
   "execution_count": 22,
   "metadata": {},
   "outputs": [
    {
     "data": {
      "text/html": [
       "<div>\n",
       "<style scoped>\n",
       "    .dataframe tbody tr th:only-of-type {\n",
       "        vertical-align: middle;\n",
       "    }\n",
       "\n",
       "    .dataframe tbody tr th {\n",
       "        vertical-align: top;\n",
       "    }\n",
       "\n",
       "    .dataframe thead th {\n",
       "        text-align: right;\n",
       "    }\n",
       "</style>\n",
       "<table border=\"1\" class=\"dataframe\">\n",
       "  <thead>\n",
       "    <tr style=\"text-align: right;\">\n",
       "      <th></th>\n",
       "      <th>age</th>\n",
       "      <th>job</th>\n",
       "      <th>marital</th>\n",
       "      <th>education</th>\n",
       "      <th>credit default</th>\n",
       "      <th>housing</th>\n",
       "      <th>loan</th>\n",
       "      <th>contact</th>\n",
       "      <th>month</th>\n",
       "      <th>day_of_week</th>\n",
       "      <th>...</th>\n",
       "      <th>campaign</th>\n",
       "      <th>number of days passed</th>\n",
       "      <th>previous</th>\n",
       "      <th>poutcome</th>\n",
       "      <th>employment variation rate</th>\n",
       "      <th>consumer price index</th>\n",
       "      <th>consumer confidence index</th>\n",
       "      <th>euribor 3 month rate</th>\n",
       "      <th>number of employees</th>\n",
       "      <th>deposit</th>\n",
       "    </tr>\n",
       "  </thead>\n",
       "  <tbody>\n",
       "    <tr>\n",
       "      <th>0</th>\n",
       "      <td>56</td>\n",
       "      <td>housemaid</td>\n",
       "      <td>married</td>\n",
       "      <td>basic.4y</td>\n",
       "      <td>no</td>\n",
       "      <td>no</td>\n",
       "      <td>no</td>\n",
       "      <td>telephone</td>\n",
       "      <td>may</td>\n",
       "      <td>mon</td>\n",
       "      <td>...</td>\n",
       "      <td>1</td>\n",
       "      <td>0</td>\n",
       "      <td>0</td>\n",
       "      <td>nonexistent</td>\n",
       "      <td>1.1</td>\n",
       "      <td>93.994</td>\n",
       "      <td>-36.4</td>\n",
       "      <td>4.857</td>\n",
       "      <td>5191.0</td>\n",
       "      <td>no</td>\n",
       "    </tr>\n",
       "    <tr>\n",
       "      <th>1</th>\n",
       "      <td>57</td>\n",
       "      <td>services</td>\n",
       "      <td>married</td>\n",
       "      <td>high.school</td>\n",
       "      <td>unknown</td>\n",
       "      <td>no</td>\n",
       "      <td>no</td>\n",
       "      <td>telephone</td>\n",
       "      <td>may</td>\n",
       "      <td>mon</td>\n",
       "      <td>...</td>\n",
       "      <td>1</td>\n",
       "      <td>0</td>\n",
       "      <td>0</td>\n",
       "      <td>nonexistent</td>\n",
       "      <td>1.1</td>\n",
       "      <td>93.994</td>\n",
       "      <td>-36.4</td>\n",
       "      <td>4.857</td>\n",
       "      <td>5191.0</td>\n",
       "      <td>no</td>\n",
       "    </tr>\n",
       "    <tr>\n",
       "      <th>2</th>\n",
       "      <td>37</td>\n",
       "      <td>services</td>\n",
       "      <td>married</td>\n",
       "      <td>high.school</td>\n",
       "      <td>no</td>\n",
       "      <td>yes</td>\n",
       "      <td>no</td>\n",
       "      <td>telephone</td>\n",
       "      <td>may</td>\n",
       "      <td>mon</td>\n",
       "      <td>...</td>\n",
       "      <td>1</td>\n",
       "      <td>0</td>\n",
       "      <td>0</td>\n",
       "      <td>nonexistent</td>\n",
       "      <td>1.1</td>\n",
       "      <td>93.994</td>\n",
       "      <td>-36.4</td>\n",
       "      <td>4.857</td>\n",
       "      <td>5191.0</td>\n",
       "      <td>no</td>\n",
       "    </tr>\n",
       "    <tr>\n",
       "      <th>3</th>\n",
       "      <td>40</td>\n",
       "      <td>admin.</td>\n",
       "      <td>married</td>\n",
       "      <td>basic.6y</td>\n",
       "      <td>no</td>\n",
       "      <td>no</td>\n",
       "      <td>no</td>\n",
       "      <td>telephone</td>\n",
       "      <td>may</td>\n",
       "      <td>mon</td>\n",
       "      <td>...</td>\n",
       "      <td>1</td>\n",
       "      <td>0</td>\n",
       "      <td>0</td>\n",
       "      <td>nonexistent</td>\n",
       "      <td>1.1</td>\n",
       "      <td>93.994</td>\n",
       "      <td>-36.4</td>\n",
       "      <td>4.857</td>\n",
       "      <td>5191.0</td>\n",
       "      <td>no</td>\n",
       "    </tr>\n",
       "    <tr>\n",
       "      <th>4</th>\n",
       "      <td>56</td>\n",
       "      <td>services</td>\n",
       "      <td>married</td>\n",
       "      <td>high.school</td>\n",
       "      <td>no</td>\n",
       "      <td>no</td>\n",
       "      <td>yes</td>\n",
       "      <td>telephone</td>\n",
       "      <td>may</td>\n",
       "      <td>mon</td>\n",
       "      <td>...</td>\n",
       "      <td>1</td>\n",
       "      <td>0</td>\n",
       "      <td>0</td>\n",
       "      <td>nonexistent</td>\n",
       "      <td>1.1</td>\n",
       "      <td>93.994</td>\n",
       "      <td>-36.4</td>\n",
       "      <td>4.857</td>\n",
       "      <td>5191.0</td>\n",
       "      <td>no</td>\n",
       "    </tr>\n",
       "    <tr>\n",
       "      <th>...</th>\n",
       "      <td>...</td>\n",
       "      <td>...</td>\n",
       "      <td>...</td>\n",
       "      <td>...</td>\n",
       "      <td>...</td>\n",
       "      <td>...</td>\n",
       "      <td>...</td>\n",
       "      <td>...</td>\n",
       "      <td>...</td>\n",
       "      <td>...</td>\n",
       "      <td>...</td>\n",
       "      <td>...</td>\n",
       "      <td>...</td>\n",
       "      <td>...</td>\n",
       "      <td>...</td>\n",
       "      <td>...</td>\n",
       "      <td>...</td>\n",
       "      <td>...</td>\n",
       "      <td>...</td>\n",
       "      <td>...</td>\n",
       "      <td>...</td>\n",
       "    </tr>\n",
       "    <tr>\n",
       "      <th>41183</th>\n",
       "      <td>73</td>\n",
       "      <td>retired</td>\n",
       "      <td>married</td>\n",
       "      <td>professional.course</td>\n",
       "      <td>no</td>\n",
       "      <td>yes</td>\n",
       "      <td>no</td>\n",
       "      <td>cellular</td>\n",
       "      <td>nov</td>\n",
       "      <td>fri</td>\n",
       "      <td>...</td>\n",
       "      <td>1</td>\n",
       "      <td>0</td>\n",
       "      <td>0</td>\n",
       "      <td>nonexistent</td>\n",
       "      <td>-1.1</td>\n",
       "      <td>94.767</td>\n",
       "      <td>-50.8</td>\n",
       "      <td>1.028</td>\n",
       "      <td>4963.6</td>\n",
       "      <td>yes</td>\n",
       "    </tr>\n",
       "    <tr>\n",
       "      <th>41184</th>\n",
       "      <td>46</td>\n",
       "      <td>blue-collar</td>\n",
       "      <td>married</td>\n",
       "      <td>professional.course</td>\n",
       "      <td>no</td>\n",
       "      <td>no</td>\n",
       "      <td>no</td>\n",
       "      <td>cellular</td>\n",
       "      <td>nov</td>\n",
       "      <td>fri</td>\n",
       "      <td>...</td>\n",
       "      <td>1</td>\n",
       "      <td>0</td>\n",
       "      <td>0</td>\n",
       "      <td>nonexistent</td>\n",
       "      <td>-1.1</td>\n",
       "      <td>94.767</td>\n",
       "      <td>-50.8</td>\n",
       "      <td>1.028</td>\n",
       "      <td>4963.6</td>\n",
       "      <td>no</td>\n",
       "    </tr>\n",
       "    <tr>\n",
       "      <th>41185</th>\n",
       "      <td>56</td>\n",
       "      <td>retired</td>\n",
       "      <td>married</td>\n",
       "      <td>university.degree</td>\n",
       "      <td>no</td>\n",
       "      <td>yes</td>\n",
       "      <td>no</td>\n",
       "      <td>cellular</td>\n",
       "      <td>nov</td>\n",
       "      <td>fri</td>\n",
       "      <td>...</td>\n",
       "      <td>2</td>\n",
       "      <td>0</td>\n",
       "      <td>0</td>\n",
       "      <td>nonexistent</td>\n",
       "      <td>-1.1</td>\n",
       "      <td>94.767</td>\n",
       "      <td>-50.8</td>\n",
       "      <td>1.028</td>\n",
       "      <td>4963.6</td>\n",
       "      <td>no</td>\n",
       "    </tr>\n",
       "    <tr>\n",
       "      <th>41186</th>\n",
       "      <td>44</td>\n",
       "      <td>technician</td>\n",
       "      <td>married</td>\n",
       "      <td>professional.course</td>\n",
       "      <td>no</td>\n",
       "      <td>no</td>\n",
       "      <td>no</td>\n",
       "      <td>cellular</td>\n",
       "      <td>nov</td>\n",
       "      <td>fri</td>\n",
       "      <td>...</td>\n",
       "      <td>1</td>\n",
       "      <td>0</td>\n",
       "      <td>0</td>\n",
       "      <td>nonexistent</td>\n",
       "      <td>-1.1</td>\n",
       "      <td>94.767</td>\n",
       "      <td>-50.8</td>\n",
       "      <td>1.028</td>\n",
       "      <td>4963.6</td>\n",
       "      <td>yes</td>\n",
       "    </tr>\n",
       "    <tr>\n",
       "      <th>41187</th>\n",
       "      <td>74</td>\n",
       "      <td>retired</td>\n",
       "      <td>married</td>\n",
       "      <td>professional.course</td>\n",
       "      <td>no</td>\n",
       "      <td>yes</td>\n",
       "      <td>no</td>\n",
       "      <td>cellular</td>\n",
       "      <td>nov</td>\n",
       "      <td>fri</td>\n",
       "      <td>...</td>\n",
       "      <td>3</td>\n",
       "      <td>0</td>\n",
       "      <td>1</td>\n",
       "      <td>failure</td>\n",
       "      <td>-1.1</td>\n",
       "      <td>94.767</td>\n",
       "      <td>-50.8</td>\n",
       "      <td>1.028</td>\n",
       "      <td>4963.6</td>\n",
       "      <td>no</td>\n",
       "    </tr>\n",
       "  </tbody>\n",
       "</table>\n",
       "<p>41176 rows × 21 columns</p>\n",
       "</div>"
      ],
      "text/plain": [
       "       age          job  marital            education credit default housing  \\\n",
       "0       56    housemaid  married             basic.4y             no      no   \n",
       "1       57     services  married          high.school        unknown      no   \n",
       "2       37     services  married          high.school             no     yes   \n",
       "3       40       admin.  married             basic.6y             no      no   \n",
       "4       56     services  married          high.school             no      no   \n",
       "...    ...          ...      ...                  ...            ...     ...   \n",
       "41183   73      retired  married  professional.course             no     yes   \n",
       "41184   46  blue-collar  married  professional.course             no      no   \n",
       "41185   56      retired  married    university.degree             no     yes   \n",
       "41186   44   technician  married  professional.course             no      no   \n",
       "41187   74      retired  married  professional.course             no     yes   \n",
       "\n",
       "      loan    contact month day_of_week  ...  campaign  number of days passed  \\\n",
       "0       no  telephone   may         mon  ...         1                      0   \n",
       "1       no  telephone   may         mon  ...         1                      0   \n",
       "2       no  telephone   may         mon  ...         1                      0   \n",
       "3       no  telephone   may         mon  ...         1                      0   \n",
       "4      yes  telephone   may         mon  ...         1                      0   \n",
       "...    ...        ...   ...         ...  ...       ...                    ...   \n",
       "41183   no   cellular   nov         fri  ...         1                      0   \n",
       "41184   no   cellular   nov         fri  ...         1                      0   \n",
       "41185   no   cellular   nov         fri  ...         2                      0   \n",
       "41186   no   cellular   nov         fri  ...         1                      0   \n",
       "41187   no   cellular   nov         fri  ...         3                      0   \n",
       "\n",
       "       previous     poutcome employment variation rate  consumer price index  \\\n",
       "0             0  nonexistent                       1.1                93.994   \n",
       "1             0  nonexistent                       1.1                93.994   \n",
       "2             0  nonexistent                       1.1                93.994   \n",
       "3             0  nonexistent                       1.1                93.994   \n",
       "4             0  nonexistent                       1.1                93.994   \n",
       "...         ...          ...                       ...                   ...   \n",
       "41183         0  nonexistent                      -1.1                94.767   \n",
       "41184         0  nonexistent                      -1.1                94.767   \n",
       "41185         0  nonexistent                      -1.1                94.767   \n",
       "41186         0  nonexistent                      -1.1                94.767   \n",
       "41187         1      failure                      -1.1                94.767   \n",
       "\n",
       "       consumer confidence index  euribor 3 month rate  number of employees  \\\n",
       "0                          -36.4                 4.857               5191.0   \n",
       "1                          -36.4                 4.857               5191.0   \n",
       "2                          -36.4                 4.857               5191.0   \n",
       "3                          -36.4                 4.857               5191.0   \n",
       "4                          -36.4                 4.857               5191.0   \n",
       "...                          ...                   ...                  ...   \n",
       "41183                      -50.8                 1.028               4963.6   \n",
       "41184                      -50.8                 1.028               4963.6   \n",
       "41185                      -50.8                 1.028               4963.6   \n",
       "41186                      -50.8                 1.028               4963.6   \n",
       "41187                      -50.8                 1.028               4963.6   \n",
       "\n",
       "       deposit  \n",
       "0           no  \n",
       "1           no  \n",
       "2           no  \n",
       "3           no  \n",
       "4           no  \n",
       "...        ...  \n",
       "41183      yes  \n",
       "41184       no  \n",
       "41185       no  \n",
       "41186      yes  \n",
       "41187       no  \n",
       "\n",
       "[41176 rows x 21 columns]"
      ]
     },
     "execution_count": 22,
     "metadata": {},
     "output_type": "execute_result"
    }
   ],
   "source": [
    "# Mengganti nama kolom \n",
    "df_bank.rename(columns={\n",
    "    'default':'credit default',\n",
    "    'pdays':'number of days passed',\n",
    "    'emp.var.rate':'employment variation rate',\n",
    "    'cons.price.idx':'consumer price index',\n",
    "    'cons.conf.idx':'consumer confidence index',\n",
    "    'euribor3m':'euribor 3 month rate',\n",
    "    'nr.employed':'number of employees',\n",
    "    'y':'deposit',\n",
    "}, inplace=True)\n",
    "\n",
    "# Melihat 5 data pertama dan 5 data terakhir\n",
    "df_bank"
   ]
  },
  {
   "cell_type": "markdown",
   "metadata": {},
   "source": [
    "### KESIMPULAN ANALISIS\n",
    "Pada tahapan di atas saya mengecek missing values, mengecek data duplikat, mengganti nilai 999 pada pdays serta mengganti nama kolom."
   ]
  },
  {
   "cell_type": "markdown",
   "metadata": {},
   "source": [
    "# C. EDA (Data Visualization)\n",
    "***\n",
    "Di tahap ini, saya akan melakukan analisa sederhana dengan menggunakan visualisasi.<br>\n",
    "**Question:**\n",
    "1. Berapa perbandingan dan presentase dari banyaknya client yang berlangganan deposito dan yang tidak berlangganan deposito?\n",
    "2. Bagaimana visualisasi dari kolom numerik dengan menggunakan histogram?\n",
    "3. Berapa jumlah orang berdasarkan pekerjaan dan tingkat pendidikan?"
   ]
  },
  {
   "cell_type": "markdown",
   "metadata": {},
   "source": [
    "**Answer Question 1**"
   ]
  },
  {
   "cell_type": "code",
   "execution_count": 23,
   "metadata": {},
   "outputs": [
    {
     "data": {
      "image/png": "[encoded data removed]",
      "text/plain": [
       "<Figure size 1224x288 with 2 Axes>"
      ]
     },
     "metadata": {
      "needs_background": "light"
     },
     "output_type": "display_data"
    }
   ],
   "source": [
    "# Membuat 2 grafik secara bersamaan dengan subplot\n",
    "# Membuat bar plot untuk melihat perbandingan banyaknya client yang berlangganan deposito dengan yang tidak\n",
    "plt.rcParams['figure.figsize']=(17,4)\n",
    "plt.subplot(121)\n",
    "plt.title(\"Comparison of Subcribe Deposit Status\")\n",
    "ax = sns.countplot(x='deposit', data=df_bank, alpha=0.6)\n",
    "for i in ax.patches:\n",
    "    ax.annotate(format(i.get_height(),'.1f'), (i.get_x() + i.get_width()/2.,i.get_height()),\n",
    "               ha='center', va='center', xytext=(0,4), textcoords='offset points')\n",
    "\n",
    "# Membuat pie chart untuk melihat presentase banyaknya client yang berlangganan deposito dengan yang tidak\n",
    "plt.subplot(122)\n",
    "plt.title(\"Percentage of Subcribe Deposit Status\")\n",
    "subscribed_values_count = df_bank['deposit'].value_counts()\n",
    "subscribed_size = subscribed_values_count.values.tolist()\n",
    "subscribed_labels = 'No', 'Yes'\n",
    "colors=['aqua', 'lightblue']\n",
    "pcs, texts, autotexts = plt.pie(subscribed_size, labels=subscribed_labels, colors=colors,\n",
    "                             autopct='%1.1f%%', shadow=True, startangle=150)\n",
    "\n",
    "for text, autotext in zip(texts, autotexts):\n",
    "    text.set_fontsize(13)\n",
    "    autotext.set_fontsize(13)\n",
    "\n",
    "plt.axis('equal')\n",
    "plt.show()"
   ]
  },
  {
   "cell_type": "markdown",
   "metadata": {},
   "source": [
    "**Answer Question 2**"
   ]
  },
  {
   "cell_type": "code",
   "execution_count": 24,
   "metadata": {},
   "outputs": [
    {
     "data": {
      "image/png": "[encoded data removed]",
      "text/plain": [
       "<Figure size 1440x1080 with 9 Axes>"
      ]
     },
     "metadata": {
      "needs_background": "light"
     },
     "output_type": "display_data"
    }
   ],
   "source": [
    "# Memisahkan kolom numerik\n",
    "numerical_columns = ['age','duration','campaign','number of days passed','employment variation rate','consumer price index','consumer confidence index','euribor 3 month rate','number of employees']\n",
    "\n",
    "# Membuat histogram untuk kolom numerik\n",
    "fig, ax = plt.subplots(3, 3, sharex=False, sharey=False, figsize=(20,15))\n",
    "count = 0\n",
    "for num_col in numerical_columns:\n",
    "    ax_x = count//3\n",
    "    ax_y = count%3\n",
    "    \n",
    "    ax[ax_x, ax_y].hist(df_bank[num_col])\n",
    "    ax[ax_x, ax_y].set_title(f\"Histogram of {num_col}\")\n",
    "    count+=1\n",
    "plt.show()"
   ]
  },
  {
   "cell_type": "markdown",
   "metadata": {},
   "source": [
    "**Answer Question 3**"
   ]
  },
  {
   "cell_type": "code",
   "execution_count": 25,
   "metadata": {},
   "outputs": [
    {
     "data": {
      "image/png": "[encoded data removed]",
      "text/plain": [
       "<Figure size 1080x576 with 1 Axes>"
      ]
     },
     "metadata": {
      "needs_background": "light"
     },
     "output_type": "display_data"
    }
   ],
   "source": [
    "# Membuat pivot table untuk melihat jumlah orang berdasarkan pekerjaan dan tingkat pendidikan\n",
    "df_pivot = pd.pivot_table(df_bank,columns='education', index='job', aggfunc='count', values='age')\n",
    "df_pivot.plot(kind='barh', stacked=True , figsize=(15,8), alpha=0.75)\n",
    "plt.title('Jobwise count of people and Education level')\n",
    "plt.ylabel('Job')\n",
    "plt.xlabel('Count')\n",
    "plt.show()"
   ]
  },
  {
   "cell_type": "markdown",
   "metadata": {},
   "source": [
    "### KESIMPULAN/ANALISIS JAWABAN:<br>\n",
    "Berikut kesimpulan yang didapatkan dari hasil visualisasi di atas:\n",
    "1. Terdapat 36537 client yang berlangganan deposito dan 4639 client yang tidak berlangganan deposito dengan presentase masing-masing ialah 11.3% dan 88.7%.\n",
    "2. Untuk hasil visualisasi dari kolom numerik, saya akan mengambil kesimpulan dari kolom Age atau umur. Berdasarkan umur, client dengan umur 40-an adalah terbanyak pertama, disusul dengan client umur 30-an di tempat kedua.\n",
    "3. Jumlah orang dengan pekerjaan sebagai admin dan jumlah orang dengan tingkat pendidikan gelar universitas menjadi yang terbanyak di kelompoknya masing-masing."
   ]
  },
  {
   "cell_type": "markdown",
   "metadata": {},
   "source": [
    "# D. Prepocessing Data\n",
    "***\n",
    "Di tahap ini, saya akan memproses data untuk menentukan feature dan target serta membagi data train dan data test sebelum dilakukan modelling."
   ]
  },
  {
   "cell_type": "markdown",
   "metadata": {},
   "source": [
    "### Encoding kolom kategori"
   ]
  },
  {
   "cell_type": "code",
   "execution_count": 26,
   "metadata": {},
   "outputs": [
    {
     "data": {
      "text/html": [
       "<div>\n",
       "<style scoped>\n",
       "    .dataframe tbody tr th:only-of-type {\n",
       "        vertical-align: middle;\n",
       "    }\n",
       "\n",
       "    .dataframe tbody tr th {\n",
       "        vertical-align: top;\n",
       "    }\n",
       "\n",
       "    .dataframe thead th {\n",
       "        text-align: right;\n",
       "    }\n",
       "</style>\n",
       "<table border=\"1\" class=\"dataframe\">\n",
       "  <thead>\n",
       "    <tr style=\"text-align: right;\">\n",
       "      <th></th>\n",
       "      <th>age</th>\n",
       "      <th>job</th>\n",
       "      <th>marital</th>\n",
       "      <th>education</th>\n",
       "      <th>credit default</th>\n",
       "      <th>housing</th>\n",
       "      <th>loan</th>\n",
       "      <th>contact</th>\n",
       "      <th>month</th>\n",
       "      <th>day_of_week</th>\n",
       "      <th>...</th>\n",
       "      <th>campaign</th>\n",
       "      <th>number of days passed</th>\n",
       "      <th>previous</th>\n",
       "      <th>poutcome</th>\n",
       "      <th>employment variation rate</th>\n",
       "      <th>consumer price index</th>\n",
       "      <th>consumer confidence index</th>\n",
       "      <th>euribor 3 month rate</th>\n",
       "      <th>number of employees</th>\n",
       "      <th>deposit</th>\n",
       "    </tr>\n",
       "  </thead>\n",
       "  <tbody>\n",
       "    <tr>\n",
       "      <th>0</th>\n",
       "      <td>56</td>\n",
       "      <td>3</td>\n",
       "      <td>1</td>\n",
       "      <td>0</td>\n",
       "      <td>0</td>\n",
       "      <td>0</td>\n",
       "      <td>0</td>\n",
       "      <td>1</td>\n",
       "      <td>6</td>\n",
       "      <td>1</td>\n",
       "      <td>...</td>\n",
       "      <td>1</td>\n",
       "      <td>0</td>\n",
       "      <td>0</td>\n",
       "      <td>1</td>\n",
       "      <td>1.1</td>\n",
       "      <td>93.994</td>\n",
       "      <td>-36.4</td>\n",
       "      <td>4.857</td>\n",
       "      <td>5191.0</td>\n",
       "      <td>0</td>\n",
       "    </tr>\n",
       "    <tr>\n",
       "      <th>1</th>\n",
       "      <td>57</td>\n",
       "      <td>7</td>\n",
       "      <td>1</td>\n",
       "      <td>3</td>\n",
       "      <td>1</td>\n",
       "      <td>0</td>\n",
       "      <td>0</td>\n",
       "      <td>1</td>\n",
       "      <td>6</td>\n",
       "      <td>1</td>\n",
       "      <td>...</td>\n",
       "      <td>1</td>\n",
       "      <td>0</td>\n",
       "      <td>0</td>\n",
       "      <td>1</td>\n",
       "      <td>1.1</td>\n",
       "      <td>93.994</td>\n",
       "      <td>-36.4</td>\n",
       "      <td>4.857</td>\n",
       "      <td>5191.0</td>\n",
       "      <td>0</td>\n",
       "    </tr>\n",
       "    <tr>\n",
       "      <th>2</th>\n",
       "      <td>37</td>\n",
       "      <td>7</td>\n",
       "      <td>1</td>\n",
       "      <td>3</td>\n",
       "      <td>0</td>\n",
       "      <td>2</td>\n",
       "      <td>0</td>\n",
       "      <td>1</td>\n",
       "      <td>6</td>\n",
       "      <td>1</td>\n",
       "      <td>...</td>\n",
       "      <td>1</td>\n",
       "      <td>0</td>\n",
       "      <td>0</td>\n",
       "      <td>1</td>\n",
       "      <td>1.1</td>\n",
       "      <td>93.994</td>\n",
       "      <td>-36.4</td>\n",
       "      <td>4.857</td>\n",
       "      <td>5191.0</td>\n",
       "      <td>0</td>\n",
       "    </tr>\n",
       "    <tr>\n",
       "      <th>3</th>\n",
       "      <td>40</td>\n",
       "      <td>0</td>\n",
       "      <td>1</td>\n",
       "      <td>1</td>\n",
       "      <td>0</td>\n",
       "      <td>0</td>\n",
       "      <td>0</td>\n",
       "      <td>1</td>\n",
       "      <td>6</td>\n",
       "      <td>1</td>\n",
       "      <td>...</td>\n",
       "      <td>1</td>\n",
       "      <td>0</td>\n",
       "      <td>0</td>\n",
       "      <td>1</td>\n",
       "      <td>1.1</td>\n",
       "      <td>93.994</td>\n",
       "      <td>-36.4</td>\n",
       "      <td>4.857</td>\n",
       "      <td>5191.0</td>\n",
       "      <td>0</td>\n",
       "    </tr>\n",
       "    <tr>\n",
       "      <th>4</th>\n",
       "      <td>56</td>\n",
       "      <td>7</td>\n",
       "      <td>1</td>\n",
       "      <td>3</td>\n",
       "      <td>0</td>\n",
       "      <td>0</td>\n",
       "      <td>2</td>\n",
       "      <td>1</td>\n",
       "      <td>6</td>\n",
       "      <td>1</td>\n",
       "      <td>...</td>\n",
       "      <td>1</td>\n",
       "      <td>0</td>\n",
       "      <td>0</td>\n",
       "      <td>1</td>\n",
       "      <td>1.1</td>\n",
       "      <td>93.994</td>\n",
       "      <td>-36.4</td>\n",
       "      <td>4.857</td>\n",
       "      <td>5191.0</td>\n",
       "      <td>0</td>\n",
       "    </tr>\n",
       "  </tbody>\n",
       "</table>\n",
       "<p>5 rows × 21 columns</p>\n",
       "</div>"
      ],
      "text/plain": [
       "   age  job  marital  education  credit default  housing  loan  contact  \\\n",
       "0   56    3        1          0               0        0     0        1   \n",
       "1   57    7        1          3               1        0     0        1   \n",
       "2   37    7        1          3               0        2     0        1   \n",
       "3   40    0        1          1               0        0     0        1   \n",
       "4   56    7        1          3               0        0     2        1   \n",
       "\n",
       "   month  day_of_week  ...  campaign  number of days passed  previous  \\\n",
       "0      6            1  ...         1                      0         0   \n",
       "1      6            1  ...         1                      0         0   \n",
       "2      6            1  ...         1                      0         0   \n",
       "3      6            1  ...         1                      0         0   \n",
       "4      6            1  ...         1                      0         0   \n",
       "\n",
       "   poutcome  employment variation rate  consumer price index  \\\n",
       "0         1                        1.1                93.994   \n",
       "1         1                        1.1                93.994   \n",
       "2         1                        1.1                93.994   \n",
       "3         1                        1.1                93.994   \n",
       "4         1                        1.1                93.994   \n",
       "\n",
       "   consumer confidence index  euribor 3 month rate  number of employees  \\\n",
       "0                      -36.4                 4.857               5191.0   \n",
       "1                      -36.4                 4.857               5191.0   \n",
       "2                      -36.4                 4.857               5191.0   \n",
       "3                      -36.4                 4.857               5191.0   \n",
       "4                      -36.4                 4.857               5191.0   \n",
       "\n",
       "   deposit  \n",
       "0        0  \n",
       "1        0  \n",
       "2        0  \n",
       "3        0  \n",
       "4        0  \n",
       "\n",
       "[5 rows x 21 columns]"
      ]
     },
     "execution_count": 26,
     "metadata": {},
     "output_type": "execute_result"
    }
   ],
   "source": [
    "# Melakukan encoder pada kolom kategori\n",
    "df_bank['job'] = LabelEncoder().fit_transform(df_bank['job'])\n",
    "df_bank['marital'] = LabelEncoder().fit_transform(df_bank['marital'])\n",
    "df_bank['education'] = LabelEncoder().fit_transform(df_bank['education'])\n",
    "df_bank['credit default'] = LabelEncoder().fit_transform(df_bank['credit default'])\n",
    "df_bank['housing'] = LabelEncoder().fit_transform(df_bank['housing'])\n",
    "df_bank['loan'] = LabelEncoder().fit_transform(df_bank['loan'])\n",
    "df_bank['contact'] = LabelEncoder().fit_transform(df_bank['contact'])\n",
    "df_bank['month'] = LabelEncoder().fit_transform(df_bank['month'])\n",
    "df_bank['day_of_week'] = LabelEncoder().fit_transform(df_bank['day_of_week'])\n",
    "df_bank['poutcome'] = LabelEncoder().fit_transform(df_bank['poutcome'])\n",
    "df_bank['deposit'] = LabelEncoder().fit_transform(df_bank['deposit'])\n",
    "\n",
    "# Menampilkan 5 data pertama setelah encoding\n",
    "df_bank.head()"
   ]
  },
  {
   "cell_type": "code",
   "execution_count": 27,
   "metadata": {},
   "outputs": [
    {
     "name": "stdout",
     "output_type": "stream",
     "text": [
      "<class 'pandas.core.frame.DataFrame'>\n",
      "Int64Index: 41176 entries, 0 to 41187\n",
      "Data columns (total 21 columns):\n",
      " #   Column                     Non-Null Count  Dtype  \n",
      "---  ------                     --------------  -----  \n",
      " 0   age                        41176 non-null  int64  \n",
      " 1   job                        41176 non-null  int32  \n",
      " 2   marital                    41176 non-null  int32  \n",
      " 3   education                  41176 non-null  int32  \n",
      " 4   credit default             41176 non-null  int32  \n",
      " 5   housing                    41176 non-null  int32  \n",
      " 6   loan                       41176 non-null  int32  \n",
      " 7   contact                    41176 non-null  int32  \n",
      " 8   month                      41176 non-null  int32  \n",
      " 9   day_of_week                41176 non-null  int32  \n",
      " 10  duration                   41176 non-null  int64  \n",
      " 11  campaign                   41176 non-null  int64  \n",
      " 12  number of days passed      41176 non-null  int64  \n",
      " 13  previous                   41176 non-null  int64  \n",
      " 14  poutcome                   41176 non-null  int32  \n",
      " 15  employment variation rate  41176 non-null  float64\n",
      " 16  consumer price index       41176 non-null  float64\n",
      " 17  consumer confidence index  41176 non-null  float64\n",
      " 18  euribor 3 month rate       41176 non-null  float64\n",
      " 19  number of employees        41176 non-null  float64\n",
      " 20  deposit                    41176 non-null  int32  \n",
      "dtypes: float64(5), int32(11), int64(5)\n",
      "memory usage: 5.2 MB\n"
     ]
    }
   ],
   "source": [
    "# Mengecek tipe data setelah encoding\n",
    "df_bank.info()"
   ]
  },
  {
   "cell_type": "markdown",
   "metadata": {},
   "source": [
    "### Pilih feature dan target"
   ]
  },
  {
   "cell_type": "code",
   "execution_count": 28,
   "metadata": {},
   "outputs": [],
   "source": [
    "# Memilih feature sebagai X\n",
    "X = df_bank.drop('deposit', axis=1)\n",
    "# Memilih target sebagai y\n",
    "y = df_bank['deposit']"
   ]
  },
  {
   "cell_type": "markdown",
   "metadata": {},
   "source": [
    "### Splitting dan Scaling data"
   ]
  },
  {
   "cell_type": "code",
   "execution_count": 29,
   "metadata": {},
   "outputs": [
    {
     "name": "stdout",
     "output_type": "stream",
     "text": [
      "Dimensi feature data train = (28823, 20)\n",
      "Dimensi target data train = (28823,)\n",
      "Dimensi feature data test = (12353, 20)\n",
      "Dimensi target data test = (12353,)\n"
     ]
    }
   ],
   "source": [
    "# Splitting data menjadi 70% data train dan 30% data test\n",
    "X_train, X_test, y_train, y_test = train_test_split(X , y, shuffle = True, test_size = 0.3, random_state = 45)\n",
    "\n",
    "# Scaling data\n",
    "scaler = StandardScaler()\n",
    "scaler.fit(X_train)\n",
    "\n",
    "# Transformasi X nya\n",
    "X_train_scaled = scaler.transform(X_train)\n",
    "X_test_scaled = scaler.transform(X_test)\n",
    "\n",
    "# Mengetahui dimensi data train dan data test\n",
    "print('Dimensi feature data train =', X_train.shape)\n",
    "print('Dimensi target data train =', y_train.shape)\n",
    "print('Dimensi feature data test =', X_test.shape)\n",
    "print('Dimensi target data test =', y_test.shape)"
   ]
  },
  {
   "cell_type": "markdown",
   "metadata": {},
   "source": [
    "### KESIMPULAN ANALISIS\n",
    "Pada tahapan di atas saya melakukan encoding pada kolom kategori, memilih feature dan target, melakukan splitting data menjadi 70% data train dan 30% data test, serta melakukan scaling data. Lalu diperoleh data train sebanyak 28823 baris dan data test 12353 baris."
   ]
  },
  {
   "cell_type": "markdown",
   "metadata": {},
   "source": [
    "# E. Modelling \n",
    "***\n",
    "Di tahap ini, saya akan melakukan modeling menggunakan algoritma Logistic Regression, K-Nearest Neighbors, Support Vector Machine, Decision Tree, Random Forest dan Naive Bayes."
   ]
  },
  {
   "cell_type": "markdown",
   "metadata": {},
   "source": [
    "## 1. Logistic Regression\n",
    "Di tahap ini, saya akan melakukan implementasi Logistic Regression dan Confusion Matrix menggunakan scikit-learn."
   ]
  },
  {
   "cell_type": "code",
   "execution_count": 30,
   "metadata": {},
   "outputs": [
    {
     "data": {
      "text/plain": [
       "LogisticRegression()"
      ]
     },
     "execution_count": 30,
     "metadata": {},
     "output_type": "execute_result"
    }
   ],
   "source": [
    "# Implementasi Logistic Regression\n",
    "logreg = LogisticRegression()\n",
    "logreg.fit(X_train, y_train)"
   ]
  },
  {
   "cell_type": "markdown",
   "metadata": {},
   "source": [
    "### Evaluasi model"
   ]
  },
  {
   "cell_type": "code",
   "execution_count": 31,
   "metadata": {},
   "outputs": [
    {
     "name": "stdout",
     "output_type": "stream",
     "text": [
      "Logistic Regression\n",
      "Accuracy score : 0.9085242451226423\n",
      "Confusion Matrix :\n",
      " [[10733   263]\n",
      " [  867   490]]\n",
      "Classification Report :\n",
      "               precision    recall  f1-score   support\n",
      "\n",
      "           0       0.93      0.98      0.95     10996\n",
      "           1       0.65      0.36      0.46      1357\n",
      "\n",
      "    accuracy                           0.91     12353\n",
      "   macro avg       0.79      0.67      0.71     12353\n",
      "weighted avg       0.90      0.91      0.90     12353\n",
      "\n"
     ]
    }
   ],
   "source": [
    "# Evaluasi model\n",
    "y_pred1 = logreg.predict(X_test)\n",
    "print(\"Logistic Regression\")\n",
    "print(\"Accuracy score :\", accuracy_score(y_test, y_pred1))\n",
    "\n",
    "# Implementasi Confusion Matrix\n",
    "matrix1=confusion_matrix(y_test, y_pred1)\n",
    "print(\"Confusion Matrix :\\n\", matrix1)\n",
    "\n",
    "# Melihat hasil akurasi dengan Classification Report\n",
    "print(\"Classification Report :\\n\", classification_report(y_test, y_pred1))"
   ]
  },
  {
   "cell_type": "markdown",
   "metadata": {},
   "source": [
    "### Heatmap dari Confusion Matrix"
   ]
  },
  {
   "cell_type": "code",
   "execution_count": 32,
   "metadata": {},
   "outputs": [
    {
     "data": {
      "image/png": "[encoded data removed]",
      "text/plain": [
       "<Figure size 720x432 with 2 Axes>"
      ]
     },
     "metadata": {
      "needs_background": "light"
     },
     "output_type": "display_data"
    }
   ],
   "source": [
    "# Membuat labels untuk heatmap\n",
    "group_names = ['True Negative','False Positive','False Negative','True Positive']\n",
    "group_counts = [\"{0:0.0f}\".format(value) for value in matrix1.flatten()]\n",
    "group_percentages = [\"{0:.2%}\".format(value) for value in matrix1.flatten()/np.sum(matrix1)]\n",
    "labels = [f\"{v1}\\n{v2}\\n{v3}\" for v1, v2, v3 in zip(group_names,group_counts,group_percentages)]\n",
    "labels = np.asarray(labels).reshape(2,2)\n",
    "\n",
    "# Membuat heatmap dari Confusion Matrix\n",
    "f, ax = plt.subplots(figsize=(10, 6))\n",
    "sns.heatmap(matrix1, annot=labels, fmt='', cmap='Blues_r')\n",
    "plt.title(\"Confusion Matrix of Logistic Regression\", fontsize=20)\n",
    "plt.subplots_adjust(left=0.15, right=0.99, bottom=0.15, top=0.99)\n",
    "plt.show()"
   ]
  },
  {
   "cell_type": "markdown",
   "metadata": {},
   "source": [
    "### KESIMPULAN ANALISIS\n",
    "Berdasarkan hasil implementasi Logistic Regression di atas didapatkan bahwa akurasi dengan accuracy score ialah 90.9%. Kemudian dari confusion matrix didapatkan bahwa prediksi True Negative lebih banyak dibandingkan yang lain, lalu disusul oleh prediksi False Negative, kemudian prediksi True Positive dan yang terakhir prediksi False Positive. Kemudian untuk hasil classification report, akurasi yang didapatkan ialah 91%."
   ]
  },
  {
   "cell_type": "markdown",
   "metadata": {},
   "source": [
    "## 2. K-Nearest Neighbors (KNN)\n",
    "Di tahap ini, saya akan melakukan implementasi K-Nearest Neighbors (KNN) dan Confusion Matrix menggunakan scikit-learn."
   ]
  },
  {
   "cell_type": "code",
   "execution_count": 33,
   "metadata": {},
   "outputs": [
    {
     "data": {
      "text/plain": [
       "KNeighborsClassifier()"
      ]
     },
     "execution_count": 33,
     "metadata": {},
     "output_type": "execute_result"
    }
   ],
   "source": [
    "# Implementasi K-Nearest Neighbors\n",
    "knn = KNeighborsClassifier()\n",
    "knn.fit(X_train, y_train)"
   ]
  },
  {
   "cell_type": "markdown",
   "metadata": {},
   "source": [
    "### Evaluasi model"
   ]
  },
  {
   "cell_type": "code",
   "execution_count": 34,
   "metadata": {},
   "outputs": [
    {
     "name": "stdout",
     "output_type": "stream",
     "text": [
      "K-Nearest Neighbors\n",
      "Accuracy score : 0.9041528373674411\n",
      "Confusion Matrix :\n",
      " [[10534   462]\n",
      " [  722   635]]\n",
      "Classification Report :\n",
      "               precision    recall  f1-score   support\n",
      "\n",
      "           0       0.94      0.96      0.95     10996\n",
      "           1       0.58      0.47      0.52      1357\n",
      "\n",
      "    accuracy                           0.90     12353\n",
      "   macro avg       0.76      0.71      0.73     12353\n",
      "weighted avg       0.90      0.90      0.90     12353\n",
      "\n"
     ]
    }
   ],
   "source": [
    "# Evaluasi model\n",
    "y_pred2 = knn.predict(X_test)\n",
    "print(\"K-Nearest Neighbors\")\n",
    "print(\"Accuracy score :\", accuracy_score(y_test, y_pred2))\n",
    "\n",
    "# Implementasi Confusion Matrix\n",
    "matrix2=confusion_matrix(y_test, y_pred2)\n",
    "print(\"Confusion Matrix :\\n\", matrix2)\n",
    "\n",
    "# Melihat hasil akurasi dengan Classification Report\n",
    "print(\"Classification Report :\\n\", classification_report(y_test, y_pred2))"
   ]
  },
  {
   "cell_type": "markdown",
   "metadata": {},
   "source": [
    "### Heatmap dari Confusion Matrix"
   ]
  },
  {
   "cell_type": "code",
   "execution_count": 35,
   "metadata": {},
   "outputs": [
    {
     "data": {
      "image/png": "[encoded data removed]",
      "text/plain": [
       "<Figure size 720x432 with 2 Axes>"
      ]
     },
     "metadata": {
      "needs_background": "light"
     },
     "output_type": "display_data"
    }
   ],
   "source": [
    "# Membuat labels untuk heatmap\n",
    "group_names = ['True Negative','False Positive','False Negative','True Positive']\n",
    "group_counts = [\"{0:0.0f}\".format(value) for value in matrix2.flatten()]\n",
    "group_percentages = [\"{0:.2%}\".format(value) for value in matrix2.flatten()/np.sum(matrix2)]\n",
    "labels = [f\"{v1}\\n{v2}\\n{v3}\" for v1, v2, v3 in zip(group_names,group_counts,group_percentages)]\n",
    "labels = np.asarray(labels).reshape(2,2)\n",
    "\n",
    "# Membuat heatmap dari Confusion Matrix\n",
    "f, ax = plt.subplots(figsize=(10, 6))\n",
    "sns.heatmap(matrix2, annot=labels, fmt='', cmap='Blues_r')\n",
    "plt.title(\"Confusion Matrix of K-Nearest Neighbors\", fontsize=20)\n",
    "plt.subplots_adjust(left=0.15, right=0.99, bottom=0.15, top=0.99)\n",
    "plt.show()"
   ]
  },
  {
   "cell_type": "markdown",
   "metadata": {},
   "source": [
    "### KESIMPULAN ANALISIS\n",
    "Berdasarkan hasil implementasi K-Nearest Neighbors (KNN) di atas didapatkan bahwa akurasi dengan accuracy score ialah 90.4%. Kemudian dari confusion matrix didapatkan bahwa prediksi True Negative lebih banyak dibandingkan yang lain, lalu disusul oleh prediksi False Negative, kemudian prediksi True Positive dan yang terakhir prediksi False Positive. Kemudian untuk hasil classification report, akurasi yang didapatkan ialah 90%."
   ]
  },
  {
   "cell_type": "markdown",
   "metadata": {},
   "source": [
    "## 3. Support Vector Machine (SVM)\n",
    "Di tahap ini, saya akan melakukan implementasi Support Vector Machine (SVM) dan Confusion Matrix menggunakan scikit-learn."
   ]
  },
  {
   "cell_type": "code",
   "execution_count": 36,
   "metadata": {},
   "outputs": [
    {
     "data": {
      "text/plain": [
       "SVC()"
      ]
     },
     "execution_count": 36,
     "metadata": {},
     "output_type": "execute_result"
    }
   ],
   "source": [
    "# Implementasi Support Vector Machine\n",
    "svm = SVC()\n",
    "svm.fit(X_train, y_train)"
   ]
  },
  {
   "cell_type": "markdown",
   "metadata": {},
   "source": [
    "### Evaluasi model"
   ]
  },
  {
   "cell_type": "code",
   "execution_count": 37,
   "metadata": {},
   "outputs": [
    {
     "name": "stdout",
     "output_type": "stream",
     "text": [
      "Support Vector Machine\n",
      "Accuracy score : 0.8922528940338379\n",
      "Confusion Matrix :\n",
      " [[10974    22]\n",
      " [ 1309    48]]\n",
      "Classification Report :\n",
      "               precision    recall  f1-score   support\n",
      "\n",
      "           0       0.89      1.00      0.94     10996\n",
      "           1       0.69      0.04      0.07      1357\n",
      "\n",
      "    accuracy                           0.89     12353\n",
      "   macro avg       0.79      0.52      0.51     12353\n",
      "weighted avg       0.87      0.89      0.85     12353\n",
      "\n"
     ]
    }
   ],
   "source": [
    "# Evaluasi model\n",
    "y_pred3 = svm.predict(X_test)\n",
    "print(\"Support Vector Machine\")\n",
    "print(\"Accuracy score :\", accuracy_score(y_test, y_pred3))\n",
    "\n",
    "# Implementasi Confusion Matrix\n",
    "matrix3=confusion_matrix(y_test, y_pred3)\n",
    "print(\"Confusion Matrix :\\n\", matrix3)\n",
    "\n",
    "# Melihat hasil akurasi dengan Classification Report\n",
    "print(\"Classification Report :\\n\", classification_report(y_test, y_pred3))"
   ]
  },
  {
   "cell_type": "markdown",
   "metadata": {},
   "source": [
    "### Heatmap dari Confusion Matrix"
   ]
  },
  {
   "cell_type": "code",
   "execution_count": 38,
   "metadata": {},
   "outputs": [
    {
     "data": {
      "image/png": "[encoded data removed]",
      "text/plain": [
       "<Figure size 720x432 with 2 Axes>"
      ]
     },
     "metadata": {
      "needs_background": "light"
     },
     "output_type": "display_data"
    }
   ],
   "source": [
    "# Membuat labels untuk heatmap\n",
    "group_names = ['True Negative','False Positive','False Negative','True Positive']\n",
    "group_counts = [\"{0:0.0f}\".format(value) for value in matrix3.flatten()]\n",
    "group_percentages = [\"{0:.2%}\".format(value) for value in matrix3.flatten()/np.sum(matrix3)]\n",
    "labels = [f\"{v1}\\n{v2}\\n{v3}\" for v1, v2, v3 in zip(group_names,group_counts,group_percentages)]\n",
    "labels = np.asarray(labels).reshape(2,2)\n",
    "\n",
    "# Membuat heatmap dari Confusion Matrix\n",
    "f, ax = plt.subplots(figsize=(10, 6))\n",
    "sns.heatmap(matrix3, annot=labels, fmt='', cmap='Blues_r')\n",
    "plt.title(\"Confusion Matrix of Support Vector Machine\", fontsize=20)\n",
    "plt.subplots_adjust(left=0.15, right=0.99, bottom=0.15, top=0.99)\n",
    "plt.show()"
   ]
  },
  {
   "cell_type": "markdown",
   "metadata": {},
   "source": [
    "### KESIMPULAN ANALISIS\n",
    "Berdasarkan hasil implementasi Support Vector Machine (SVM) di atas didapatkan bahwa akurasi dengan accuracy score ialah 89.2%. Kemudian dari confusion matrix didapatkan bahwa prediksi True Negative lebih banyak dibandingkan yang lain, lalu disusul oleh prediksi False Negative, kemudian prediksi True Positive dan yang terakhir prediksi False Positive.. \n",
    "Kemudian untuk hasil classification report, akurasi yang didapatkan ialah 89%."
   ]
  },
  {
   "cell_type": "markdown",
   "metadata": {},
   "source": [
    "## 4. Decision Tree\n",
    "Di tahap ini, saya akan melakukan implementasi Decision Tree dan Confusion Matrix menggunakan scikit-learn."
   ]
  },
  {
   "cell_type": "code",
   "execution_count": 39,
   "metadata": {},
   "outputs": [
    {
     "data": {
      "text/plain": [
       "DecisionTreeClassifier()"
      ]
     },
     "execution_count": 39,
     "metadata": {},
     "output_type": "execute_result"
    }
   ],
   "source": [
    "# Implementasi Decision Tree\n",
    "dectree = DecisionTreeClassifier()\n",
    "dectree.fit(X_train, y_train)"
   ]
  },
  {
   "cell_type": "markdown",
   "metadata": {},
   "source": [
    "### Evaluasi model"
   ]
  },
  {
   "cell_type": "code",
   "execution_count": 40,
   "metadata": {},
   "outputs": [
    {
     "name": "stdout",
     "output_type": "stream",
     "text": [
      "Decision Tree\n",
      "Accuracy score : 0.8916862300655711\n",
      "Confusion Matrix :\n",
      " [[10310   686]\n",
      " [  652   705]]\n",
      "Classification Report :\n",
      "               precision    recall  f1-score   support\n",
      "\n",
      "           0       0.94      0.94      0.94     10996\n",
      "           1       0.51      0.52      0.51      1357\n",
      "\n",
      "    accuracy                           0.89     12353\n",
      "   macro avg       0.72      0.73      0.73     12353\n",
      "weighted avg       0.89      0.89      0.89     12353\n",
      "\n"
     ]
    }
   ],
   "source": [
    "# Evaluasi model\n",
    "y_pred4 = dectree.predict(X_test)\n",
    "print(\"Decision Tree\")\n",
    "print(\"Accuracy score :\", accuracy_score(y_test, y_pred4))\n",
    "\n",
    "# Implementasi Confusion Matrix\n",
    "matrix4=confusion_matrix(y_test, y_pred4)\n",
    "print(\"Confusion Matrix :\\n\", matrix4)\n",
    "\n",
    "# Melihat hasil akurasi dengan Classification Report\n",
    "print(\"Classification Report :\\n\", classification_report(y_test, y_pred4))"
   ]
  },
  {
   "cell_type": "markdown",
   "metadata": {},
   "source": [
    "### Heatmap dari Confusion Matrix"
   ]
  },
  {
   "cell_type": "code",
   "execution_count": 41,
   "metadata": {},
   "outputs": [
    {
     "data": {
      "image/png": "[encoded data removed]",
      "text/plain": [
       "<Figure size 720x432 with 2 Axes>"
      ]
     },
     "metadata": {
      "needs_background": "light"
     },
     "output_type": "display_data"
    }
   ],
   "source": [
    "# Membuat labels untuk heatmap\n",
    "group_names = ['True Negative','False Positive','False Negative','True Positive']\n",
    "group_counts = [\"{0:0.0f}\".format(value) for value in matrix4.flatten()]\n",
    "group_percentages = [\"{0:.2%}\".format(value) for value in matrix4.flatten()/np.sum(matrix4)]\n",
    "labels = [f\"{v1}\\n{v2}\\n{v3}\" for v1, v2, v3 in zip(group_names,group_counts,group_percentages)]\n",
    "labels = np.asarray(labels).reshape(2,2)\n",
    "\n",
    "# Membuat heatmap dari Confusion Matrix\n",
    "f, ax = plt.subplots(figsize=(10, 6))\n",
    "sns.heatmap(matrix4, annot=labels, fmt='', cmap='Blues_r')\n",
    "plt.title(\"Confusion Matrix of Decision Tree\", fontsize=20)\n",
    "plt.subplots_adjust(left=0.15, right=0.99, bottom=0.15, top=0.99)\n",
    "plt.show()"
   ]
  },
  {
   "cell_type": "markdown",
   "metadata": {},
   "source": [
    "### KESIMPULAN ANALISIS\n",
    "Berdasarkan hasil implementasi Decision Tree di atas didapatkan bahwa akurasi dengan accuracy score ialah 89.2%. Kemudian dari confusion matrix didapatkan bahwa prediksi True Negative lebih banyak dibandingkan yang lain, lalu disusul oleh prediksi False Negative, kemudian prediksi True Positive dan yang terakhir prediksi False Positive. Kemudian untuk hasil classification report, akurasi yang didapatkan ialah 89%."
   ]
  },
  {
   "cell_type": "markdown",
   "metadata": {},
   "source": [
    "## 5. Random Forest\n",
    "Di tahap ini, saya akan melakukan implementasi Random Forest dan Confusion Matrix menggunakan scikit-learn."
   ]
  },
  {
   "cell_type": "code",
   "execution_count": 42,
   "metadata": {},
   "outputs": [
    {
     "data": {
      "text/plain": [
       "RandomForestClassifier()"
      ]
     },
     "execution_count": 42,
     "metadata": {},
     "output_type": "execute_result"
    }
   ],
   "source": [
    "# Implementasi Random Forest\n",
    "ranfor = RandomForestClassifier()\n",
    "ranfor.fit(X_train, y_train)"
   ]
  },
  {
   "cell_type": "markdown",
   "metadata": {},
   "source": [
    "### Evaluasi model"
   ]
  },
  {
   "cell_type": "code",
   "execution_count": 43,
   "metadata": {},
   "outputs": [
    {
     "name": "stdout",
     "output_type": "stream",
     "text": [
      "Random Forest\n",
      "Accuracy score : 0.918724196551445\n",
      "Confusion Matrix :\n",
      " [[10652   344]\n",
      " [  660   697]]\n",
      "Classification Report :\n",
      "               precision    recall  f1-score   support\n",
      "\n",
      "           0       0.94      0.97      0.95     10996\n",
      "           1       0.67      0.51      0.58      1357\n",
      "\n",
      "    accuracy                           0.92     12353\n",
      "   macro avg       0.81      0.74      0.77     12353\n",
      "weighted avg       0.91      0.92      0.91     12353\n",
      "\n"
     ]
    }
   ],
   "source": [
    "# Evaluasi model\n",
    "y_pred5 = ranfor.predict(X_test)\n",
    "print(\"Random Forest\")\n",
    "print(\"Accuracy score :\", accuracy_score(y_test, y_pred5))\n",
    "\n",
    "# Implementasi Confusion Matrix\n",
    "matrix5=confusion_matrix(y_test, y_pred5)\n",
    "print(\"Confusion Matrix :\\n\", matrix5)\n",
    "\n",
    "# Melihat hasil akurasi dengan Classification Report\n",
    "print(\"Classification Report :\\n\", classification_report(y_test, y_pred5))"
   ]
  },
  {
   "cell_type": "markdown",
   "metadata": {},
   "source": [
    "### Heatmap dari Confusion Matrix"
   ]
  },
  {
   "cell_type": "code",
   "execution_count": 44,
   "metadata": {},
   "outputs": [
    {
     "data": {
      "image/png": "[encoded data removed]",
      "text/plain": [
       "<Figure size 720x432 with 2 Axes>"
      ]
     },
     "metadata": {
      "needs_background": "light"
     },
     "output_type": "display_data"
    }
   ],
   "source": [
    "# Membuat labels untuk heatmap\n",
    "group_names = ['True Negative','False Positive','False Negative','True Positive']\n",
    "group_counts = [\"{0:0.0f}\".format(value) for value in matrix5.flatten()]\n",
    "group_percentages = [\"{0:.2%}\".format(value) for value in matrix5.flatten()/np.sum(matrix5)]\n",
    "labels = [f\"{v1}\\n{v2}\\n{v3}\" for v1, v2, v3 in zip(group_names,group_counts,group_percentages)]\n",
    "labels = np.asarray(labels).reshape(2,2)\n",
    "\n",
    "# Membuat heatmap dari Confusion Matrix\n",
    "f, ax = plt.subplots(figsize=(10, 6))\n",
    "sns.heatmap(matrix5, annot=labels, fmt='', cmap='Blues_r')\n",
    "plt.title(\"Confusion Matrix of Random Forest\", fontsize=20)\n",
    "plt.subplots_adjust(left=0.15, right=0.99, bottom=0.15, top=0.99)\n",
    "plt.show()"
   ]
  },
  {
   "cell_type": "markdown",
   "metadata": {},
   "source": [
    "### KESIMPULAN ANALISIS\n",
    "Berdasarkan hasil implementasi Random Forest di atas didapatkan bahwa akurasi dengan accuracy score ialah 91.9%. Kemudian dari confusion matrix didapatkan bahwa prediksi True Negative lebih banyak dibandingkan yang lain, lalu disusul oleh prediksi False Negative, kemudian prediksi True Positive dan yang terakhir prediksi False Positive. Kemudian untuk hasil classification report, akurasi yang didapatkan ialah 92%."
   ]
  },
  {
   "cell_type": "markdown",
   "metadata": {},
   "source": [
    "## 6. Naive Bayes\n",
    "Di tahap ini, saya akan melakukan implementasi Naive Bayes dan Confusion Matrix menggunakan scikit-learn."
   ]
  },
  {
   "cell_type": "code",
   "execution_count": 45,
   "metadata": {},
   "outputs": [
    {
     "data": {
      "text/plain": [
       "GaussianNB()"
      ]
     },
     "execution_count": 45,
     "metadata": {},
     "output_type": "execute_result"
    }
   ],
   "source": [
    "# Implementasi Naive Bayes\n",
    "naibay = GaussianNB()\n",
    "naibay.fit(X_train, y_train)"
   ]
  },
  {
   "cell_type": "markdown",
   "metadata": {},
   "source": [
    "### Evaluasi model"
   ]
  },
  {
   "cell_type": "code",
   "execution_count": 46,
   "metadata": {},
   "outputs": [
    {
     "name": "stdout",
     "output_type": "stream",
     "text": [
      "Naive Bayes\n",
      "Accuracy score : 0.8448959766858253\n",
      "Confusion Matrix :\n",
      " [[9630 1366]\n",
      " [ 550  807]]\n",
      "Classification Report :\n",
      "               precision    recall  f1-score   support\n",
      "\n",
      "           0       0.95      0.88      0.91     10996\n",
      "           1       0.37      0.59      0.46      1357\n",
      "\n",
      "    accuracy                           0.84     12353\n",
      "   macro avg       0.66      0.74      0.68     12353\n",
      "weighted avg       0.88      0.84      0.86     12353\n",
      "\n"
     ]
    }
   ],
   "source": [
    "# Evaluasi model\n",
    "y_pred6 = naibay.predict(X_test)\n",
    "print(\"Naive Bayes\")\n",
    "print(\"Accuracy score :\", accuracy_score(y_test, y_pred6))\n",
    "\n",
    "# Implementasi Confusion Matrix\n",
    "matrix6=confusion_matrix(y_test, y_pred6)\n",
    "print(\"Confusion Matrix :\\n\", matrix6)\n",
    "\n",
    "# Melihat hasil akurasi dengan Classification Report\n",
    "print(\"Classification Report :\\n\", classification_report(y_test, y_pred6))"
   ]
  },
  {
   "cell_type": "markdown",
   "metadata": {},
   "source": [
    "### Heatmap dari Confusion Matrix"
   ]
  },
  {
   "cell_type": "code",
   "execution_count": 47,
   "metadata": {},
   "outputs": [
    {
     "data": {
      "image/png": "[encoded data removed]",
      "text/plain": [
       "<Figure size 720x432 with 2 Axes>"
      ]
     },
     "metadata": {
      "needs_background": "light"
     },
     "output_type": "display_data"
    }
   ],
   "source": [
    "# Membuat labels untuk heatmap\n",
    "group_names = ['True Negative','False Positive','False Negative','True Positive']\n",
    "group_counts = [\"{0:0.0f}\".format(value) for value in matrix6.flatten()]\n",
    "group_percentages = [\"{0:.2%}\".format(value) for value in matrix6.flatten()/np.sum(matrix6)]\n",
    "labels = [f\"{v1}\\n{v2}\\n{v3}\" for v1, v2, v3 in zip(group_names,group_counts,group_percentages)]\n",
    "labels = np.asarray(labels).reshape(2,2)\n",
    "\n",
    "# Membuat heatmap dari Confusion Matrix\n",
    "f, ax = plt.subplots(figsize=(10, 6))\n",
    "sns.heatmap(matrix6, annot=labels, fmt='', cmap='Blues_r')\n",
    "plt.title(\"Confusion Matrix of Naive Bayes\", fontsize=20)\n",
    "plt.subplots_adjust(left=0.15, right=0.99, bottom=0.15, top=0.99)\n",
    "plt.show()"
   ]
  },
  {
   "cell_type": "markdown",
   "metadata": {},
   "source": [
    "### KESIMPULAN ANALISIS\n",
    "Berdasarkan hasil implementasi Naive Bayes di atas didapatkan bahwa akurasi dengan accuracy score ialah 84.5%. Kemudian dari confusion matrix didapatkan bahwa prediksi True Negative lebih banyak dibandingkan yang lain, lalu disusul oleh prediksi False Negative, kemudian prediksi True Positive dan yang terakhir prediksi False Positive. Kemudian untuk hasil classification report, akurasi yang didapatkan ialah 84%."
   ]
  },
  {
   "cell_type": "markdown",
   "metadata": {},
   "source": [
    "# F. Algorithm Analysis\n",
    "***"
   ]
  },
  {
   "cell_type": "code",
   "execution_count": 48,
   "metadata": {},
   "outputs": [
    {
     "name": "stdout",
     "output_type": "stream",
     "text": [
      "--- Hasil Akurasi dari Semua Model ---\n",
      "Logistic Regression : 0.9085242451226423\n",
      "K-Nearest Neighbors (KNN) : 0.9041528373674411\n",
      "Support Vector Machine (SVM) : 0.8922528940338379\n",
      "Decision Tree : 0.8916862300655711\n",
      "Random Forest : 0.918724196551445\n",
      "Naive Bayes : 0.8448959766858253\n"
     ]
    }
   ],
   "source": [
    "# Membandingkan hasil akurasi dari semua model\n",
    "print(\"--- Hasil Akurasi dari Semua Model ---\")\n",
    "print(\"Logistic Regression :\", accuracy_score(y_test, y_pred1))\n",
    "print(\"K-Nearest Neighbors (KNN) :\", accuracy_score(y_test, y_pred2))\n",
    "print(\"Support Vector Machine (SVM) :\", accuracy_score(y_test, y_pred3))\n",
    "print(\"Decision Tree :\", accuracy_score(y_test, y_pred4))\n",
    "print(\"Random Forest :\", accuracy_score(y_test, y_pred5))\n",
    "print(\"Naive Bayes :\", accuracy_score(y_test, y_pred6))"
   ]
  },
  {
   "cell_type": "markdown",
   "metadata": {},
   "source": [
    "Pada hasil keseluruhan implementasi model di atas, implementasi dengan Random Forest memiliki skor akurasi yang paling tinggi yaitu **91.9%** atau 92%. Sedangkan implementasi dengan Naive Bayes memiliki skor akurasi yang paling rendah yaitu **84.5%**. Karena itu, saya memilih algoritma **Random Forest** untuk membuat model yang memprediksi apakah client akan berlangganan deposito atau tidak (yes/no)."
   ]
  }
 ],
 "metadata": {
  "kernelspec": {
   "display_name": "Python 3.9.12 ('base')",
   "language": "python",
   "name": "python3"
  },
  "language_info": {
   "codemirror_mode": {
    "name": "ipython",
    "version": 3
   },
   "file_extension": ".py",
   "mimetype": "text/x-python",
   "name": "python",
   "nbconvert_exporter": "python",
   "pygments_lexer": "ipython3",
   "version": "3.9.12"
  },
  "orig_nbformat": 4,
  "vscode": {
   "interpreter": {
    "hash": "548ab95550280775e0e3d7de30ebd157c610a70d91e64db02d00f78c476de59e"
   }
  }
 },
 "nbformat": 4,
 "nbformat_minor": 2
}
